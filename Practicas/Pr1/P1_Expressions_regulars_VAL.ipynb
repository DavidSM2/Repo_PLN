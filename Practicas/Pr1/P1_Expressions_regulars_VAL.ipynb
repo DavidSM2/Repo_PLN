{
 "cells": [
  {
   "attachments": {},
   "cell_type": "markdown",
   "metadata": {
    "id": "z1j9_6ZnMGxi"
   },
   "source": [
    "# Pràctica 1 de Processat del Llenguatge Natural:\n",
    "# Ús d'expressions regulars en Python\n",
    "En aquesta pràctica utilitzarem el mòdul `re` de Python i la llibreria Pandas per a tractar amb expressions regulars.\n",
    "\n",
    "### Noms:\n",
    "*David Sanchis Morales* \\\n",
    "*Raul Gómez Beteta*\n",
    "\n",
    "## Cerca de patrons\n",
    "En el mòdul `re` hi ha 4 mètodes per a buscar un patró de text: `re.match`, `re.search`, `re.findall` i `re.finditer`\n"
   ]
  },
  {
   "cell_type": "code",
   "execution_count": 182,
   "metadata": {
    "colab": {
     "base_uri": "https://localhost:8080/"
    },
    "executionInfo": {
     "elapsed": 1133,
     "status": "ok",
     "timestamp": 1612889816666,
     "user": {
      "displayName": "Fernando Mateo",
      "photoUrl": "https://lh3.googleusercontent.com/a-/AOh14Gizefb6yPZHZKjiub7uZkBVDAAlyxghIopf0kaJMA=s64",
      "userId": "00905419803076074042"
     },
     "user_tz": -60
    },
    "id": "bet3rS2FMGxp",
    "outputId": "2db221ca-1521-4b22-d5c5-a2ca2641916f"
   },
   "outputs": [
    {
     "name": "stdout",
     "output_type": "stream",
     "text": [
      "None\n"
     ]
    }
   ],
   "source": [
    "import re\n",
    "\n",
    "texto = '\"Ethics are built right into the ideals and objectives of the United Nations\" \\\n",
    "#UNSG @NY @UN_Women Society for Ethical Culture bit.ly/2guVelr'\n",
    "\n",
    "print(re.match(r'@[A-Z]+', texto))"
   ]
  },
  {
   "attachments": {},
   "cell_type": "markdown",
   "metadata": {
    "id": "_IL6RpK8MGxr"
   },
   "source": [
    "`re.match` només cerca al inici de la cadena, `re.search` cerca la primera aparició del patró en el text."
   ]
  },
  {
   "cell_type": "code",
   "execution_count": 183,
   "metadata": {
    "colab": {
     "base_uri": "https://localhost:8080/"
    },
    "executionInfo": {
     "elapsed": 1161,
     "status": "ok",
     "timestamp": 1612880897266,
     "user": {
      "displayName": "Fernando Mateo",
      "photoUrl": "https://lh3.googleusercontent.com/a-/AOh14Gizefb6yPZHZKjiub7uZkBVDAAlyxghIopf0kaJMA=s64",
      "userId": "00905419803076074042"
     },
     "user_tz": -60
    },
    "id": "fGhJzdF5MGxr",
    "outputId": "a2cdae31-eadd-4792-f008-047f1033a73f"
   },
   "outputs": [
    {
     "name": "stdout",
     "output_type": "stream",
     "text": [
      "None\n"
     ]
    }
   ],
   "source": [
    "print(re.match(r'#[A-Z]+', texto))"
   ]
  },
  {
   "cell_type": "code",
   "execution_count": 184,
   "metadata": {
    "colab": {
     "base_uri": "https://localhost:8080/"
    },
    "executionInfo": {
     "elapsed": 1170,
     "status": "ok",
     "timestamp": 1612880901142,
     "user": {
      "displayName": "Fernando Mateo",
      "photoUrl": "https://lh3.googleusercontent.com/a-/AOh14Gizefb6yPZHZKjiub7uZkBVDAAlyxghIopf0kaJMA=s64",
      "userId": "00905419803076074042"
     },
     "user_tz": -60
    },
    "id": "ZcG_0_xyMGxs",
    "outputId": "f43cc50b-9f98-4fce-a54a-a68db16d885e"
   },
   "outputs": [
    {
     "name": "stdout",
     "output_type": "stream",
     "text": [
      "<re.Match object; span=(84, 87), match='@NY'>\n"
     ]
    }
   ],
   "source": [
    "print(re.search(r'@[\\w]+', texto))"
   ]
  },
  {
   "cell_type": "code",
   "execution_count": 185,
   "metadata": {
    "colab": {
     "base_uri": "https://localhost:8080/"
    },
    "executionInfo": {
     "elapsed": 893,
     "status": "ok",
     "timestamp": 1612880903173,
     "user": {
      "displayName": "Fernando Mateo",
      "photoUrl": "https://lh3.googleusercontent.com/a-/AOh14Gizefb6yPZHZKjiub7uZkBVDAAlyxghIopf0kaJMA=s64",
      "userId": "00905419803076074042"
     },
     "user_tz": -60
    },
    "id": "olpyrlXmMGxu",
    "outputId": "72fd3d0a-b263-4de4-ca2a-470b4fa09176"
   },
   "outputs": [
    {
     "name": "stdout",
     "output_type": "stream",
     "text": [
      "<re.Match object; span=(84, 87), match='@NY'>\n"
     ]
    }
   ],
   "source": [
    "print(re.search(r'@[A-Z]+', texto))"
   ]
  },
  {
   "attachments": {},
   "cell_type": "markdown",
   "metadata": {
    "id": "6nXOYf6VMGxv"
   },
   "source": [
    "`re.match` i `re.search` tornen un objecte `Match` que té diversos mètodes. El mètode `group()` conté el patró trobat."
   ]
  },
  {
   "cell_type": "code",
   "execution_count": 186,
   "metadata": {
    "colab": {
     "base_uri": "https://localhost:8080/"
    },
    "executionInfo": {
     "elapsed": 1972,
     "status": "ok",
     "timestamp": 1612880907486,
     "user": {
      "displayName": "Fernando Mateo",
      "photoUrl": "https://lh3.googleusercontent.com/a-/AOh14Gizefb6yPZHZKjiub7uZkBVDAAlyxghIopf0kaJMA=s64",
      "userId": "00905419803076074042"
     },
     "user_tz": -60
    },
    "id": "F7oYgsmfMGxv",
    "outputId": "c2e58d25-6a09-4065-9391-c130bda120f8"
   },
   "outputs": [
    {
     "name": "stdout",
     "output_type": "stream",
     "text": [
      "span: (78, 83)\n",
      "start: 78\n",
      "end: 83\n",
      "group: #UNSG\n"
     ]
    }
   ],
   "source": [
    "match = re.search(r'#[A-Z]+', texto)\n",
    "print('span:',match.span())\n",
    "print('start:',match.start())\n",
    "print('end:',match.end())\n",
    "print('group:',match.group())"
   ]
  },
  {
   "attachments": {},
   "cell_type": "markdown",
   "metadata": {
    "id": "lhdJnX9AMGxx"
   },
   "source": [
    "Per a buscar totes les aparicions d'un patró en el text usem la funció `re.findall`"
   ]
  },
  {
   "cell_type": "code",
   "execution_count": 187,
   "metadata": {
    "colab": {
     "base_uri": "https://localhost:8080/"
    },
    "executionInfo": {
     "elapsed": 1158,
     "status": "ok",
     "timestamp": 1612880913220,
     "user": {
      "displayName": "Fernando Mateo",
      "photoUrl": "https://lh3.googleusercontent.com/a-/AOh14Gizefb6yPZHZKjiub7uZkBVDAAlyxghIopf0kaJMA=s64",
      "userId": "00905419803076074042"
     },
     "user_tz": -60
    },
    "id": "cFySRDQLMGxy",
    "outputId": "e70d2506-dc66-43b5-c0f0-92be682d8e69"
   },
   "outputs": [
    {
     "name": "stdout",
     "output_type": "stream",
     "text": [
      "['@NY', '@UN_Women']\n"
     ]
    }
   ],
   "source": [
    "print(re.findall(r'@[\\w_]+', texto))"
   ]
  },
  {
   "attachments": {},
   "cell_type": "markdown",
   "metadata": {
    "id": "o6hhKpi-MGxy"
   },
   "source": [
    "## Patrons complexos\n",
    "Exemple: volem detectar qualsevol data en un text, però la data pot seguir diferents patrons. Cal definir un patró amb totes les possibilitats..."
   ]
  },
  {
   "cell_type": "code",
   "execution_count": 188,
   "metadata": {
    "id": "fyqqM7F6MGxz"
   },
   "outputs": [],
   "source": [
    "fechas = '23/9/2010, 23/09/2010, 23/9-10, 23-9-2010, 2/9/2010'"
   ]
  },
  {
   "cell_type": "code",
   "execution_count": 189,
   "metadata": {
    "colab": {
     "base_uri": "https://localhost:8080/"
    },
    "executionInfo": {
     "elapsed": 562,
     "status": "ok",
     "timestamp": 1612880931744,
     "user": {
      "displayName": "Fernando Mateo",
      "photoUrl": "https://lh3.googleusercontent.com/a-/AOh14Gizefb6yPZHZKjiub7uZkBVDAAlyxghIopf0kaJMA=s64",
      "userId": "00905419803076074042"
     },
     "user_tz": -60
    },
    "id": "mb1MFHmBMGx0",
    "outputId": "bd208384-2b28-4acc-a62d-3feabb3c45cb"
   },
   "outputs": [
    {
     "data": {
      "text/plain": [
       "['23/9/2010', '23/09/2010']"
      ]
     },
     "execution_count": 189,
     "metadata": {},
     "output_type": "execute_result"
    }
   ],
   "source": [
    "re.findall(r'\\d{2}/\\d{1,2}/\\d{4}', fechas) #captura sólo las fechas con formado dd/(m)m/aaaa"
   ]
  },
  {
   "cell_type": "code",
   "execution_count": 190,
   "metadata": {
    "colab": {
     "base_uri": "https://localhost:8080/"
    },
    "executionInfo": {
     "elapsed": 598,
     "status": "ok",
     "timestamp": 1612880935513,
     "user": {
      "displayName": "Fernando Mateo",
      "photoUrl": "https://lh3.googleusercontent.com/a-/AOh14Gizefb6yPZHZKjiub7uZkBVDAAlyxghIopf0kaJMA=s64",
      "userId": "00905419803076074042"
     },
     "user_tz": -60
    },
    "id": "My-8NuPJMGx0",
    "outputId": "1ac4065d-3b56-4579-be3e-80e79337fab8"
   },
   "outputs": [
    {
     "data": {
      "text/plain": [
       "['23/9/2010', '23/09/2010', '23/9-10', '23-9-2010', '2/9/2010']"
      ]
     },
     "execution_count": 190,
     "metadata": {},
     "output_type": "execute_result"
    }
   ],
   "source": [
    "re.findall(r'\\d{1,2}[/-]\\d{1,2}[/-]\\d{2,4}', fechas) #captura todos los formatos de fecha posibles"
   ]
  },
  {
   "cell_type": "code",
   "execution_count": 191,
   "metadata": {
    "colab": {
     "base_uri": "https://localhost:8080/"
    },
    "executionInfo": {
     "elapsed": 718,
     "status": "ok",
     "timestamp": 1612880937656,
     "user": {
      "displayName": "Fernando Mateo",
      "photoUrl": "https://lh3.googleusercontent.com/a-/AOh14Gizefb6yPZHZKjiub7uZkBVDAAlyxghIopf0kaJMA=s64",
      "userId": "00905419803076074042"
     },
     "user_tz": -60
    },
    "id": "NCPFp4gYMGx1",
    "outputId": "c5d86542-1061-4343-a495-a87051f47d8b"
   },
   "outputs": [
    {
     "data": {
      "text/plain": [
       "['5/10/12']"
      ]
     },
     "execution_count": 191,
     "metadata": {},
     "output_type": "execute_result"
    }
   ],
   "source": [
    "texto = 'El avión salió el 5/10/12 de Caracas'\n",
    "re.findall(r'\\d{1,2}[/-]\\d{1,2}[/-]\\d{2,4}', texto)"
   ]
  },
  {
   "attachments": {},
   "cell_type": "markdown",
   "metadata": {
    "id": "hdyeDY3UMGx2"
   },
   "source": [
    "### Exercici 1\n",
    "Com podem detectar *totes* les dates d'aquest text?  \n",
    "*Ajuda: Utilitza l'operador* OR (`|`) *per a especificar dos patrons alternatius*"
   ]
  },
  {
   "cell_type": "code",
   "execution_count": 192,
   "metadata": {
    "id": "wyKor0_tMGx2"
   },
   "outputs": [],
   "source": [
    "texto = '''Francisco nació el 28/3/78, se casó el 20 de mayo del 98 y tuvo 2 hijos,\n",
    "el primero nació el 3-10-2001 y el segundo el 2 de junio de 2004'''"
   ]
  },
  {
   "cell_type": "code",
   "execution_count": 193,
   "metadata": {
    "colab": {
     "base_uri": "https://localhost:8080/"
    },
    "executionInfo": {
     "elapsed": 1993,
     "status": "ok",
     "timestamp": 1612880949115,
     "user": {
      "displayName": "Fernando Mateo",
      "photoUrl": "https://lh3.googleusercontent.com/a-/AOh14Gizefb6yPZHZKjiub7uZkBVDAAlyxghIopf0kaJMA=s64",
      "userId": "00905419803076074042"
     },
     "user_tz": -60
    },
    "id": "JsFlS1BQMGx3",
    "outputId": "12b4a0a2-c927-41a0-a041-b88433c02271"
   },
   "outputs": [
    {
     "data": {
      "text/plain": [
       "['28/3/78', '20 de mayo del 98', '3-10-2001', '2 de junio de 2004']"
      ]
     },
     "execution_count": 193,
     "metadata": {},
     "output_type": "execute_result"
    }
   ],
   "source": [
    "re.findall(r'\\d{1,2}[/-]\\d{1,2}[/-]\\d{2,4}|\\d{1,2} de \\w+ del? \\d{2,4}', texto)\n"
   ]
  },
  {
   "attachments": {},
   "cell_type": "markdown",
   "metadata": {
    "id": "TaiWM5QTMGx4"
   },
   "source": [
    "## Captura de grups\n",
    "Podem buscar un patró compost però només recuperar una part específica d'aquest."
   ]
  },
  {
   "cell_type": "code",
   "execution_count": 194,
   "metadata": {
    "id": "DnSLrTzpMGx5"
   },
   "outputs": [],
   "source": [
    "texto = '''Ingredientes de Arroz con Leche:\n",
    "- 200 gramos de arroz\n",
    "- 150 gramos de azúcar\n",
    "- Un litro de leche entera\n",
    "- Dos ramas de canela\n",
    "- Piel de un limón\n",
    "- Canela molida\n",
    "- 50 gramos de mantequilla (Opcional)\n",
    "'''"
   ]
  },
  {
   "attachments": {},
   "cell_type": "markdown",
   "metadata": {
    "id": "0xwmDKa7MGx5"
   },
   "source": [
    "*Quants gr de sucre té la recepta?*  \n",
    "Podem buscar tots els números del text:"
   ]
  },
  {
   "cell_type": "code",
   "execution_count": 195,
   "metadata": {
    "colab": {
     "base_uri": "https://localhost:8080/"
    },
    "executionInfo": {
     "elapsed": 1159,
     "status": "ok",
     "timestamp": 1612880985781,
     "user": {
      "displayName": "Fernando Mateo",
      "photoUrl": "https://lh3.googleusercontent.com/a-/AOh14Gizefb6yPZHZKjiub7uZkBVDAAlyxghIopf0kaJMA=s64",
      "userId": "00905419803076074042"
     },
     "user_tz": -60
    },
    "id": "DBeKDgLCMGx6",
    "outputId": "c2aec5b1-7652-4296-f078-42c93193ad51"
   },
   "outputs": [
    {
     "data": {
      "text/plain": [
       "['200', '150', '50']"
      ]
     },
     "execution_count": 195,
     "metadata": {},
     "output_type": "execute_result"
    }
   ],
   "source": [
    "re.findall(r'\\d+', texto)"
   ]
  },
  {
   "attachments": {},
   "cell_type": "markdown",
   "metadata": {
    "id": "fFFElyzyMGx7"
   },
   "source": [
    "Podem buscar el patró dels grams de sucre"
   ]
  },
  {
   "cell_type": "code",
   "execution_count": 196,
   "metadata": {
    "colab": {
     "base_uri": "https://localhost:8080/"
    },
    "executionInfo": {
     "elapsed": 748,
     "status": "ok",
     "timestamp": 1612881008819,
     "user": {
      "displayName": "Fernando Mateo",
      "photoUrl": "https://lh3.googleusercontent.com/a-/AOh14Gizefb6yPZHZKjiub7uZkBVDAAlyxghIopf0kaJMA=s64",
      "userId": "00905419803076074042"
     },
     "user_tz": -60
    },
    "id": "0hYRgGGeMGx8",
    "outputId": "11be7fd1-918c-4066-97f5-ed5cb99c5da7"
   },
   "outputs": [
    {
     "data": {
      "text/plain": [
       "['150 gramos de azúcar']"
      ]
     },
     "execution_count": 196,
     "metadata": {},
     "output_type": "execute_result"
    }
   ],
   "source": [
    "re.findall(r'\\d+ gramos de azúcar', texto)"
   ]
  },
  {
   "attachments": {},
   "cell_type": "markdown",
   "metadata": {
    "id": "A10pyiKOMGx8"
   },
   "source": [
    "Si d'aquest patró volem retornar només la part corresponent al número l'assignem a un grup:"
   ]
  },
  {
   "cell_type": "code",
   "execution_count": 197,
   "metadata": {
    "colab": {
     "base_uri": "https://localhost:8080/"
    },
    "executionInfo": {
     "elapsed": 849,
     "status": "ok",
     "timestamp": 1612881025200,
     "user": {
      "displayName": "Fernando Mateo",
      "photoUrl": "https://lh3.googleusercontent.com/a-/AOh14Gizefb6yPZHZKjiub7uZkBVDAAlyxghIopf0kaJMA=s64",
      "userId": "00905419803076074042"
     },
     "user_tz": -60
    },
    "id": "xbEJfU51MGx9",
    "outputId": "9ee7a982-8f0b-4103-bd9d-6a95e9611ecb"
   },
   "outputs": [
    {
     "data": {
      "text/plain": [
       "['150']"
      ]
     },
     "execution_count": 197,
     "metadata": {},
     "output_type": "execute_result"
    }
   ],
   "source": [
    "re.findall(r'(\\d+) gramos de azúcar', texto)"
   ]
  },
  {
   "attachments": {},
   "cell_type": "markdown",
   "metadata": {
    "id": "qV31RryBMGx9"
   },
   "source": [
    "Podem definir diversos grups en la captura i recuperar-los com una tupla de textos.  \n",
    "*P. ex. Quants grams de cada ingredient tenim?*"
   ]
  },
  {
   "cell_type": "code",
   "execution_count": 198,
   "metadata": {
    "colab": {
     "base_uri": "https://localhost:8080/"
    },
    "executionInfo": {
     "elapsed": 549,
     "status": "ok",
     "timestamp": 1612881034067,
     "user": {
      "displayName": "Fernando Mateo",
      "photoUrl": "https://lh3.googleusercontent.com/a-/AOh14Gizefb6yPZHZKjiub7uZkBVDAAlyxghIopf0kaJMA=s64",
      "userId": "00905419803076074042"
     },
     "user_tz": -60
    },
    "id": "JfwzODefMGx-",
    "outputId": "c498b285-a81d-4c3b-fa33-27a797640f36"
   },
   "outputs": [
    {
     "data": {
      "text/plain": [
       "[('200', 'arroz'), ('150', 'azúcar'), ('50', 'mantequilla')]"
      ]
     },
     "execution_count": 198,
     "metadata": {},
     "output_type": "execute_result"
    }
   ],
   "source": [
    "re.findall(r'(\\d+) gramos de (\\w+)', texto)"
   ]
  },
  {
   "attachments": {},
   "cell_type": "markdown",
   "metadata": {
    "id": "lo5xr_9iMGx-"
   },
   "source": [
    "Fins i tot podem assignar un nom a cada grup. L'objecte retornat crea un diccionari amb els grups trobats."
   ]
  },
  {
   "cell_type": "code",
   "execution_count": 199,
   "metadata": {
    "colab": {
     "base_uri": "https://localhost:8080/"
    },
    "executionInfo": {
     "elapsed": 784,
     "status": "ok",
     "timestamp": 1612881127602,
     "user": {
      "displayName": "Fernando Mateo",
      "photoUrl": "https://lh3.googleusercontent.com/a-/AOh14Gizefb6yPZHZKjiub7uZkBVDAAlyxghIopf0kaJMA=s64",
      "userId": "00905419803076074042"
     },
     "user_tz": -60
    },
    "id": "GuTLwqYsMGx_",
    "outputId": "fdfbe27a-8ce9-47e4-ccef-0fb7ad5417ee"
   },
   "outputs": [
    {
     "name": "stdout",
     "output_type": "stream",
     "text": [
      "('200', 'arroz')\n"
     ]
    },
    {
     "data": {
      "text/plain": [
       "{'gramos': '200', 'ingrediente': 'arroz'}"
      ]
     },
     "execution_count": 199,
     "metadata": {},
     "output_type": "execute_result"
    }
   ],
   "source": [
    "matches = re.search(r'(?P<gramos>\\d+) gramos de (?P<ingrediente>\\w+)', texto)\n",
    "print(matches.groups())\n",
    "matches.groupdict()"
   ]
  },
  {
   "cell_type": "code",
   "execution_count": 200,
   "metadata": {
    "colab": {
     "base_uri": "https://localhost:8080/",
     "height": 38
    },
    "executionInfo": {
     "elapsed": 565,
     "status": "ok",
     "timestamp": 1612881052266,
     "user": {
      "displayName": "Fernando Mateo",
      "photoUrl": "https://lh3.googleusercontent.com/a-/AOh14Gizefb6yPZHZKjiub7uZkBVDAAlyxghIopf0kaJMA=s64",
      "userId": "00905419803076074042"
     },
     "user_tz": -60
    },
    "id": "SMdCFsKJMGx_",
    "outputId": "632990e3-570b-4c70-e4b5-508c7373472c"
   },
   "outputs": [
    {
     "data": {
      "text/plain": [
       "'200'"
      ]
     },
     "execution_count": 200,
     "metadata": {},
     "output_type": "execute_result"
    }
   ],
   "source": [
    "matches.group('gramos') #alternativamente matches['gramos']"
   ]
  },
  {
   "cell_type": "code",
   "execution_count": 201,
   "metadata": {
    "colab": {
     "base_uri": "https://localhost:8080/",
     "height": 38
    },
    "executionInfo": {
     "elapsed": 709,
     "status": "ok",
     "timestamp": 1612881055321,
     "user": {
      "displayName": "Fernando Mateo",
      "photoUrl": "https://lh3.googleusercontent.com/a-/AOh14Gizefb6yPZHZKjiub7uZkBVDAAlyxghIopf0kaJMA=s64",
      "userId": "00905419803076074042"
     },
     "user_tz": -60
    },
    "id": "KU3ZxNHpMGyA",
    "outputId": "aceb6ede-8210-477b-cf7e-380145cce079"
   },
   "outputs": [
    {
     "data": {
      "text/plain": [
       "'arroz'"
      ]
     },
     "execution_count": 201,
     "metadata": {},
     "output_type": "execute_result"
    }
   ],
   "source": [
    "matches.group('ingrediente') #alternativamente matches['ingrediente']"
   ]
  },
  {
   "attachments": {},
   "cell_type": "markdown",
   "metadata": {
    "id": "1nBVMEj6MGyA"
   },
   "source": [
    "Per a buscar totes les repeticions d'un patró amb grups enumerats no podem usar `re.findall` sinó que hem d'usar la versió iterativa `re.finditer` que retorna un *iterable* sobre objectes de tipus `re.Match`"
   ]
  },
  {
   "cell_type": "code",
   "execution_count": 202,
   "metadata": {
    "colab": {
     "base_uri": "https://localhost:8080/"
    },
    "executionInfo": {
     "elapsed": 610,
     "status": "ok",
     "timestamp": 1612881254722,
     "user": {
      "displayName": "Fernando Mateo",
      "photoUrl": "https://lh3.googleusercontent.com/a-/AOh14Gizefb6yPZHZKjiub7uZkBVDAAlyxghIopf0kaJMA=s64",
      "userId": "00905419803076074042"
     },
     "user_tz": -60
    },
    "id": "jSWLth8cMGyB",
    "outputId": "920c4488-ee14-46fb-9aa4-fd5642a06e24"
   },
   "outputs": [
    {
     "data": {
      "text/plain": [
       "[<re.Match object; span=(35, 54), match='200 gramos de arroz'>,\n",
       " <re.Match object; span=(57, 77), match='150 gramos de azúcar'>,\n",
       " <re.Match object; span=(164, 188), match='50 gramos de mantequilla'>]"
      ]
     },
     "execution_count": 202,
     "metadata": {},
     "output_type": "execute_result"
    }
   ],
   "source": [
    "matches = list(re.finditer(r'(?P<gramos>\\d+) gramos de (?P<ingrediente>\\w+)', texto))\n",
    "matches"
   ]
  },
  {
   "cell_type": "code",
   "execution_count": 203,
   "metadata": {
    "colab": {
     "base_uri": "https://localhost:8080/"
    },
    "executionInfo": {
     "elapsed": 577,
     "status": "ok",
     "timestamp": 1612881259283,
     "user": {
      "displayName": "Fernando Mateo",
      "photoUrl": "https://lh3.googleusercontent.com/a-/AOh14Gizefb6yPZHZKjiub7uZkBVDAAlyxghIopf0kaJMA=s64",
      "userId": "00905419803076074042"
     },
     "user_tz": -60
    },
    "id": "zhTOclIDMGyC",
    "outputId": "a2a88bb6-cf6a-4623-bb99-eb91fa2248fa"
   },
   "outputs": [
    {
     "data": {
      "text/plain": [
       "{'gramos': '200', 'ingrediente': 'arroz'}"
      ]
     },
     "execution_count": 203,
     "metadata": {},
     "output_type": "execute_result"
    }
   ],
   "source": [
    "matches[0].groupdict()"
   ]
  },
  {
   "attachments": {},
   "cell_type": "markdown",
   "metadata": {
    "id": "ngjB4NbgMGyC"
   },
   "source": [
    "Podem crear una *list comprehension* recorrent sobre el resultat de `re.findall`:"
   ]
  },
  {
   "cell_type": "code",
   "execution_count": 204,
   "metadata": {
    "colab": {
     "base_uri": "https://localhost:8080/"
    },
    "executionInfo": {
     "elapsed": 740,
     "status": "ok",
     "timestamp": 1612881607231,
     "user": {
      "displayName": "Fernando Mateo",
      "photoUrl": "https://lh3.googleusercontent.com/a-/AOh14Gizefb6yPZHZKjiub7uZkBVDAAlyxghIopf0kaJMA=s64",
      "userId": "00905419803076074042"
     },
     "user_tz": -60
    },
    "id": "qX_NnoV7MGyD",
    "outputId": "25aab9d0-91a5-4dc2-ea82-7775ba6a77c1"
   },
   "outputs": [
    {
     "data": {
      "text/plain": [
       "[('arroz', '200'), ('azúcar', '150'), ('mantequilla', '50')]"
      ]
     },
     "execution_count": 204,
     "metadata": {},
     "output_type": "execute_result"
    }
   ],
   "source": [
    "[(ingredientes, gramos) for (gramos, ingredientes) in re.findall(r'(?P<gramos>\\d+) gramos de (?P<ingrediente>\\w+)', texto)]"
   ]
  },
  {
   "attachments": {},
   "cell_type": "markdown",
   "metadata": {
    "id": "bby7ifbcMGyD"
   },
   "source": [
    "### Exercici 2\n",
    "Genera un diccionari de Python amb els grams de cada ingredient a partir de la llista `matches`. El resultat ha de ser:  \n",
    "```python\n",
    "{'arroz': '200', 'azúcar': '150', 'mantequilla': '50'}\n",
    "```"
   ]
  },
  {
   "cell_type": "code",
   "execution_count": 205,
   "metadata": {
    "colab": {
     "base_uri": "https://localhost:8080/"
    },
    "executionInfo": {
     "elapsed": 583,
     "status": "ok",
     "timestamp": 1612885864930,
     "user": {
      "displayName": "Fernando Mateo",
      "photoUrl": "https://lh3.googleusercontent.com/a-/AOh14Gizefb6yPZHZKjiub7uZkBVDAAlyxghIopf0kaJMA=s64",
      "userId": "00905419803076074042"
     },
     "user_tz": -60
    },
    "id": "TOqwI9_FMGyE",
    "outputId": "2c259a16-8558-4c3a-93ab-60f1318498c3"
   },
   "outputs": [
    {
     "data": {
      "text/plain": [
       "{'arroz': '200', 'azúcar': '150', 'mantequilla': '50'}"
      ]
     },
     "execution_count": 205,
     "metadata": {},
     "output_type": "execute_result"
    }
   ],
   "source": [
    "diccionario = dict()\n",
    "\n",
    "for objeto in matches:\n",
    "    diccionario[objeto['ingrediente']] = objeto['gramos']\n",
    "    \n",
    "diccionario"
   ]
  },
  {
   "attachments": {},
   "cell_type": "markdown",
   "metadata": {
    "id": "_rzVS_9JQF4D"
   },
   "source": [
    "### Exercici 3\n",
    "Crea una llista amb tots els valors de `span()` dels patrons trobats en `matches`, guardats com tuples."
   ]
  },
  {
   "cell_type": "code",
   "execution_count": 206,
   "metadata": {
    "colab": {
     "base_uri": "https://localhost:8080/"
    },
    "executionInfo": {
     "elapsed": 623,
     "status": "ok",
     "timestamp": 1612881558183,
     "user": {
      "displayName": "Fernando Mateo",
      "photoUrl": "https://lh3.googleusercontent.com/a-/AOh14Gizefb6yPZHZKjiub7uZkBVDAAlyxghIopf0kaJMA=s64",
      "userId": "00905419803076074042"
     },
     "user_tz": -60
    },
    "id": "iWd-yDpuN44u",
    "outputId": "230b8b56-532a-4ac2-88fd-905923fb3ec6"
   },
   "outputs": [
    {
     "data": {
      "text/plain": [
       "[(35, 54), (57, 77), (164, 188)]"
      ]
     },
     "execution_count": 206,
     "metadata": {},
     "output_type": "execute_result"
    }
   ],
   "source": [
    "lista = list()\n",
    "\n",
    "for objeto in matches:\n",
    "    lista.append(objeto.span())\n",
    "\n",
    "lista"
   ]
  },
  {
   "attachments": {},
   "cell_type": "markdown",
   "metadata": {
    "id": "5NsTgQg9ulBm"
   },
   "source": [
    "### Exercici 4\n",
    "\n",
    "Donat el següent text:"
   ]
  },
  {
   "cell_type": "code",
   "execution_count": 207,
   "metadata": {
    "executionInfo": {
     "elapsed": 448,
     "status": "ok",
     "timestamp": 1612890129973,
     "user": {
      "displayName": "Fernando Mateo",
      "photoUrl": "https://lh3.googleusercontent.com/a-/AOh14Gizefb6yPZHZKjiub7uZkBVDAAlyxghIopf0kaJMA=s64",
      "userId": "00905419803076074042"
     },
     "user_tz": -60
    },
    "id": "Prm2vyk8YNkj"
   },
   "outputs": [],
   "source": [
    "texto = 'Some authors like Jason Foster (y.foster@abcd.com), R. Davis (rdavis22@www.uk) and Charlotte Williams (ch_williams@usa.gov) observed that...'"
   ]
  },
  {
   "attachments": {},
   "cell_type": "markdown",
   "metadata": {
    "id": "1Y3qGB56cIH0"
   },
   "source": [
    "#### Ex 4.1\n",
    "Extrau tots els noms i cognoms de persones d'aquest text com una llista de diccionaris amb les claus `nom` i `cognom`. Converteix aqueixa llista en un DataFrame de Pandas."
   ]
  },
  {
   "cell_type": "code",
   "execution_count": 208,
   "metadata": {
    "executionInfo": {
     "elapsed": 691,
     "status": "ok",
     "timestamp": 1612890133064,
     "user": {
      "displayName": "Fernando Mateo",
      "photoUrl": "https://lh3.googleusercontent.com/a-/AOh14Gizefb6yPZHZKjiub7uZkBVDAAlyxghIopf0kaJMA=s64",
      "userId": "00905419803076074042"
     },
     "user_tz": -60
    },
    "id": "_VS6-koPY5ho"
   },
   "outputs": [
    {
     "data": {
      "text/html": [
       "<div>\n",
       "<style scoped>\n",
       "    .dataframe tbody tr th:only-of-type {\n",
       "        vertical-align: middle;\n",
       "    }\n",
       "\n",
       "    .dataframe tbody tr th {\n",
       "        vertical-align: top;\n",
       "    }\n",
       "\n",
       "    .dataframe thead th {\n",
       "        text-align: right;\n",
       "    }\n",
       "</style>\n",
       "<table border=\"1\" class=\"dataframe\">\n",
       "  <thead>\n",
       "    <tr style=\"text-align: right;\">\n",
       "      <th></th>\n",
       "      <th>nom</th>\n",
       "      <th>cognom</th>\n",
       "    </tr>\n",
       "  </thead>\n",
       "  <tbody>\n",
       "    <tr>\n",
       "      <th>0</th>\n",
       "      <td>Jason</td>\n",
       "      <td>Foster</td>\n",
       "    </tr>\n",
       "    <tr>\n",
       "      <th>1</th>\n",
       "      <td>R.</td>\n",
       "      <td>Davis</td>\n",
       "    </tr>\n",
       "    <tr>\n",
       "      <th>2</th>\n",
       "      <td>Charlotte</td>\n",
       "      <td>Williams</td>\n",
       "    </tr>\n",
       "  </tbody>\n",
       "</table>\n",
       "</div>"
      ],
      "text/plain": [
       "         nom    cognom\n",
       "0      Jason    Foster\n",
       "1         R.     Davis\n",
       "2  Charlotte  Williams"
      ]
     },
     "execution_count": 208,
     "metadata": {},
     "output_type": "execute_result"
    }
   ],
   "source": [
    "import pandas as pd\n",
    "matches = list(re.finditer(r'(?P<nom>[A-Z]\\w+|[A-Z]\\.?) (?P<cognom>[A-Z]\\w+)',texto))\n",
    "\n",
    "lista = list()\n",
    "\n",
    "for objeto in matches:\n",
    "    lista.append(objeto.groupdict())\n",
    "\n",
    "df = pd.DataFrame(lista)\n",
    "df\n",
    "\n"
   ]
  },
  {
   "attachments": {},
   "cell_type": "markdown",
   "metadata": {
    "id": "4oYF-fbkvzBG"
   },
   "source": [
    "#### Ex. 4.2\n",
    "Extrau tots els emails del text anterior com una llista."
   ]
  },
  {
   "cell_type": "code",
   "execution_count": 209,
   "metadata": {
    "colab": {
     "base_uri": "https://localhost:8080/"
    },
    "executionInfo": {
     "elapsed": 810,
     "status": "ok",
     "timestamp": 1612890144981,
     "user": {
      "displayName": "Fernando Mateo",
      "photoUrl": "https://lh3.googleusercontent.com/a-/AOh14Gizefb6yPZHZKjiub7uZkBVDAAlyxghIopf0kaJMA=s64",
      "userId": "00905419803076074042"
     },
     "user_tz": -60
    },
    "id": "DlgOp6kXkaA6",
    "outputId": "fe959c90-474a-4b84-d2f3-724925144bb5"
   },
   "outputs": [
    {
     "data": {
      "text/plain": [
       "['y.foster@abcd.com', 'rdavis22@www.uk', 'ch_williams@usa.gov']"
      ]
     },
     "execution_count": 209,
     "metadata": {},
     "output_type": "execute_result"
    }
   ],
   "source": [
    "re.findall(r'\\w+[\\.\\_]?\\w+@\\w+\\.\\w+',texto)\n"
   ]
  },
  {
   "attachments": {},
   "cell_type": "markdown",
   "metadata": {},
   "source": [
    "## Ús de non-capturing groups\n",
    "Quan usem un grup per a definir un patró complex però volem capturar tota l'expressió usem un *non-capturing group*:"
   ]
  },
  {
   "cell_type": "code",
   "execution_count": 210,
   "metadata": {},
   "outputs": [
    {
     "data": {
      "text/plain": [
       "['15 de agosto', '20 de septiembre']"
      ]
     },
     "execution_count": 210,
     "metadata": {},
     "output_type": "execute_result"
    }
   ],
   "source": [
    "texto = \"entre el 15 de agosto y el 20 de septiembre, no el 15 de 2020\"\n",
    "re.findall(r'\\d+ de (?:enero|febrero|marzo|abril|mayo|junio|julio|agosto|\\w+bre\\b)', texto)"
   ]
  },
  {
   "attachments": {},
   "cell_type": "markdown",
   "metadata": {},
   "source": [
    "### Exercici 5\n",
    "\n",
    "Crea un patró RegEx per a detectar totes les URL que pertanguen a un domini `.es` del següent text:  \n",
    "Ajuda: el patró ha de buscar el text `.es` darrere d'un patró repetit `algo.` (una o més vegades) , seguit d'un patró opcional de tipus `/algo/algo_más`"
   ]
  },
  {
   "cell_type": "code",
   "execution_count": 211,
   "metadata": {},
   "outputs": [],
   "source": [
    "texto = \"amazon.com amazon.es google.es/shopping aliexpress.com.es www.elcorteingles.es\""
   ]
  },
  {
   "cell_type": "code",
   "execution_count": 212,
   "metadata": {},
   "outputs": [
    {
     "data": {
      "text/plain": [
       "['google.es/shopping']"
      ]
     },
     "execution_count": 212,
     "metadata": {},
     "output_type": "execute_result"
    }
   ],
   "source": [
    "re.findall(r'[\\w+\\.]+\\.es(?:[/\\w+]+)',texto)"
   ]
  },
  {
   "attachments": {},
   "cell_type": "markdown",
   "metadata": {},
   "source": [
    "## Substitució de patrons\n",
    "\n",
    "La funció `re.sub()` permet substituir text capturat per una expressió regular.  \n",
    "\n",
    "### Exercici 6\n",
    "\n",
    "Substitueix en el següent text els imports expressats com a `$valor` a la forma `valor$`  \n",
    "Nota: el símbol `$` té un significat especial en RegEx pel que cal escapar-lo com `\\$`"
   ]
  },
  {
   "cell_type": "code",
   "execution_count": 213,
   "metadata": {},
   "outputs": [],
   "source": [
    "texto = \"El coste total fue de $320, repartidos en $225.7 en comida y $94.3 en bebida\""
   ]
  },
  {
   "cell_type": "code",
   "execution_count": 214,
   "metadata": {},
   "outputs": [
    {
     "data": {
      "text/plain": [
       "'El coste total fue de 320$, repartidos en 225.7$ en comida y 94.3$ en bebida'"
      ]
     },
     "execution_count": 214,
     "metadata": {},
     "output_type": "execute_result"
    }
   ],
   "source": [
    "re.sub(r'\\$(?P<valor>\\d+\\.?\\d*)', r'\\g<valor>$', texto)"
   ]
  },
  {
   "attachments": {},
   "cell_type": "markdown",
   "metadata": {
    "id": "LBlzADiQMGyF"
   },
   "source": [
    "## Ús de RegEx amb objectes de Pandas\n",
    " Si tenim un objecte `Series` de Pandas podem aplicar les funcions de text o de cerca d'expressions regulars sobre el contingut de cada element (en un `DataFrame` cada columna és un objecte `Series`)"
   ]
  },
  {
   "cell_type": "code",
   "execution_count": 224,
   "metadata": {
    "colab": {
     "base_uri": "https://localhost:8080/",
     "height": 204
    },
    "executionInfo": {
     "elapsed": 600,
     "status": "ok",
     "timestamp": 1612882360640,
     "user": {
      "displayName": "Fernando Mateo",
      "photoUrl": "https://lh3.googleusercontent.com/a-/AOh14Gizefb6yPZHZKjiub7uZkBVDAAlyxghIopf0kaJMA=s64",
      "userId": "00905419803076074042"
     },
     "user_tz": -60
    },
    "id": "f29e3f09MGyF",
    "outputId": "220f4e57-e8e1-4921-b9e6-a43e3b39efd5"
   },
   "outputs": [
    {
     "data": {
      "text/html": [
       "<div>\n",
       "<style scoped>\n",
       "    .dataframe tbody tr th:only-of-type {\n",
       "        vertical-align: middle;\n",
       "    }\n",
       "\n",
       "    .dataframe tbody tr th {\n",
       "        vertical-align: top;\n",
       "    }\n",
       "\n",
       "    .dataframe thead th {\n",
       "        text-align: right;\n",
       "    }\n",
       "</style>\n",
       "<table border=\"1\" class=\"dataframe\">\n",
       "  <thead>\n",
       "    <tr style=\"text-align: right;\">\n",
       "      <th></th>\n",
       "      <th>texto</th>\n",
       "    </tr>\n",
       "  </thead>\n",
       "  <tbody>\n",
       "    <tr>\n",
       "      <th>0</th>\n",
       "      <td>Tengo cita con el doctor a las 2:45.</td>\n",
       "    </tr>\n",
       "    <tr>\n",
       "      <th>1</th>\n",
       "      <td>el martes llegaré a las 11:30.</td>\n",
       "    </tr>\n",
       "    <tr>\n",
       "      <th>2</th>\n",
       "      <td>No puedo, tengo un partido a las 7:00.</td>\n",
       "    </tr>\n",
       "    <tr>\n",
       "      <th>3</th>\n",
       "      <td>Nos vemos el jueves 7 a las 8:30.</td>\n",
       "    </tr>\n",
       "    <tr>\n",
       "      <th>4</th>\n",
       "      <td>El tren sale a las 9:15 y llega a las 11:35.</td>\n",
       "    </tr>\n",
       "  </tbody>\n",
       "</table>\n",
       "</div>"
      ],
      "text/plain": [
       "                                          texto\n",
       "0          Tengo cita con el doctor a las 2:45.\n",
       "1                el martes llegaré a las 11:30.\n",
       "2        No puedo, tengo un partido a las 7:00.\n",
       "3             Nos vemos el jueves 7 a las 8:30.\n",
       "4  El tren sale a las 9:15 y llega a las 11:35."
      ]
     },
     "execution_count": 224,
     "metadata": {},
     "output_type": "execute_result"
    }
   ],
   "source": [
    "import pandas as pd\n",
    "\n",
    "frases = [\"Tengo cita con el doctor a las 2:45.\", \n",
    "          \"el martes llegaré a las 11:30.\",\n",
    "          \"No puedo, tengo un partido a las 7:00.\",\n",
    "          \"Nos vemos el jueves 7 a las 8:30.\",\n",
    "          \"El tren sale a las 9:15 y llega a las 11:35.\"]\n",
    "\n",
    "df = pd.DataFrame(frases, columns=['texto'])\n",
    "df"
   ]
  },
  {
   "attachments": {},
   "cell_type": "markdown",
   "metadata": {
    "id": "oqv_ld5-MGyG"
   },
   "source": [
    "### Captura de grups:"
   ]
  },
  {
   "cell_type": "code",
   "execution_count": 225,
   "metadata": {
    "colab": {
     "base_uri": "https://localhost:8080/"
    },
    "executionInfo": {
     "elapsed": 587,
     "status": "ok",
     "timestamp": 1612882425533,
     "user": {
      "displayName": "Fernando Mateo",
      "photoUrl": "https://lh3.googleusercontent.com/a-/AOh14Gizefb6yPZHZKjiub7uZkBVDAAlyxghIopf0kaJMA=s64",
      "userId": "00905419803076074042"
     },
     "user_tz": -60
    },
    "id": "LBKj4LB0MGyG",
    "outputId": "fe4c05fa-e6af-43c9-a284-544c2a11760a"
   },
   "outputs": [
    {
     "data": {
      "text/plain": [
       "0              [(2, 45)]\n",
       "1             [(11, 30)]\n",
       "2              [(7, 00)]\n",
       "3              [(8, 30)]\n",
       "4    [(9, 15), (11, 35)]\n",
       "Name: texto, dtype: object"
      ]
     },
     "execution_count": 225,
     "metadata": {},
     "output_type": "execute_result"
    }
   ],
   "source": [
    "# busca las ocurrencias de hora:minuto en los textos\n",
    "df['texto'].str.findall(r'(\\d{1,2}):(\\d{2})')"
   ]
  },
  {
   "attachments": {},
   "cell_type": "markdown",
   "metadata": {
    "id": "H1KOMDe2MGyH"
   },
   "source": [
    "### Captura de grups numerats:"
   ]
  },
  {
   "cell_type": "code",
   "execution_count": 226,
   "metadata": {
    "colab": {
     "base_uri": "https://localhost:8080/",
     "height": 266
    },
    "executionInfo": {
     "elapsed": 554,
     "status": "ok",
     "timestamp": 1612882495823,
     "user": {
      "displayName": "Fernando Mateo",
      "photoUrl": "https://lh3.googleusercontent.com/a-/AOh14Gizefb6yPZHZKjiub7uZkBVDAAlyxghIopf0kaJMA=s64",
      "userId": "00905419803076074042"
     },
     "user_tz": -60
    },
    "id": "NDXOwzwPMGyH",
    "outputId": "15d6c3cc-042c-4cdb-eecd-ce4a51868a10"
   },
   "outputs": [
    {
     "data": {
      "text/html": [
       "<div>\n",
       "<style scoped>\n",
       "    .dataframe tbody tr th:only-of-type {\n",
       "        vertical-align: middle;\n",
       "    }\n",
       "\n",
       "    .dataframe tbody tr th {\n",
       "        vertical-align: top;\n",
       "    }\n",
       "\n",
       "    .dataframe thead th {\n",
       "        text-align: right;\n",
       "    }\n",
       "</style>\n",
       "<table border=\"1\" class=\"dataframe\">\n",
       "  <thead>\n",
       "    <tr style=\"text-align: right;\">\n",
       "      <th></th>\n",
       "      <th></th>\n",
       "      <th>tiempo</th>\n",
       "      <th>hora</th>\n",
       "      <th>minutos</th>\n",
       "    </tr>\n",
       "    <tr>\n",
       "      <th></th>\n",
       "      <th>match</th>\n",
       "      <th></th>\n",
       "      <th></th>\n",
       "      <th></th>\n",
       "    </tr>\n",
       "  </thead>\n",
       "  <tbody>\n",
       "    <tr>\n",
       "      <th>0</th>\n",
       "      <th>0</th>\n",
       "      <td>2:45</td>\n",
       "      <td>2</td>\n",
       "      <td>45</td>\n",
       "    </tr>\n",
       "    <tr>\n",
       "      <th>1</th>\n",
       "      <th>0</th>\n",
       "      <td>11:30</td>\n",
       "      <td>11</td>\n",
       "      <td>30</td>\n",
       "    </tr>\n",
       "    <tr>\n",
       "      <th>2</th>\n",
       "      <th>0</th>\n",
       "      <td>7:00</td>\n",
       "      <td>7</td>\n",
       "      <td>00</td>\n",
       "    </tr>\n",
       "    <tr>\n",
       "      <th>3</th>\n",
       "      <th>0</th>\n",
       "      <td>8:30</td>\n",
       "      <td>8</td>\n",
       "      <td>30</td>\n",
       "    </tr>\n",
       "    <tr>\n",
       "      <th rowspan=\"2\" valign=\"top\">4</th>\n",
       "      <th>0</th>\n",
       "      <td>9:15</td>\n",
       "      <td>9</td>\n",
       "      <td>15</td>\n",
       "    </tr>\n",
       "    <tr>\n",
       "      <th>1</th>\n",
       "      <td>11:35</td>\n",
       "      <td>11</td>\n",
       "      <td>35</td>\n",
       "    </tr>\n",
       "  </tbody>\n",
       "</table>\n",
       "</div>"
      ],
      "text/plain": [
       "        tiempo hora minutos\n",
       "  match                    \n",
       "0 0       2:45    2      45\n",
       "1 0      11:30   11      30\n",
       "2 0       7:00    7      00\n",
       "3 0       8:30    8      30\n",
       "4 0       9:15    9      15\n",
       "  1      11:35   11      35"
      ]
     },
     "execution_count": 226,
     "metadata": {},
     "output_type": "execute_result"
    }
   ],
   "source": [
    "# extrae todas las apariciones de tiempo y separa horas y minutos\n",
    "df['texto'].str.extractall(r'(?P<tiempo>(?P<hora>\\d?\\d):(?P<minutos>\\d\\d))')"
   ]
  },
  {
   "attachments": {},
   "cell_type": "markdown",
   "metadata": {
    "id": "VfJjZx5qMGyH"
   },
   "source": [
    "### Exercici 7\n",
    "Extrau totes les dates dels següents textos, primer de manera completa i després separant dia, mes i any"
   ]
  },
  {
   "cell_type": "code",
   "execution_count": 227,
   "metadata": {
    "colab": {
     "base_uri": "https://localhost:8080/",
     "height": 173
    },
    "executionInfo": {
     "elapsed": 554,
     "status": "ok",
     "timestamp": 1612882633105,
     "user": {
      "displayName": "Fernando Mateo",
      "photoUrl": "https://lh3.googleusercontent.com/a-/AOh14Gizefb6yPZHZKjiub7uZkBVDAAlyxghIopf0kaJMA=s64",
      "userId": "00905419803076074042"
     },
     "user_tz": -60
    },
    "id": "oAIG_EoxMGyH",
    "outputId": "8ce88bab-af8b-4951-ea3a-1e21a9d46301"
   },
   "outputs": [
    {
     "data": {
      "text/html": [
       "<div>\n",
       "<style scoped>\n",
       "    .dataframe tbody tr th:only-of-type {\n",
       "        vertical-align: middle;\n",
       "    }\n",
       "\n",
       "    .dataframe tbody tr th {\n",
       "        vertical-align: top;\n",
       "    }\n",
       "\n",
       "    .dataframe thead th {\n",
       "        text-align: right;\n",
       "    }\n",
       "</style>\n",
       "<table border=\"1\" class=\"dataframe\">\n",
       "  <thead>\n",
       "    <tr style=\"text-align: right;\">\n",
       "      <th></th>\n",
       "      <th>texto</th>\n",
       "    </tr>\n",
       "  </thead>\n",
       "  <tbody>\n",
       "    <tr>\n",
       "      <th>0</th>\n",
       "      <td>Tengo cita con el doctor el 3/10</td>\n",
       "    </tr>\n",
       "    <tr>\n",
       "      <th>1</th>\n",
       "      <td>Juan nació el 28/3/78</td>\n",
       "    </tr>\n",
       "    <tr>\n",
       "      <th>2</th>\n",
       "      <td>Su primer hijo nació el nació el 3-10-2001 y e...</td>\n",
       "    </tr>\n",
       "    <tr>\n",
       "      <th>3</th>\n",
       "      <td>El 8/1/1998 se fué de viaje a Praga</td>\n",
       "    </tr>\n",
       "  </tbody>\n",
       "</table>\n",
       "</div>"
      ],
      "text/plain": [
       "                                               texto\n",
       "0                   Tengo cita con el doctor el 3/10\n",
       "1                              Juan nació el 28/3/78\n",
       "2  Su primer hijo nació el nació el 3-10-2001 y e...\n",
       "3                El 8/1/1998 se fué de viaje a Praga"
      ]
     },
     "execution_count": 227,
     "metadata": {},
     "output_type": "execute_result"
    }
   ],
   "source": [
    "fechas = [\"Tengo cita con el doctor el 3/10\", \n",
    "          \"Juan nació el 28/3/78\",\n",
    "          \"Su primer hijo nació el nació el 3-10-2001 y el segundo el 10-1-2003\",\n",
    "          \"El 8/1/1998 se fué de viaje a Praga\"]\n",
    "\n",
    "df = pd.DataFrame(fechas, columns=['texto'])\n",
    "df"
   ]
  },
  {
   "cell_type": "code",
   "execution_count": 229,
   "metadata": {
    "colab": {
     "base_uri": "https://localhost:8080/",
     "height": 235
    },
    "executionInfo": {
     "elapsed": 576,
     "status": "ok",
     "timestamp": 1612886680951,
     "user": {
      "displayName": "Fernando Mateo",
      "photoUrl": "https://lh3.googleusercontent.com/a-/AOh14Gizefb6yPZHZKjiub7uZkBVDAAlyxghIopf0kaJMA=s64",
      "userId": "00905419803076074042"
     },
     "user_tz": -60
    },
    "id": "u9xgqVReMGyI",
    "outputId": "c3de5e70-057e-4d94-be7a-2f450853ec29"
   },
   "outputs": [
    {
     "data": {
      "text/html": [
       "<div>\n",
       "<style scoped>\n",
       "    .dataframe tbody tr th:only-of-type {\n",
       "        vertical-align: middle;\n",
       "    }\n",
       "\n",
       "    .dataframe tbody tr th {\n",
       "        vertical-align: top;\n",
       "    }\n",
       "\n",
       "    .dataframe thead th {\n",
       "        text-align: right;\n",
       "    }\n",
       "</style>\n",
       "<table border=\"1\" class=\"dataframe\">\n",
       "  <thead>\n",
       "    <tr style=\"text-align: right;\">\n",
       "      <th></th>\n",
       "      <th></th>\n",
       "      <th>fecha</th>\n",
       "      <th>dia</th>\n",
       "      <th>mes</th>\n",
       "      <th>año</th>\n",
       "    </tr>\n",
       "    <tr>\n",
       "      <th></th>\n",
       "      <th>match</th>\n",
       "      <th></th>\n",
       "      <th></th>\n",
       "      <th></th>\n",
       "      <th></th>\n",
       "    </tr>\n",
       "  </thead>\n",
       "  <tbody>\n",
       "    <tr>\n",
       "      <th>0</th>\n",
       "      <th>0</th>\n",
       "      <td>3/10</td>\n",
       "      <td>3</td>\n",
       "      <td>10</td>\n",
       "      <td>NaN</td>\n",
       "    </tr>\n",
       "    <tr>\n",
       "      <th>1</th>\n",
       "      <th>0</th>\n",
       "      <td>28/3/78</td>\n",
       "      <td>28</td>\n",
       "      <td>3</td>\n",
       "      <td>78</td>\n",
       "    </tr>\n",
       "    <tr>\n",
       "      <th rowspan=\"2\" valign=\"top\">2</th>\n",
       "      <th>0</th>\n",
       "      <td>3-10-2001</td>\n",
       "      <td>3</td>\n",
       "      <td>10</td>\n",
       "      <td>2001</td>\n",
       "    </tr>\n",
       "    <tr>\n",
       "      <th>1</th>\n",
       "      <td>10-1-2003</td>\n",
       "      <td>10</td>\n",
       "      <td>1</td>\n",
       "      <td>2003</td>\n",
       "    </tr>\n",
       "    <tr>\n",
       "      <th>3</th>\n",
       "      <th>0</th>\n",
       "      <td>8/1/1998</td>\n",
       "      <td>8</td>\n",
       "      <td>1</td>\n",
       "      <td>1998</td>\n",
       "    </tr>\n",
       "  </tbody>\n",
       "</table>\n",
       "</div>"
      ],
      "text/plain": [
       "             fecha dia mes   año\n",
       "  match                         \n",
       "0 0           3/10   3  10   NaN\n",
       "1 0        28/3/78  28   3    78\n",
       "2 0      3-10-2001   3  10  2001\n",
       "  1      10-1-2003  10   1  2003\n",
       "3 0       8/1/1998   8   1  1998"
      ]
     },
     "execution_count": 229,
     "metadata": {},
     "output_type": "execute_result"
    }
   ],
   "source": [
    "df['texto'].str.extractall(r'(?P<fecha>(?P<dia>\\d{1,2})[/-](?P<mes>\\d{1,2})[/-]?(?P<año>\\d{0,4}))')\n"
   ]
  },
  {
   "attachments": {},
   "cell_type": "markdown",
   "metadata": {},
   "source": [
    "### Exercici 8 \n",
    "A partir de la següent llista de Tuits, genera un `DataFrame` amb les següents columnes:\n",
    " - `Tweet`: text del Tuit\n",
    " - `Menciones`: llista amb les mencions de cada Tuit\n",
    " - `Hashtag`: llista amb els hashtags de cada Tuit"
   ]
  },
  {
   "cell_type": "code",
   "execution_count": 235,
   "metadata": {},
   "outputs": [],
   "source": [
    "tweets = [\n",
    "    '@Yulian_Poe @guillermoterry1 Ah. mucho más por supuesto! solo que lo incluyo. Me habías entendido mal',\n",
    "    'Se ha terminado #Rio2016 Lamentablemente no arriendo las ganancias al pueblo brasileño por la penuria que les espera',\n",
    "    '@Yosmath @Planeta87Radio  #Incantus  Genial ya estoy conectada',\n",
    "    '@seestrena #seestrenasietevidas Sería un gato tipo Garfield porqué soy un poco vago y porqué me encanta la lasaña!!',\n",
    "    'Hoy toca escuchar a #MiguelRios con otros grandes artistas...  #Insurrección...'\n",
    "]"
   ]
  },
  {
   "cell_type": "code",
   "execution_count": 245,
   "metadata": {},
   "outputs": [
    {
     "data": {
      "text/html": [
       "<div>\n",
       "<style scoped>\n",
       "    .dataframe tbody tr th:only-of-type {\n",
       "        vertical-align: middle;\n",
       "    }\n",
       "\n",
       "    .dataframe tbody tr th {\n",
       "        vertical-align: top;\n",
       "    }\n",
       "\n",
       "    .dataframe thead th {\n",
       "        text-align: right;\n",
       "    }\n",
       "</style>\n",
       "<table border=\"1\" class=\"dataframe\">\n",
       "  <thead>\n",
       "    <tr style=\"text-align: right;\">\n",
       "      <th></th>\n",
       "      <th></th>\n",
       "      <th>Menciones</th>\n",
       "      <th>Hashtag</th>\n",
       "    </tr>\n",
       "    <tr>\n",
       "      <th></th>\n",
       "      <th>match</th>\n",
       "      <th></th>\n",
       "      <th></th>\n",
       "    </tr>\n",
       "  </thead>\n",
       "  <tbody>\n",
       "    <tr>\n",
       "      <th>3</th>\n",
       "      <th>0</th>\n",
       "      <td>@seestrena</td>\n",
       "      <td>#seestrenasietevidas</td>\n",
       "    </tr>\n",
       "  </tbody>\n",
       "</table>\n",
       "</div>"
      ],
      "text/plain": [
       "          Menciones               Hashtag\n",
       "  match                                  \n",
       "3 0      @seestrena  #seestrenasietevidas"
      ]
     },
     "execution_count": 245,
     "metadata": {},
     "output_type": "execute_result"
    }
   ],
   "source": [
    "df = pd.DataFrame(tweets, columns=['tweets'])\n",
    "df['tweets'].str.extractall(r'(?P<Menciones>@[a-zA-Z_]+) (?P<Hashtag>#[a-zA-Z_]+)')\n",
    "#intentao ta"
   ]
  },
  {
   "attachments": {},
   "cell_type": "markdown",
   "metadata": {},
   "source": [
    "### Exercici 9\n",
    "\n",
    "A partir de la següent recepta genera un dataframe amb les següents columnes:  \n",
    " - `Ingredient`: nom de l'ingredient  \n",
    " - `Quantitat`: valor numèric de la quantitat  \n",
    " - `Unitats`: unitat en la qual s'expressa la quantitat  \n",
    "\n",
    " *Nota*: `Quantitat` i `Unitats` són opcionals. Considera com a possibles unitats 'gr', 'grams', 'litre', 'litres','l' i 'ml'\n"
   ]
  },
  {
   "cell_type": "code",
   "execution_count": 222,
   "metadata": {},
   "outputs": [],
   "source": [
    "texto = \"\"\"\n",
    "200 gr de arroz redondo.\n",
    "1 litro de leche entera.\n",
    "100 gr de azúcar.\n",
    "2 ramas de canela.\n",
    "La cáscara de un limón.\n",
    "2 ml de esencia de vainilla.\n",
    "50 gramos de mantequilla (Opcional).\n",
    "\"\"\""
   ]
  },
  {
   "cell_type": "code",
   "execution_count": 223,
   "metadata": {},
   "outputs": [],
   "source": [
    "#Solución\n"
   ]
  }
 ],
 "metadata": {
  "colab": {
   "collapsed_sections": [],
   "name": "NLP_02-Expresiones regulares.ipynb",
   "provenance": []
  },
  "kernelspec": {
   "display_name": "sp3",
   "language": "python",
   "name": "python3"
  },
  "language_info": {
   "codemirror_mode": {
    "name": "ipython",
    "version": 3
   },
   "file_extension": ".py",
   "mimetype": "text/x-python",
   "name": "python",
   "nbconvert_exporter": "python",
   "pygments_lexer": "ipython3",
   "version": "3.8.8 (default, Feb 24 2021, 13:46:16) \n[Clang 10.0.0 ]"
  },
  "vscode": {
   "interpreter": {
    "hash": "974d86b888590d91c91725277f46e2331e9f38bd583c386dd56dd3384a234a0e"
   }
  }
 },
 "nbformat": 4,
 "nbformat_minor": 4
}
