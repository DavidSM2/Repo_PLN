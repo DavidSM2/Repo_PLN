{
 "cells": [
  {
   "attachments": {},
   "cell_type": "markdown",
   "id": "clear-thailand",
   "metadata": {},
   "source": [
    "# Pràctica 6: extracció d'informació\n",
    "En aquesta pràctica analitzarem de manera no supervisada un corpus de textos per a extraure informació.\\\n",
    "Primer extraurem i analitzarem les entitats que formen el corpus, a continuació extraurem les paraules claus de cada document i finalment realitzarem un *topic *modeling* del corpus.\\\n",
    "Usem el conjunt de crítiques de cinema de \"Mundocine\" que estan en format XML dins d'un directori.  \n",
    "Definim una funció per a extraure el text de la crítica de cada arxiu XML del directori mitjançant una funció de tipus **generator*"
   ]
  },
  {
   "cell_type": "code",
   "execution_count": 11,
   "id": "italic-tissue",
   "metadata": {},
   "outputs": [],
   "source": [
    "import os, re\n",
    "from xml.dom.minidom import parseString\n",
    "\n",
    "def parse_folder(path):\n",
    "    \"\"\"generator that reads the contents of XML files in a folder\n",
    "    Returns the <body> of the <review> in each XML file.\n",
    "    XML files encoded as 'latin-1'\"\"\"\n",
    "    for file in sorted([f for f in os.listdir(path) if f.endswith('.xml')],\n",
    "                        key=lambda x: int(re.match(r'\\d+',x).group())):\n",
    "        with open(os.path.join(path, file), encoding='latin-1') as f:\n",
    "            doc=parseString(re.sub(r'(<>)|&|(<-)', '', f.read()))\n",
    "\n",
    "            titulo = doc.documentElement.attributes[\"title\"].value\n",
    "\n",
    "            btxt = \"\"\n",
    "            review_bod = doc.getElementsByTagName(\"body\")\n",
    "            if len(review_bod) > 0:\n",
    "                for node in review_bod[0].childNodes:\n",
    "                    if node.nodeType == node.TEXT_NODE:\n",
    "                        btxt += node.data + \" \"\n",
    "\n",
    "            rtxt = \"\"\n",
    "            review_summ = doc.getElementsByTagName(\"summary\")\n",
    "            if len(review_summ) > 0:\n",
    "                for node in review_summ[0].childNodes:\n",
    "                    if node.nodeType == node.TEXT_NODE:\n",
    "                        rtxt += node.data + \" \"\n",
    "                #separamos después de ciertos signos de puntuación\n",
    "                rtxt = re.sub(r\"([\\.\\?])\", r\"\\1 \", rtxt)\n",
    "                        \n",
    "            rank = int(doc.documentElement.attributes[\"rank\"].value)\n",
    "            \n",
    "            yield titulo, rtxt, btxt, rank\n"
   ]
  },
  {
   "attachments": {},
   "cell_type": "markdown",
   "id": "mighty-morocco",
   "metadata": {},
   "source": [
    "## Extracció d'entitats\n",
    "Analitzarem les entitats (tipus i quantitat) que apareixen en cada document del *corpus*\n",
    "### Exercici\n",
    "Construeix una funció de tipus *generator* que retorne en cada iteració les entitats del següent document. Aquestes entitats es generaran com un *string* amb les etiquetes de cada entitat en el text separat per comes, p. ej:\n",
    "```\n",
    "'MISC PER MISC MISC MISC MISC ORG PER PER MISC LOC'\n",
    "```"
   ]
  },
  {
   "cell_type": "code",
   "execution_count": 12,
   "id": "characteristic-color",
   "metadata": {},
   "outputs": [],
   "source": [
    "import spacy\n",
    "\n",
    "nlp = spacy.load(\"es_core_news_sm\")\n",
    "\n",
    "def extraer_ner(texto):\n",
    "    doc = nlp(texto)\n",
    "    ent_labels = [ent.label_ for ent in doc.ents]\n",
    "    return ' '.join(ent_labels)"
   ]
  },
  {
   "attachments": {},
   "cell_type": "markdown",
   "id": "individual-somalia",
   "metadata": {},
   "source": [
    "Prova el seu funcionament sobre el text de la primera crítica en el Corpus."
   ]
  },
  {
   "cell_type": "code",
   "execution_count": 13,
   "id": "likely-great",
   "metadata": {},
   "outputs": [
    {
     "data": {
      "text/plain": [
       "'MISC PER PER MISC ORG PER LOC PER PER MISC PER MISC ORG'"
      ]
     },
     "execution_count": 13,
     "metadata": {},
     "output_type": "execute_result"
    }
   ],
   "source": [
    "corpus = parse_folder('criticas/train/')\n",
    "texto = extraer_ner(next(corpus)[2])\n",
    "texto\n"
   ]
  },
  {
   "attachments": {},
   "cell_type": "markdown",
   "id": "governing-hundred",
   "metadata": {},
   "source": [
    "Combinarem totes dues funcions per a processar tot el corpus.\\\n",
    "Construeix una funció de tipus *generator* que a partir d'un directori amb les crítiques, processe tots els seus arxius i retorne en cada iteració el llistat d'entitats del següent document"
   ]
  },
  {
   "cell_type": "code",
   "execution_count": 14,
   "id": "pleased-leave",
   "metadata": {},
   "outputs": [],
   "source": [
    "def criticas_ner(folder):\n",
    "    corpus = parse_folder(folder)\n",
    "    for critica in corpus:\n",
    "        yield extraer_ner(critica[2])"
   ]
  },
  {
   "attachments": {},
   "cell_type": "markdown",
   "id": "amber-motel",
   "metadata": {},
   "source": [
    "Provem el seu funcionament amb el primer arxiu:"
   ]
  },
  {
   "cell_type": "code",
   "execution_count": 15,
   "id": "recreational-saturday",
   "metadata": {},
   "outputs": [
    {
     "data": {
      "text/plain": [
       "'MISC PER PER MISC ORG PER LOC PER PER MISC PER MISC ORG'"
      ]
     },
     "execution_count": 15,
     "metadata": {},
     "output_type": "execute_result"
    }
   ],
   "source": [
    "criticas_gen = criticas_ner(\"criticas/train\")\n",
    "next(criticas_gen)"
   ]
  },
  {
   "attachments": {},
   "cell_type": "markdown",
   "id": "liable-color",
   "metadata": {},
   "source": [
    "Una vegada s'ha consumit un arxiu, el generador passa el següent i no es pot tornar a l'inici del iterador:"
   ]
  },
  {
   "cell_type": "code",
   "execution_count": 16,
   "id": "elder-spell",
   "metadata": {},
   "outputs": [
    {
     "data": {
      "text/plain": [
       "'MISC PER PER LOC MISC PER PER MISC PER PER LOC PER LOC PER MISC PER MISC LOC LOC MISC PER PER MISC LOC'"
      ]
     },
     "execution_count": 16,
     "metadata": {},
     "output_type": "execute_result"
    }
   ],
   "source": [
    "next(criticas_gen)"
   ]
  },
  {
   "attachments": {},
   "cell_type": "markdown",
   "id": "remarkable-order",
   "metadata": {},
   "source": [
    "## Anàlisi de les entitats\n",
    "Com a anàlisi molt simple, veurem quantes entitats apareixen en tot el corpus.\\\n",
    "Per a això, comptem el núm. d'entitats de cada document amb el vectorizador BoW de la llibreria `scikit-learn`.\n",
    "### Exercici\n",
    "Aplica el vectorizador BoW per a obtindre la seua matriu d'ocurrència. Suma el total de vegades que ha aparegut cada entitat i mostra'l en un dataframe de Colles."
   ]
  },
  {
   "cell_type": "code",
   "execution_count": 17,
   "id": "transsexual-sheep",
   "metadata": {},
   "outputs": [
    {
     "data": {
      "text/html": [
       "<div>\n",
       "<style scoped>\n",
       "    .dataframe tbody tr th:only-of-type {\n",
       "        vertical-align: middle;\n",
       "    }\n",
       "\n",
       "    .dataframe tbody tr th {\n",
       "        vertical-align: top;\n",
       "    }\n",
       "\n",
       "    .dataframe thead th {\n",
       "        text-align: right;\n",
       "    }\n",
       "</style>\n",
       "<table border=\"1\" class=\"dataframe\">\n",
       "  <thead>\n",
       "    <tr style=\"text-align: right;\">\n",
       "      <th></th>\n",
       "      <th>Entidad</th>\n",
       "      <th>Apariciones</th>\n",
       "    </tr>\n",
       "  </thead>\n",
       "  <tbody>\n",
       "    <tr>\n",
       "      <th>0</th>\n",
       "      <td>loc</td>\n",
       "      <td>9593</td>\n",
       "    </tr>\n",
       "    <tr>\n",
       "      <th>1</th>\n",
       "      <td>misc</td>\n",
       "      <td>17664</td>\n",
       "    </tr>\n",
       "    <tr>\n",
       "      <th>2</th>\n",
       "      <td>org</td>\n",
       "      <td>2433</td>\n",
       "    </tr>\n",
       "    <tr>\n",
       "      <th>3</th>\n",
       "      <td>per</td>\n",
       "      <td>29604</td>\n",
       "    </tr>\n",
       "  </tbody>\n",
       "</table>\n",
       "</div>"
      ],
      "text/plain": [
       "  Entidad  Apariciones\n",
       "0     loc         9593\n",
       "1    misc        17664\n",
       "2     org         2433\n",
       "3     per        29604"
      ]
     },
     "execution_count": 17,
     "metadata": {},
     "output_type": "execute_result"
    }
   ],
   "source": [
    "from sklearn.feature_extraction.text import CountVectorizer\n",
    "import pandas as pd\n",
    "\n",
    "vect = CountVectorizer()\n",
    "bow = vect.fit_transform(criticas_gen)\n",
    "\n",
    "totales = bow.sum(axis=0)\n",
    "data = {'Entidad' : vect.get_feature_names_out(), 'Apariciones' : totales.tolist()[0] }\n",
    "\n",
    "df = pd.DataFrame(data)\n",
    "df"
   ]
  },
  {
   "attachments": {},
   "cell_type": "markdown",
   "id": "impaired-simulation",
   "metadata": {},
   "source": [
    "## Extracció de paraules clau\n",
    "En aquest exercici extraurem les paraules clau de cada crítica mitjançant la llibreria `textacy`. Després crearem un BoW d'aquests termes per a analitzar amb quins freqüència apareixen.\\\n",
    "Com les paraules claus determinades per la llibreria `textacy` poden ser n-grames, cal unificar els seus constituents amb `_` per a considerar-los termes únics en el vocabulari.  \n",
    "\n",
    "### Exercici\n",
    "Defineix una funció per a unir diversos n-*gramas en un únic terme.\\\n",
    "Defineix una funció que extraga les paraules clau d'un document i les retorne com una llista de *tokens*. Utilitza l'algorisme `textrank` sobre el text normalitzat en minúscules sense lematizar."
   ]
  },
  {
   "cell_type": "code",
   "execution_count": 18,
   "id": "raising-grave",
   "metadata": {},
   "outputs": [],
   "source": [
    "from textacy.extract import keyterms as kt\n",
    "\n",
    "def unir_ngramas(texto):\n",
    "    \"\"\"Une todos los términos de un n-grama mediante '_'\n",
    "    para que formen un único término en el vocabulario\"\"\"\n",
    "    \n",
    "    return texto.replace(' ', '_')\n",
    "\n",
    "def extraer_keywords(texto, topn=10):\n",
    "    \"\"\"Extrar las palabras clave de un texto mediante la\n",
    "    librería textacy\n",
    "    Devuelve los topn términos clave como lista de strings\"\"\"\n",
    "    # Y esto no se si esta bien ?????????????\n",
    "    doc = nlp(texto)\n",
    "    keywords = kt.textrank(doc=doc, topn=topn)\n",
    "    return [unir_ngramas(kTerm) for kTerm, rank in keywords]"
   ]
  },
  {
   "attachments": {},
   "cell_type": "markdown",
   "id": "separate-salad",
   "metadata": {},
   "source": [
    "Provem sobre la crítica descarregada abans..."
   ]
  },
  {
   "cell_type": "code",
   "execution_count": 19,
   "id": "protecting-compatibility",
   "metadata": {},
   "outputs": [
    {
     "data": {
      "text/plain": [
       "'Cada_vez_me_gusta_menos_el_cine_de_masas._Las_peliculas_que_ven_todo_el_mundo_me_parecen_cada_vez_mas_coñazo_y_mas_insufribles._No_se_porqué_pero_siempre_el_prota_es_tonto_del_culo_y_tiene_suerte,_y_al_final_de_la_peli,_cuando_ha_logrado_vencer_al_mal,_se_convierte_en_listo,_y_las_chorradas_que_hacia_al_comienzo_de_la_pelicula_se_esfuman_como_por_arte_de_magia._Se_vuelve_maduro_e_inteligente.Esta_peli_de_Spielberg_es_mas_de_lo_mismo,_huir_y_huir_y_que_no_le_den_ni_un_solo_tiro._Además_el_cabron_ha_metido_a_un_par_de_actores_que_es_como_para_echarles_de_comer_aparte._La_niña,_una_vieja_metida_en_el_cuerpo_de_una_niña,_porque_solo_hay_que_verle_hablar_(en_version_original_claro)_para_darse_cuenta_que_estamos_ante_uno_de_los_grandes_freaks_del_cine._Se_creeran_que_hace_gracia_la_nena_cuando_habla_igual_que_su_puta_madre,_pero_a_mi_me_causa_pavor._Ver_a_una_cria_que_habla_como_una_persona_madura_es_algo_horroroso._Los_niños_son_niños_y_verlos_fuera_de_su_rol_asusta.Luego_esta_el_hijo_adolescente_que_tiene_el_Cruise._Otro_subnormal_que_es_para_darle_de_bofetadas_hasta_que_se_te_vea_el_hueso_a_la_mano._Fiel_reflejo_de_lo_que_se_denomina_manipulacion_militar,_el_chico_quiere_matar_a_los_bichos_sin_ningun_arma,_hale,_a_lo_loco_y_sin_pensar,_venga,_a_saco.Que_quereis_que_os_diga,_pero_a_mi_eso_me_parece_fanatismo_y_locura._Que_alguien_quiera_ir_a_luchar_sin_medios_es_ir_a_una_muerte_segura,_por_eso_me_jode_sobremanera_que_al_final_de_la_pelicula_aparezca_el_mongo_este_y_sus_abuelos_y_toda_la_familia._Se_salva_todo_dios,_y_encima_la_vieja_aparece_en_traje_de_los_domingos_y_toda_maquillada.¿Pero_que_sinsorgada_es_esta?_Solo_falta_que_Cruise_vuelva_con_su_exmujer_y_que_el_mundo_sea_mucho_mejor._Tranquilos,_os_cuento_el_final_de_la_peli_pero_no_pasa_nada,_todas_las_pelis_acaban_de_igual_manera,_y_decir_eso_no_resta_misterio_al_bodrio_este._Yo_no_se_de_que_va_Spielberg,_pero_a_este_paso_se_va_a_convertir_tan_solo_en_un_director_que_es_bueno_haciendo_efectos_especiales,_porque_lo_que_es_contando_historias?¿No_os_disteis_cuenta_de_que_los_norteamericanos_no_saben_guardar_la_compostura?_Que_todo_lo_dicen_gritando._En_momentos_dificiles_lo_mas_sensato_es_tranquilizarse_y_no_discutir_por_chorradas,_y_en_toda_la_puta_peli_no_paran_de_gritar_y_pegarse_entre_ellos.Me_hace_gracia_como_al_comienzo_de_la_peli,_cuando_el_suelo_empieza_a_resquebrajarse,_la_gente_se_queda_ahí_a_mirar_que_pasa._Joder,_no_se_ellos,_pero_yo_ya_estaria_corriendo_como_una_puta_desde_hace_tiempo,_e_escondiéndome._Si_veo_que_un_bicho_esta_lanzando_rayos_y_machacando_a_to_dios,_me_escondo.En_fin,_que_para_que_seguir_hablando_de_esta_mierda,_si_lo_que_querian_ya_lo_han_conseguido,_que_es_que_pagasemos_la_entrada,_por_eso_creo_que_va_a_ir_al_cine_su_prima,_a_partir_de_ahora_me_lo_bajare_todo_de_internet,_que_por_lo_que_se_ve,_la_calidad_de_las_pelis_es_aceptable,_y_puedo_pasarla_palante._Hoy_en_dia_no_tener_un_mando_con_el_forward_en_la_mano_es_morir._'"
      ]
     },
     "execution_count": 19,
     "metadata": {},
     "output_type": "execute_result"
    }
   ],
   "source": [
    "corpus = parse_folder('criticas/train/')\n",
    "unir_ngramas(next(corpus)[2])"
   ]
  },
  {
   "attachments": {},
   "cell_type": "markdown",
   "id": "medical-material",
   "metadata": {},
   "source": [
    "### Exercici\n",
    "Defineix una funció *generator* que retorne iterativament per a cada crítica dins d'un directori les seues paraules clau.\n",
    "Ha de retornar per cada document un *string* amb les paraules clau separades per espai, per a poder usar-ho amb el vectorizador de `scikit-learn`"
   ]
  },
  {
   "cell_type": "code",
   "execution_count": 20,
   "id": "iraqi-spank",
   "metadata": {},
   "outputs": [],
   "source": [
    "def criticas_keyword(folder):\n",
    "    #COMPLETAR\n",
    "    corpus = parse_folder(folder)\n",
    "    for critica in corpus:\n",
    "        yield ' '.join(extraer_keywords(critica[2]))\n",
    "    "
   ]
  },
  {
   "attachments": {},
   "cell_type": "markdown",
   "id": "immune-programming",
   "metadata": {},
   "source": [
    "Provem sobre el primer document del corpus..."
   ]
  },
  {
   "cell_type": "code",
   "execution_count": 21,
   "id": "approved-duration",
   "metadata": {},
   "outputs": [
    {
     "data": {
      "text/plain": [
       "'puta_peli puta_madre viejo_metida persona_maduro version_original pelicula_aparezca manipulacion_militar cine ningun_arma efecto_especial'"
      ]
     },
     "execution_count": 21,
     "metadata": {},
     "output_type": "execute_result"
    }
   ],
   "source": [
    "#COMPLETAR\n",
    "gen = criticas_keyword('criticas/train/')\n",
    "next(gen)"
   ]
  },
  {
   "attachments": {},
   "cell_type": "markdown",
   "id": "natural-signature",
   "metadata": {},
   "source": [
    "### Anàlisi de les paraules clau\n",
    "Implementa un vectorizador BoW per a comptar les paraules clau que apareixen almenys en un 0,5% dels documents i mostra-les ordenades en ordre descendent de freqüència (paraula, núm. d'aparicions en total) dins d'un *DataFrame. Mostra només els 10 termes més utilitzats."
   ]
  },
  {
   "cell_type": "code",
   "execution_count": 22,
   "id": "painted-cooper",
   "metadata": {},
   "outputs": [
    {
     "data": {
      "text/html": [
       "<div>\n",
       "<style scoped>\n",
       "    .dataframe tbody tr th:only-of-type {\n",
       "        vertical-align: middle;\n",
       "    }\n",
       "\n",
       "    .dataframe tbody tr th {\n",
       "        vertical-align: top;\n",
       "    }\n",
       "\n",
       "    .dataframe thead th {\n",
       "        text-align: right;\n",
       "    }\n",
       "</style>\n",
       "<table border=\"1\" class=\"dataframe\">\n",
       "  <thead>\n",
       "    <tr style=\"text-align: right;\">\n",
       "      <th></th>\n",
       "      <th>término</th>\n",
       "      <th>freq</th>\n",
       "    </tr>\n",
       "  </thead>\n",
       "  <tbody>\n",
       "    <tr>\n",
       "      <th>35</th>\n",
       "      <td>película</td>\n",
       "      <td>347</td>\n",
       "    </tr>\n",
       "    <tr>\n",
       "      <th>9</th>\n",
       "      <td>cine_español</td>\n",
       "      <td>86</td>\n",
       "    </tr>\n",
       "    <tr>\n",
       "      <th>26</th>\n",
       "      <td>ldquo</td>\n",
       "      <td>68</td>\n",
       "    </tr>\n",
       "    <tr>\n",
       "      <th>14</th>\n",
       "      <td>efecto_especial</td>\n",
       "      <td>60</td>\n",
       "    </tr>\n",
       "    <tr>\n",
       "      <th>30</th>\n",
       "      <td>mejor_película</td>\n",
       "      <td>51</td>\n",
       "    </tr>\n",
       "    <tr>\n",
       "      <th>33</th>\n",
       "      <td>obra_maestro</td>\n",
       "      <td>51</td>\n",
       "    </tr>\n",
       "    <tr>\n",
       "      <th>3</th>\n",
       "      <td>banda_sonoro</td>\n",
       "      <td>43</td>\n",
       "    </tr>\n",
       "    <tr>\n",
       "      <th>43</th>\n",
       "      <td>ser_humano</td>\n",
       "      <td>41</td>\n",
       "    </tr>\n",
       "    <tr>\n",
       "      <th>5</th>\n",
       "      <td>cine</td>\n",
       "      <td>40</td>\n",
       "    </tr>\n",
       "    <tr>\n",
       "      <th>42</th>\n",
       "      <td>ser</td>\n",
       "      <td>40</td>\n",
       "    </tr>\n",
       "  </tbody>\n",
       "</table>\n",
       "</div>"
      ],
      "text/plain": [
       "            término  freq\n",
       "35         película   347\n",
       "9      cine_español    86\n",
       "26            ldquo    68\n",
       "14  efecto_especial    60\n",
       "30   mejor_película    51\n",
       "33     obra_maestro    51\n",
       "3      banda_sonoro    43\n",
       "43       ser_humano    41\n",
       "5              cine    40\n",
       "42              ser    40"
      ]
     },
     "execution_count": 22,
     "metadata": {},
     "output_type": "execute_result"
    }
   ],
   "source": [
    "#COMPLETAR\n",
    "vec = CountVectorizer(min_df=0.005)\n",
    "\n",
    "gen = criticas_keyword('criticas/train/')\n",
    "\n",
    "tokenized_corpus = vec.fit_transform(gen)\n",
    "tokenized_corpus = tokenized_corpus.toarray()\n",
    "df = tokenized_corpus.sum(axis=0) #Se pone toarray porque tenemos una matriz sparse, y nos interesa una normal para sumar las columnas (axis=0)\n",
    "vocab = vec.get_feature_names_out()\n",
    "\n",
    "dataFrame = pd.DataFrame({'término':vocab, 'freq':df})\n",
    "sortedDataFrame = dataFrame.sort_values(by='freq', ascending=False)\n",
    "\n",
    "top_10 = sortedDataFrame.head(10)\n",
    "top_10"
   ]
  },
  {
   "attachments": {},
   "cell_type": "markdown",
   "id": "conscious-pizza",
   "metadata": {},
   "source": [
    "### Exercici\n",
    "També ho podem fer amb la llibreria `gensim`, per a així poder comptar el núm. de documents en el qual apareix cada keyword (amb l'atribut `dfs` de l'objecte `Dictionary`).\\\n",
    "Defineix de nou la funció `critiques_keyword` perquè retorne les paraules clau de cada document en un format compatible amb Gensim i calcula el seu diccionari BoW (no fa falta calcular la matriu de tots els documents).\\\n",
    "Després, utilitza el mètode `filter_extremes` per a quedar-te amb els termes que apareixen almenys en un 0,5% dels documents (nota: usa l'atribut `.num_docs` per a calcular el núm. de documents que formen el 0,5% del total)\\\n",
    "Finalment, usa l'atribut `dfs` del diccionari per a mostrar les paraules clau i el núm. de documents en el qual s'usen, com *dataframe. Mostra només els 10 termes més freqüents."
   ]
  },
  {
   "cell_type": "code",
   "execution_count": 23,
   "id": "digital-enzyme",
   "metadata": {},
   "outputs": [
    {
     "data": {
      "text/html": [
       "<div>\n",
       "<style scoped>\n",
       "    .dataframe tbody tr th:only-of-type {\n",
       "        vertical-align: middle;\n",
       "    }\n",
       "\n",
       "    .dataframe tbody tr th {\n",
       "        vertical-align: top;\n",
       "    }\n",
       "\n",
       "    .dataframe thead th {\n",
       "        text-align: right;\n",
       "    }\n",
       "</style>\n",
       "<table border=\"1\" class=\"dataframe\">\n",
       "  <thead>\n",
       "    <tr style=\"text-align: right;\">\n",
       "      <th></th>\n",
       "      <th>término</th>\n",
       "      <th>freq</th>\n",
       "    </tr>\n",
       "  </thead>\n",
       "  <tbody>\n",
       "    <tr>\n",
       "      <th>245</th>\n",
       "      <td>personajes</td>\n",
       "      <td>9</td>\n",
       "    </tr>\n",
       "    <tr>\n",
       "      <th>253</th>\n",
       "      <td>vida</td>\n",
       "      <td>9</td>\n",
       "    </tr>\n",
       "    <tr>\n",
       "      <th>139</th>\n",
       "      <td>nada</td>\n",
       "      <td>9</td>\n",
       "    </tr>\n",
       "    <tr>\n",
       "      <th>17</th>\n",
       "      <td>cuando</td>\n",
       "      <td>9</td>\n",
       "    </tr>\n",
       "    <tr>\n",
       "      <th>33</th>\n",
       "      <td>mismo</td>\n",
       "      <td>9</td>\n",
       "    </tr>\n",
       "    <tr>\n",
       "      <th>249</th>\n",
       "      <td>poco</td>\n",
       "      <td>9</td>\n",
       "    </tr>\n",
       "    <tr>\n",
       "      <th>434</th>\n",
       "      <td>está</td>\n",
       "      <td>9</td>\n",
       "    </tr>\n",
       "    <tr>\n",
       "      <th>73</th>\n",
       "      <td>algo</td>\n",
       "      <td>9</td>\n",
       "    </tr>\n",
       "    <tr>\n",
       "      <th>48</th>\n",
       "      <td>porque</td>\n",
       "      <td>9</td>\n",
       "    </tr>\n",
       "    <tr>\n",
       "      <th>37</th>\n",
       "      <td>además</td>\n",
       "      <td>9</td>\n",
       "    </tr>\n",
       "  </tbody>\n",
       "</table>\n",
       "</div>"
      ],
      "text/plain": [
       "        término  freq\n",
       "245  personajes     9\n",
       "253        vida     9\n",
       "139        nada     9\n",
       "17       cuando     9\n",
       "33        mismo     9\n",
       "249        poco     9\n",
       "434        está     9\n",
       "73         algo     9\n",
       "48       porque     9\n",
       "37       además     9"
      ]
     },
     "execution_count": 23,
     "metadata": {},
     "output_type": "execute_result"
    }
   ],
   "source": [
    "from gensim.corpora import Dictionary\n",
    "\n",
    "#COMPLETAR\n",
    "def criticas_keyword(folder):\n",
    "    #COMPLETAR\n",
    "    array_tokens = []\n",
    "    corpus = parse_folder(folder)\n",
    "    for i in range(1,20): #Para que no los recorra todos\n",
    "        tokens = nlp(next(corpus)[2])\n",
    "        filtered_tokens = [t.lower_ for t in tokens if\n",
    "                       len(t.text)>3 and\n",
    "                       not t.is_punct] #Limpiamos un poco el texto\n",
    "        array_tokens.append(list(filtered_tokens))\n",
    "\n",
    "    return array_tokens #devolvemos los tokens como generaciones.\n",
    "        \n",
    "genTokens = criticas_keyword('criticas/train/')\n",
    "dic = Dictionary(genTokens)\n",
    "num_doc_min = dic.num_docs * 0.005\n",
    "dic.filter_extremes(no_below = num_doc_min)\n",
    "mapped_corpus = list(map(dic.doc2bow, tokenized_corpus))\n",
    "\n",
    "#Contamos los terminos y la frecuencia\n",
    "terminos = []\n",
    "freq = []\n",
    "for i in dic.dfs:\n",
    "    terminos.append(dic[i])\n",
    "    freq.append(dic.dfs[i])\n",
    "  \n",
    "#Generamos el dataframe y lo ordenamos, viendo los 10 primeros  \n",
    "dataFrame = pd.DataFrame({'término':terminos, 'freq':freq})\n",
    "sortedDataFrame = dataFrame.sort_values(by='freq', ascending=False)\n",
    "\n",
    "top_10 = sortedDataFrame.head(10)\n",
    "top_10"
   ]
  },
  {
   "attachments": {},
   "cell_type": "markdown",
   "id": "horizontal-monte",
   "metadata": {},
   "source": [
    "## Topic modeling\n",
    "Finalment, calcularem les temàtiques del corpus de crítiques mitjançant un model de *topic modeling* usant l'algorisme LDA."
   ]
  },
  {
   "cell_type": "code",
   "execution_count": 24,
   "id": "complimentary-family",
   "metadata": {},
   "outputs": [],
   "source": [
    "# Gensim\n",
    "import gensim\n",
    "from gensim.models import LdaModel\n",
    "from pprint import pprint\n",
    "import warnings\n",
    "\n",
    "\n",
    "# herramientas de dibujado\n",
    "import pyLDAvis.gensim_models as gensimvis\n",
    "import pyLDAvis\n",
    "\n",
    "import matplotlib.pyplot as plt\n",
    "%matplotlib inline"
   ]
  },
  {
   "cell_type": "code",
   "execution_count": 25,
   "id": "dominant-textbook",
   "metadata": {},
   "outputs": [],
   "source": [
    "warnings.filterwarnings(\"ignore\", category=DeprecationWarning)"
   ]
  },
  {
   "attachments": {},
   "cell_type": "markdown",
   "id": "fleet-avatar",
   "metadata": {},
   "source": [
    "Definim una classe *iterable* per a obtindre els documents del Corpus línia a línia des de l'arxiu del conjunt d'exemple i convertir-los en un llistat de tokens. Al contrari que els generadors, les classes *iterables* poden tornar a l'inici de la llista cada vegada, i no s'esgoten quan es consumeixen tots els elements.\n",
    "### Exercici\n",
    "Per a calcular les temàtiques, utilitzarem els lemes de cada terme del corpus, considerant només aquells la funció morfològica dels quals siga nom, nom propi, adjectiu, verb o adverbi. Defineix una funció `lematize_doc` que retorne per a cada document un llistat dels tokens amb aquest processament."
   ]
  },
  {
   "cell_type": "code",
   "execution_count": 26,
   "id": "preceding-purse",
   "metadata": {},
   "outputs": [],
   "source": [
    "def lemmatize_doc(text, allowed_postags=['NOUN', 'ADJ', 'VERB', 'ADV', 'PROPN']):\n",
    "    \"\"\"Función que devuelve la lista de lemas en minúscula de una string,,\n",
    "    excluyendo las palabras cuyo POS_TAG no está en la lista allowed_postags.\n",
    "    Considera sólo lemas de más de 3 caracteres y omite las stop words.\"\"\"\n",
    "    #COMPLETAR\n",
    "    doc = nlp(text.lower())\n",
    "    lemmas = []\n",
    "    for token in doc:\n",
    "        if token.pos_ in allowed_postags and token.is_stop == False and len(token.text) > 3:\n",
    "            lemmas.append(token.lemma_)\n",
    "    return lemmas    \n",
    "\n",
    "def criticas_tokens(folder):\n",
    "    for c in parse_folder(folder):\n",
    "        yield lemmatize_doc(c[2])\n",
    "            \n",
    "#para no tener que cargar todo el corpus en memoria creamos un streamer\n",
    "class BOW_Corpus(object):\n",
    "    \"\"\"\n",
    "    Iterable: en cada iteración devuelve el vector bag-of-words\n",
    "    del siguiente documento en el corpus.\n",
    "    El corpus es el listado de críticas alojadas en el directorio\n",
    "    pasado como argumento al instanciar la clase.\n",
    "    \n",
    "    Procesa un documento cada vez, así\n",
    "    nunca carga el corpus entero en RAM.\n",
    "    \"\"\"\n",
    "    def __init__(self, dirname):\n",
    "        self.dirname = dirname\n",
    "        #crea el diccionario = mapeo de documentos a sparse vectors\n",
    "        self.diccionario = gensim.corpora.Dictionary(criticas_tokens(self.dirname))\n",
    "        \n",
    "    def __len__(self):\n",
    "        #necesitamos saber la longitud del corpus para visualizar con pyLDAvis\n",
    "        return self.diccionario.num_docs\n",
    "    \n",
    "    def __iter__(self):\n",
    "        \"\"\"\n",
    "        __iter__ es un iterable => BOW_Corpus es un streamed iterable.\n",
    "        \"\"\"\n",
    "        for tokens in criticas_tokens(self.dirname):\n",
    "            # transforma cada doc (lista de tokens) en un vector sparse uno a uno\n",
    "            yield self.diccionario.doc2bow(tokens)"
   ]
  },
  {
   "attachments": {},
   "cell_type": "markdown",
   "id": "lucky-robinson",
   "metadata": {},
   "source": [
    "Crea la matriu BoW sobre el corpus com un element de la classe BOW_Corpus amb el nom `bow_critiques`"
   ]
  },
  {
   "cell_type": "code",
   "execution_count": 27,
   "id": "aging-cambridge",
   "metadata": {},
   "outputs": [],
   "source": [
    "#COMPLETAR\n",
    "bow_criticas = BOW_Corpus(dirname='criticas/test/')"
   ]
  },
  {
   "attachments": {},
   "cell_type": "markdown",
   "id": "relevant-wrestling",
   "metadata": {},
   "source": [
    "Mostrem el BoW del primer document com a comprovació"
   ]
  },
  {
   "cell_type": "code",
   "execution_count": 28,
   "id": "several-myrtle",
   "metadata": {},
   "outputs": [
    {
     "name": "stdout",
     "output_type": "stream",
     "text": [
      "[(0, 1), (1, 1), (2, 1), (3, 1), (4, 1), (5, 1), (6, 1), (7, 1), (8, 1), (9, 1), (10, 2), (11, 1), (12, 1), (13, 1), (14, 1), (15, 1), (16, 1), (17, 1), (18, 1), (19, 1), (20, 1), (21, 2), (22, 1), (23, 2), (24, 1), (25, 1), (26, 1), (27, 1), (28, 1), (29, 1), (30, 1), (31, 2), (32, 1), (33, 2), (34, 1), (35, 1), (36, 1), (37, 1), (38, 1), (39, 1), (40, 1), (41, 5), (42, 1), (43, 1), (44, 2), (45, 1), (46, 1), (47, 1), (48, 1), (49, 1), (50, 1), (51, 1), (52, 1), (53, 1), (54, 1), (55, 1), (56, 1), (57, 1), (58, 1), (59, 1), (60, 1), (61, 1), (62, 1), (63, 1), (64, 1), (65, 1), (66, 1), (67, 2), (68, 1), (69, 1), (70, 1), (71, 1), (72, 1), (73, 2), (74, 1), (75, 1), (76, 1), (77, 1), (78, 1), (79, 1), (80, 1), (81, 1), (82, 1), (83, 1), (84, 1), (85, 1), (86, 2), (87, 1), (88, 7), (89, 1), (90, 1), (91, 1), (92, 3), (93, 1), (94, 1), (95, 1), (96, 1), (97, 1), (98, 1), (99, 1), (100, 1), (101, 1), (102, 1), (103, 1), (104, 1), (105, 1), (106, 1), (107, 1), (108, 1), (109, 5), (110, 1), (111, 1), (112, 1), (113, 1), (114, 2), (115, 1), (116, 1), (117, 1), (118, 1), (119, 1), (120, 1), (121, 1), (122, 2), (123, 1), (124, 1), (125, 1), (126, 1), (127, 3), (128, 1), (129, 1), (130, 1), (131, 1), (132, 2), (133, 1), (134, 1), (135, 2), (136, 4), (137, 3), (138, 1), (139, 3), (140, 1), (141, 1), (142, 1), (143, 1), (144, 1), (145, 1), (146, 1), (147, 2), (148, 1), (149, 1), (150, 1), (151, 1), (152, 1), (153, 1), (154, 1), (155, 1), (156, 1), (157, 2), (158, 1), (159, 4), (160, 3), (161, 1), (162, 1), (163, 1), (164, 1), (165, 1), (166, 1), (167, 1), (168, 1), (169, 1), (170, 1), (171, 1), (172, 1), (173, 1), (174, 1), (175, 1), (176, 2), (177, 1), (178, 1), (179, 1), (180, 1), (181, 1), (182, 1), (183, 1), (184, 1), (185, 1), (186, 1), (187, 1), (188, 1), (189, 1), (190, 1), (191, 1), (192, 1), (193, 1), (194, 2), (195, 1), (196, 1), (197, 2), (198, 1), (199, 1), (200, 1), (201, 1), (202, 1), (203, 1), (204, 1), (205, 1)]\n"
     ]
    }
   ],
   "source": [
    "for b in bow_criticas:\n",
    "    print(b)\n",
    "    break"
   ]
  },
  {
   "cell_type": "code",
   "execution_count": 29,
   "id": "applicable-cornwall",
   "metadata": {},
   "outputs": [
    {
     "data": {
      "text/plain": [
       "33212"
      ]
     },
     "execution_count": 29,
     "metadata": {},
     "output_type": "execute_result"
    }
   ],
   "source": [
    "#términos en el diccionario\n",
    "len(bow_criticas.diccionario.token2id)"
   ]
  },
  {
   "cell_type": "code",
   "execution_count": 30,
   "id": "concerned-diary",
   "metadata": {},
   "outputs": [
    {
     "data": {
      "text/plain": [
       "1164"
      ]
     },
     "execution_count": 30,
     "metadata": {},
     "output_type": "execute_result"
    }
   ],
   "source": [
    "#longitud del corpus\n",
    "len(bow_criticas)"
   ]
  },
  {
   "attachments": {},
   "cell_type": "markdown",
   "id": "difficult-repeat",
   "metadata": {},
   "source": [
    "### Exercici\n",
    "Crea un model LDA sobre el corpus de crítiques amb 5 temes i mostra'l gràficament usant les funcions de la llibreria `pyLDAvis`"
   ]
  },
  {
   "cell_type": "code",
   "execution_count": 31,
   "id": "competitive-evanescence",
   "metadata": {},
   "outputs": [
    {
     "data": {
      "text/html": [
       "\n",
       "<link rel=\"stylesheet\" type=\"text/css\" href=\"https://cdn.jsdelivr.net/gh/bmabey/pyLDAvis@3.4.0/pyLDAvis/js/ldavis.v1.0.0.css\">\n",
       "\n",
       "\n",
       "<div id=\"ldavis_el106242366581813680760429737\" style=\"background-color:white;\"></div>\n",
       "<script type=\"text/javascript\">\n",
       "\n",
       "var ldavis_el106242366581813680760429737_data = {\"mdsDat\": {\"x\": [0.007601684853864755, 0.008552998322200467, 0.0010058764401325736, -0.008544081852131059, -0.00861647776406674], \"y\": [0.0014349592307826302, -0.00603850332379965, 0.008318705284816496, 0.004972759917155416, -0.008687921108954874], \"topics\": [1, 2, 3, 4, 5], \"cluster\": [1, 1, 1, 1, 1], \"Freq\": [35.21828113393716, 26.50085682937896, 17.098170523222304, 10.731982569724167, 10.450708943737421]}, \"tinfo\": {\"Term\": [\"pel\\u00edcula\", \"escena\", \"historia\", \"vida\", \"momento\", \"pasar\", \"obra\", \"mundo\", \"personaje\", \"llegar\", \"cine\", \"director\", \"quedar\", \"resultar\", \"tiempo\", \"film\", \"malo\", \"dejar\", \"decir\", \"trabajo\", \"sentido\", \"comedia\", \"hombre\", \"peli\", \"protagonista\", \"persona\", \"encontrar\", \"gustar\", \"mostrar\", \"realidad\", \"kaufman\", \"garner\", \"enslin\", \"visionado.resulta\", \"motu\", \"visionado.estamos\", \"vida.\\u00bfla\", \"jumanji\", \"summers\", \"infernalesrdquo\", \"qepd\", \"g\\u00fceno\", \"empieza\", \"oliphant\", \"mecha\", \"ldquo;magic\", \"ldquo;saw\", \"closer\", \"ldquo;vista\", \"cuidados.la\", \"orlear\", \"moreno.el\", \"valletta\", \"2ldquo;la\", \"hitmar\", \"zathura\", \"andamo\", \"mensual\", \"r\\u00e9my\", \"macario\", \"fargo\", \"mu\\u00f1eco\", \"abeja\", \"americo\", \"simpson\", \"jesse\", \"turco\", \"primicia\", \"plano\", \"asesino\", \"avivado\", \"g\\u00e9nero\", \"solitario\", \"chaval\", \"homer\", \"cine\", \"ocasi\\u00f3n\", \"imposible\", \"orfanato\", \"meter\", \"cosa\", \"aventura\", \"producto\", \"entender\", \"colina\", \"director\", \"cinta\", \"buscar\", \"interesante\", \"imaginar\", \"ver\", \"pel\\u00edcula\", \"gui\\u00f3n\", \"forma\", \"actor\", \"historia\", \"personaje\", \"pantalla\", \"acabar\", \"imagen\", \"mundo\", \"quedar\", \"punto\", \"protagonista\", \"hijo\", \"gustar\", \"momento\", \"hora\", \"tiempo\", \"vida\", \"dejar\", \"film\", \"escena\", \"espectador\", \"llegar\", \"pasar\", \"a\\u00f1o\", \"\\u00ednfimo\", \"hart\", \"radford\", \"marchala\", \"puya\", \"pendencioso\", \"tendenci\\u00f3s\", \"ordenamiento\", \"aspenrdquo\", \"oral\", \"aneurisma\", \"vomitar.este\", \"rid\\u00edculos.todo\", \"lao\", \"cuidado.en\", \"verisimilitud\", \"premiere\", \"sr.aranda\", \"sentir\\u00e1s\", \"ldquo;gil\", \"filme.artero\", \"cento\", \"noriego\", \"explosivardquo\", \"suzzanne\", \"f.b.i\", \"iliada\", \"aflautado\", \"almodovar\", \"darjeeling\", \"azucar\", \"caligari\", \"mole\", \"myers\", \"cesare\", \"masao\", \"martino\", \"enrique\", \"film\", \"gabinete\", \"passi\", \"diesel\", \"c\\u00f3mic\", \"nave\", \"francis\", \"minuto\", \"espectador\", \"oeste\", \"allen\", \"diluir\", \"lecter\", \"hecho\", \"cine\", \"pel\\u00edcula\", \"dar \\u00e9l\", \"a\\u00f1o\", \"papel\", \"personaje\", \"malo\", \"llegar\", \"serie\", \"ocurrir\", \"rubio\", \"recordar\", \"michael\", \"forma\", \"interpretaci\\u00f3n\", \"cinta\", \"lograr\", \"mujer\", \"trabajo\", \"historia\", \"ver\", \"obra\", \"momento\", \"vida\", \"dejar\", \"contar\", \"actor\", \"acabar\", \"comedia\", \"escena\", \"pasar\", \"protagonista\", \"caso\", \"gui\\u00f3n\", \"mundo\", \"director\", \"tiempo\", \"cosa\", \"resultar\", \"esperabas\", \"luxaci\\u00f3n\", \"alfie\", \"general.si\", \"paddy\", \"breatchnach\", \"blow\", \"rodando?.par\", \"terror.pues\", \"t\\u00edmpano\", \"pinguino\", \"asesinordquo\", \"c\\u00e1rgatir\", \"esperabir\", \"chenoa\", \"espectador.el\", \"pierde.el\", \"ldquo;presente\", \"c\\u00e1balar\", \"geometr\\u00eda\", \"directorrdquo\", \"barbossa\", \"cooke\", \"exagerad\\u00edsimo\", \"reier\", \"blandos.encantado\", \"m\\u00fasica.total\", \"es.yo\", \"aburrir.es\", \"gracienta\", \"rata\", \"giselle\", \"scholl\", \"escena\", \"especial\", \"llamar\", \"calzoncillo\", \"historia\", \"pel\\u00edcula\", \"personaje\", \"musical\", \"argumento\", \"winslet\", \"salir\", \"bond\", \"gustar\", \"capaz\", \"oliver\", \"dejar\", \"ritmo\", \"decir\", \"problema\", \"realidad\", \"perder\", \"autor\", \"venir\", \"pensar\", \"avanzar\", \"efecto\", \"quedar\", \"aspecto\", \"director\", \"sentido\", \"momento\", \"resultar\", \"vida\", \"espectador\", \"acci\\u00f3n\", \"ver\", \"cine\", \"hora\", \"gui\\u00f3n\", \"cosa\", \"tiempo\", \"a\\u00f1o\", \"cinta\", \"protagonista\", \"film\", \"punto\", \"actor\", \"llegar\", \"hombre\", \"pasar\", \"fuzz\", \"granjero\", \"v\\u00edctima.el\", \"ahumarles.es\", \"bebo\", \"sito\", \"trocearlo\", \"conservant\", \"balbricker\", \"madero\", \"encendidas!!!al\", \"leiser\", \"ahumadas.imagino\", \"agonizar\", \"porky's\", \"s\\u00e9bastien\", \"tykwer.y\", \"cortometraje.particularmente\", \"natali.me\", \"caleidoscopio\", \"sin\\u00f3nimos\", \"assayas\", \"creo.parece\", \"vital.se\", \"fake\", \"cuervo\", \"l\\u00edmites.jodie\", \"z.la\", \"maric\\u00f3n\", \"apestoso\", \"bradley\", \"cerdito\", \"busc\\u00e1is\", \"daemon\", \"suso\", \"pel\\u00edcula\", \"jack\", \"obra\", \"vincent\", \"sparrow\", \"noise\", \"mundo\", \"historia\", \"persona\", \"comedia\", \"sentido\", \"pasar\", \"libro\", \"llegar\", \"mostrar\", \"decir\", \"recuerdo\", \"encontrar\", \"vida\", \"perfecto\", \"momento\", \"director\", \"amado\", \"resultar\", \"peter\", \"acci\\u00f3n\", \"volver\", \"mejor\", \"trama\", \"tomar\", \"tiempo\", \"personaje\", \"quedar\", \"film\", \"gui\\u00f3n\", \"\\u00fanico\", \"actor\", \"peque\\u00f1o\", \"cine\", \"a\\u00f1o\", \"escena\", \"dejar\", \"ver\", \"cinta\", \"papel\", \"protagonista\", \"cag\\u00e1ndote\", \"habreis\", \"asilo\", \"abrelata\", \"albarn\", \"andaro\", \"vida.tal\", \"compact\", \"reemplazarte\", \"cronica\", \"pelicular\", \"embotar\", \"dental\", \"pudrirte\", \"gamberrete\", \"seguidores.la\", \"engendrar\", \"preg\\u00fantate\", \"bricolaje\", \"tripis\", \"grandes.esta\", \"lavadora\", \"liderizar\", \"iggy\", \"compite\", \"me\\u00e1ndote\", \"plazos\", \"disc\", \"aslar\", \"tontear\", \"maleta\", \"elegir\", \"jota\", \"irresistible\", \"gardner\", \"pel\\u00edcula\", \"escena\", \"gente\", \"vida\", \"pasar\", \"realmente\", \"filme\", \"trabajo\", \"peter\", \"peli\", \"malo\", \"coche\", \"momento\", \"cine\", \"hombre\", \"hacer\", \"tipo\", \"tiempo\", \"caso\", \"quedar\", \"pelicula\", \"protagonista\", \"borat\", \"garfio\", \"resultar\", \"joven\", \"espect\\u00e1culo\", \"comenzar\", \"persona\", \"mundo\", \"realidad\", \"contar\", \"dejar\", \"llegar\", \"obra\", \"espectador\", \"cosa\", \"director\", \"actor\", \"personaje\", \"historia\", \"gui\\u00f3n\", \"film\", \"forma\", \"ver\"], \"Freq\": [3349.0, 763.0, 1300.0, 708.0, 762.0, 482.0, 376.0, 533.0, 1280.0, 518.0, 1366.0, 717.0, 414.0, 393.0, 465.0, 726.0, 305.0, 604.0, 282.0, 312.0, 241.0, 275.0, 342.0, 227.0, 490.0, 173.0, 302.0, 339.0, 258.0, 233.0, 7.041978783033721, 3.6213189659088396, 2.074302505859067, 1.3762545571448606, 1.3707715344743354, 1.3646748469584205, 1.3612026528104826, 3.3530661843607192, 1.3579302633524488, 1.3621105888278413, 1.3546503812185435, 1.3527556157143565, 1.3505258835241536, 1.3458619131670224, 1.3423977993558085, 1.3409987257808396, 1.3393731089471705, 2.004899465329567, 1.3382662497311866, 1.3290066245910457, 1.9887357066619573, 1.331370490370868, 1.3269906540359977, 1.3269949145771796, 1.3203921041519118, 1.929073438595713, 1.318901208568715, 1.3108102939493005, 1.950727418779293, 1.311492568199238, 4.641515248290264, 6.484942112728119, 8.910078000709627, 2.580411164436288, 13.79631050722943, 3.263423222574351, 4.972250776166968, 3.2877970440992517, 138.5172010876932, 50.86388500081714, 1.9675176239158374, 138.2438588693306, 20.98407149330407, 16.350913369999475, 7.475774157623859, 576.8089287052804, 109.77862965733148, 46.32680472563553, 26.4988431290551, 42.41004984394754, 217.17769358750093, 69.88906191172687, 78.34787103005338, 66.25883165664831, 11.685517347639692, 293.17912885862177, 238.9869819565434, 96.48418034295146, 106.34436784211094, 26.724920960359988, 244.38955033037448, 1132.793789512932, 237.04042355076808, 187.71461624768614, 227.47757363790697, 480.03609875407636, 469.13806457882583, 120.14264466255337, 143.22821957268835, 120.27873751345564, 208.39271859208796, 166.9938638292417, 144.05513831425606, 188.03125731767264, 78.6185241123542, 135.6635199871792, 261.2406171507855, 145.9857499551336, 174.75612088955444, 232.1525708632775, 203.4298897823717, 232.21637672801586, 221.3996372044788, 176.6367108386536, 166.55824259238233, 156.5933198254185, 149.59477740664823, 2.006278967957856, 1.713491419341735, 1.8247267736518338, 1.1315115168595609, 1.1312334837487579, 1.117111170519084, 1.1165085627707791, 1.1149680492920362, 1.1161529235988297, 1.1146831620846647, 1.118905175020917, 1.1181863792807816, 1.108328419616162, 2.1972809715328383, 1.0958322960723375, 1.6467296444659703, 1.105041106461953, 1.1040796535933037, 1.1045016227320452, 1.0876399924238085, 1.0870051040916648, 2.6796654339273993, 1.0939353695720324, 1.1073007473306655, 1.0976488527628796, 1.0664251263950162, 1.0653796555684303, 1.0655304456929373, 2.8257516582894344, 2.1132232156162942, 2.2209481669838738, 10.222519774902718, 1.7302870513330137, 3.3352646349021238, 4.632449504767438, 18.580001844335243, 2.8011410296107284, 4.275122456262971, 288.2365133969938, 4.4284702642895, 2.4893895223888993, 3.7926749803999584, 18.089030967739465, 8.296600003913086, 12.137558778139798, 98.73885931846004, 190.58653388858684, 6.926679682362725, 26.2860228183213, 6.521529612200821, 8.740101618674318, 50.540420661774206, 408.7086003595288, 895.5318411374183, 40.808495009255886, 151.51517648963426, 123.13809173980162, 375.86500068745374, 106.77795931609033, 168.64782131378774, 78.80863228851409, 61.73698273302334, 13.85840928619721, 82.21669074547204, 44.94490249036642, 143.56565555435628, 91.44363132601077, 176.01840722370915, 59.96515543448742, 85.25476595406184, 101.67942416946833, 336.86646121044487, 175.78184095494586, 118.25177711093158, 209.73463332610444, 195.40559169992898, 171.23550366626642, 78.84014521353716, 156.1517649843295, 103.1262098675361, 87.79333936792685, 188.69556028170146, 133.03414072455172, 132.86488787488804, 102.4964324804337, 149.28347557173373, 139.3072787615096, 166.2131896110844, 111.5798031744506, 109.20903927017187, 99.12381368253291, 2.2244095754934685, 3.0413890091885882, 1.4718688182272983, 0.9202988034151831, 0.9127468711059148, 0.9036094317243968, 0.9001585341055393, 0.900804534265392, 0.9002578199863513, 0.895617631579663, 1.7094208443276258, 0.8666474808756144, 1.3629640471030453, 0.8599960401218435, 0.8441662901519962, 0.8545236905287797, 0.8541430233262697, 0.8400397920568082, 0.8500259402715036, 0.8444942473933568, 0.8308465043673334, 0.8287789044298475, 0.8392860895406148, 0.8332857844232904, 0.8293873870801405, 0.8259322812235186, 0.8080444890087348, 0.8175023250688505, 0.8051188365237136, 0.8026468891305354, 9.008447051045252, 1.6602793261501156, 1.5624101236172734, 196.28059955471394, 51.98577678217178, 42.90022853859085, 1.8646563161070884, 259.22777495167895, 576.3450157992622, 252.2090711599161, 25.67632163681021, 55.42922567753439, 4.922572287539186, 82.36490083873515, 22.42641858331202, 77.40333658924531, 34.57769114783368, 7.918327451715908, 123.43853393273268, 56.565722624764675, 63.283341412356364, 44.09710956082721, 53.50692777357441, 53.18401813509696, 28.63173820295171, 55.16616145962919, 50.85046670064317, 16.646387181088294, 46.80781496119246, 78.43811001610703, 38.399149921873374, 120.460751795417, 50.93395357301889, 123.3883842919694, 73.86830731039527, 112.03332971314356, 90.59028185964111, 60.08665559097345, 96.13277122141344, 166.7220927037517, 68.2354381254414, 92.80396898796326, 81.75749949156942, 74.71865093695494, 73.01219825544636, 81.73870136480234, 74.11144131424872, 85.59691873908291, 62.3688431297538, 73.0183973463035, 67.69302680517782, 60.8528276149449, 63.2827297200332, 1.807084995329328, 3.292215539578298, 0.6531086432439833, 0.652599618332591, 0.6514264435038277, 0.6489228199224911, 0.6480838465856844, 0.6462572216595875, 0.6428662740902301, 0.6415255284397131, 0.6406448302816734, 0.638997684763648, 0.6344152965639577, 0.6360045108387692, 0.6352836384444649, 1.2762270787665064, 0.6411751652948972, 0.6301739595318124, 0.6252030648957928, 0.6247484344670162, 0.6247781163945672, 0.6213825128365743, 0.6201863266793629, 0.6025556198671306, 0.6001410868375681, 0.8855801412004004, 0.585073457000017, 0.5807375675832753, 0.5985386209027942, 0.5781595824911364, 1.2124492569001806, 1.6582326805017455, 0.8455582478109404, 1.1549947152919797, 1.3358823808491336, 414.04005564976876, 16.2520506696337, 64.01802718525143, 5.725363569858207, 6.529913750071406, 1.8677439315776185, 74.26296716103725, 148.1565611338131, 29.299663720820927, 42.26935414620564, 37.937445241594304, 64.98750430197953, 31.102817808206552, 66.72235145455372, 37.73844685470425, 40.22181366209993, 11.308725933089375, 41.8617617380009, 80.39121665089573, 21.971494329018448, 83.54652714248495, 79.04772468338969, 4.58180799187577, 48.2599955337911, 12.57841260135851, 39.15772972152372, 38.84146918639152, 25.59794645954439, 32.67647893205791, 22.4852002997543, 50.33576993298203, 102.05013655516935, 45.9820939233471, 67.88560365522888, 58.01499370483629, 32.546340468168, 53.92493260867981, 33.971365243433866, 84.71812860524234, 44.411808033103455, 58.00684500841835, 50.740712009194304, 50.19237694390598, 48.492141694541615, 37.57000321415771, 40.87337127912974, 0.6640209263324203, 0.6648671638503915, 0.6625003930187423, 0.6595299079452268, 0.6588624130898532, 0.6570492649587716, 0.6552605304596545, 0.6554456381048714, 0.6527730429370949, 0.647916386815461, 0.6462340695942466, 0.6432028556112193, 0.6434122461010867, 0.645304258982568, 0.6443628082999351, 0.6413789829203818, 0.6411394241567296, 0.6415480473217363, 0.6374454236616361, 0.6365203213932651, 0.6327476305308573, 0.6333770226820578, 0.6321949233414884, 0.6331422158574843, 0.6312595760668465, 0.6328124574428774, 0.6333601511185394, 0.6312358599672238, 0.6251510237746875, 0.6250313097865184, 0.9155377048996778, 15.949503886063892, 1.6440894843689142, 2.371722788127027, 1.3908916092620405, 330.5378763074966, 98.67198759383197, 26.988700950420927, 88.15586724249464, 64.66778815220684, 32.62963383839858, 26.547771226235554, 45.29581950984879, 13.53583830383868, 34.991746200302764, 43.96535748153238, 11.871202481191485, 84.70713899846535, 129.6444994279697, 44.20394981412492, 36.73812444302601, 40.27242874488213, 54.1079464736827, 42.64055941583174, 48.81042270824185, 12.986512053730696, 54.63709450820581, 4.822113273767258, 5.123034655063809, 43.977212741214366, 29.809742161059436, 11.780588844791856, 19.64430758964902, 23.461639824402525, 51.83540284473007, 28.591457283958427, 28.68493777828304, 55.9345883679173, 48.95516345930392, 39.442167158902286, 50.09635985211366, 47.13938632882589, 59.08557632689501, 49.64128975229441, 80.91833304636391, 75.89303104278059, 48.105680672112214, 52.79237257567062, 38.827881116863026, 36.854944369508736], \"Total\": [3349.0, 763.0, 1300.0, 708.0, 762.0, 482.0, 376.0, 533.0, 1280.0, 518.0, 1366.0, 717.0, 414.0, 393.0, 465.0, 726.0, 305.0, 604.0, 282.0, 312.0, 241.0, 275.0, 342.0, 227.0, 490.0, 173.0, 302.0, 339.0, 258.0, 233.0, 9.348946729631244, 5.0842864100216545, 2.9449641550399988, 1.994178324514523, 1.992860522063135, 1.9884827172360575, 1.9856130590273193, 4.897712554544835, 1.9849462400279372, 1.9922274252704726, 1.9832616094957196, 1.9826239158423153, 1.981196630024852, 1.9787584724569514, 1.9813077973525894, 1.9813766793208762, 1.9798005647479118, 2.963666076458718, 1.9815460986223614, 1.9683924334216985, 2.948146411574412, 1.9792976132291469, 1.9743092179460224, 1.9747063993206324, 1.9675960851228833, 2.8754321494270814, 1.9712449470540565, 1.9591685524065539, 2.924692652836903, 1.9671607635413524, 6.9993180682073275, 9.867669016134414, 13.794984945330432, 3.9174477235701914, 22.353538640416005, 5.034667092600979, 7.8178280143647605, 5.088353872865715, 270.03294608234296, 93.98625583543068, 2.9750794481959044, 276.1849941860504, 36.98342050072689, 28.625704339107948, 12.424778082689622, 1366.602249801773, 227.59627765043712, 90.40321779940243, 49.259199987959676, 83.39209095327067, 492.786443855582, 143.66135917776634, 165.2681173210374, 138.30428609365757, 20.690651407638878, 717.9863712754078, 576.5187274464499, 212.8835931101822, 237.5180237143381, 51.50268140753864, 603.3514838201485, 3349.2485784068786, 585.2485424874137, 450.52855278747444, 560.2139583295142, 1300.179927092794, 1280.1806060277288, 274.5177802203592, 339.5414403390131, 282.0061501832771, 533.2211222309054, 414.12161336199546, 354.03877010373816, 490.5180522941449, 174.96585761006546, 339.3158974820098, 762.6173009098096, 372.23491130859907, 465.4982914076247, 708.1385761697404, 604.7792277584824, 726.727785094992, 763.0546296431446, 539.4998753805513, 518.5766056252055, 482.5654827241898, 449.81733707256575, 2.819964852796143, 2.6199399479862966, 2.8010248783162086, 1.7971886060899183, 1.7974710307877313, 1.7914075761078248, 1.7915098347404368, 1.7902247744971644, 1.792203131372362, 1.7910199271938716, 1.8015657299382595, 1.800972698355227, 1.7873893513239847, 3.55620546631847, 1.7816463179450508, 2.6780583645285665, 1.7990204127694505, 1.7977349343561475, 1.7998458356383435, 1.7796025467230354, 1.7787222834695435, 4.386045110188092, 1.79562918884905, 1.8246102484917388, 1.820973074290609, 1.7700226642325436, 1.7707543408055058, 1.7714975541189109, 4.708301985370359, 3.532644566196236, 3.717232213375174, 17.482247829867692, 2.8947051052771022, 5.684843709240951, 8.123884902656844, 36.0221088554607, 4.869347023065143, 7.751562857000439, 726.727785094992, 8.11352474704761, 4.338367898161372, 6.869146527931098, 37.681548025483515, 16.142638681716043, 24.624284337928994, 258.01928365704583, 539.4998753805513, 13.570658661636536, 60.27798989496745, 12.742217065406072, 17.71246059181924, 127.3282500170348, 1366.602249801773, 3349.2485784068786, 101.1827776815535, 449.81733707256575, 357.33282278321724, 1280.1806060277288, 305.0615628828484, 518.5766056252055, 218.8324420314329, 166.03370383401855, 29.997536592670826, 234.40735803542316, 116.24644557742297, 450.52855278747444, 266.65437520809644, 576.5187274464499, 164.36662553729596, 253.77850368463635, 312.7081386224274, 1300.179927092794, 603.3514838201485, 376.6377201244532, 762.6173009098096, 708.1385761697404, 604.7792277584824, 234.99828408547197, 560.2139583295142, 339.5414403390131, 275.84549542620925, 763.0546296431446, 482.5654827241898, 490.5180522941449, 341.08479671424396, 585.2485424874137, 533.2211222309054, 717.9863712754078, 465.4982914076247, 492.786443855582, 393.98480660765216, 3.2176030862868017, 4.927537985838627, 2.403855925505622, 1.6203314058359926, 1.6184259438088102, 1.6162148992536665, 1.6137123166322733, 1.6149422314466353, 1.615735987093579, 1.6145911999951679, 3.1352988267139525, 1.603118557512805, 2.5303969775793465, 1.6206496739318965, 1.5977116141393097, 1.622346621662238, 1.6224809136520166, 1.595904883503917, 1.6282680974377446, 1.6181493160282217, 1.5940424523421322, 1.5972228445982921, 1.6228712957181726, 1.619876940821971, 1.6196447177712376, 1.6162578437638722, 1.5924310627788434, 1.6157977394428882, 1.5913806876675913, 1.5913337210703433, 18.176108871150774, 3.349184551669572, 3.2796600672919314, 763.0546296431446, 174.65329042042615, 143.03961325088014, 4.117280918737464, 1300.179927092794, 3349.2485784068786, 1280.1806060277288, 88.30491971112977, 220.23198812232735, 12.759313007728286, 355.9838359956285, 76.61088471880541, 339.3158974820098, 130.92724706424895, 22.672001348786715, 604.7792277584824, 239.80290575002172, 282.1035511579779, 183.47461448395484, 233.5137800465391, 234.118517779821, 111.29071798172217, 253.91310692552378, 231.2526905872787, 58.53592637107347, 214.7547162375974, 414.12161336199546, 167.85297694140937, 717.9863712754078, 241.40754940038917, 762.6173009098096, 393.98480660765216, 708.1385761697404, 539.4998753805513, 309.02306146878834, 603.3514838201485, 1366.602249801773, 372.23491130859907, 585.2485424874137, 492.786443855582, 465.4982914076247, 449.81733707256575, 576.5187274464499, 490.5180522941449, 726.727785094992, 354.03877010373816, 560.2139583295142, 518.5766056252055, 342.2836220089554, 482.5654827241898, 3.4212192294309176, 7.121208072551756, 1.414002514581342, 1.4162909462824824, 1.4153290864208097, 1.4158490682485216, 1.4149124014883387, 1.4166615555343, 1.4158430112620062, 1.415231607694972, 1.4157004660344668, 1.416917742402356, 1.4145012227379745, 1.418122003380903, 1.4172910029229833, 2.8691913122439257, 1.4454728551633367, 1.457524215506842, 1.4548044781206901, 1.4564052725101015, 1.4574475960139566, 1.4585033019831526, 1.460741703911787, 1.4714247209413789, 1.4699191484024892, 2.1870765897454905, 1.4477480118000603, 1.4539296581074992, 1.5020595718056244, 1.4530760050503833, 3.1073085943876304, 4.399102378468928, 2.1812708102389737, 3.1426001672751114, 3.7600961394989354, 3349.2485784068786, 72.80566843714067, 376.6377201244532, 21.838428811435296, 26.397404509294056, 5.635344152026684, 533.2211222309054, 1300.179927092794, 173.17138519243485, 275.84549542620925, 241.40754940038917, 482.5654827241898, 195.99620613510328, 518.5766056252055, 258.15292361973377, 282.1035511579779, 56.31599741893417, 302.531139480873, 708.1385761697404, 133.1469451371979, 762.6173009098096, 717.9863712754078, 17.89120652070534, 393.98480660765216, 68.09651877719983, 309.02306146878834, 306.5454076703853, 177.4051405626304, 249.36400764861173, 149.75742509773346, 465.4982914076247, 1280.1806060277288, 414.12161336199546, 726.727785094992, 585.2485424874137, 260.5720646896162, 560.2139583295142, 284.17898266139565, 1366.602249801773, 449.81733707256575, 763.0546296431446, 604.7792277584824, 603.3514838201485, 576.5187274464499, 357.33282278321724, 490.5180522941449, 1.4512140027437148, 1.4546172154983288, 1.4514580608768817, 1.4514637631131735, 1.4555190214440716, 1.4585874958357516, 1.4581732181010314, 1.4587725825375224, 1.4583852173918648, 1.4571161633227039, 1.4619554365165353, 1.4618669044259764, 1.4629936033979836, 1.4675063384589202, 1.4659793252146338, 1.464674738311965, 1.469411959209666, 1.4714642028036362, 1.4728885823114801, 1.4719348706557494, 1.4696284696437392, 1.4717529151479716, 1.4700814602049124, 1.4729534536631892, 1.4699907529986032, 1.4758987627887827, 1.4773088673324026, 1.4760977150134158, 1.4726806497588414, 1.4776689164486125, 2.25132920879613, 55.771096266685255, 4.557590012379928, 7.0521629247721656, 3.838339465113096, 3349.2485784068786, 763.0546296431446, 157.48280400560216, 708.1385761697404, 482.5654827241898, 203.93152106163265, 157.9705691947426, 312.7081386224274, 68.09651877719983, 227.47703991895702, 305.0615628828484, 58.34738559799098, 762.6173009098096, 1366.602249801773, 342.2836220089554, 270.06308496901886, 304.39681912370605, 465.4982914076247, 341.08479671424396, 414.12161336199546, 73.4454854121857, 490.5180522941449, 20.195050269241968, 22.019854328243994, 393.98480660765216, 237.4465921479089, 67.94118974666623, 135.6626270898926, 173.17138519243485, 533.2211222309054, 233.5137800465391, 234.99828408547197, 604.7792277584824, 518.5766056252055, 376.6377201244532, 539.4998753805513, 492.786443855582, 717.9863712754078, 560.2139583295142, 1280.1806060277288, 1300.179927092794, 585.2485424874137, 726.727785094992, 450.52855278747444, 603.3514838201485], \"Category\": [\"Default\", \"Default\", \"Default\", \"Default\", \"Default\", \"Default\", \"Default\", \"Default\", \"Default\", \"Default\", \"Default\", \"Default\", \"Default\", \"Default\", \"Default\", \"Default\", \"Default\", \"Default\", \"Default\", \"Default\", \"Default\", \"Default\", \"Default\", \"Default\", \"Default\", \"Default\", \"Default\", \"Default\", \"Default\", \"Default\", \"Topic1\", \"Topic1\", \"Topic1\", \"Topic1\", \"Topic1\", \"Topic1\", \"Topic1\", \"Topic1\", \"Topic1\", \"Topic1\", \"Topic1\", \"Topic1\", \"Topic1\", \"Topic1\", \"Topic1\", \"Topic1\", \"Topic1\", \"Topic1\", \"Topic1\", \"Topic1\", \"Topic1\", \"Topic1\", \"Topic1\", \"Topic1\", \"Topic1\", \"Topic1\", \"Topic1\", \"Topic1\", \"Topic1\", \"Topic1\", \"Topic1\", \"Topic1\", \"Topic1\", \"Topic1\", \"Topic1\", \"Topic1\", \"Topic1\", \"Topic1\", \"Topic1\", \"Topic1\", \"Topic1\", \"Topic1\", \"Topic1\", \"Topic1\", \"Topic1\", \"Topic1\", \"Topic1\", \"Topic1\", \"Topic1\", \"Topic1\", \"Topic1\", \"Topic1\", \"Topic1\", \"Topic1\", \"Topic1\", \"Topic1\", \"Topic1\", \"Topic1\", \"Topic1\", \"Topic1\", \"Topic1\", \"Topic1\", \"Topic1\", \"Topic1\", \"Topic1\", \"Topic1\", \"Topic1\", \"Topic1\", \"Topic1\", \"Topic1\", \"Topic1\", \"Topic1\", \"Topic1\", \"Topic1\", \"Topic1\", \"Topic1\", \"Topic1\", \"Topic1\", \"Topic1\", \"Topic1\", \"Topic1\", \"Topic1\", \"Topic1\", \"Topic1\", \"Topic1\", \"Topic1\", \"Topic1\", \"Topic2\", \"Topic2\", \"Topic2\", \"Topic2\", \"Topic2\", \"Topic2\", \"Topic2\", \"Topic2\", \"Topic2\", \"Topic2\", \"Topic2\", \"Topic2\", \"Topic2\", \"Topic2\", \"Topic2\", \"Topic2\", \"Topic2\", \"Topic2\", \"Topic2\", \"Topic2\", \"Topic2\", \"Topic2\", \"Topic2\", \"Topic2\", \"Topic2\", \"Topic2\", \"Topic2\", \"Topic2\", \"Topic2\", \"Topic2\", \"Topic2\", \"Topic2\", \"Topic2\", \"Topic2\", \"Topic2\", \"Topic2\", \"Topic2\", \"Topic2\", \"Topic2\", \"Topic2\", \"Topic2\", \"Topic2\", \"Topic2\", \"Topic2\", \"Topic2\", \"Topic2\", \"Topic2\", \"Topic2\", \"Topic2\", \"Topic2\", \"Topic2\", \"Topic2\", \"Topic2\", \"Topic2\", \"Topic2\", \"Topic2\", \"Topic2\", \"Topic2\", \"Topic2\", \"Topic2\", \"Topic2\", \"Topic2\", \"Topic2\", \"Topic2\", \"Topic2\", \"Topic2\", \"Topic2\", \"Topic2\", \"Topic2\", \"Topic2\", \"Topic2\", \"Topic2\", \"Topic2\", \"Topic2\", \"Topic2\", \"Topic2\", \"Topic2\", \"Topic2\", \"Topic2\", \"Topic2\", \"Topic2\", \"Topic2\", \"Topic2\", \"Topic2\", \"Topic2\", \"Topic2\", \"Topic2\", \"Topic2\", \"Topic2\", \"Topic2\", \"Topic2\", \"Topic3\", \"Topic3\", \"Topic3\", \"Topic3\", \"Topic3\", \"Topic3\", \"Topic3\", \"Topic3\", \"Topic3\", \"Topic3\", \"Topic3\", \"Topic3\", \"Topic3\", \"Topic3\", \"Topic3\", \"Topic3\", \"Topic3\", \"Topic3\", \"Topic3\", \"Topic3\", \"Topic3\", \"Topic3\", \"Topic3\", \"Topic3\", \"Topic3\", \"Topic3\", \"Topic3\", \"Topic3\", \"Topic3\", \"Topic3\", \"Topic3\", \"Topic3\", \"Topic3\", \"Topic3\", \"Topic3\", \"Topic3\", \"Topic3\", \"Topic3\", \"Topic3\", \"Topic3\", \"Topic3\", \"Topic3\", \"Topic3\", \"Topic3\", \"Topic3\", \"Topic3\", \"Topic3\", \"Topic3\", \"Topic3\", \"Topic3\", \"Topic3\", \"Topic3\", \"Topic3\", \"Topic3\", \"Topic3\", \"Topic3\", \"Topic3\", \"Topic3\", \"Topic3\", \"Topic3\", \"Topic3\", \"Topic3\", \"Topic3\", \"Topic3\", \"Topic3\", \"Topic3\", \"Topic3\", \"Topic3\", \"Topic3\", \"Topic3\", \"Topic3\", \"Topic3\", \"Topic3\", \"Topic3\", \"Topic3\", \"Topic3\", \"Topic3\", \"Topic3\", \"Topic3\", \"Topic3\", \"Topic3\", \"Topic3\", \"Topic3\", \"Topic4\", \"Topic4\", \"Topic4\", \"Topic4\", \"Topic4\", \"Topic4\", \"Topic4\", \"Topic4\", \"Topic4\", \"Topic4\", \"Topic4\", \"Topic4\", \"Topic4\", \"Topic4\", \"Topic4\", \"Topic4\", \"Topic4\", \"Topic4\", \"Topic4\", \"Topic4\", \"Topic4\", \"Topic4\", \"Topic4\", \"Topic4\", \"Topic4\", \"Topic4\", \"Topic4\", \"Topic4\", \"Topic4\", \"Topic4\", \"Topic4\", \"Topic4\", \"Topic4\", \"Topic4\", \"Topic4\", \"Topic4\", \"Topic4\", \"Topic4\", \"Topic4\", \"Topic4\", \"Topic4\", \"Topic4\", \"Topic4\", \"Topic4\", \"Topic4\", \"Topic4\", \"Topic4\", \"Topic4\", \"Topic4\", \"Topic4\", \"Topic4\", \"Topic4\", \"Topic4\", \"Topic4\", \"Topic4\", \"Topic4\", \"Topic4\", \"Topic4\", \"Topic4\", \"Topic4\", \"Topic4\", \"Topic4\", \"Topic4\", \"Topic4\", \"Topic4\", \"Topic4\", \"Topic4\", \"Topic4\", \"Topic4\", \"Topic4\", \"Topic4\", \"Topic4\", \"Topic4\", \"Topic4\", \"Topic4\", \"Topic4\", \"Topic4\", \"Topic4\", \"Topic4\", \"Topic4\", \"Topic4\", \"Topic5\", \"Topic5\", \"Topic5\", \"Topic5\", \"Topic5\", \"Topic5\", \"Topic5\", \"Topic5\", \"Topic5\", \"Topic5\", \"Topic5\", \"Topic5\", \"Topic5\", \"Topic5\", \"Topic5\", \"Topic5\", \"Topic5\", \"Topic5\", \"Topic5\", \"Topic5\", \"Topic5\", \"Topic5\", \"Topic5\", \"Topic5\", \"Topic5\", \"Topic5\", \"Topic5\", \"Topic5\", \"Topic5\", \"Topic5\", \"Topic5\", \"Topic5\", \"Topic5\", \"Topic5\", \"Topic5\", \"Topic5\", \"Topic5\", \"Topic5\", \"Topic5\", \"Topic5\", \"Topic5\", \"Topic5\", \"Topic5\", \"Topic5\", \"Topic5\", \"Topic5\", \"Topic5\", \"Topic5\", \"Topic5\", \"Topic5\", \"Topic5\", \"Topic5\", \"Topic5\", \"Topic5\", \"Topic5\", \"Topic5\", \"Topic5\", \"Topic5\", \"Topic5\", \"Topic5\", \"Topic5\", \"Topic5\", \"Topic5\", \"Topic5\", \"Topic5\", \"Topic5\", \"Topic5\", \"Topic5\", \"Topic5\", \"Topic5\", \"Topic5\", \"Topic5\", \"Topic5\", \"Topic5\", \"Topic5\", \"Topic5\", \"Topic5\", \"Topic5\", \"Topic5\", \"Topic5\"], \"logprob\": [30.0, 29.0, 28.0, 27.0, 26.0, 25.0, 24.0, 23.0, 22.0, 21.0, 20.0, 19.0, 18.0, 17.0, 16.0, 15.0, 14.0, 13.0, 12.0, 11.0, 10.0, 9.0, 8.0, 7.0, 6.0, 5.0, 4.0, 3.0, 2.0, 1.0, -9.3474, -10.0125, -10.5697, -10.98, -10.984, -10.9884, -10.991, -10.0895, -10.9934, -10.9903, -10.9958, -10.9972, -10.9988, -11.0023, -11.0049, -11.0059, -11.0071, -10.6037, -11.008, -11.0149, -10.6118, -11.0131, -11.0164, -11.0164, -11.0214, -10.6423, -11.0225, -11.0287, -10.6311, -11.0282, -9.7643, -9.4298, -9.1121, -10.3514, -8.6749, -10.1166, -9.6955, -10.1091, -6.3683, -7.3702, -10.6226, -6.3703, -8.2556, -8.505, -9.2877, -4.9418, -6.6009, -7.4636, -8.0222, -7.5519, -5.9186, -7.0524, -6.9382, -7.1058, -8.841, -5.6185, -5.8229, -6.73, -6.6326, -8.0137, -5.8006, -4.2669, -5.8311, -6.0644, -5.8723, -5.1255, -5.1484, -6.5107, -6.3349, -6.5095, -5.9599, -6.1814, -6.3291, -6.0627, -6.9347, -6.3892, -5.7339, -6.3158, -6.1359, -5.8519, -5.984, -5.8517, -5.8994, -6.1252, -6.184, -6.2457, -6.2914, -10.3187, -10.4764, -10.4135, -10.8914, -10.8916, -10.9042, -10.9047, -10.9061, -10.9051, -10.9064, -10.9026, -10.9032, -10.9121, -10.2277, -10.9234, -10.5162, -10.9151, -10.9159, -10.9155, -10.9309, -10.9315, -10.0292, -10.9252, -10.913, -10.9218, -10.9506, -10.9516, -10.9515, -9.9762, -10.2667, -10.217, -8.6903, -10.4667, -9.8104, -9.4819, -8.0929, -9.9849, -9.5621, -5.3512, -9.5269, -10.1029, -9.6819, -8.1196, -8.8991, -8.5186, -6.4225, -5.7648, -9.0796, -7.7459, -9.1398, -8.847, -7.0922, -5.0019, -4.2175, -7.3061, -5.9943, -6.2016, -5.0857, -6.3442, -5.8871, -6.6479, -6.8921, -8.386, -6.6056, -7.2095, -6.0481, -6.4992, -5.8444, -6.9212, -6.5693, -6.3931, -5.1953, -5.8457, -6.2421, -5.6691, -5.7399, -5.8719, -6.6475, -5.9641, -6.379, -6.54, -5.7748, -6.1243, -6.1256, -6.3851, -6.0091, -6.0783, -5.9017, -6.3002, -6.3217, -6.4186, -9.7772, -9.4644, -10.1902, -10.6598, -10.668, -10.6781, -10.6819, -10.6812, -10.6818, -10.687, -10.0406, -10.7199, -10.2671, -10.7276, -10.7461, -10.7339, -10.7344, -10.751, -10.7392, -10.7458, -10.762, -10.7645, -10.7519, -10.7591, -10.7638, -10.768, -10.7899, -10.7782, -10.7935, -10.7966, -8.3786, -10.0698, -10.1305, -5.2972, -6.6258, -6.8179, -9.9537, -5.019, -4.22, -5.0465, -7.3312, -6.5616, -8.9829, -6.1656, -7.4665, -6.2277, -7.0335, -8.5076, -5.761, -6.5413, -6.4291, -6.7903, -6.5969, -6.603, -7.2222, -6.5664, -6.6478, -7.7645, -6.7307, -6.2144, -6.9287, -5.7854, -6.6462, -5.7614, -6.2745, -5.8579, -6.0704, -6.4809, -6.011, -5.4604, -6.3538, -6.0462, -6.173, -6.263, -6.2861, -6.1732, -6.2712, -6.1271, -6.4437, -6.286, -6.3618, -6.4683, -6.4291, -9.5193, -8.9194, -10.537, -10.5378, -10.5396, -10.5434, -10.5447, -10.5476, -10.5528, -10.5549, -10.5563, -10.5588, -10.566, -10.5635, -10.5647, -9.8671, -10.5554, -10.5728, -10.5807, -10.5814, -10.5814, -10.5868, -10.5887, -10.6176, -10.6216, -10.2325, -10.647, -10.6544, -10.6243, -10.6589, -9.9184, -9.6052, -10.2788, -9.9669, -9.8214, -4.085, -7.3228, -5.9518, -8.3661, -8.2346, -9.4863, -5.8034, -5.1127, -6.7334, -6.3669, -6.4751, -5.9368, -6.6737, -5.9105, -6.4803, -6.4166, -7.6854, -6.3766, -5.7241, -7.0212, -5.6856, -5.7409, -8.5889, -6.2344, -7.579, -6.4434, -6.4515, -6.8685, -6.6243, -6.9981, -6.1923, -5.4855, -6.2827, -5.8932, -6.0503, -6.6283, -6.1234, -6.5855, -5.6717, -6.3175, -6.0504, -6.1843, -6.1951, -6.2296, -6.4848, -6.4005, -10.4939, -10.4926, -10.4962, -10.5007, -10.5017, -10.5044, -10.5072, -10.5069, -10.511, -10.5184, -10.521, -10.5257, -10.5254, -10.5225, -10.5239, -10.5286, -10.5289, -10.5283, -10.5347, -10.5362, -10.5421, -10.5411, -10.543, -10.5415, -10.5445, -10.542, -10.5412, -10.5445, -10.5542, -10.5544, -10.1727, -7.315, -9.5872, -9.2208, -9.7545, -4.2837, -5.4926, -6.789, -5.6053, -5.9152, -6.5992, -6.8055, -6.2712, -7.4791, -6.5293, -6.301, -7.6103, -5.6452, -5.2196, -6.2956, -6.4806, -6.3888, -6.0935, -6.3316, -6.1965, -7.5205, -6.0837, -8.5112, -8.4507, -6.3008, -6.6896, -7.618, -7.1066, -6.9291, -6.1364, -6.7313, -6.7281, -6.0603, -6.1935, -6.4096, -6.1705, -6.2313, -6.0054, -6.1796, -5.691, -5.7551, -6.211, -6.1181, -6.4253, -6.4774], \"loglift\": [30.0, 29.0, 28.0, 27.0, 26.0, 25.0, 24.0, 23.0, 22.0, 21.0, 20.0, 19.0, 18.0, 17.0, 16.0, 15.0, 14.0, 13.0, 12.0, 11.0, 10.0, 9.0, 8.0, 7.0, 6.0, 5.0, 4.0, 3.0, 2.0, 1.0, 0.7602, 0.7043, 0.6931, 0.6727, 0.6694, 0.6671, 0.666, 0.6647, 0.664, 0.6634, 0.6624, 0.6613, 0.6604, 0.6582, 0.6543, 0.6532, 0.6528, 0.6528, 0.6511, 0.6508, 0.6499, 0.6471, 0.6463, 0.6461, 0.6447, 0.6444, 0.6417, 0.6417, 0.6386, 0.6382, 0.6328, 0.6238, 0.6065, 0.6261, 0.561, 0.61, 0.5911, 0.6069, 0.3761, 0.4296, 0.6301, 0.3516, 0.4769, 0.4836, 0.5356, 0.181, 0.3145, 0.375, 0.4236, 0.3674, 0.2242, 0.3231, 0.2972, 0.3077, 0.4723, 0.1479, 0.163, 0.2522, 0.24, 0.3876, 0.1399, -0.0404, 0.1398, 0.1681, 0.1423, 0.0472, 0.0397, 0.2173, 0.1804, 0.1915, 0.1041, 0.1354, 0.1444, 0.0848, 0.2436, 0.1269, -0.0277, 0.1076, 0.0639, -0.0716, -0.0459, -0.0973, -0.1938, -0.0729, -0.0921, -0.0819, -0.0573, 0.9876, 0.9034, 0.8994, 0.8653, 0.8649, 0.8557, 0.8551, 0.8545, 0.8544, 0.8538, 0.8517, 0.8514, 0.8501, 0.8465, 0.842, 0.8417, 0.8406, 0.8405, 0.8397, 0.8356, 0.8355, 0.8353, 0.8324, 0.8286, 0.8218, 0.8213, 0.8199, 0.8196, 0.8174, 0.8142, 0.8129, 0.7914, 0.8134, 0.7947, 0.7663, 0.6659, 0.7751, 0.7329, 0.4032, 0.7225, 0.7725, 0.734, 0.5941, 0.6624, 0.6206, 0.3674, 0.2875, 0.6555, 0.4981, 0.6582, 0.6216, 0.404, 0.1209, 0.0089, 0.42, 0.2398, 0.2626, 0.1025, 0.2782, 0.2047, 0.3067, 0.3387, 0.5558, 0.2803, 0.3777, 0.1844, 0.2578, 0.1416, 0.3197, 0.2372, 0.2045, -0.0226, 0.0947, 0.1695, 0.0371, 0.0404, 0.0662, 0.2358, 0.0505, 0.1364, 0.1831, -0.0692, 0.0395, 0.0219, 0.1257, -0.0382, -0.0143, -0.1352, -0.1004, -0.1788, -0.0519, 1.3971, 1.2837, 1.2757, 1.2005, 1.1934, 1.1848, 1.1825, 1.1824, 1.1813, 1.1769, 1.1596, 1.1511, 1.1475, 1.1325, 1.1282, 1.1251, 1.1246, 1.1245, 1.1162, 1.1159, 1.1146, 1.1101, 1.1068, 1.1015, 1.0969, 1.0948, 1.0878, 1.0849, 1.0848, 1.0818, 1.0643, 1.0645, 1.0247, 0.4084, 0.5544, 0.562, 0.9741, 0.1536, 0.0064, 0.1417, 0.531, 0.3866, 0.8138, 0.3025, 0.5377, 0.2883, 0.4348, 0.7142, 0.1771, 0.3218, 0.2715, 0.3405, 0.2928, 0.2841, 0.4086, 0.2396, 0.2516, 0.5088, 0.2428, 0.1023, 0.2911, -0.0189, 0.2102, -0.0552, 0.0922, -0.0776, -0.0181, 0.1286, -0.0706, -0.3376, 0.0696, -0.0753, -0.0301, -0.0632, -0.052, -0.1873, -0.1237, -0.3727, 0.0299, -0.2714, -0.2699, 0.039, -0.2653, 1.5937, 1.4604, 1.4595, 1.4571, 1.456, 1.4518, 1.4511, 1.4471, 1.4424, 1.4407, 1.439, 1.4356, 1.4301, 1.4301, 1.4295, 1.4218, 1.4191, 1.3934, 1.3874, 1.3856, 1.3849, 1.3787, 1.3753, 1.3391, 1.3361, 1.3279, 1.3259, 1.3142, 1.3118, 1.3104, 1.2908, 1.2563, 1.2843, 1.231, 1.1971, 0.1414, 0.7324, 0.4598, 0.8932, 0.8351, 1.1276, 0.2606, 0.06, 0.4552, 0.3562, 0.3814, 0.227, 0.3911, 0.1814, 0.3091, 0.2841, 0.6265, 0.2541, 0.0562, 0.4302, 0.0206, 0.0255, 0.8697, 0.1322, 0.543, 0.1661, 0.1661, 0.296, 0.1997, 0.3358, 0.0075, -0.2974, 0.034, -0.1388, -0.0794, 0.1517, -0.1088, 0.1079, -0.5488, -0.0834, -0.3448, -0.2462, -0.2547, -0.2437, -0.0205, -0.253, 1.4767, 1.4756, 1.4742, 1.4697, 1.4659, 1.461, 1.4586, 1.4585, 1.4546, 1.448, 1.4421, 1.4375, 1.437, 1.4369, 1.4365, 1.4327, 1.4291, 1.4284, 1.421, 1.4202, 1.4158, 1.4154, 1.4146, 1.4142, 1.4132, 1.4117, 1.4116, 1.409, 1.4017, 1.3981, 1.3587, 1.0067, 1.2389, 1.1688, 1.2434, -0.0573, 0.213, 0.4946, 0.175, 0.2486, 0.4259, 0.475, 0.3264, 0.6429, 0.3866, 0.3214, 0.6662, 0.0609, -0.0968, 0.2117, 0.2637, 0.2358, 0.1064, 0.1792, 0.1203, 0.5259, 0.0638, 0.8263, 0.8003, 0.0659, 0.1834, 0.5063, 0.3261, 0.2596, -0.0724, 0.1584, 0.1553, -0.1222, -0.1017, 0.0021, -0.1182, -0.0885, -0.239, -0.165, -0.5028, -0.5824, -0.2401, -0.3637, -0.1928, -0.537]}, \"token.table\": {\"Topic\": [1, 1, 2, 3, 5, 5, 3, 1, 2, 3, 4, 5, 1, 2, 3, 4, 5, 1, 2, 3, 4, 5, 2, 4, 4, 4, 5, 3, 1, 2, 3, 4, 5, 1, 2, 1, 2, 3, 4, 5, 1, 1, 5, 2, 4, 1, 2, 3, 4, 5, 1, 2, 3, 4, 5, 3, 5, 5, 1, 2, 3, 4, 5, 2, 4, 1, 2, 3, 4, 5, 1, 2, 3, 4, 5, 1, 2, 3, 4, 5, 1, 1, 2, 1, 2, 3, 4, 5, 4, 3, 4, 3, 3, 1, 2, 3, 4, 5, 1, 2, 3, 4, 5, 1, 4, 3, 5, 1, 2, 3, 4, 5, 4, 5, 4, 1, 2, 3, 4, 5, 1, 2, 3, 1, 2, 3, 4, 5, 1, 2, 3, 4, 5, 1, 2, 4, 1, 2, 4, 5, 1, 2, 3, 5, 1, 2, 3, 4, 5, 3, 1, 2, 3, 4, 5, 1, 2, 3, 4, 5, 1, 1, 2, 3, 4, 5, 1, 2, 3, 4, 5, 1, 2, 3, 4, 5, 1, 2, 3, 4, 5, 5, 5, 4, 1, 2, 3, 4, 5, 3, 4, 1, 2, 3, 4, 5, 4, 5, 4, 2, 1, 3, 3, 1, 2, 3, 4, 5, 1, 4, 1, 2, 3, 4, 5, 2, 1, 2, 3, 4, 5, 1, 2, 3, 4, 5, 5, 1, 2, 5, 1, 2, 3, 4, 5, 1, 2, 3, 4, 5, 3, 5, 1, 2, 3, 4, 5, 1, 2, 3, 4, 5, 5, 1, 4, 1, 2, 3, 4, 5, 5, 1, 2, 3, 4, 5, 1, 1, 2, 3, 4, 5, 3, 1, 2, 3, 4, 5, 1, 2, 3, 4, 5, 1, 2, 3, 4, 5, 3, 1, 2, 3, 4, 5, 3, 3, 3, 2, 2, 4, 1, 2, 3, 1, 2, 3, 4, 5, 1, 2, 3, 4, 5, 2, 1, 2, 3, 4, 5, 1, 2, 3, 4, 5, 4, 1, 2, 3, 5, 5, 1, 2, 3, 5, 1, 2, 3, 4, 5, 1, 2, 3, 1, 2, 3, 4, 5, 3, 1, 2, 3, 3, 5, 1, 2, 3, 4, 5, 1, 2, 3, 4, 5, 1, 2, 3, 4, 5, 1, 2, 3, 4, 5, 1, 5, 1, 2, 3, 4, 5, 2, 1, 2, 3, 4, 5, 1, 2, 3, 4, 5, 1, 2, 3, 4, 5, 1, 1, 2, 3, 4, 5, 1, 2, 3, 4, 5, 1, 2, 3, 4, 5, 5, 2, 1, 2, 3, 4, 5, 1, 2, 3, 4, 5, 1, 2, 3, 4, 5, 1, 1, 2, 3, 4, 5, 1, 2, 3, 4, 5, 1, 2, 3, 5, 1, 2, 3, 4, 5, 1, 2, 1, 3, 4, 5, 1, 2, 3, 4, 5, 1, 1, 2, 3, 1, 2, 5, 2, 1, 3, 1, 1, 1, 2, 3, 4, 5, 4, 1, 2, 3, 4, 5, 5, 1, 2, 3, 4, 5, 1, 2, 3, 4, 5, 1, 2, 3, 4, 5, 1, 2, 3, 4, 1, 4, 5, 1, 2, 3, 4, 5, 2, 4, 1, 2, 1, 2, 3, 4, 5, 1, 1, 2, 3, 4, 5, 1, 1, 2, 3, 4, 5, 5, 1, 2, 3, 4, 5, 1, 2, 3, 4, 5, 1, 2, 1, 2, 3, 4, 5, 1, 1, 2, 3, 4, 5, 1, 1, 2, 3, 4, 5, 1, 2, 3, 4, 5, 1, 2, 3, 4, 5, 1, 2, 3, 4, 5, 1, 2, 3, 4, 1, 2, 3, 4, 5, 1, 2, 3, 4, 2, 1, 2, 3, 4, 5, 1, 2, 3, 4, 5, 1, 2, 3, 4, 5, 1, 2, 3, 4, 5, 1, 1, 2, 3, 4, 5, 2, 2, 1, 2, 3, 4, 5, 1, 3, 1, 2, 3, 4, 5, 1, 2, 3, 4, 5, 1, 2, 3, 4, 5, 1, 2, 4, 1, 2, 3, 4, 5, 1, 2, 3, 4, 5, 5, 1, 2, 3, 4, 5, 2, 1, 2, 3, 4, 5, 1, 2, 3, 4, 5, 1, 2, 3, 4, 5, 1, 2, 3, 4, 5, 1, 2, 3, 4, 5, 1, 2, 3, 4, 5, 1, 2, 3, 4, 5, 3, 2, 3, 1, 2, 3, 4, 5, 5, 4, 5, 2, 1, 2, 3, 1, 2, 3, 4, 5, 1, 2, 3, 4, 5, 1, 2, 3, 4, 5, 5, 1, 2, 3, 4, 5, 2, 1, 1, 2, 3, 4, 5, 1, 2, 1, 2, 3, 4, 5, 1, 2, 3, 4, 5, 1, 2, 3, 4, 5, 1, 2, 3, 4, 5, 1, 2, 3, 4, 5, 5, 3, 1, 2, 3, 4, 5, 2, 1, 2, 3, 4, 5, 3, 1, 2, 3, 4, 5, 1, 1, 2, 3, 4, 5, 1, 3, 5, 1, 2, 3, 4, 5, 2, 1, 2, 3, 4, 5, 1, 2, 3, 4, 5, 4, 4, 1, 2, 3, 4, 5, 1, 2, 3, 4, 5, 2, 1, 1, 2, 4, 2, 2, 4, 2, 3, 1, 2, 3, 4, 5, 1, 2, 3, 4, 5, 1, 2, 3, 4, 5, 5, 1, 2, 3, 4, 5, 1, 2, 3, 4, 5, 5, 4, 1, 2, 3, 5, 4, 3, 1, 1, 2, 3, 4, 5, 1, 2, 3, 4, 5, 2, 1, 2, 3, 4, 5, 5, 1, 1, 2, 3, 4, 5, 1, 1, 4, 1, 2, 3, 4, 5, 2, 4, 1, 2, 3, 4, 5, 4, 1, 2, 1, 2, 3, 4, 5], \"Freq\": [0.506404395278222, 0.6524110055695622, 0.14498022345990272, 0.07249011172995136, 0.14498022345990272, 0.6889596732715869, 0.6283851549472119, 0.42115625078701, 0.3033503065109233, 0.1560928761658149, 0.05006752631733686, 0.06773841795874987, 0.34625247543477305, 0.2524083465786196, 0.19416026659893817, 0.1262041732893098, 0.07766410663957526, 0.40520232783360977, 0.2784650358680314, 0.13030735652798903, 0.09639174318508778, 0.08925161406026647, 0.5644941465907751, 0.7051579466476998, 0.7069629802541657, 0.7060696127620008, 0.6870401453138447, 0.41599830896257317, 0.3317960674343884, 0.4313348876647049, 0.14930823034547477, 0.06635921348687768, 0.03317960674343884, 0.2123907946234547, 0.6371723838703641, 0.3353602784170118, 0.22357351894467456, 0.11178675947233728, 0.2794668986808432, 0.11178675947233728, 0.7658047309603739, 0.507293627559811, 0.6855947982928601, 0.5550727255642627, 0.6881952468586298, 0.33600931740622925, 0.222492656120341, 0.24973665482895416, 0.0908133290287106, 0.09989466193158167, 0.5426325322428065, 0.23407677861454398, 0.10639853573388362, 0.05319926786694181, 0.06383912144033017, 0.62378418321816, 0.6889623799366696, 0.6790338422411911, 0.3336253012631841, 0.21447340795490408, 0.2263885972857321, 0.12510948797369406, 0.10127910931203804, 0.5579724655621262, 0.6856343750749706, 0.28753521030617774, 0.2515933090179055, 0.26057878433997356, 0.10782570386481666, 0.08985475322068054, 0.2562528848507727, 0.3245869874776454, 0.2904199361642091, 0.05125057697015454, 0.0854176282835909, 0.48725697989103745, 0.18794197795797157, 0.1670595359626414, 0.09049058197976409, 0.06960813998443392, 0.6722509549157771, 0.2690173609283396, 0.5380347218566792, 0.3334686941508473, 0.3379149434061919, 0.162288097820079, 0.09781748361758187, 0.06891686345784177, 0.7062929943826568, 0.626086712559827, 0.7065494587756088, 0.6187131613055271, 0.6196891414245035, 0.20884760773520392, 0.31327141160280586, 0.28716546063590537, 0.05221190193380098, 0.13052975483450244, 0.39613667177567685, 0.1485512519158788, 0.09903416794391921, 0.1485512519158788, 0.24758541985979804, 0.32182191424636214, 0.32182191424636214, 0.6187296011574814, 0.6789379807878261, 0.45095067495555313, 0.2301727403418969, 0.15031689165185103, 0.05636883436944414, 0.10804026587476794, 0.4584483482316636, 0.6890782462885321, 0.6866220679608698, 0.228803529095736, 0.57200882273934, 0.114401764547868, 0.057200882273934, 0.057200882273934, 0.24287873957034808, 0.24287873957034808, 0.48575747914069617, 0.2902375239078581, 0.19858356898958712, 0.2673240351782904, 0.13748093237740647, 0.11456744364783873, 0.3547504936180785, 0.2990458706532562, 0.14365929080401527, 0.07622737879396728, 0.12606835723617665, 0.22799583106821167, 0.683987493204635, 0.22799583106821167, 0.22731910148179862, 0.22731910148179862, 0.45463820296359725, 0.22731910148179862, 0.2461876336216824, 0.615469084054206, 0.1230938168108412, 0.1230938168108412, 0.5589382119810786, 0.10480091474645224, 0.13973455299526966, 0.10480091474645224, 0.06986727649763483, 0.6258951810516205, 0.4222150227571295, 0.29928239914673477, 0.12220088180319, 0.0621980536124021, 0.09512643493661496, 0.4145572183900992, 0.3052806294420814, 0.1422330205355152, 0.08325835348420402, 0.053771019958548424, 0.6748398599581091, 0.359913298338479, 0.2056647419077023, 0.13710982793846818, 0.10283237095385114, 0.2056647419077023, 0.5799720735505536, 0.24165503064606397, 0.09666201225842559, 0.048331006129212796, 0.048331006129212796, 0.2936426417797644, 0.31901916637801564, 0.14138349419025692, 0.15225914758950745, 0.09425566279350461, 0.2579929399185845, 0.31696275475711816, 0.14742453709633402, 0.13268208338670062, 0.14742453709633402, 0.6855078111356525, 0.6802763881066062, 0.7058848996737584, 0.26808706389143705, 0.3361726674194211, 0.17446935904045904, 0.09787305507147702, 0.12340515639447103, 0.6161918093187223, 0.6860949474189411, 0.44035302250237, 0.2211911495518817, 0.16640068131425964, 0.0771125108529496, 0.09537600026549028, 0.6845837271038776, 0.6862870820948628, 0.4572313583752317, 0.561278627485055, 0.5080287766914846, 0.6141494767192257, 0.39519490770046284, 0.2653818785055523, 0.4776873813099941, 0.13269093925277614, 0.07961456355166568, 0.053076375701110456, 0.3182078364321736, 0.3182078364321736, 0.2569607258838875, 0.4052072985092072, 0.17789588715038365, 0.07906483873350385, 0.08894794357519183, 0.5661480974162917, 0.304852596314323, 0.24104623894620886, 0.2233222507883994, 0.14179190526247581, 0.08861994078904738, 0.3356596765937003, 0.28274780639173763, 0.20338000108879375, 0.0843282931343779, 0.09259577285343455, 0.6835299878805869, 0.14557849303895803, 0.5823139721558321, 0.14557849303895803, 0.23543783508010702, 0.5493549485202497, 0.15695855672007133, 0.07847927836003567, 0.07847927836003567, 0.408085740512768, 0.23120216015399145, 0.16713409167758417, 0.11002994368774292, 0.08217426174147889, 0.6273358645691628, 0.6774619253379924, 0.3399226861180327, 0.2887014594427127, 0.21885433215818545, 0.06519065213222545, 0.08381655274143272, 0.3227478246783587, 0.1972347817478859, 0.10758260822611958, 0.07172173881741305, 0.2868869552696522, 0.6840568022795924, 0.5047454577930793, 0.706364110199886, 0.3371553757243848, 0.2545192542233101, 0.18841035702245035, 0.13882868412180552, 0.08263612150107472, 0.6805443454658266, 0.12900624279875375, 0.516024971195015, 0.12900624279875375, 0.12900624279875375, 0.12900624279875375, 0.6791254136581625, 0.4772086380266321, 0.13737824428039408, 0.15183911209938294, 0.11568694255191081, 0.12291737646140524, 0.6188893421430275, 0.28962539694353784, 0.24768868788384005, 0.2568623429906489, 0.07601028517070224, 0.12974169365344002, 0.26910457791468684, 0.21757391405868298, 0.2977327245013557, 0.0916100690773402, 0.12596384498134278, 0.328081632781005, 0.35403159243599974, 0.16867473775746586, 0.05931419349713085, 0.09267842733926696, 0.6163910884687585, 0.32380946053538173, 0.19134195395272557, 0.13246750658265616, 0.17662334211020822, 0.17662334211020822, 0.6215807066209812, 0.6170364984394662, 0.6173308445841398, 0.5480622510076445, 0.5649645172388714, 0.6803095266068218, 0.7143553059420552, 0.14287106118841103, 0.14287106118841103, 0.3192392044975614, 0.39629694351421413, 0.11833867063271672, 0.09357011166307834, 0.07292964585504635, 0.25321172294244815, 0.2975237744573766, 0.1835784991332749, 0.10128468917697926, 0.1709179129861525, 0.5622013111846882, 0.41728764766810306, 0.3196245811925896, 0.11985921794722108, 0.05992960897361054, 0.08656499073965968, 0.3248825383191962, 0.48732380747879434, 0.08122063457979906, 0.08122063457979906, 0.04061031728989953, 0.5845869164989693, 0.24650199048542623, 0.49300398097085246, 0.12325099524271312, 0.12325099524271312, 0.6821378602004432, 0.2605293276139491, 0.2605293276139491, 0.2605293276139491, 0.2605293276139491, 0.27248136661394884, 0.27248136661394884, 0.045413561102324806, 0.18165424440929923, 0.22706780551162403, 0.7867377400524853, 0.19668443501312133, 0.617157697739038, 0.3238448814905897, 0.24764608584574507, 0.17144729020090044, 0.08889859491898541, 0.17144729020090044, 0.6179899407889743, 0.29858014229209884, 0.29858014229209884, 0.5971602845841977, 0.6284037010963309, 0.680444085464958, 0.14042561175180887, 0.14042561175180887, 0.14042561175180887, 0.4212768352554266, 0.14042561175180887, 0.40495615587987027, 0.25459268871772434, 0.15890684597817695, 0.09910319426595982, 0.08201643663389778, 0.4008064491207948, 0.18566769334272115, 0.2269271807522147, 0.10904293101080448, 0.07957186857545191, 0.4996650900846449, 0.13758893784939497, 0.18103807611762496, 0.10138132262586998, 0.07965675349175498, 0.5043820928464646, 0.6874660834104152, 0.3073355990490948, 0.31103843759185495, 0.14441070316764695, 0.09997664065452481, 0.13700502608212659, 0.7633762756803695, 0.2748800835267701, 0.40053955028186505, 0.14922061677167522, 0.0942446000663212, 0.08639088339412776, 0.4515166620453571, 0.18289282513229654, 0.13145421806383814, 0.12573881727845387, 0.10859261492230109, 0.36917967274981806, 0.2591948952431014, 0.199203198421256, 0.11383039909786057, 0.058453448185387856, 0.5082343919877979, 0.35935111144985454, 0.24248896138486117, 0.17821477884911485, 0.09348972005199467, 0.12854836507149267, 0.5633903441504923, 0.16096866975728352, 0.08048433487864176, 0.08048433487864176, 0.08048433487864176, 0.39222543497259343, 0.2659610826184024, 0.18268033957627638, 0.07790779187811787, 0.08059426746012194, 0.6789080792152876, 0.5647310736197918, 0.4255226346021583, 0.2694976685813669, 0.1241107684256295, 0.09574259278548562, 0.08510452692043166, 0.5242445492565735, 0.21358111266008548, 0.0970823239364025, 0.0970823239364025, 0.077665859149122, 0.5088314456026373, 0.16592329747912082, 0.13273863798329666, 0.0995539784874725, 0.0995539784874725, 0.5019507247593663, 0.4462819214405629, 0.23156137433236754, 0.16840827224172186, 0.07578372250877484, 0.07578372250877484, 0.36001659423394733, 0.34126572995092924, 0.1650076056905592, 0.07500345713207236, 0.05625259284905427, 0.28360093510809153, 0.28360093510809153, 0.14180046755404577, 0.28360093510809153, 0.28843907968692145, 0.23349830260369833, 0.1510871369788636, 0.21976310833289253, 0.10988155416644627, 0.5958685936571346, 0.19862286455237818, 0.4388284147032392, 0.2194142073516196, 0.2194142073516196, 0.4388284147032392, 0.4000899702987657, 0.27374576915178706, 0.1305556745185446, 0.07159504731662122, 0.12634420114697864, 0.6125308430393998, 0.7487474474331618, 0.10696392106188025, 0.10696392106188025, 0.28119860043836026, 0.5623972008767205, 0.6794618782185045, 0.561923223722849, 0.5046995911664578, 0.6266037596203305, 0.5051013813238961, 0.5046564400874823, 0.16937228932413795, 0.5081168679724138, 0.22582971909885058, 0.056457429774712645, 0.056457429774712645, 0.7057572716285702, 0.397966886901032, 0.19388130387486174, 0.13775776854266492, 0.15816632684528195, 0.10714493108873939, 0.6802344135818239, 0.24468746247665515, 0.21672318105075172, 0.30061602532846204, 0.09787498499066206, 0.13283033677304137, 0.3220353525178054, 0.32589206332640186, 0.13112816749228004, 0.1291998120879818, 0.09448941481061356, 0.3041980075733479, 0.3650376090880175, 0.1764348443925418, 0.09125940227200438, 0.060839601514669585, 0.20294110423378262, 0.20294110423378262, 0.6088233127013478, 0.6907279387361396, 0.5083468613921338, 0.7065981246905081, 0.4441820397003322, 0.2917443913908561, 0.3507488750429394, 0.11145291356504616, 0.1048968598259258, 0.14423318226064796, 0.5564246271156068, 0.6657525565366897, 0.2053663448637355, 0.6160990345912065, 0.2776072894600692, 0.5274538499741315, 0.055521457892013834, 0.055521457892013834, 0.11104291578402767, 0.5047171375069505, 0.3100248382068896, 0.28747757724638856, 0.15219401148338216, 0.14655719624325692, 0.10709948956238005, 0.5104206061145915, 0.5036448843036564, 0.16788162810121882, 0.16788162810121882, 0.07194926918623663, 0.07194926918623663, 0.6775532476973225, 0.3613013696150131, 0.3871086103017997, 0.14624103055845766, 0.051614481373573294, 0.06021689493583551, 0.27517323121620557, 0.38369225197752604, 0.17828124839359796, 0.0968919828226076, 0.06588654831937316, 0.3454583329324224, 0.6909166658648448, 0.3422424323295899, 0.27536747428817576, 0.1612866635116458, 0.1101469897152703, 0.11145826340235686, 0.5052297306459835, 0.3292622016754972, 0.24016772357506852, 0.1975573210052983, 0.14719957251375168, 0.08522080513954045, 0.5017912638285076, 0.29553330526844174, 0.33493774597090065, 0.17731998316106504, 0.09063021361565547, 0.09851110175614725, 0.39008207163617936, 0.2606798459491776, 0.11064827993526243, 0.13877919856287152, 0.09752051790904484, 0.2604611393707108, 0.2604611393707108, 0.29443433146254266, 0.12456837100338343, 0.0679463841836637, 0.6080463370011224, 0.10134105616685374, 0.10134105616685374, 0.10134105616685374, 0.10134105616685374, 0.17590633114054802, 0.5277189934216441, 0.6279706691069992, 0.6873775926864039, 0.18584322297927347, 0.4955819279447293, 0.12389548198618232, 0.06194774099309116, 0.12389548198618232, 0.35490290318484347, 0.17745145159242173, 0.17745145159242173, 0.35490290318484347, 0.5569078550349101, 0.2867477000559406, 0.31329841302408323, 0.12478835095027044, 0.16992456299611294, 0.10354778057575631, 0.4833119466432923, 0.2152935035047393, 0.11863111417608084, 0.1054498792676274, 0.07469366448123609, 0.3011436765271722, 0.37341815889369356, 0.16261758532467302, 0.10238885001923856, 0.06022873530543445, 0.22106517264934428, 0.5158187361818033, 0.07368839088311475, 0.07368839088311475, 0.07368839088311475, 0.5053673876419779, 0.26464359752347527, 0.13232179876173764, 0.35285813003130034, 0.13232179876173764, 0.13232179876173764, 0.5583410797482175, 0.5585890745372343, 0.5278201839728441, 0.20300776306647852, 0.14210543414653498, 0.06090232891994356, 0.06090232891994356, 0.6783923593984368, 0.617884311497501, 0.4371301556630479, 0.20763682393994776, 0.1602810570764509, 0.11292529021295404, 0.08378327983541752, 0.35261244410351944, 0.34421690972010227, 0.11753748136783981, 0.10634343552328364, 0.07835832091189321, 0.32534444675508073, 0.2756102638116289, 0.13055223022656107, 0.1346967454718487, 0.1346967454718487, 0.23050142898757076, 0.4610028579751415, 0.23050142898757076, 0.26376288359201494, 0.3033273161308172, 0.17144587433480973, 0.1099012014966729, 0.15386168209534207, 0.39485068193433803, 0.17700202983263427, 0.1633864890762778, 0.0816932445381389, 0.17700202983263427, 0.6840153776388311, 0.3382848341877714, 0.26752269323234174, 0.1719788742207911, 0.12360981584619361, 0.09882813779007267, 0.5582202583806701, 0.36756329097896295, 0.25080789266799824, 0.22053797458737776, 0.07351265819579259, 0.09080975424186143, 0.3448530890011974, 0.28151272571526315, 0.14779418100051317, 0.11964290842898684, 0.10556727214322369, 0.3716066581363717, 0.2306524084984376, 0.2263810676003184, 0.08115547706426508, 0.08969815886050352, 0.30041996050891756, 0.22531497038168816, 0.18025197630535053, 0.16523097827990466, 0.12767848321628997, 0.40422382671486545, 0.16746415678187282, 0.12126714801445963, 0.16746415678187282, 0.13281640020631294, 0.3663545579363678, 0.29370855817499847, 0.1968472251598394, 0.07967625780279214, 0.06327232237280553, 0.29370077001199696, 0.20559053900839785, 0.11748030800479878, 0.19090550050779803, 0.20559053900839785, 0.6163400700653642, 0.3189488642931306, 0.6378977285862611, 0.5147520034744716, 0.16294308023652337, 0.12961381382450723, 0.09628454741249108, 0.09998779923604843, 0.6769065170546996, 0.7055714020180941, 0.6795951937496423, 0.5558580619219204, 0.5895816358209431, 0.1965272119403144, 0.1965272119403144, 0.33792140768019985, 0.201662775551087, 0.2398151925472386, 0.1253579415587838, 0.09810621513296124, 0.4719603591083637, 0.17547244120695574, 0.18757398887640095, 0.07260928601667134, 0.09076160752083917, 0.38326825918175095, 0.27114190676155786, 0.15086091052898706, 0.08358509907687121, 0.1121263524201931, 0.6814280618713613, 0.4067351153598405, 0.22313940356546808, 0.17512206355770912, 0.09885922942773902, 0.09321013060329679, 0.5563371998055266, 0.504219914917966, 0.40326318311239784, 0.17869147036118227, 0.18835046875908404, 0.11107848157587007, 0.11832273037429637, 0.357012180699064, 0.714024361398128, 0.16505182826900963, 0.11003455217933976, 0.49515548480702887, 0.16505182826900963, 0.05501727608966988, 0.2869209688038409, 0.24837934612869805, 0.2312497360508568, 0.11134246550596809, 0.12418967306434903, 0.3383488714289865, 0.2451803416152076, 0.18143345279525364, 0.07845770931686644, 0.16181902546603702, 0.32422190428218145, 0.3498183704097221, 0.15784487445316728, 0.0639911653188516, 0.10238586451016256, 0.35513887557065166, 0.23084026912092356, 0.14205555022826066, 0.1953263815638584, 0.08878471889266291, 0.6856898904861172, 0.6174193568674006, 0.3274237935993913, 0.2512787253204631, 0.1878245017546896, 0.12183210924628514, 0.11167943347576137, 0.5594751917142526, 0.3836483953864336, 0.24603538399782154, 0.2376952014894208, 0.0708915513214062, 0.06255136881300548, 0.6192171958400138, 0.23335249474152758, 0.46670498948305517, 0.13334428270944432, 0.10000821203208325, 0.10000821203208325, 0.6838325381164525, 0.3342848409596365, 0.2724842821267625, 0.2303475374679848, 0.06741879145404434, 0.09550995455989614, 0.30490964901301987, 0.6098192980260397, 0.6827454409109959, 0.3686711547383635, 0.1698372735311562, 0.21126099878265772, 0.15741015595570576, 0.09113219555330333, 0.5556031412242228, 0.4158432778761791, 0.3610068016727269, 0.08225471430517828, 0.0776850079548906, 0.06854559525431524, 0.6262990493454801, 0.22367823190910005, 0.08947129276364002, 0.04473564638182001, 0.04473564638182001, 0.6861310161236315, 0.7062899728691079, 0.5678220055277812, 0.16223485872222318, 0.10815657248148212, 0.08111742936111159, 0.05407828624074106, 0.3030600980934827, 0.15153004904674136, 0.1894125613084267, 0.2651775858317974, 0.11364753678505603, 0.5562555307176842, 0.5037919817848192, 0.26595064671225627, 0.26595064671225627, 0.26595064671225627, 0.5491569392861929, 0.34853026207510857, 0.34853026207510857, 0.5581883954016279, 0.6189129956799574, 0.3759412294958502, 0.24060238687734414, 0.1611176697839358, 0.1074117798559572, 0.11600472224443378, 0.3580852136161866, 0.25624446478956475, 0.1675444577470231, 0.08541482159652158, 0.13140741784080243, 0.3138408661161692, 0.30716340087965494, 0.1268718394937705, 0.14690423520331322, 0.10016197854771357, 0.6767415818716492, 0.3005997874378903, 0.3261827480709022, 0.15349776379807165, 0.07674888189903582, 0.14390415356069217, 0.41305078856905925, 0.1884794860460756, 0.16040807323070264, 0.13233666041532965, 0.1042652475999567, 0.6793778854865354, 0.706757534210673, 0.6395638265273703, 0.12791276530547407, 0.12791276530547407, 0.12791276530547407, 0.6918151360836182, 0.619351821069626, 0.5065062711100303, 0.4174656491092099, 0.20479446937432938, 0.21660953491515608, 0.07089039324496017, 0.09058216914633799, 0.40440772343030046, 0.2917039316546429, 0.15911123544798705, 0.08287043512915993, 0.061324121995578344, 0.7468097135187235, 0.3276194911663586, 0.27536983093724104, 0.15816113366651793, 0.11297223833322709, 0.1242694621665498, 0.6857895808169436, 0.5036227957172402, 0.3663267201627136, 0.1373725200610176, 0.1373725200610176, 0.2747450401220352, 0.0915816800406784, 0.5028959977032014, 0.5014596677272817, 0.6796134289222939, 0.3849348156827721, 0.24139979966546724, 0.15658365383705983, 0.1272242187426111, 0.09460262419322364, 0.5552555021590662, 0.7072123208324563, 0.2351223767441795, 0.15674825116278632, 0.3918706279069658, 0.07837412558139316, 0.15674825116278632, 0.6877911833105086, 0.6955476241713762, 0.7092286976615666, 0.29934137449810944, 0.3070167943570353, 0.16885923689636945, 0.12664442767227707, 0.09978045816603648], \"Term\": [\"2ldquo;la\", \"abeja\", \"abeja\", \"abeja\", \"abeja\", \"abrelata\", \"aburrir.es\", \"acabar\", \"acabar\", \"acabar\", \"acabar\", \"acabar\", \"acci\\u00f3n\", \"acci\\u00f3n\", \"acci\\u00f3n\", \"acci\\u00f3n\", \"acci\\u00f3n\", \"actor\", \"actor\", \"actor\", \"actor\", \"actor\", \"aflautado\", \"agonizar\", \"ahumadas.imagino\", \"ahumarles.es\", \"albarn\", \"alfie\", \"allen\", \"allen\", \"allen\", \"allen\", \"allen\", \"almodovar\", \"almodovar\", \"amado\", \"amado\", \"amado\", \"amado\", \"amado\", \"americo\", \"andamo\", \"andaro\", \"aneurisma\", \"apestoso\", \"argumento\", \"argumento\", \"argumento\", \"argumento\", \"argumento\", \"asesino\", \"asesino\", \"asesino\", \"asesino\", \"asesino\", \"asesinordquo\", \"asilo\", \"aslar\", \"aspecto\", \"aspecto\", \"aspecto\", \"aspecto\", \"aspecto\", \"aspenrdquo\", \"assayas\", \"autor\", \"autor\", \"autor\", \"autor\", \"autor\", \"avanzar\", \"avanzar\", \"avanzar\", \"avanzar\", \"avanzar\", \"aventura\", \"aventura\", \"aventura\", \"aventura\", \"aventura\", \"avivado\", \"azucar\", \"azucar\", \"a\\u00f1o\", \"a\\u00f1o\", \"a\\u00f1o\", \"a\\u00f1o\", \"a\\u00f1o\", \"balbricker\", \"barbossa\", \"bebo\", \"blandos.encantado\", \"blow\", \"bond\", \"bond\", \"bond\", \"bond\", \"bond\", \"borat\", \"borat\", \"borat\", \"borat\", \"borat\", \"bradley\", \"bradley\", \"breatchnach\", \"bricolaje\", \"buscar\", \"buscar\", \"buscar\", \"buscar\", \"buscar\", \"busc\\u00e1is\", \"cag\\u00e1ndote\", \"caleidoscopio\", \"caligari\", \"caligari\", \"caligari\", \"caligari\", \"caligari\", \"calzoncillo\", \"calzoncillo\", \"calzoncillo\", \"capaz\", \"capaz\", \"capaz\", \"capaz\", \"capaz\", \"caso\", \"caso\", \"caso\", \"caso\", \"caso\", \"cento\", \"cento\", \"cento\", \"cerdito\", \"cerdito\", \"cerdito\", \"cerdito\", \"cesare\", \"cesare\", \"cesare\", \"cesare\", \"chaval\", \"chaval\", \"chaval\", \"chaval\", \"chaval\", \"chenoa\", \"cine\", \"cine\", \"cine\", \"cine\", \"cine\", \"cinta\", \"cinta\", \"cinta\", \"cinta\", \"cinta\", \"closer\", \"coche\", \"coche\", \"coche\", \"coche\", \"coche\", \"colina\", \"colina\", \"colina\", \"colina\", \"colina\", \"comedia\", \"comedia\", \"comedia\", \"comedia\", \"comedia\", \"comenzar\", \"comenzar\", \"comenzar\", \"comenzar\", \"comenzar\", \"compact\", \"compite\", \"conservant\", \"contar\", \"contar\", \"contar\", \"contar\", \"contar\", \"cooke\", \"cortometraje.particularmente\", \"cosa\", \"cosa\", \"cosa\", \"cosa\", \"cosa\", \"creo.parece\", \"cronica\", \"cuervo\", \"cuidado.en\", \"cuidados.la\", \"c\\u00e1balar\", \"c\\u00e1rgatir\", \"c\\u00f3mic\", \"c\\u00f3mic\", \"c\\u00f3mic\", \"c\\u00f3mic\", \"c\\u00f3mic\", \"daemon\", \"daemon\", \"dar \\u00e9l\", \"dar \\u00e9l\", \"dar \\u00e9l\", \"dar \\u00e9l\", \"dar \\u00e9l\", \"darjeeling\", \"decir\", \"decir\", \"decir\", \"decir\", \"decir\", \"dejar\", \"dejar\", \"dejar\", \"dejar\", \"dejar\", \"dental\", \"diesel\", \"diesel\", \"diesel\", \"diluir\", \"diluir\", \"diluir\", \"diluir\", \"diluir\", \"director\", \"director\", \"director\", \"director\", \"director\", \"directorrdquo\", \"disc\", \"efecto\", \"efecto\", \"efecto\", \"efecto\", \"efecto\", \"elegir\", \"elegir\", \"elegir\", \"elegir\", \"elegir\", \"embotar\", \"empieza\", \"encendidas!!!al\", \"encontrar\", \"encontrar\", \"encontrar\", \"encontrar\", \"encontrar\", \"engendrar\", \"enrique\", \"enrique\", \"enrique\", \"enrique\", \"enrique\", \"enslin\", \"entender\", \"entender\", \"entender\", \"entender\", \"entender\", \"es.yo\", \"escena\", \"escena\", \"escena\", \"escena\", \"escena\", \"especial\", \"especial\", \"especial\", \"especial\", \"especial\", \"espectador\", \"espectador\", \"espectador\", \"espectador\", \"espectador\", \"espectador.el\", \"espect\\u00e1culo\", \"espect\\u00e1culo\", \"espect\\u00e1culo\", \"espect\\u00e1culo\", \"espect\\u00e1culo\", \"esperabas\", \"esperabir\", \"exagerad\\u00edsimo\", \"explosivardquo\", \"f.b.i\", \"fake\", \"fargo\", \"fargo\", \"fargo\", \"film\", \"film\", \"film\", \"film\", \"film\", \"filme\", \"filme\", \"filme\", \"filme\", \"filme\", \"filme.artero\", \"forma\", \"forma\", \"forma\", \"forma\", \"forma\", \"francis\", \"francis\", \"francis\", \"francis\", \"francis\", \"fuzz\", \"gabinete\", \"gabinete\", \"gabinete\", \"gabinete\", \"gamberrete\", \"gardner\", \"gardner\", \"gardner\", \"gardner\", \"garfio\", \"garfio\", \"garfio\", \"garfio\", \"garfio\", \"garner\", \"garner\", \"general.si\", \"gente\", \"gente\", \"gente\", \"gente\", \"gente\", \"geometr\\u00eda\", \"giselle\", \"giselle\", \"giselle\", \"gracienta\", \"grandes.esta\", \"granjero\", \"granjero\", \"granjero\", \"granjero\", \"granjero\", \"gui\\u00f3n\", \"gui\\u00f3n\", \"gui\\u00f3n\", \"gui\\u00f3n\", \"gui\\u00f3n\", \"gustar\", \"gustar\", \"gustar\", \"gustar\", \"gustar\", \"g\\u00e9nero\", \"g\\u00e9nero\", \"g\\u00e9nero\", \"g\\u00e9nero\", \"g\\u00e9nero\", \"g\\u00fceno\", \"habreis\", \"hacer\", \"hacer\", \"hacer\", \"hacer\", \"hacer\", \"hart\", \"hecho\", \"hecho\", \"hecho\", \"hecho\", \"hecho\", \"hijo\", \"hijo\", \"hijo\", \"hijo\", \"hijo\", \"historia\", \"historia\", \"historia\", \"historia\", \"historia\", \"hitmar\", \"hombre\", \"hombre\", \"hombre\", \"hombre\", \"hombre\", \"homer\", \"homer\", \"homer\", \"homer\", \"homer\", \"hora\", \"hora\", \"hora\", \"hora\", \"hora\", \"iggy\", \"iliada\", \"imagen\", \"imagen\", \"imagen\", \"imagen\", \"imagen\", \"imaginar\", \"imaginar\", \"imaginar\", \"imaginar\", \"imaginar\", \"imposible\", \"imposible\", \"imposible\", \"imposible\", \"imposible\", \"infernalesrdquo\", \"interesante\", \"interesante\", \"interesante\", \"interesante\", \"interesante\", \"interpretaci\\u00f3n\", \"interpretaci\\u00f3n\", \"interpretaci\\u00f3n\", \"interpretaci\\u00f3n\", \"interpretaci\\u00f3n\", \"irresistible\", \"irresistible\", \"irresistible\", \"irresistible\", \"jack\", \"jack\", \"jack\", \"jack\", \"jack\", \"jesse\", \"jesse\", \"jota\", \"jota\", \"jota\", \"jota\", \"joven\", \"joven\", \"joven\", \"joven\", \"joven\", \"jumanji\", \"kaufman\", \"kaufman\", \"kaufman\", \"lao\", \"lao\", \"lavadora\", \"ldquo;gil\", \"ldquo;magic\", \"ldquo;presente\", \"ldquo;saw\", \"ldquo;vista\", \"lecter\", \"lecter\", \"lecter\", \"lecter\", \"lecter\", \"leiser\", \"libro\", \"libro\", \"libro\", \"libro\", \"libro\", \"liderizar\", \"llamar\", \"llamar\", \"llamar\", \"llamar\", \"llamar\", \"llegar\", \"llegar\", \"llegar\", \"llegar\", \"llegar\", \"lograr\", \"lograr\", \"lograr\", \"lograr\", \"lograr\", \"luxaci\\u00f3n\", \"luxaci\\u00f3n\", \"luxaci\\u00f3n\", \"l\\u00edmites.jodie\", \"macario\", \"madero\", \"maleta\", \"malo\", \"malo\", \"malo\", \"malo\", \"malo\", \"marchala\", \"maric\\u00f3n\", \"martino\", \"martino\", \"masao\", \"masao\", \"masao\", \"masao\", \"masao\", \"mecha\", \"mejor\", \"mejor\", \"mejor\", \"mejor\", \"mejor\", \"mensual\", \"meter\", \"meter\", \"meter\", \"meter\", \"meter\", \"me\\u00e1ndote\", \"michael\", \"michael\", \"michael\", \"michael\", \"michael\", \"minuto\", \"minuto\", \"minuto\", \"minuto\", \"minuto\", \"mole\", \"mole\", \"momento\", \"momento\", \"momento\", \"momento\", \"momento\", \"moreno.el\", \"mostrar\", \"mostrar\", \"mostrar\", \"mostrar\", \"mostrar\", \"motu\", \"mujer\", \"mujer\", \"mujer\", \"mujer\", \"mujer\", \"mundo\", \"mundo\", \"mundo\", \"mundo\", \"mundo\", \"musical\", \"musical\", \"musical\", \"musical\", \"musical\", \"mu\\u00f1eco\", \"mu\\u00f1eco\", \"mu\\u00f1eco\", \"mu\\u00f1eco\", \"mu\\u00f1eco\", \"myers\", \"myers\", \"m\\u00fasica.total\", \"natali.me\", \"nave\", \"nave\", \"nave\", \"nave\", \"nave\", \"noise\", \"noise\", \"noise\", \"noise\", \"noriego\", \"obra\", \"obra\", \"obra\", \"obra\", \"obra\", \"ocasi\\u00f3n\", \"ocasi\\u00f3n\", \"ocasi\\u00f3n\", \"ocasi\\u00f3n\", \"ocasi\\u00f3n\", \"ocurrir\", \"ocurrir\", \"ocurrir\", \"ocurrir\", \"ocurrir\", \"oeste\", \"oeste\", \"oeste\", \"oeste\", \"oeste\", \"oliphant\", \"oliver\", \"oliver\", \"oliver\", \"oliver\", \"oliver\", \"oral\", \"ordenamiento\", \"orfanato\", \"orfanato\", \"orfanato\", \"orfanato\", \"orfanato\", \"orlear\", \"paddy\", \"pantalla\", \"pantalla\", \"pantalla\", \"pantalla\", \"pantalla\", \"papel\", \"papel\", \"papel\", \"papel\", \"papel\", \"pasar\", \"pasar\", \"pasar\", \"pasar\", \"pasar\", \"passi\", \"passi\", \"passi\", \"peli\", \"peli\", \"peli\", \"peli\", \"peli\", \"pelicula\", \"pelicula\", \"pelicula\", \"pelicula\", \"pelicula\", \"pelicular\", \"pel\\u00edcula\", \"pel\\u00edcula\", \"pel\\u00edcula\", \"pel\\u00edcula\", \"pel\\u00edcula\", \"pendencioso\", \"pensar\", \"pensar\", \"pensar\", \"pensar\", \"pensar\", \"peque\\u00f1o\", \"peque\\u00f1o\", \"peque\\u00f1o\", \"peque\\u00f1o\", \"peque\\u00f1o\", \"perder\", \"perder\", \"perder\", \"perder\", \"perder\", \"perfecto\", \"perfecto\", \"perfecto\", \"perfecto\", \"perfecto\", \"persona\", \"persona\", \"persona\", \"persona\", \"persona\", \"personaje\", \"personaje\", \"personaje\", \"personaje\", \"personaje\", \"peter\", \"peter\", \"peter\", \"peter\", \"peter\", \"pierde.el\", \"pinguino\", \"pinguino\", \"plano\", \"plano\", \"plano\", \"plano\", \"plano\", \"plazos\", \"porky's\", \"preg\\u00fantate\", \"premiere\", \"primicia\", \"primicia\", \"primicia\", \"problema\", \"problema\", \"problema\", \"problema\", \"problema\", \"producto\", \"producto\", \"producto\", \"producto\", \"producto\", \"protagonista\", \"protagonista\", \"protagonista\", \"protagonista\", \"protagonista\", \"pudrirte\", \"punto\", \"punto\", \"punto\", \"punto\", \"punto\", \"puya\", \"qepd\", \"quedar\", \"quedar\", \"quedar\", \"quedar\", \"quedar\", \"radford\", \"radford\", \"rata\", \"rata\", \"rata\", \"rata\", \"rata\", \"realidad\", \"realidad\", \"realidad\", \"realidad\", \"realidad\", \"realmente\", \"realmente\", \"realmente\", \"realmente\", \"realmente\", \"recordar\", \"recordar\", \"recordar\", \"recordar\", \"recordar\", \"recuerdo\", \"recuerdo\", \"recuerdo\", \"recuerdo\", \"recuerdo\", \"reemplazarte\", \"reier\", \"resultar\", \"resultar\", \"resultar\", \"resultar\", \"resultar\", \"rid\\u00edculos.todo\", \"ritmo\", \"ritmo\", \"ritmo\", \"ritmo\", \"ritmo\", \"rodando?.par\", \"rubio\", \"rubio\", \"rubio\", \"rubio\", \"rubio\", \"r\\u00e9my\", \"salir\", \"salir\", \"salir\", \"salir\", \"salir\", \"scholl\", \"scholl\", \"seguidores.la\", \"sentido\", \"sentido\", \"sentido\", \"sentido\", \"sentido\", \"sentir\\u00e1s\", \"serie\", \"serie\", \"serie\", \"serie\", \"serie\", \"simpson\", \"simpson\", \"simpson\", \"simpson\", \"simpson\", \"sin\\u00f3nimos\", \"sito\", \"solitario\", \"solitario\", \"solitario\", \"solitario\", \"solitario\", \"sparrow\", \"sparrow\", \"sparrow\", \"sparrow\", \"sparrow\", \"sr.aranda\", \"summers\", \"suso\", \"suso\", \"suso\", \"suzzanne\", \"s\\u00e9bastien\", \"s\\u00e9bastien\", \"tendenci\\u00f3s\", \"terror.pues\", \"tiempo\", \"tiempo\", \"tiempo\", \"tiempo\", \"tiempo\", \"tipo\", \"tipo\", \"tipo\", \"tipo\", \"tipo\", \"tomar\", \"tomar\", \"tomar\", \"tomar\", \"tomar\", \"tontear\", \"trabajo\", \"trabajo\", \"trabajo\", \"trabajo\", \"trabajo\", \"trama\", \"trama\", \"trama\", \"trama\", \"trama\", \"tripis\", \"trocearlo\", \"turco\", \"turco\", \"turco\", \"turco\", \"tykwer.y\", \"t\\u00edmpano\", \"valletta\", \"venir\", \"venir\", \"venir\", \"venir\", \"venir\", \"ver\", \"ver\", \"ver\", \"ver\", \"ver\", \"verisimilitud\", \"vida\", \"vida\", \"vida\", \"vida\", \"vida\", \"vida.tal\", \"vida.\\u00bfla\", \"vincent\", \"vincent\", \"vincent\", \"vincent\", \"vincent\", \"visionado.estamos\", \"visionado.resulta\", \"vital.se\", \"volver\", \"volver\", \"volver\", \"volver\", \"volver\", \"vomitar.este\", \"v\\u00edctima.el\", \"winslet\", \"winslet\", \"winslet\", \"winslet\", \"winslet\", \"z.la\", \"zathura\", \"\\u00ednfimo\", \"\\u00fanico\", \"\\u00fanico\", \"\\u00fanico\", \"\\u00fanico\", \"\\u00fanico\"]}, \"R\": 30, \"lambda.step\": 0.01, \"plot.opts\": {\"xlab\": \"PC1\", \"ylab\": \"PC2\"}, \"topic.order\": [5, 1, 3, 4, 2]};\n",
       "\n",
       "function LDAvis_load_lib(url, callback){\n",
       "  var s = document.createElement('script');\n",
       "  s.src = url;\n",
       "  s.async = true;\n",
       "  s.onreadystatechange = s.onload = callback;\n",
       "  s.onerror = function(){console.warn(\"failed to load library \" + url);};\n",
       "  document.getElementsByTagName(\"head\")[0].appendChild(s);\n",
       "}\n",
       "\n",
       "if(typeof(LDAvis) !== \"undefined\"){\n",
       "   // already loaded: just create the visualization\n",
       "   !function(LDAvis){\n",
       "       new LDAvis(\"#\" + \"ldavis_el106242366581813680760429737\", ldavis_el106242366581813680760429737_data);\n",
       "   }(LDAvis);\n",
       "}else if(typeof define === \"function\" && define.amd){\n",
       "   // require.js is available: use it to load d3/LDAvis\n",
       "   require.config({paths: {d3: \"https://d3js.org/d3.v5\"}});\n",
       "   require([\"d3\"], function(d3){\n",
       "      window.d3 = d3;\n",
       "      LDAvis_load_lib(\"https://cdn.jsdelivr.net/gh/bmabey/pyLDAvis@3.4.0/pyLDAvis/js/ldavis.v3.0.0.js\", function(){\n",
       "        new LDAvis(\"#\" + \"ldavis_el106242366581813680760429737\", ldavis_el106242366581813680760429737_data);\n",
       "      });\n",
       "    });\n",
       "}else{\n",
       "    // require.js not available: dynamically load d3 & LDAvis\n",
       "    LDAvis_load_lib(\"https://d3js.org/d3.v5.js\", function(){\n",
       "         LDAvis_load_lib(\"https://cdn.jsdelivr.net/gh/bmabey/pyLDAvis@3.4.0/pyLDAvis/js/ldavis.v3.0.0.js\", function(){\n",
       "                 new LDAvis(\"#\" + \"ldavis_el106242366581813680760429737\", ldavis_el106242366581813680760429737_data);\n",
       "            })\n",
       "         });\n",
       "}\n",
       "</script>"
      ],
      "text/plain": [
       "<IPython.core.display.HTML object>"
      ]
     },
     "execution_count": 31,
     "metadata": {},
     "output_type": "execute_result"
    }
   ],
   "source": [
    "#COMPLETAR\n",
    "lda = LdaModel(corpus=bow_criticas, num_topics=5)\n",
    "\n",
    "# Crear una visualización interactiva del modelo LDA\n",
    "vis = gensimvis.prepare(lda, bow_criticas, bow_criticas.diccionario)\n",
    "\n",
    "# Mostrar la visualización en el navegador\n",
    "pyLDAvis.display(vis)"
   ]
  }
 ],
 "metadata": {
  "kernelspec": {
   "display_name": "Python 3",
   "language": "python",
   "name": "python3"
  },
  "language_info": {
   "codemirror_mode": {
    "name": "ipython",
    "version": 3
   },
   "file_extension": ".py",
   "mimetype": "text/x-python",
   "name": "python",
   "nbconvert_exporter": "python",
   "pygments_lexer": "ipython3",
   "version": "3.10.9"
  },
  "vscode": {
   "interpreter": {
    "hash": "0205235b8c5ab439d493b174c798c34c1a4247fd8615a106b3ec5ca70c663250"
   }
  }
 },
 "nbformat": 4,
 "nbformat_minor": 5
}
