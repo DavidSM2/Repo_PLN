{
 "cells": [
  {
   "attachments": {},
   "cell_type": "markdown",
   "metadata": {},
   "source": [
    "Ejercicio 3:"
   ]
  },
  {
   "cell_type": "code",
   "execution_count": 7,
   "metadata": {},
   "outputs": [
    {
     "name": "stdout",
     "output_type": "stream",
     "text": [
      "['cielo', 'azul', 'bonito', 'encantar', 'cielo', 'azul', 'cielo', 'plomizo', 'Bonito', 'cielo', 'hacer', 'desayunar', 'huevo', 'delicioso', 'jamón', 'tostada', 'pequeño', 'Juan', 'odiar', 'tostada', 'huevo', 'jamón', 'tostada', 'jamón']\n"
     ]
    }
   ],
   "source": [
    "corpus = [' El cielo es azul y bonito ',\n",
    "          'Me encanta el cielo azul, pero no el cielo plomizo',\n",
    "          'Bonito cielo hacía ese día',\n",
    "          'Hoy he desayunado 4 huevos deliciosos con jamón y 2 tostadas pequeñas',\n",
    "          'Juan odia las 2 tostadas y los 4 huevos con jamón',\n",
    "          'las 5.5 tostadas de jamón están muy buenas ']\n",
    "\n",
    "import re\n",
    "import spacy\n",
    "\n",
    "nlp = spacy.load('es_core_news_sm')\n",
    "text = ' '.join(corpus)\n",
    "\n",
    "# Eliminamos digitos y signos de puntuación\n",
    "text = re.sub(r'\\d', '', text)\n",
    "text = re.sub(r'[^\\w\\s]', '', text)\n",
    "\n",
    "# Procesamos el texto con spaCy\n",
    "doc = nlp(text)\n",
    "\n",
    "# Lematiza las palabras, elimina los espacios, las stop-words y las palabras con longitud menor a 4\n",
    "lemmas = [token.lemma_ for token in doc if not token.is_stop and len(token.lemma_) >= 4]\n",
    "\n",
    "print(lemmas)\n"
   ]
  },
  {
   "attachments": {},
   "cell_type": "markdown",
   "metadata": {},
   "source": [
    "Ejercicio 4:"
   ]
  },
  {
   "cell_type": "code",
   "execution_count": 8,
   "metadata": {},
   "outputs": [
    {
     "name": "stdout",
     "output_type": "stream",
     "text": [
      "4 huevos deliciosos\n",
      "2 tostadas pequeñas\n"
     ]
    }
   ],
   "source": [
    "from spacy.matcher import Matcher\n",
    "\n",
    "corpus = [' El cielo es azul y bonito ',\n",
    "          'Me encanta el cielo azul, pero no el cielo plomizo',\n",
    "          'Bonito cielo hacía ese día',\n",
    "          'Hoy he desayunado 4 huevos deliciosos con jamón y 2 tostadas pequeñas',\n",
    "          'Juan odia las 2 tostadas y los 4 huevos con jamón',\n",
    "          'las 5.5 tostadas de jamón están muy buenas ']\n",
    "\n",
    "text = ' '.join(corpus)\n",
    "\n",
    "# Procesamos el texto con spaCy\n",
    "doc = nlp(text)\n",
    "\n",
    "# Inicializamos el matcher\n",
    "matcher = Matcher(nlp.vocab)\n",
    "\n",
    "# Definimos el patrón\n",
    "pattern = [{\"POS\": \"NUM\"}, {\"POS\": \"NOUN\"}, {\"POS\": \"ADJ\"}]\n",
    "\n",
    "# Añadimos el patrón al matcher\n",
    "matcher.add(\"NumNounAdjPattern\", [pattern])\n",
    "\n",
    "# Aplicamos el matcher al doc\n",
    "matches = matcher(doc)\n",
    "\n",
    "# Iteramos sobre los resultados\n",
    "for _, start, end in matches:\n",
    "    matched_span = doc[start:end]\n",
    "    print(matched_span.text)\n"
   ]
  },
  {
   "attachments": {},
   "cell_type": "markdown",
   "metadata": {},
   "source": [
    "Ejercicio 1:"
   ]
  },
  {
   "cell_type": "code",
   "execution_count": 9,
   "metadata": {},
   "outputs": [
    {
     "name": "stdout",
     "output_type": "stream",
     "text": [
      "La Universidad de Valencia (en valenciano y oficialmente Universitat de València-Estudi General), fundada en 1499 bajo el nombre de Estudi General, es una de las universidades más antiguas de España. Es una universidad pública, orientada a la docencia e investigación en casi todos los ámbitos del saber.\n",
      "Se divide en cuatro campus: Blasco Ibáñez, Tarongers, Onteniente y Burjasot-Paterna, y cuenta con numerosas extensiones, delegaciones, centros adscritos y emplazamientos ejemplares, como el edificio histórico de La \"Nau\" —siglas de La Nostra Antiga Universitat, \"Nuestra Antigua Universidad\"—, el Jardín Botánico o el Palacio de Cerveró. Dispone de red inalámbrica en todas sus instalaciones, servicios de correo electrónico para todos los estudiantes, laboratorios, centro de idiomas, instalaciones deportivas y varias bibliotecas.\n",
      "En el curso 2018/2020 contaba con 68 522 alumnos entre todas sus titulaciones, siendo así la mayor universidad en número de alumnos de las siete que conformaban el sistema universitario de la Comunidad Valenciana (contando también las dos universidades privadas de la autonomía) y la séptima a nivel nacional. Cuenta asimismo con 1853 empleados de Administración y Servicios y 3849 docentes e investigadores.\n",
      "La Universidad de Valencia se sitúa entre las cuatro más destacadas de España en el campo de la I+D+i, contando con 18 Institutos Universitarios de Investigación (tres de ellos centros mixtos con el Consejo Superior de Investigaciones Científicas). Es de destacar el Parque Científico de la Universidad de Valencia, en el que se ubican grupos de investigación junto con el vivero de empresas de base tecnológica, y empresas spin-off de la propia universidad y otras externas.\n",
      "En el año 2012 obtuvo el premio Ability Awards como mejor organización del sector público español,[2]​ y en 2013 obtuvo los premios CERMI.es por su dimensión inclusiva de la discapacidad[3]​ y como mejor institución Erasmus de España.[4]​ En 2014, la Universidad de Valencia obtuvo un premio UNESCO por su observatorio de inserción laboral.[5]​ En 2021, se ha consolidado como una de las primeras universidades españolas en la clasificación mundial de universidades 2021 ARWU (Ranking Académico de las Universidades del Mundo), también conocido como Ranking de Shanghái. El sistema de posicionamiento de esta clasificación es por tramos, de forma de las instituciones del mismo se ordenan alfabéticamente así, a nivel mundial la UV se encuentra en el rango 301-400; en el 5-8 estatal; y en 1-2 valenciano. La Universidad de Valencia destaca a nivel mundial en áreas como Teledetección, en la que ocupa la posición 10; Ciencia y Tecnología de Alimentos, en el lugar 20; Tursimo, en el 37; Salud Pública en el rango 51-75; y Física donde está en el intervalo 76-100 mundial.[6]​\n",
      "Su rectora actual es la profesora María Vicenta Mestre Escrivá, elegida en marzo de 2018 en un proceso electoral en que obtuvo el 52,97 % de los votos, convirtiéndose en la primera mujer elegida rectora de la Universidad de Valencia.[7]​\n",
      "Su biblioteca, con 1 392 793 volúmenes, es la cuarta biblioteca universitaria más grande de España tras la Biblioteca de la Universidad Complutense de Madrid y las bibliotecas de la Universidad de Barcelona y la Universidad de Sevilla.[8]​\n",
      "A pesar de que ya desde el siglo XIII existía en Valencia la posibilidad de cursar ciertas enseñanzas superiores, éstas eran impartidas por casas y entidades diferentes. Por ello, los Jurados de Valencia se esforzaron en reunir todos los estudios dependientes de la ciudad y de la iglesia en un único \"Estudi General.\"  Fruto de este trabajo fueron los estatutos publicados en 1412 y aprobados por el gobierno municipal y el obispo Hugo de Llupià. Inicialmente las aulas se establecieron en unos locales sitos junto a la Iglesia de San Lorenzo, aunque la libertad de educación otorgada por los fueros de Valencia permitió que se establecieran escuelas también en otros puntos. Esta primera unificación de los estudios duró solo hasta 1416, aunque sirvió de base para la futura creación de la Universidad.\n",
      "La Universidad de Valencia nació gracias a la iniciativa del concejo de la ciudad. Durante el siglo XV, Valencia vivió un florecimiento económico y cultural (véase Siglo de Oro valenciano), gracias al comercio con Italia.[9]​ Era la ciudad más poblada de la Corona de Aragón y, sin embargo, no tenía universidad. El concejo deseaba que los estudios impartidos en su ciudad alcanzaran el rango de estudios universitarios, igualándolos a los impartidos en Salamanca, Bolonia y otras universidades del momento. Desde el punto de vista logístico, el concejo acordó la adquisición de casas y fincas que sirvieran de instalaciones del Estudio General, mientras que desde el punto de vista administrativo se encargó a los Jurados de Valencia que elaboraran unos segundos estatutos que previeran la concesión de títulos académicos de nivel universitario. El resultado de lo primero fue la compra a Isabel Saranyó, el 1 de abril de 1493, de una casa con huertas y patios que se convertiría en la primera sede de la Universidad: el actual Edificio de la Nave.[10]​ El resultado de lo segundo fue la redacción de las Constituciones del Estudio General el 30 de abril de 1499.\n",
      "Con el aparato logístico y administrativo ya preparado, solo faltaban las correspondientes licencias para iniciar sus actividades. Aprovechando la circunstancia de que el papa Alejandro VI era valenciano, de la Casa de Borja, los jurados y el arzobispo de Valencia Pedro Luis de Borja, sobrino nieto del papa, acudieron al pontífice para conseguir la bula de erección.[9]​[11]​ La bula fue expedida el 22 de enero de 1500, reconociendo la nueva universidad y autorizando al arzobispo de Valencia a otorgar los títulos de bachiller y doctor en nombre de la autoridad pontificia. Una vez lograda la bula pontificia, para conseguir el favor del rey Fernando el Católico se envió una embajada a Sevilla, donde se encontraba el monarca, para obtener su aprobación. El rey dio su aprobación en el privilegio confirmatorio de 16 de febrero de 1502:\n",
      "En octubre de ese mismo año, tras la fiesta de San Lucas, se inauguró el Estudio General de Valencia y comenzaron las clases.[14]​ La universidad nació con las facultades de Teología, Artes, Filosofía, Medicina y Derecho.[14]​\n",
      "La nueva universidad tenía como referentes académicos a la Universidad de Salamanca, en teología, y la Universidad de Bolonia, en derecho.[15]​ Sin embargo, en lo administrativo no adoptó el sistema de gobierno democrático de aquellas universidades. El rector era nombrado y podía ser cesado por el Ayuntamiento a voluntad y los estudiantes no tenían ningún poder de participación en el gobierno del centro.[16]​ El Estudio se financiaba con fondos públicos de la ciudad y con las matrículas de los estudiantes.[17]​ Las facultades más favorecidas eran Teología y Derecho, como ocurría en Salamanca, y Medicina, cuyos profesores cobraban 35 libras anuales. Los profesores de las facultades de Filosofía y Artes recibían 25 libras anuales.[17]​\n",
      "El Consejo de Dirección, conformado por el rector, la secretaría general, las y los vicerrectores, el delegado del rector para estudiantes y el gerente actual lo conforman:[18]​\n",
      "La Universidad de Valencia posee 18 facultades y escuelas localizadas en sus cuatro campus. Cada una alberga Departamentos, hasta un total de 92, y ofrecen diversas titulaciones de grado, másteres oficiales y programas de doctorado.\n",
      "Cuenta también con varias fundaciones:\n",
      "Imparte 58 estudios de grado y 11 dobles titulaciones. \n",
      "Imparte 117 másteres oficiales y 59 Doctorados adaptados al Espacio Europeo de Educación Superior. Los estudios de máster, impartidos por profesores de universidad, con la colaboración de prestigiosos profesionales e investigadores, tienen una duración entre uno y dos años (de 60 a 120 créditos ECTS).\n",
      "El Instituto Confucio promueve la lengua y cultura china y apoya la enseñanza del chino. Está entre los veinte mejores institutos Confucio del mundo y reconocido en 2015 como \"Instituto Confucio Modelo\", un galardón otorgado a tan solo 15 institutos Confucio en todo el mundo de entre las más de 450 instituciones. Sus instalaciones se ubican en la Facultad de Filología, Traducción y Comunicación (Blasco Ibáñez, 32), así como en el Campus de Tarongers (c/del Serpis, 29).\n",
      "El Centro Internacional de Gandía ofrece cursos, másteres y seminarios, y desarrolla el Espacio de Cultura Brasileño. Durante el verano realiza la Universidad de Verano (Universitat d'Estiu) de Gandía, siendo una de las más antiguas de España en su género.\n",
      "El Centro de Idiomas ofrece enseñanza de lenguas a la comunidad universitaria. Está abierto a todas las personas que deseen mejorar su conocimiento de lenguas.\n",
      "La Universidad de Valencia desarrolla una intensa labor investigadora a través de sus departamentos académicos de cada Facultad o Escuela, sus Institutos Universitarios de Investigación, el Parque Científico de la Universidad de Valencia, y otros.\n",
      "Los Institutos Universitarios de Investigación son estructuras multidisciplinarias de investigación. Su finalidad es desarrollar la demanda social de investigación en campos específicos y la transferencia de conocimiento. Puede ver el detalle de cada uno de los institutos mostrados a continuación.\n",
      "El Parque Científico de la Universidad de Valencia (Parc Científic) se concibe como un lugar de encuentro entre la Universidad de Valencia y las empresas. Con más de 200 000 m², se ubica en el municipio de Paterna, cerca del campus universitario de Burjasot-Paterna, a 12 km del centro de la ciudad de Valencia y a 5 km del aeropuerto. El Parque Científico se convierte en un polo de atracción para incentivar la transferencia de conocimiento.\n",
      "La Universidad de Valencia difunde su actividad científica a través de la revista Mètode, y el boletín I+D+i+a.\n",
      "Las siguientes cátedras forman parte de la Universidad de Valencia:\n",
      "El origen de la Biblioteca de la Universidad de Valencia se remonta a la donación, en 1785, de los libros de Francisco Pérez Bayer. Se inauguró en 1788, siendo rector Vicente Blasco García. Actualmente, la biblioteca histórica está situada en el edificio de La Nave (calle de la Universidad, 2, Valencia). Aquí se conservan manuscritos, incunables e impresos publicados entre los siglos XVI al XX. Durante la Guerra de la Independencia una bomba provocó un incendio en el edificio de la Universitat y provocó la pérdida de la mayor parte del fondo fundacional.\n",
      "La biblioteca universitaria fue, durante la Guerra Civil y después, depositaria de los libros requisados a particulares y a instituciones, los cuales constituyen un fondo de gran utilidad para el estudio de la historia social y las artes gráficas de esta época. Destaca la colección de carteles de la Guerra Civil española.\n",
      "El siglo XX vio la aparición de diferentes facultades y escuelas universitarias, y la creación de sus correspondientes bibliotecas. También nacieron bibliotecas departamentales. A partir de la aprobación de los Estatutos de la Universidad de Valencia en 1985 se configuró un servicio general denominado Servicio de Información Bibliográfica (SIB), que aglutina a todas y cada una de las bibliotecas existentes en la Universidad dotándolas de instrumentos de cohesión.\n",
      "El año 1990 se inauguró la Biblioteca de Ciencias \"Eduard Boscà\"; el año 1999, la Biblioteca de Ciencias Sociales \"Gregori Maians\"; el año 2002, la Biblioteca de Humanidades \"Joan Reglà\"; y en 2009, la biblioteca de Ciencias de la Salud \"Pelegrí Casanova\". Y en septiembre de 2010 se inaugura la Biblioteca de Educación \"María Moliner\" en el Campus de Tarongers. El esquema organizativo se completa con otras bibliotecas más pequeñas.\n",
      "Cuenta con un colegio mayor propio: el Colegio Mayor Rector Peset. Existen otros seis colegios mayores adscritos a la Universidad: Albalat, Ausiàs March, La Alameda, La Asunción de Nuestra Señora, San Juan de Ribera y Saomar. También tiene una residencia de estudiantes: la Residencia de Estudiantes Damià Bonet.\n",
      "La primera persona reconocida con un Doctorado Honoris Causa fue el físico José María Otero de Navascues en 1967. Las primeras mujeres investidas fueron la activista por los derechos humanos serbia Nataša Kandić y la bióloga estadounidense Lynn Margulis en 2001. Hasta 2018 han sido investidos Doctores Honores Causa 91 hombres y 9 mujeres, entre ellas las filósofas Seyla Benhabid (2010) y Amelia Valcárcel (2016), Ángeles Durán (2012) y Londa Schiebinger (2018).[25]​\n",
      "En 2010 la Universidad de Valencia consiguió el reconocimiento como Campus de Excelencia Internacional a sus proyectos conjuntos VLC/Campus[26]​ y CAMPUSHABITAT5U.[27]​\n",
      "En el año 2012 obtuvo el premio Ability Awards como mejor organización del sector público español.[2]​\n",
      "Durante 2013 fue galardonada con los premios CERMI.es por su dimensión inclusiva de la discapacidad[3]​ y como mejor institución Erasmus de España.[4]​\n",
      "\n"
     ]
    },
    {
     "data": {
      "text/plain": [
       "['1 de abril de 1493',\n",
       " '30 de abril de 1499',\n",
       " '22 de enero de 1500',\n",
       " '16 de febrero de 1502']"
      ]
     },
     "execution_count": 9,
     "metadata": {},
     "output_type": "execute_result"
    }
   ],
   "source": [
    "import requests\n",
    "from bs4 import BeautifulSoup\n",
    "\n",
    "#Cargamos la información de la pagina web y la procesamos con BeautifulSoup\n",
    "url = \"https://es.wikipedia.org/wiki/Universidad_de_Valencia\"\n",
    "\n",
    "try:\n",
    "    page = requests.get(url)\n",
    "except:\n",
    "    print(\"Error al abrir la URL\")\n",
    "\n",
    "soup = BeautifulSoup(page.text, 'html.parser')\n",
    "texto = \"\"\n",
    "\n",
    "# Secciones:\n",
    "sections = soup.find_all(['h2', 'p'])\n",
    "\n",
    "# Recorremos todas las secciones\n",
    "for section in sections:\n",
    "    # Si encontramos la sección \"Vease tambien\", terminamos el bucle\n",
    "    if section.name == 'h2':\n",
    "        span = section.find('span', id='Véase también')\n",
    "        if span:\n",
    "            break\n",
    "    # Si es un párrafo, añadimos el texto\n",
    "    elif section.name == 'p':\n",
    "        texto += section.text\n",
    "\n",
    "print(texto)\n",
    "\n",
    "#Mostramos todas las fechas que tienen tanto dia como mes y año\n",
    "import re\n",
    "re.findall(r'\\d{1,2}[/-]\\d{1,2}[/-]\\d{2,4}|\\d{1,2}\\sde\\s[\\w+]+\\sdel{0,1}\\s\\d{2,4}', texto)\n"
   ]
  },
  {
   "attachments": {},
   "cell_type": "markdown",
   "metadata": {},
   "source": [
    "Ejercicio 2:"
   ]
  },
  {
   "cell_type": "code",
   "execution_count": 10,
   "metadata": {},
   "outputs": [
    {
     "ename": "AttributeError",
     "evalue": "module 'networkx' has no attribute 'pagerank_scipy'",
     "output_type": "error",
     "traceback": [
      "\u001b[1;31m---------------------------------------------------------------------------\u001b[0m",
      "\u001b[1;31mAttributeError\u001b[0m                            Traceback (most recent call last)",
      "Cell \u001b[1;32mIn[10], line 23\u001b[0m\n\u001b[0;32m     20\u001b[0m     keywords \u001b[39m=\u001b[39m kt\u001b[39m.\u001b[39mtextrank(doc, topn\u001b[39m=\u001b[39mtopn)\n\u001b[0;32m     21\u001b[0m     \u001b[39mreturn\u001b[39;00m [unir_ngramas(keyword) \u001b[39mfor\u001b[39;00m keyword, _ \u001b[39min\u001b[39;00m keywords]\n\u001b[1;32m---> 23\u001b[0m keywords \u001b[39m=\u001b[39m extraer_keywords(texto)\n\u001b[0;32m     24\u001b[0m \u001b[39mprint\u001b[39m(keywords)\n",
      "Cell \u001b[1;32mIn[10], line 20\u001b[0m, in \u001b[0;36mextraer_keywords\u001b[1;34m(texto, topn)\u001b[0m\n\u001b[0;32m     18\u001b[0m texto \u001b[39m=\u001b[39m lemmatize_text(texto)\n\u001b[0;32m     19\u001b[0m doc \u001b[39m=\u001b[39m nlp(texto)\n\u001b[1;32m---> 20\u001b[0m keywords \u001b[39m=\u001b[39m kt\u001b[39m.\u001b[39;49mtextrank(doc, topn\u001b[39m=\u001b[39;49mtopn)\n\u001b[0;32m     21\u001b[0m \u001b[39mreturn\u001b[39;00m [unir_ngramas(keyword) \u001b[39mfor\u001b[39;00m keyword, _ \u001b[39min\u001b[39;00m keywords]\n",
      "File \u001b[1;32mc:\\Users\\dsmcr\\anaconda3\\envs\\PLN\\lib\\site-packages\\textacy\\extract\\keyterms\\textrank.py:94\u001b[0m, in \u001b[0;36mtextrank\u001b[1;34m(doc, normalize, include_pos, window_size, edge_weighting, position_bias, topn)\u001b[0m\n\u001b[0;32m     88\u001b[0m \u001b[39m# build a graph from all words in doc, then score them\u001b[39;00m\n\u001b[0;32m     89\u001b[0m graph \u001b[39m=\u001b[39m representations\u001b[39m.\u001b[39mnetwork\u001b[39m.\u001b[39mbuild_cooccurrence_network(\n\u001b[0;32m     90\u001b[0m     \u001b[39mlist\u001b[39m(ext_utils\u001b[39m.\u001b[39mterms_to_strings(doc, normalize)),\n\u001b[0;32m     91\u001b[0m     window_size\u001b[39m=\u001b[39mwindow_size,\n\u001b[0;32m     92\u001b[0m     edge_weighting\u001b[39m=\u001b[39medge_weighting,\n\u001b[0;32m     93\u001b[0m )\n\u001b[1;32m---> 94\u001b[0m word_scores \u001b[39m=\u001b[39m representations\u001b[39m.\u001b[39;49mnetwork\u001b[39m.\u001b[39;49mrank_nodes_by_pagerank(\n\u001b[0;32m     95\u001b[0m     graph, weight\u001b[39m=\u001b[39;49m\u001b[39m\"\u001b[39;49m\u001b[39mweight\u001b[39;49m\u001b[39m\"\u001b[39;49m, personalization\u001b[39m=\u001b[39;49mword_pos\n\u001b[0;32m     96\u001b[0m )\n\u001b[0;32m     97\u001b[0m \u001b[39m# generate a list of candidate terms\u001b[39;00m\n\u001b[0;32m     98\u001b[0m candidates \u001b[39m=\u001b[39m _get_candidates(doc, normalize, include_pos)\n",
      "File \u001b[1;32mc:\\Users\\dsmcr\\anaconda3\\envs\\PLN\\lib\\site-packages\\textacy\\representations\\network.py:267\u001b[0m, in \u001b[0;36mrank_nodes_by_pagerank\u001b[1;34m(graph, weight, **kwargs)\u001b[0m\n\u001b[0;32m    251\u001b[0m \u001b[39mdef\u001b[39;00m \u001b[39mrank_nodes_by_pagerank\u001b[39m(\n\u001b[0;32m    252\u001b[0m     graph: nx\u001b[39m.\u001b[39mGraph,\n\u001b[0;32m    253\u001b[0m     weight: \u001b[39mstr\u001b[39m \u001b[39m=\u001b[39m \u001b[39m\"\u001b[39m\u001b[39mweight\u001b[39m\u001b[39m\"\u001b[39m,\n\u001b[0;32m    254\u001b[0m     \u001b[39m*\u001b[39m\u001b[39m*\u001b[39mkwargs,\n\u001b[0;32m    255\u001b[0m ) \u001b[39m-\u001b[39m\u001b[39m>\u001b[39m Dict[Any, \u001b[39mfloat\u001b[39m]:\n\u001b[0;32m    256\u001b[0m \u001b[39m    \u001b[39m\u001b[39m\"\"\"\u001b[39;00m\n\u001b[0;32m    257\u001b[0m \u001b[39m    Rank nodes in ``graph`` using the Pagegrank algorithm.\u001b[39;00m\n\u001b[0;32m    258\u001b[0m \n\u001b[1;32m   (...)\u001b[0m\n\u001b[0;32m    265\u001b[0m \u001b[39m        Mapping of node object to Pagerank score.\u001b[39;00m\n\u001b[0;32m    266\u001b[0m \u001b[39m    \"\"\"\u001b[39;00m\n\u001b[1;32m--> 267\u001b[0m     \u001b[39mreturn\u001b[39;00m nx\u001b[39m.\u001b[39;49mpagerank_scipy(graph, weight\u001b[39m=\u001b[39mweight, \u001b[39m*\u001b[39m\u001b[39m*\u001b[39mkwargs)\n",
      "\u001b[1;31mAttributeError\u001b[0m: module 'networkx' has no attribute 'pagerank_scipy'"
     ]
    }
   ],
   "source": [
    "import textacy\n",
    "from textacy.extract import keyterms as kt\n",
    "\n",
    "def lemmatize_text(text):\n",
    "    \"\"\"Lemmatize a text using Spacy\"\"\"\n",
    "    doc = nlp(text)\n",
    "    return \" \".join([token.lemma_ for token in doc])\n",
    "\n",
    "def unir_ngramas(texto):\n",
    "    \"\"\"Une todos los términos de un n-grama mediante '_'\n",
    "    para que formen un único término en el vocabulario\"\"\"\n",
    "    return texto.replace(\" \",\"_\")\n",
    "\n",
    "def extraer_keywords(texto, topn=5):\n",
    "    \"\"\"Extraer las palabras clave de un texto mediante la\n",
    "    librería textacy\n",
    "    Devuelve los topn términos clave como lista de strings\"\"\"\n",
    "    texto = lemmatize_text(texto)\n",
    "    doc = nlp(texto)\n",
    "    keywords = kt.textrank(doc, topn=topn)\n",
    "    return [unir_ngramas(keyword) for keyword, _ in keywords]\n",
    "\n",
    "keywords = extraer_keywords(texto)\n",
    "print(keywords)"
   ]
  }
 ],
 "metadata": {
  "kernelspec": {
   "display_name": "base",
   "language": "python",
   "name": "python3"
  },
  "language_info": {
   "codemirror_mode": {
    "name": "ipython",
    "version": 3
   },
   "file_extension": ".py",
   "mimetype": "text/x-python",
   "name": "python",
   "nbconvert_exporter": "python",
   "pygments_lexer": "ipython3",
   "version": "3.10.10"
  },
  "orig_nbformat": 4
 },
 "nbformat": 4,
 "nbformat_minor": 2
}
