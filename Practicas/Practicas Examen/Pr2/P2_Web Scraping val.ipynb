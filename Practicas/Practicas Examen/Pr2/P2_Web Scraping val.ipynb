{
 "cells": [
  {
   "attachments": {},
   "cell_type": "markdown",
   "metadata": {},
   "source": [
    "# Pràctica 2 de PLN: web scraping\n",
    "En aquesta pràctica realitzarem diferents exercicis sobre captura de continguts web (*web scraping*) usant les llibreries `request` i `BeautifulSoup`."
   ]
  },
  {
   "attachments": {},
   "cell_type": "markdown",
   "metadata": {},
   "source": [
    "### Noms:\n",
    "Introdueix en esta celda els noms dels integrats del grup:\\\n",
    "*Alumne 1* \\\n",
    "*Alumne 2*"
   ]
  },
  {
   "cell_type": "code",
   "execution_count": null,
   "metadata": {},
   "outputs": [],
   "source": [
    "import requests\n",
    "from bs4 import BeautifulSoup"
   ]
  },
  {
   "attachments": {},
   "cell_type": "markdown",
   "metadata": {},
   "source": [
    "## Part 1: captura d'una notícia\n",
    "En aquest apartat ens descarregarem una notícia d'una pàgina web i guardem el seu contingut en memòria."
   ]
  },
  {
   "cell_type": "code",
   "execution_count": null,
   "metadata": {},
   "outputs": [],
   "source": [
    "url = \"https://elpais.com/sociedad/2019/11/13/actualidad/1573632952_315974.html\"\n",
    "try:\n",
    "    page = requests.get(url)\n",
    "except:\n",
    "    print(\"Error al abrir la URL\")"
   ]
  },
  {
   "cell_type": "code",
   "execution_count": null,
   "metadata": {},
   "outputs": [],
   "source": [
    "# parseamos el html usando BeautifulSoup y lo guardamos en la variable `soup`\n",
    "soup = BeautifulSoup(page.text, 'html.parser')"
   ]
  },
  {
   "attachments": {},
   "cell_type": "markdown",
   "metadata": {},
   "source": [
    "El contingut de l'article (text del cos) es troba dins d'un `<div>` de la pàgina amb les classes `a_c clearfix` (pots inspeccionar l'estructura HTML de la pàgina en el navegador per a comprovar-lo)"
   ]
  },
  {
   "cell_type": "code",
   "execution_count": null,
   "metadata": {},
   "outputs": [],
   "source": [
    "# Buscamos el <div> correspondiente y sacamos su contenido:\n",
    "content = soup.find('div', {\"class\": \"a_c clearfix\"})\n",
    "\n",
    "article = []\n",
    "for i in content.find_all('p'):\n",
    "    article.append(i.text)\n",
    "    \n",
    "print('\\n'.join(article))"
   ]
  },
  {
   "attachments": {},
   "cell_type": "markdown",
   "metadata": {},
   "source": [
    "Ací s'han colat alguns paràgrafs que no pertanyen al cos de la notícia, sinó que estan en seccions interiors. Ho podem evitar usant el paràmetre `recursive=False`. \n",
    "A més l'últim paràgraf no forma part del cos de la memòria, el podem filtrar amb `*class_=\"\"` perquè té un atribut de classe específic."
   ]
  },
  {
   "cell_type": "code",
   "execution_count": null,
   "metadata": {},
   "outputs": [],
   "source": [
    "#optimizando el código\n",
    "content = soup.find('div', {\"class\": \"a_c clearfix\"}).find_all('p', class_=\"\",recursive=False)\n",
    "\n",
    "article = ('\\n').join([i.text for i in content])\n",
    "\n",
    "print(article)"
   ]
  },
  {
   "attachments": {},
   "cell_type": "markdown",
   "metadata": {},
   "source": [
    "Si volguérem fer un filtrat més específic de paràgrafs o continguts, podem definir una funció lògica que retorne a `find_all` els elements a considerar:\n",
    "```python\n",
    "def has_class_but_no_id(tag):\n",
    "    return tag.has_attr('class') and not tag.has_attr('id')\n",
    "```\n",
    "\n",
    "Que després usem amb:\n",
    "\n",
    "```python\n",
    "content.find_all(has_class_but_no_id)\n",
    "```\n"
   ]
  },
  {
   "cell_type": "code",
   "execution_count": null,
   "metadata": {},
   "outputs": [],
   "source": [
    "#Por ejemplo los párrafos que contienen la palabra basílica\n",
    "def contiene_basilica(tag):\n",
    "    return tag.name=='p' and 'basílica' in tag.text\n",
    "\n",
    "content = soup.find('div', {\"class\": \"a_c clearfix\"})\n",
    "content.find_all(contiene_basilica)"
   ]
  },
  {
   "attachments": {},
   "cell_type": "markdown",
   "metadata": {},
   "source": [
    "### Exercici 1\n",
    "Cerca els paràgrafs dins de l'etiqueta `<div>` amb el cos de la notícia que continguen un element de tipus enllace (`<a>`)"
   ]
  },
  {
   "cell_type": "code",
   "execution_count": null,
   "metadata": {},
   "outputs": [],
   "source": [
    "## Solución\n"
   ]
  },
  {
   "attachments": {},
   "cell_type": "markdown",
   "metadata": {},
   "source": [
    "## Part 2: captura de dades meteorològiques\n",
    "En aquest apartat capturarem dades meteorològiques de la Comunitat Valenciana des de la pàgina de la [AVAMET (Associació valenciana de meteorologia)](https://www.avamet.org)."
   ]
  },
  {
   "cell_type": "code",
   "execution_count": null,
   "metadata": {},
   "outputs": [],
   "source": [
    "#esta página contiene los datos meteorológicos de un día concreto\n",
    "fecha = '2021-02-10'\n",
    "r = requests.get(\"https://www.avamet.org/mx-meteoxarxa.php\", params={'id':fecha})"
   ]
  },
  {
   "cell_type": "code",
   "execution_count": null,
   "metadata": {},
   "outputs": [],
   "source": [
    "soup = BeautifulSoup(r.text, \"html.parser\")"
   ]
  },
  {
   "attachments": {},
   "cell_type": "markdown",
   "metadata": {},
   "source": [
    "Les dades de tots els municipis de la CV estan en una taula de classe `tDades`"
   ]
  },
  {
   "cell_type": "code",
   "execution_count": null,
   "metadata": {},
   "outputs": [],
   "source": [
    "tabla = soup.find(\"table\", class_=\"tDades\")"
   ]
  },
  {
   "attachments": {},
   "cell_type": "markdown",
   "metadata": {},
   "source": [
    "Dins de la taula, les dades estan en les files (`<tr>`) que tenen un element`<td class='rEsta'>`. Definim una funció per a filtrar etiquetes amb aquesta classe i busquem tots els elements interns a la taula:"
   ]
  },
  {
   "cell_type": "code",
   "execution_count": null,
   "metadata": {},
   "outputs": [],
   "source": [
    "def clase_rEsta(tag):\n",
    "    return tag.find(class_=\"rEsta\")"
   ]
  },
  {
   "cell_type": "code",
   "execution_count": null,
   "metadata": {},
   "outputs": [],
   "source": [
    "loc = tabla.find_all(clase_rEsta)"
   ]
  },
  {
   "cell_type": "code",
   "execution_count": null,
   "metadata": {},
   "outputs": [],
   "source": [
    "len(loc)"
   ]
  },
  {
   "attachments": {},
   "cell_type": "markdown",
   "metadata": {},
   "source": [
    "Ens fixem per exemple en el primer element d'aquesta llista:"
   ]
  },
  {
   "cell_type": "code",
   "execution_count": null,
   "metadata": {},
   "outputs": [],
   "source": [
    "print(loc[0].prettify())"
   ]
  },
  {
   "attachments": {},
   "cell_type": "markdown",
   "metadata": {},
   "source": [
    "Veiem que algunes de les cel·les d'aquesta fila tenen elements de tipus `<span>`. Si no ens interessen els podríem eliminar amb el mètode `,decompose()` del Tag. Però com el text ens interessa fiquem un espai per a separar el contingut en extraure el text posteriorment amb `.text()`:"
   ]
  },
  {
   "cell_type": "code",
   "execution_count": null,
   "metadata": {},
   "outputs": [],
   "source": [
    "for t in loc:\n",
    "    for t in t.find_all('span', class_=\"rEstaDmxo\"):\n",
    "        t.insert_before(' ')\n",
    "print(loc[0].prettify())"
   ]
  },
  {
   "cell_type": "code",
   "execution_count": null,
   "metadata": {},
   "outputs": [],
   "source": [
    "#Cada celda <td> dentro de la fila es una columna de la tabla\n",
    "[t.text.strip() for t in loc[0].find_all(\"td\")]"
   ]
  },
  {
   "cell_type": "code",
   "execution_count": null,
   "metadata": {},
   "outputs": [],
   "source": [
    "[t for t in loc[0].find_all(\"td\")]"
   ]
  },
  {
   "cell_type": "code",
   "execution_count": null,
   "metadata": {},
   "outputs": [],
   "source": [
    "#Capturamos toda la tabla\n",
    "datos = [[t.text.strip() for t in l.find_all(\"td\")] for l in loc]"
   ]
  },
  {
   "cell_type": "code",
   "execution_count": null,
   "metadata": {},
   "outputs": [],
   "source": [
    "#Todas las filas tienen los mismos datos\n",
    "[len(d) for d in datos]"
   ]
  },
  {
   "attachments": {},
   "cell_type": "markdown",
   "metadata": {},
   "source": [
    "Ara exportem la taula com un DataFrame de `pandas`:"
   ]
  },
  {
   "cell_type": "code",
   "execution_count": null,
   "metadata": {},
   "outputs": [],
   "source": [
    "import pandas as pd"
   ]
  },
  {
   "cell_type": "code",
   "execution_count": null,
   "metadata": {},
   "outputs": [],
   "source": [
    "data_matrix = pd.DataFrame(datos, columns = ['localidad','Temp','Tmax','Tmin','Humedad','Precip',\n",
    "                      'Vel.viento','Dir.viento','Vmax_viento']) #Definimos el nombre de las columnas"
   ]
  },
  {
   "cell_type": "code",
   "execution_count": null,
   "metadata": {},
   "outputs": [],
   "source": [
    "data_matrix.info()"
   ]
  },
  {
   "cell_type": "code",
   "execution_count": null,
   "metadata": {},
   "outputs": [],
   "source": [
    "data_matrix.head(5)"
   ]
  },
  {
   "attachments": {},
   "cell_type": "markdown",
   "metadata": {},
   "source": [
    "També podíem llegir directament la taula en pandas amb el mètode `read_HTML`"
   ]
  },
  {
   "cell_type": "code",
   "execution_count": null,
   "metadata": {},
   "outputs": [],
   "source": [
    "#hace falta instalar la librería 'lxml'\n",
    "df = pd.read_html(str(tabla))[0] #devuelve una lista de dataframes\n",
    "df.head(10)"
   ]
  },
  {
   "attachments": {},
   "cell_type": "markdown",
   "metadata": {},
   "source": [
    "### Exercici 2\n",
    "Crea un script per a capturar les dades d'un territori i una data concretes a través de la URL:\\\n",
    "`https://www.avamet.org/mx-meteoxarxa.php?id={fecha}&territori={territorio}`\\\n",
    "Els codis de cada territori estan en l'element `select` següent:"
   ]
  },
  {
   "cell_type": "code",
   "execution_count": null,
   "metadata": {},
   "outputs": [],
   "source": [
    "soup.find(\"select\", attrs={'name':\"freg_territori\"})"
   ]
  },
  {
   "cell_type": "code",
   "execution_count": null,
   "metadata": {},
   "outputs": [],
   "source": [
    "# Solución\n"
   ]
  },
  {
   "attachments": {},
   "cell_type": "markdown",
   "metadata": {},
   "source": [
    "### exercici extra:\n",
    "Captura les dades durant un mes de l'estació de 'València *Camins al Grau' i representa gràficament la seua temperatura mitjana "
   ]
  },
  {
   "cell_type": "code",
   "execution_count": null,
   "metadata": {},
   "outputs": [],
   "source": [
    "# Solución\n"
   ]
  },
  {
   "attachments": {},
   "cell_type": "markdown",
   "metadata": {},
   "source": [
    "## Part 3: dades de la Wikipedia\n",
    "En aquesta part obtindrem les URL de les entrades en la Wikipedia per a totes les províncies d'Espanya i obtindrem d'elles les seues dades bàsiques en forma de taula.\\\n",
    "El llistat de les províncies d'Espanya es pot descarregar de la pàgina de la Wikipedia següent:\\\n",
    "https://es.wikipedia.org/wiki/Provincia_(España)"
   ]
  },
  {
   "cell_type": "code",
   "execution_count": null,
   "metadata": {},
   "outputs": [],
   "source": [
    "r = requests.get(\"https://es.wikipedia.org/wiki/Provincia_(España)\")\n",
    "soup = BeautifulSoup(r.text, \"html.parser\")"
   ]
  },
  {
   "cell_type": "code",
   "execution_count": null,
   "metadata": {},
   "outputs": [],
   "source": [
    "tabla = soup.find(\"table\", class_=\"wikitable\")"
   ]
  },
  {
   "cell_type": "code",
   "execution_count": null,
   "metadata": {},
   "outputs": [],
   "source": [
    "#todas las filas de la tabla (<tr>)\n",
    "provincias = tabla.find_all(\"tr\")"
   ]
  },
  {
   "cell_type": "code",
   "execution_count": null,
   "metadata": {},
   "outputs": [],
   "source": [
    "#los datos están en la primera celda <td> de cada fila a partir de la 1 (la fila 0 son los encabezados)\n",
    "print(provincias[1].td.prettify())"
   ]
  },
  {
   "cell_type": "code",
   "execution_count": null,
   "metadata": {},
   "outputs": [],
   "source": [
    "# extraemos el enlace\n",
    "provincias[1].td.find(\"a\")"
   ]
  },
  {
   "cell_type": "code",
   "execution_count": null,
   "metadata": {},
   "outputs": [],
   "source": [
    "enlaces = []\n",
    "for p in provincias:\n",
    "    if p.td:\n",
    "        ref = p.td.find('a')\n",
    "        enlaces.append(ref)"
   ]
  },
  {
   "cell_type": "code",
   "execution_count": null,
   "metadata": {},
   "outputs": [],
   "source": [
    "enlaces"
   ]
  },
  {
   "cell_type": "code",
   "execution_count": null,
   "metadata": {},
   "outputs": [],
   "source": [
    "enlaces_df = pd.DataFrame({'provincia': [e.attrs['title'] for e in enlaces],\n",
    "                           'enlace': [e.attrs['href'] for e in enlaces]})"
   ]
  },
  {
   "cell_type": "code",
   "execution_count": null,
   "metadata": {},
   "outputs": [],
   "source": [
    "enlaces_df"
   ]
  },
  {
   "attachments": {},
   "cell_type": "markdown",
   "metadata": {},
   "source": [
    "Per exemple, creem el objecte `soup` per a la primera província:"
   ]
  },
  {
   "cell_type": "code",
   "execution_count": null,
   "metadata": {},
   "outputs": [],
   "source": [
    "r = requests.get(\"https://es.wikipedia.org\"+enlaces_df['enlace'][0])\n",
    "soup = BeautifulSoup(r.text, \"html.parser\")"
   ]
  },
  {
   "attachments": {},
   "cell_type": "markdown",
   "metadata": {},
   "source": [
    "Extraurem en un dataframe la informació geogràfica de la taula de la barra lateral dreta (atribut de classe `infobox`):"
   ]
  },
  {
   "cell_type": "code",
   "execution_count": null,
   "metadata": {},
   "outputs": [],
   "source": [
    "tabla = soup.find(\"table\", class_=\"infobox\")"
   ]
  },
  {
   "attachments": {},
   "cell_type": "markdown",
   "metadata": {},
   "source": [
    "Si inspecciones la seua estructura HTML veuràs una sèrie de tags `tr` de les quals pengen parells de tags `th` i `td` associades. Capturarem els seus textos en dues llistes: `dada` i `valor`, respectivamant."
   ]
  },
  {
   "cell_type": "code",
   "execution_count": null,
   "metadata": {},
   "outputs": [],
   "source": [
    "dato, valor = [],[]\n",
    "for t in tabla.find_all(\"tr\"):\n",
    "    if t.th:\n",
    "        if t.td:\n",
    "            dato.append(t.th.text)\n",
    "            #valor.append(t.td.text) # aparecen caracteres especiales!\n",
    "            valor.append(' '.join([text for text in t.td.stripped_strings]))"
   ]
  },
  {
   "cell_type": "code",
   "execution_count": null,
   "metadata": {},
   "outputs": [],
   "source": [
    "datos = pd.DataFrame({'Dato': dato, 'Valor': valor})\n",
    "datos"
   ]
  },
  {
   "attachments": {},
   "cell_type": "markdown",
   "metadata": {},
   "source": [
    "### Exercici 3\n",
    "Crea una taula (dataframe) amb la capital, la superfície i la població de cada província d'Espanya.\\\n",
    "Per a trobar en la taula aquestes dades podem fer:"
   ]
  },
  {
   "cell_type": "code",
   "execution_count": null,
   "metadata": {},
   "outputs": [],
   "source": [
    "tabla.find(string='Capital').next.text"
   ]
  },
  {
   "cell_type": "code",
   "execution_count": null,
   "metadata": {},
   "outputs": [],
   "source": [
    "tabla.find(string='Superficie').parent.parent.parent.next_sibling.text"
   ]
  },
  {
   "cell_type": "code",
   "execution_count": null,
   "metadata": {},
   "outputs": [],
   "source": [
    "tabla.find(string='Población').parent.parent.parent.next_sibling.text"
   ]
  },
  {
   "attachments": {},
   "cell_type": "markdown",
   "metadata": {},
   "source": [
    "Hauràs d'usar expressions regulars per a extraure d'aquests *strings el text buscat. Si la informació no està disponible per a alguna província, emplena la cel·la amb un *string* buit."
   ]
  },
  {
   "cell_type": "code",
   "execution_count": null,
   "metadata": {},
   "outputs": [],
   "source": [
    "#solución\n",
    "   "
   ]
  }
 ],
 "metadata": {
  "kernelspec": {
   "display_name": "sp3",
   "language": "python",
   "name": "python3"
  },
  "language_info": {
   "codemirror_mode": {
    "name": "ipython",
    "version": 3
   },
   "file_extension": ".py",
   "mimetype": "text/x-python",
   "name": "python",
   "nbconvert_exporter": "python",
   "pygments_lexer": "ipython3",
   "version": "3.8.8"
  },
  "vscode": {
   "interpreter": {
    "hash": "974d86b888590d91c91725277f46e2331e9f38bd583c386dd56dd3384a234a0e"
   }
  }
 },
 "nbformat": 4,
 "nbformat_minor": 4
}
