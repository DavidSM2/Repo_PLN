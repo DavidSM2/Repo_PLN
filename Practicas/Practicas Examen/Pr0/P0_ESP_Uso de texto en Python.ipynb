{
 "cells": [
  {
   "attachments": {},
   "cell_type": "markdown",
   "id": "federal-stress",
   "metadata": {},
   "source": [
    "# Práctica 0\n",
    "## Uso de texto en Python"
   ]
  },
  {
   "cell_type": "code",
   "execution_count": 19,
   "id": "satisfied-condition",
   "metadata": {},
   "outputs": [],
   "source": [
    "texto = \"Este es un texto 'normal' en Python\""
   ]
  },
  {
   "attachments": {},
   "cell_type": "markdown",
   "id": "advance-living",
   "metadata": {},
   "source": [
    "### Ejercicio 1\n",
    "Crea una lista con el nombre `lista` que contenga las palabras de la cadena `texto` y cuénta el nº de palabras que tiene la lista.  \n",
    "*Nota: considera que las palabras están separadas por el caracter espacio `' '`*"
   ]
  },
  {
   "cell_type": "code",
   "execution_count": 20,
   "id": "designed-darkness",
   "metadata": {},
   "outputs": [
    {
     "data": {
      "text/plain": [
       "7"
      ]
     },
     "execution_count": 20,
     "metadata": {},
     "output_type": "execute_result"
    }
   ],
   "source": [
    "lista = texto.split(' ')\n",
    "len(lista)"
   ]
  },
  {
   "attachments": {},
   "cell_type": "markdown",
   "id": "broken-duncan",
   "metadata": {},
   "source": [
    "### Ejercicio 2\n",
    "¿Qué palabras de `texto` empiezan en mayúscula?"
   ]
  },
  {
   "cell_type": "code",
   "execution_count": 21,
   "id": "unlike-screw",
   "metadata": {},
   "outputs": [
    {
     "data": {
      "text/plain": [
       "['Este', 'Python']"
      ]
     },
     "execution_count": 21,
     "metadata": {},
     "output_type": "execute_result"
    }
   ],
   "source": [
    "lista2 = [palabra for palabra in lista if palabra.istitle()]\n",
    "lista2"
   ]
  },
  {
   "attachments": {},
   "cell_type": "markdown",
   "id": "familiar-frequency",
   "metadata": {},
   "source": [
    "### Ejercicio 3\n",
    "Convierte en mayúsculas las palabras de `texto` que tienen una longitud mayor que tres.  "
   ]
  },
  {
   "cell_type": "code",
   "execution_count": 22,
   "id": "mental-commander",
   "metadata": {},
   "outputs": [
    {
     "data": {
      "text/plain": [
       "['ESTE', 'TEXTO', \"'NORMAL'\", 'PYTHON']"
      ]
     },
     "execution_count": 22,
     "metadata": {},
     "output_type": "execute_result"
    }
   ],
   "source": [
    "lista3 = [palabra.upper() for palabra in lista if len(palabra) > 3]\n",
    "lista3"
   ]
  },
  {
   "attachments": {},
   "cell_type": "markdown",
   "id": "sapphire-joshua",
   "metadata": {},
   "source": [
    "### Ejercicio 4\n",
    "Crea una cadena que contenga *sólo* con las palabras de `texto` terminadas en `n`, separadas por **coma**, y convertidas en mayúsculas *sólo* si tienen una longitud mayor que tres"
   ]
  },
  {
   "cell_type": "code",
   "execution_count": 29,
   "id": "minute-communist",
   "metadata": {},
   "outputs": [
    {
     "data": {
      "text/plain": [
       "'un,en,PYTHON'"
      ]
     },
     "execution_count": 29,
     "metadata": {},
     "output_type": "execute_result"
    }
   ],
   "source": [
    "lista4 = [palabra for palabra in lista if palabra.endswith('n')]\n",
    "lista4 = [palabra.upper() if len(palabra) > 3 else palabra for palabra in lista4]\n",
    "cadena4 = ','.join(lista4)\n",
    "cadena4"
   ]
  },
  {
   "attachments": {},
   "cell_type": "markdown",
   "id": "annual-catch",
   "metadata": {},
   "source": [
    "### Ejercicio 5\n",
    "Enumera las palabras de la cadena `texto` e indica para cada una su longitud. P. ej:  \n",
    "`Palabra 0: 4 caracteres`"
   ]
  },
  {
   "cell_type": "code",
   "execution_count": 35,
   "id": "coupled-texas",
   "metadata": {},
   "outputs": [
    {
     "name": "stdout",
     "output_type": "stream",
     "text": [
      "palabra 0: 4 caracteres\n",
      "palabra 1: 2 caracteres\n",
      "palabra 2: 2 caracteres\n",
      "palabra 3: 5 caracteres\n",
      "palabra 4: 8 caracteres\n",
      "palabra 5: 2 caracteres\n",
      "palabra 6: 6 caracteres\n"
     ]
    }
   ],
   "source": [
    "for i,palabra in enumerate(lista):\n",
    "    print(f\"palabra {i}: {len(palabra)} caracteres\")"
   ]
  },
  {
   "attachments": {},
   "cell_type": "markdown",
   "id": "broad-jason",
   "metadata": {},
   "source": [
    "## Uso de texto en Pandas"
   ]
  },
  {
   "cell_type": "code",
   "execution_count": 36,
   "id": "returning-bosnia",
   "metadata": {},
   "outputs": [
    {
     "data": {
      "text/plain": [
       "'2.0.1'"
      ]
     },
     "execution_count": 36,
     "metadata": {},
     "output_type": "execute_result"
    }
   ],
   "source": [
    "import pandas as pd\n",
    "import numpy as np\n",
    "pd.__version__"
   ]
  },
  {
   "attachments": {},
   "cell_type": "markdown",
   "id": "convinced-worker",
   "metadata": {},
   "source": [
    "### Ejercicio 6\n",
    "Convierte la lista de *strings* anterior a un objeto `Series` de Pandas de tipo `dtype=string` con el nombre `serie`."
   ]
  },
  {
   "cell_type": "code",
   "execution_count": 40,
   "id": "prepared-flesh",
   "metadata": {},
   "outputs": [
    {
     "data": {
      "text/plain": [
       "0        Este\n",
       "1          es\n",
       "2          un\n",
       "3       texto\n",
       "4    'normal'\n",
       "5          en\n",
       "6      Python\n",
       "dtype: string"
      ]
     },
     "execution_count": 40,
     "metadata": {},
     "output_type": "execute_result"
    }
   ],
   "source": [
    "serie = pd.Series(lista,dtype='string')\n",
    "serie"
   ]
  },
  {
   "attachments": {},
   "cell_type": "markdown",
   "id": "scheduled-affiliate",
   "metadata": {},
   "source": [
    "### Ejercicio 7\n",
    "Convierte los elementos de `serie` a mayúsculas."
   ]
  },
  {
   "cell_type": "code",
   "execution_count": 46,
   "id": "original-delivery",
   "metadata": {},
   "outputs": [
    {
     "data": {
      "text/plain": [
       "0        ESTE\n",
       "1          ES\n",
       "2          UN\n",
       "3       TEXTO\n",
       "4    'NORMAL'\n",
       "5          EN\n",
       "6      PYTHON\n",
       "dtype: string"
      ]
     },
     "execution_count": 46,
     "metadata": {},
     "output_type": "execute_result"
    }
   ],
   "source": [
    "serie7 = serie.str.upper()\n",
    "serie7"
   ]
  },
  {
   "attachments": {},
   "cell_type": "markdown",
   "id": "requested-naples",
   "metadata": {},
   "source": [
    "### Ejercicio 8\n",
    "Cuenta el número de apariciones del carácter 'e' (o 'E') en cada elemento.  \n",
    "*Nota*: Convierte todo el texto a mayúscula y utiliza el  método `count()` sobre el atributo `str` del objeto Series"
   ]
  },
  {
   "cell_type": "code",
   "execution_count": 47,
   "id": "announced-closure",
   "metadata": {},
   "outputs": [
    {
     "data": {
      "text/plain": [
       "0    2\n",
       "1    1\n",
       "2    0\n",
       "3    1\n",
       "4    0\n",
       "5    1\n",
       "6    0\n",
       "dtype: Int64"
      ]
     },
     "execution_count": 47,
     "metadata": {},
     "output_type": "execute_result"
    }
   ],
   "source": [
    "serie8 = serie7.str.count('E')\n",
    "serie8"
   ]
  },
  {
   "attachments": {},
   "cell_type": "markdown",
   "id": "southwest-pressing",
   "metadata": {},
   "source": [
    "### Ejercicio 9\n",
    "Crea un `DataFrame` de Pandas con los elementos originales de tu serie y dos columnas con:  \n",
    "- Elementos que contienen la letra 'e' (case insensitive)\n",
    "- Elementos que comienzan por la letra 'E' (sólo mayúsculas)"
   ]
  },
  {
   "cell_type": "code",
   "execution_count": 56,
   "id": "descending-cycling",
   "metadata": {},
   "outputs": [
    {
     "data": {
      "text/html": [
       "<div>\n",
       "<style scoped>\n",
       "    .dataframe tbody tr th:only-of-type {\n",
       "        vertical-align: middle;\n",
       "    }\n",
       "\n",
       "    .dataframe tbody tr th {\n",
       "        vertical-align: top;\n",
       "    }\n",
       "\n",
       "    .dataframe thead th {\n",
       "        text-align: right;\n",
       "    }\n",
       "</style>\n",
       "<table border=\"1\" class=\"dataframe\">\n",
       "  <thead>\n",
       "    <tr style=\"text-align: right;\">\n",
       "      <th></th>\n",
       "      <th>Elementos Originales</th>\n",
       "      <th>Elemento que contienen la letra 'e' (case insensitive)</th>\n",
       "      <th>Elementos que comienzan con la letra 'E' (solo mayúsculas)</th>\n",
       "    </tr>\n",
       "  </thead>\n",
       "  <tbody>\n",
       "    <tr>\n",
       "      <th>0</th>\n",
       "      <td>Este</td>\n",
       "      <td>True</td>\n",
       "      <td>True</td>\n",
       "    </tr>\n",
       "    <tr>\n",
       "      <th>1</th>\n",
       "      <td>es</td>\n",
       "      <td>True</td>\n",
       "      <td>False</td>\n",
       "    </tr>\n",
       "    <tr>\n",
       "      <th>2</th>\n",
       "      <td>un</td>\n",
       "      <td>False</td>\n",
       "      <td>False</td>\n",
       "    </tr>\n",
       "    <tr>\n",
       "      <th>3</th>\n",
       "      <td>texto</td>\n",
       "      <td>True</td>\n",
       "      <td>False</td>\n",
       "    </tr>\n",
       "    <tr>\n",
       "      <th>4</th>\n",
       "      <td>'normal'</td>\n",
       "      <td>False</td>\n",
       "      <td>False</td>\n",
       "    </tr>\n",
       "    <tr>\n",
       "      <th>5</th>\n",
       "      <td>en</td>\n",
       "      <td>True</td>\n",
       "      <td>False</td>\n",
       "    </tr>\n",
       "    <tr>\n",
       "      <th>6</th>\n",
       "      <td>Python</td>\n",
       "      <td>False</td>\n",
       "      <td>False</td>\n",
       "    </tr>\n",
       "  </tbody>\n",
       "</table>\n",
       "</div>"
      ],
      "text/plain": [
       "  Elementos Originales   \n",
       "0                 Este  \\\n",
       "1                   es   \n",
       "2                   un   \n",
       "3                texto   \n",
       "4             'normal'   \n",
       "5                   en   \n",
       "6               Python   \n",
       "\n",
       "   Elemento que contienen la letra 'e' (case insensitive)   \n",
       "0                                               True       \\\n",
       "1                                               True        \n",
       "2                                              False        \n",
       "3                                               True        \n",
       "4                                              False        \n",
       "5                                               True        \n",
       "6                                              False        \n",
       "\n",
       "   Elementos que comienzan con la letra 'E' (solo mayúsculas)  \n",
       "0                                               True           \n",
       "1                                              False           \n",
       "2                                              False           \n",
       "3                                              False           \n",
       "4                                              False           \n",
       "5                                              False           \n",
       "6                                              False           "
      ]
     },
     "execution_count": 56,
     "metadata": {},
     "output_type": "execute_result"
    }
   ],
   "source": [
    "df = pd.DataFrame({'Elementos Originales':lista})\n",
    "df[\"Elemento que contienen la letra 'e' (case insensitive)\"] = serie.str.contains('e', case=False)\n",
    "df[\"Elementos que comienzan con la letra 'E' (solo mayúsculas)\"] = serie.str.startswith('E')\n",
    "df"
   ]
  },
  {
   "attachments": {},
   "cell_type": "markdown",
   "id": "universal-effect",
   "metadata": {},
   "source": [
    "### Ejercicio 10\n",
    "¿cuántos elementos contienen al menos un carácter 'n'?  \n",
    "*Nota*: recuerda que las Series de tipo booleano se pueden sumar con `sum()`"
   ]
  },
  {
   "cell_type": "code",
   "execution_count": 57,
   "id": "variable-charger",
   "metadata": {},
   "outputs": [
    {
     "data": {
      "text/plain": [
       "4"
      ]
     },
     "execution_count": 57,
     "metadata": {},
     "output_type": "execute_result"
    }
   ],
   "source": [
    "serie.str.contains('n').sum()"
   ]
  },
  {
   "attachments": {},
   "cell_type": "markdown",
   "id": "mediterranean-terrace",
   "metadata": {},
   "source": [
    "## Generator comprenhension y List comprenhension\n",
    "### Ejercicio 11\n",
    "Crea un generador llamado `gen` que recorra la lista de texto anterior y devuelva cada vez una tupla con la siguiente palabra y su longitud."
   ]
  },
  {
   "cell_type": "code",
   "execution_count": 58,
   "id": "promotional-wound",
   "metadata": {},
   "outputs": [],
   "source": [
    "gen = (palabra for palabra in lista)"
   ]
  },
  {
   "attachments": {},
   "cell_type": "markdown",
   "id": "twelve-twins",
   "metadata": {},
   "source": [
    "Comprueba que funciona correctamente:"
   ]
  },
  {
   "cell_type": "code",
   "execution_count": 59,
   "id": "chemical-vinyl",
   "metadata": {},
   "outputs": [
    {
     "name": "stdout",
     "output_type": "stream",
     "text": [
      "Este\n",
      "es\n",
      "un\n",
      "texto\n",
      "'normal'\n",
      "en\n",
      "Python\n"
     ]
    }
   ],
   "source": [
    "for i in gen:\n",
    "    print(i)"
   ]
  },
  {
   "attachments": {},
   "cell_type": "markdown",
   "id": "distinguished-policy",
   "metadata": {},
   "source": [
    "### Ejercicio 12\n",
    "Repite el ejercicio 11 enumerando sólo las palabras terminadas en 'n'"
   ]
  },
  {
   "cell_type": "code",
   "execution_count": 64,
   "id": "ancient-color",
   "metadata": {},
   "outputs": [
    {
     "name": "stdout",
     "output_type": "stream",
     "text": [
      "un\n",
      "en\n",
      "Python\n"
     ]
    }
   ],
   "source": [
    "gen11 = (palabra for palabra in lista if palabra.endswith('n'))\n",
    "for word in gen11:\n",
    "    print(word)"
   ]
  }
 ],
 "metadata": {
  "kernelspec": {
   "display_name": "Python 3",
   "language": "python",
   "name": "python3"
  },
  "language_info": {
   "codemirror_mode": {
    "name": "ipython",
    "version": 3
   },
   "file_extension": ".py",
   "mimetype": "text/x-python",
   "name": "python",
   "nbconvert_exporter": "python",
   "pygments_lexer": "ipython3",
   "version": "3.10.11"
  }
 },
 "nbformat": 4,
 "nbformat_minor": 5
}
