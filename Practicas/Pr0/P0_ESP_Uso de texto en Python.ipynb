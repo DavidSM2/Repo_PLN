{
 "cells": [
  {
   "cell_type": "markdown",
   "id": "federal-stress",
   "metadata": {},
   "source": [
    "# Práctica 0\n",
    "## Uso de texto en Python"
   ]
  },
  {
   "cell_type": "code",
   "execution_count": 37,
   "id": "satisfied-condition",
   "metadata": {},
   "outputs": [],
   "source": [
    "texto = \"Este es un texto 'normal' en Python\""
   ]
  },
  {
   "cell_type": "markdown",
   "id": "advance-living",
   "metadata": {},
   "source": [
    "### Ejercicio 1\n",
    "Crea una lista con el nombre `lista` que contenga las palabras de la cadena `texto` y cuénta el nº de palabras que tiene la lista.  \n",
    "*Nota: considera que las palabras están separadas por el caracter espacio `' '`*"
   ]
  },
  {
   "cell_type": "code",
   "execution_count": 38,
   "id": "designed-darkness",
   "metadata": {},
   "outputs": [
    {
     "name": "stdout",
     "output_type": "stream",
     "text": [
      "['Este', 'es', 'un', 'texto', \"'normal'\", 'en', 'Python']\n"
     ]
    },
    {
     "data": {
      "text/plain": [
       "7"
      ]
     },
     "execution_count": 38,
     "metadata": {},
     "output_type": "execute_result"
    }
   ],
   "source": [
    "lista = texto.split(\" \")\n",
    "print(lista)\n",
    "len(lista)"
   ]
  },
  {
   "cell_type": "markdown",
   "id": "broken-duncan",
   "metadata": {},
   "source": [
    "### Ejercicio 2\n",
    "¿Qué palabras de `texto` empiezan en mayúscula?"
   ]
  },
  {
   "cell_type": "code",
   "execution_count": null,
   "id": "unlike-screw",
   "metadata": {},
   "outputs": [],
   "source": [
    "lista2 = [palabra for palabra in lista if palabra.istitle()]\n",
    "print(lista2)"
   ]
  },
  {
   "cell_type": "markdown",
   "id": "familiar-frequency",
   "metadata": {},
   "source": [
    "### Ejercicio 3\n",
    "Convierte en mayúsculas las palabras de `texto` que tienen una longitud mayor que tres.  "
   ]
  },
  {
   "cell_type": "code",
   "execution_count": null,
   "id": "mental-commander",
   "metadata": {},
   "outputs": [],
   "source": [
    "lista3 = [palabra.upper() for palabra in lista if len(palabra) > 3]\n",
    "print(lista3)"
   ]
  },
  {
   "cell_type": "markdown",
   "id": "sapphire-joshua",
   "metadata": {},
   "source": [
    "### Ejercicio 4\n",
    "Crea una cadena que contenga *sólo* con las palabras de `texto` terminadas en `n`, separadas por **coma**, y convertidas en mayúsculas *sólo* si tienen una longitud mayor que tres"
   ]
  },
  {
   "cell_type": "code",
   "execution_count": null,
   "id": "minute-communist",
   "metadata": {},
   "outputs": [],
   "source": [
    "lista4 = [palabra for palabra in lista if palabra.endswith('n')]\n",
    "lista42 = [palabra.upper() if len(palabra) > 3 else palabra for palabra in lista4]\n",
    "cadena = ','.join(lista42)\n",
    "print(cadena)"
   ]
  },
  {
   "cell_type": "markdown",
   "id": "annual-catch",
   "metadata": {},
   "source": [
    "### Ejercicio 5\n",
    "Enumera las palabras de la cadena `texto` e indica para cada una su longitud. P. ej:  \n",
    "`Palabra 0: 4 caracteres`"
   ]
  },
  {
   "cell_type": "code",
   "execution_count": null,
   "id": "coupled-texas",
   "metadata": {},
   "outputs": [],
   "source": [
    "for i, palabra in enumerate(lista):\n",
    "    print(f'Palabra {i}: {len(palabra)} caracteres')"
   ]
  },
  {
   "cell_type": "markdown",
   "id": "broad-jason",
   "metadata": {},
   "source": [
    "## Uso de texto en Pandas"
   ]
  },
  {
   "cell_type": "code",
   "execution_count": 29,
   "id": "returning-bosnia",
   "metadata": {},
   "outputs": [
    {
     "data": {
      "text/plain": [
       "'1.5.3'"
      ]
     },
     "execution_count": 29,
     "metadata": {},
     "output_type": "execute_result"
    }
   ],
   "source": [
    "import pandas as pd\n",
    "import numpy as np\n",
    "pd.__version__"
   ]
  },
  {
   "cell_type": "markdown",
   "id": "convinced-worker",
   "metadata": {},
   "source": [
    "### Ejercicio 6\n",
    "Convierte la lista de *strings* anterior a un objeto `Series` de Pandas de tipo `dtype=string` con el nombre `serie`."
   ]
  },
  {
   "cell_type": "code",
   "execution_count": null,
   "id": "prepared-flesh",
   "metadata": {},
   "outputs": [],
   "source": [
    "serie = pd.Series(lista, dtype='string')\n",
    "print(serie)"
   ]
  },
  {
   "cell_type": "markdown",
   "id": "scheduled-affiliate",
   "metadata": {},
   "source": [
    "### Ejercicio 7\n",
    "Convierte los elementos de `serie` a mayúsculas."
   ]
  },
  {
   "cell_type": "code",
   "execution_count": 44,
   "id": "original-delivery",
   "metadata": {},
   "outputs": [
    {
     "name": "stdout",
     "output_type": "stream",
     "text": [
      "0        ESTE\n",
      "1          ES\n",
      "2          UN\n",
      "3       TEXTO\n",
      "4    'NORMAL'\n",
      "5          EN\n",
      "6      PYTHON\n",
      "dtype: string\n"
     ]
    }
   ],
   "source": [
    "serie2 = serie.str.upper()\n",
    "print(serie2)"
   ]
  },
  {
   "cell_type": "markdown",
   "id": "requested-naples",
   "metadata": {},
   "source": [
    "### Ejercicio 8\n",
    "Cuenta el número de apariciones del carácter 'e' (o 'E') en cada elemento.  \n",
    "*Nota*: Convierte todo el texto a mayúscula y utiliza el  método `count()` sobre el atributo `str` del objeto Series"
   ]
  },
  {
   "cell_type": "code",
   "execution_count": 43,
   "id": "announced-closure",
   "metadata": {},
   "outputs": [
    {
     "name": "stdout",
     "output_type": "stream",
     "text": [
      "0    2\n",
      "1    1\n",
      "2    0\n",
      "3    1\n",
      "4    0\n",
      "5    1\n",
      "6    0\n",
      "dtype: Int64\n"
     ]
    }
   ],
   "source": [
    "serie3 = serie2.str.count('E')\n",
    "print(serie3)"
   ]
  },
  {
   "cell_type": "markdown",
   "id": "southwest-pressing",
   "metadata": {},
   "source": [
    "### Ejercicio 9\n",
    "Crea un `DataFrame` de Pandas con los elementos originales de tu serie y dos columnas con:  \n",
    "- Elementos que contienen la letra 'e' (case insensitive)\n",
    "- Elementos que comienzan por la letra 'E' (sólo mayúsculas)"
   ]
  },
  {
   "cell_type": "code",
   "execution_count": null,
   "id": "descending-cycling",
   "metadata": {},
   "outputs": [],
   "source": [
    "df = pd.DataFrame({'Elementos originales': serie})\n",
    "df['Contiene \"e\" (case insensitive)'] = serie.str.contains('e', case=False)\n",
    "df['Comienza con \"E\" (mayúsculas)'] = serie.str.startswith('E')\n",
    "print(df)"
   ]
  },
  {
   "cell_type": "markdown",
   "id": "universal-effect",
   "metadata": {},
   "source": [
    "### Ejercicio 10\n",
    "¿cuántos elementos contienen al menos un carácter 'n'?  \n",
    "*Nota*: recuerda que las Series de tipo booleano se pueden sumar con `sum()`"
   ]
  },
  {
   "cell_type": "code",
   "execution_count": 49,
   "id": "variable-charger",
   "metadata": {},
   "outputs": [
    {
     "data": {
      "text/plain": [
       "4"
      ]
     },
     "execution_count": 49,
     "metadata": {},
     "output_type": "execute_result"
    }
   ],
   "source": [
    "cuenta = serie.str.contains('n').sum()\n",
    "print(cuenta)"
   ]
  },
  {
   "cell_type": "markdown",
   "id": "mediterranean-terrace",
   "metadata": {},
   "source": [
    "## Generator comprenhension y List comprenhension\n",
    "### Ejercicio 11\n",
    "Crea un generador llamado `gen` que recorra la lista de texto anterior y devuelva cada vez una tupla con la siguiente palabra y su longitud."
   ]
  },
  {
   "cell_type": "code",
   "execution_count": 50,
   "id": "promotional-wound",
   "metadata": {},
   "outputs": [],
   "source": [
    "gen = ((word, len(word)) for word in lista)"
   ]
  },
  {
   "cell_type": "markdown",
   "id": "twelve-twins",
   "metadata": {},
   "source": [
    "Comprueba que funciona correctamente:"
   ]
  },
  {
   "cell_type": "code",
   "execution_count": 51,
   "id": "chemical-vinyl",
   "metadata": {},
   "outputs": [
    {
     "name": "stdout",
     "output_type": "stream",
     "text": [
      "('Este', 4)\n",
      "('es', 2)\n",
      "('un', 2)\n",
      "('texto', 5)\n",
      "(\"'normal'\", 8)\n",
      "('en', 2)\n",
      "('Python', 6)\n"
     ]
    }
   ],
   "source": [
    "for i in gen:\n",
    "    print(i)"
   ]
  },
  {
   "cell_type": "markdown",
   "id": "distinguished-policy",
   "metadata": {},
   "source": [
    "### Ejercicio 12\n",
    "Repite el ejercicio 11 enumerando sólo las palabras terminadas en 'n'"
   ]
  },
  {
   "cell_type": "code",
   "execution_count": 52,
   "id": "ancient-color",
   "metadata": {},
   "outputs": [
    {
     "name": "stdout",
     "output_type": "stream",
     "text": [
      "(2, 'un')\n",
      "(5, 'en')\n",
      "(6, 'Python')\n"
     ]
    }
   ],
   "source": [
    "gen2 = ((i, palabra) for i, palabra in enumerate(lista) if palabra.endswith('n'))\n",
    "for i in gen2:\n",
    "    print(i)"
   ]
  }
 ],
 "metadata": {
  "kernelspec": {
   "display_name": "Python 3",
   "language": "python",
   "name": "python3"
  },
  "language_info": {
   "codemirror_mode": {
    "name": "ipython",
    "version": 3
   },
   "file_extension": ".py",
   "mimetype": "text/x-python",
   "name": "python",
   "nbconvert_exporter": "python",
   "pygments_lexer": "ipython3",
   "version": "3.10.9"
  },
  "vscode": {
   "interpreter": {
    "hash": "369f2c481f4da34e4445cda3fffd2e751bd1c4d706f27375911949ba6bb62e1c"
   }
  }
 },
 "nbformat": 4,
 "nbformat_minor": 5
}
