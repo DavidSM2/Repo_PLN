{
 "cells": [
  {
   "cell_type": "markdown",
   "id": "federal-stress",
   "metadata": {},
   "source": [
    "# Práctica 0\n",
    "## Uso de texto en Python"
   ]
  },
  {
   "cell_type": "code",
   "execution_count": null,
   "id": "satisfied-condition",
   "metadata": {},
   "outputs": [],
   "source": [
    "texto = \"Este es un texto 'normal' en Python\""
   ]
  },
  {
   "cell_type": "markdown",
   "id": "advance-living",
   "metadata": {},
   "source": [
    "### Ejercicio 1\n",
    "Crea una lista con el nombre `lista` que contenga las palabras de la cadena `texto` y cuénta el nº de palabras que tiene la lista.  \n",
    "*Nota: considera que las palabras están separadas por el caracter espacio `' '`*"
   ]
  },
  {
   "cell_type": "code",
   "execution_count": null,
   "id": "designed-darkness",
   "metadata": {},
   "outputs": [],
   "source": []
  },
  {
   "cell_type": "markdown",
   "id": "broken-duncan",
   "metadata": {},
   "source": [
    "### Ejercicio 2\n",
    "¿Qué palabras de `texto` empiezan en mayúscula?"
   ]
  },
  {
   "cell_type": "code",
   "execution_count": null,
   "id": "unlike-screw",
   "metadata": {},
   "outputs": [],
   "source": []
  },
  {
   "cell_type": "markdown",
   "id": "familiar-frequency",
   "metadata": {},
   "source": [
    "### Ejercicio 3\n",
    "Convierte en mayúsculas las palabras de `texto` que tienen una longitud mayor que tres.  "
   ]
  },
  {
   "cell_type": "code",
   "execution_count": null,
   "id": "mental-commander",
   "metadata": {},
   "outputs": [],
   "source": []
  },
  {
   "cell_type": "markdown",
   "id": "sapphire-joshua",
   "metadata": {},
   "source": [
    "### Ejercicio 4\n",
    "Crea una cadena que contenga *sólo* con las palabras de `texto` terminadas en `n`, separadas por **coma**, y convertidas en mayúsculas *sólo* si tienen una longitud mayor que tres"
   ]
  },
  {
   "cell_type": "code",
   "execution_count": null,
   "id": "minute-communist",
   "metadata": {},
   "outputs": [],
   "source": []
  },
  {
   "cell_type": "markdown",
   "id": "annual-catch",
   "metadata": {},
   "source": [
    "### Ejercicio 5\n",
    "Enumera las palabras de la cadena `texto` e indica para cada una su longitud. P. ej:  \n",
    "`Palabra 0: 4 caracteres`"
   ]
  },
  {
   "cell_type": "code",
   "execution_count": null,
   "id": "coupled-texas",
   "metadata": {},
   "outputs": [],
   "source": []
  },
  {
   "cell_type": "markdown",
   "id": "broad-jason",
   "metadata": {},
   "source": [
    "## Uso de texto en Pandas"
   ]
  },
  {
   "cell_type": "code",
   "execution_count": null,
   "id": "returning-bosnia",
   "metadata": {},
   "outputs": [],
   "source": [
    "import pandas as pd\n",
    "import numpy as np\n",
    "pd.__version__"
   ]
  },
  {
   "cell_type": "markdown",
   "id": "convinced-worker",
   "metadata": {},
   "source": [
    "### Ejercicio 6\n",
    "Convierte la lista de *strings* anterior a un objeto `Series` de Pandas de tipo `dtype=string` con el nombre `serie`."
   ]
  },
  {
   "cell_type": "code",
   "execution_count": null,
   "id": "prepared-flesh",
   "metadata": {},
   "outputs": [],
   "source": []
  },
  {
   "cell_type": "markdown",
   "id": "scheduled-affiliate",
   "metadata": {},
   "source": [
    "### Ejercicio 7\n",
    "Convierte los elementos de `serie` a mayúsculas."
   ]
  },
  {
   "cell_type": "code",
   "execution_count": null,
   "id": "original-delivery",
   "metadata": {},
   "outputs": [],
   "source": []
  },
  {
   "cell_type": "markdown",
   "id": "requested-naples",
   "metadata": {},
   "source": [
    "### Ejercicio 8\n",
    "Cuenta el número de apariciones del carácter 'e' (o 'E') en cada elemento.  \n",
    "*Nota*: Convierte todo el texto a mayúscula y utiliza el  método `count()` sobre el atributo `str` del objeto Series"
   ]
  },
  {
   "cell_type": "code",
   "execution_count": null,
   "id": "announced-closure",
   "metadata": {},
   "outputs": [],
   "source": []
  },
  {
   "cell_type": "markdown",
   "id": "southwest-pressing",
   "metadata": {},
   "source": [
    "### Ejercicio 9\n",
    "Crea un `DataFrame` de Pandas con los elementos originales de tu serie y dos columnas con:  \n",
    "- Elementos que contienen la letra 'e' (case insensitive)\n",
    "- Elementos que comienzan por la letra 'E' (sólo mayúsculas)"
   ]
  },
  {
   "cell_type": "code",
   "execution_count": null,
   "id": "descending-cycling",
   "metadata": {},
   "outputs": [],
   "source": []
  },
  {
   "cell_type": "markdown",
   "id": "universal-effect",
   "metadata": {},
   "source": [
    "### Ejercicio 10\n",
    "¿cuántos elementos contienen al menos un carácter 'n'?  \n",
    "*Nota*: recuerda que las Series de tipo booleano se pueden sumar con `sum()`"
   ]
  },
  {
   "cell_type": "code",
   "execution_count": null,
   "id": "variable-charger",
   "metadata": {},
   "outputs": [],
   "source": []
  },
  {
   "cell_type": "markdown",
   "id": "mediterranean-terrace",
   "metadata": {},
   "source": [
    "## Generator comprenhension y List comprenhension\n",
    "### Ejercicio 11\n",
    "Crea un generador llamado `gen` que recorra la lista de texto anterior y devuelva cada vez una tupla con la siguiente palabra y su longitud."
   ]
  },
  {
   "cell_type": "code",
   "execution_count": null,
   "id": "promotional-wound",
   "metadata": {},
   "outputs": [],
   "source": []
  },
  {
   "cell_type": "markdown",
   "id": "twelve-twins",
   "metadata": {},
   "source": [
    "Comprueba que funciona correctamente:"
   ]
  },
  {
   "cell_type": "code",
   "execution_count": null,
   "id": "chemical-vinyl",
   "metadata": {},
   "outputs": [],
   "source": [
    "for i in gen:\n",
    "    print(i)"
   ]
  },
  {
   "cell_type": "markdown",
   "id": "distinguished-policy",
   "metadata": {},
   "source": [
    "### Ejercicio 12\n",
    "Repite el ejercicio 11 enumerando sólo las palabras terminadas en 'n'"
   ]
  },
  {
   "cell_type": "code",
   "execution_count": null,
   "id": "ancient-color",
   "metadata": {},
   "outputs": [],
   "source": []
  }
 ],
 "metadata": {
  "kernelspec": {
   "display_name": "Python 3",
   "language": "python",
   "name": "python3"
  },
  "language_info": {
   "codemirror_mode": {
    "name": "ipython",
    "version": 3
   },
   "file_extension": ".py",
   "mimetype": "text/x-python",
   "name": "python",
   "nbconvert_exporter": "python",
   "pygments_lexer": "ipython3",
   "version": "3.7.4"
  }
 },
 "nbformat": 4,
 "nbformat_minor": 5
}
