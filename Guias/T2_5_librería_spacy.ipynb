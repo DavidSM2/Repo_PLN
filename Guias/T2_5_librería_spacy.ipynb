{
 "cells": [
  {
   "cell_type": "markdown",
   "id": "2fbd3737",
   "metadata": {},
   "source": [
    "# Introducción a la librería `spaCy`"
   ]
  },
  {
   "cell_type": "code",
   "execution_count": 48,
   "id": "61b76925",
   "metadata": {},
   "outputs": [],
   "source": [
    "import spacy\n",
    "import pandas as pd\n",
    "import re"
   ]
  },
  {
   "cell_type": "markdown",
   "id": "34c52bef",
   "metadata": {},
   "source": [
    "Vemos las principales características de la librería y del modelo."
   ]
  },
  {
   "cell_type": "code",
   "execution_count": 49,
   "id": "44466044",
   "metadata": {},
   "outputs": [
    {
     "data": {
      "text/plain": [
       "{'spacy_version': '3.3.1',\n",
       " 'location': 'c:\\\\Users\\\\David_Sanchis\\\\anaconda3\\\\lib\\\\site-packages\\\\spacy',\n",
       " 'platform': 'Windows-10-10.0.19041-SP0',\n",
       " 'python_version': '3.9.13',\n",
       " 'pipelines': {}}"
      ]
     },
     "execution_count": 49,
     "metadata": {},
     "output_type": "execute_result"
    }
   ],
   "source": [
    "spacy.info()"
   ]
  },
  {
   "cell_type": "code",
   "execution_count": 50,
   "id": "c8594450",
   "metadata": {},
   "outputs": [
    {
     "data": {
      "text/plain": [
       "{'lang': 'es',\n",
       " 'name': 'core_news_md',\n",
       " 'version': '3.3.0',\n",
       " 'description': 'Spanish pipeline optimized for CPU. Components: tok2vec, morphologizer, parser, senter, ner, attribute_ruler, lemmatizer.',\n",
       " 'author': 'Explosion',\n",
       " 'email': 'contact@explosion.ai',\n",
       " 'url': 'https://explosion.ai',\n",
       " 'license': 'GNU GPL 3.0',\n",
       " 'spacy_version': '>=3.3.0.dev0,<3.4.0',\n",
       " 'spacy_git_version': '849bef2de',\n",
       " 'vectors': {'width': 300,\n",
       "  'vectors': 20000,\n",
       "  'keys': 500000,\n",
       "  'name': 'es_vectors'},\n",
       " 'labels': {'tok2vec': [],\n",
       "  'morphologizer': ['Definite=Def|Gender=Masc|Number=Sing|POS=DET|PronType=Art',\n",
       "   'Gender=Masc|Number=Sing|POS=NOUN',\n",
       "   'Definite=Def|Gender=Masc|Number=Sing|POS=ADP|PronType=Art',\n",
       "   'Gender=Masc|Number=Sing|POS=ADJ',\n",
       "   'POS=ADP',\n",
       "   'Definite=Def|Gender=Fem|Number=Plur|POS=DET|PronType=Art',\n",
       "   'POS=PROPN',\n",
       "   'Case=Acc|POS=PRON|Person=3|PrepCase=Npr|PronType=Prs|Reflex=Yes',\n",
       "   'Mood=Ind|Number=Sing|POS=VERB|Person=3|Tense=Past|VerbForm=Fin',\n",
       "   'POS=VERB|VerbForm=Inf',\n",
       "   'Gender=Fem|Number=Sing|POS=DET|PronType=Dem',\n",
       "   'Gender=Fem|Number=Sing|POS=NOUN',\n",
       "   'Gender=Fem|Number=Plur|POS=NOUN',\n",
       "   'Gender=Fem|Number=Plur|POS=DET|PronType=Ind',\n",
       "   'POS=PRON|PronType=Int,Rel',\n",
       "   'Mood=Sub|Number=Plur|POS=VERB|Person=3|Tense=Pres|VerbForm=Fin',\n",
       "   'Definite=Def|Gender=Fem|Number=Sing|POS=DET|PronType=Art',\n",
       "   'POS=SCONJ',\n",
       "   'POS=NOUN',\n",
       "   'Definite=Def|Gender=Masc|Number=Plur|POS=DET|PronType=Art',\n",
       "   'Number=Plur|POS=NOUN',\n",
       "   'Gender=Masc|Number=Plur|POS=DET|PronType=Ind',\n",
       "   'Gender=Masc|Number=Plur|POS=NOUN',\n",
       "   'POS=PUNCT|PunctType=Peri',\n",
       "   'Mood=Ind|Number=Sing|POS=VERB|Person=3|Tense=Pres|VerbForm=Fin',\n",
       "   'POS=PUNCT|PunctType=Comm',\n",
       "   'Case=Acc|Gender=Fem|Number=Sing|POS=VERB|Person=3|PrepCase=Npr|PronType=Prs|VerbForm=Inf',\n",
       "   'Mood=Ind|Number=Plur|POS=AUX|Person=3|Tense=Pres|VerbForm=Fin',\n",
       "   'Gender=Masc|Number=Sing|POS=VERB|Tense=Past|VerbForm=Part',\n",
       "   'Number=Plur|POS=ADJ',\n",
       "   'POS=CCONJ',\n",
       "   'Gender=Masc|Number=Plur|POS=PRON|PronType=Ind',\n",
       "   'POS=ADV',\n",
       "   'Mood=Ind|Number=Plur|POS=VERB|Person=3|Tense=Fut|VerbForm=Fin',\n",
       "   'Gender=Masc|NumType=Card|Number=Plur|POS=DET|PronType=Dem',\n",
       "   'Mood=Ind|Number=Sing|POS=AUX|Person=3|Tense=Pres|VerbForm=Fin',\n",
       "   'Number=Sing|POS=ADJ',\n",
       "   'Gender=Masc|Number=Plur|POS=ADJ|VerbForm=Part',\n",
       "   'Gender=Masc|Number=Plur|POS=PRON|PronType=Tot',\n",
       "   'POS=PRON|PronType=Ind',\n",
       "   'POS=ADV|Polarity=Neg',\n",
       "   'Case=Acc|Gender=Masc|Number=Sing|POS=PRON|Person=3|PrepCase=Npr|PronType=Prs',\n",
       "   'Gender=Fem|Number=Sing|POS=ADJ',\n",
       "   'Mood=Ind|Number=Plur|POS=VERB|Person=3|Tense=Past|VerbForm=Fin',\n",
       "   'Number=Plur|POS=PRON|PronType=Int,Rel',\n",
       "   'POS=PUNCT|PunctType=Quot',\n",
       "   'POS=PUNCT',\n",
       "   'Gender=Masc|Number=Sing|POS=ADJ|VerbForm=Part',\n",
       "   'POS=PUNCT|PunctSide=Ini|PunctType=Brck',\n",
       "   'POS=PUNCT|PunctSide=Fin|PunctType=Brck',\n",
       "   'NumForm=Digit|NumType=Card|POS=NUM',\n",
       "   'NumType=Card|POS=NUM',\n",
       "   'POS=VERB|VerbForm=Ger',\n",
       "   'Definite=Ind|Gender=Masc|Number=Sing|POS=DET|PronType=Art',\n",
       "   'Gender=Masc|Number=Sing|POS=DET|PronType=Dem',\n",
       "   'Gender=Fem|NumType=Ord|Number=Plur|POS=ADJ',\n",
       "   'Number=Sing|POS=DET|Person=3|Poss=Yes|PronType=Prs',\n",
       "   'Number=Sing|POS=NOUN',\n",
       "   'Gender=Masc|Number=Plur|POS=ADJ',\n",
       "   'Mood=Ind|Number=Sing|POS=AUX|Person=3|Tense=Fut|VerbForm=Fin',\n",
       "   'Gender=Fem|Number=Sing|POS=ADJ|VerbForm=Part',\n",
       "   'Mood=Ind|Number=Plur|POS=VERB|Person=3|Tense=Pres|VerbForm=Fin',\n",
       "   'Degree=Cmp|POS=ADV',\n",
       "   'POS=AUX|VerbForm=Inf',\n",
       "   'Number=Plur|POS=DET|PronType=Ind',\n",
       "   'Number=Plur|POS=DET|PronType=Dem',\n",
       "   'POS=PRON|Person=3|PrepCase=Npr|PronType=Prs|Reflex=Yes',\n",
       "   'Degree=Cmp|Number=Sing|POS=ADJ',\n",
       "   'Mood=Ind|Number=Sing|POS=VERB|Person=3|Tense=Fut|VerbForm=Fin',\n",
       "   'Case=Acc|POS=VERB|Person=3|PrepCase=Npr|PronType=Prs|Reflex=Yes|VerbForm=Inf',\n",
       "   'Degree=Sup|Gender=Masc|Number=Plur|POS=ADJ',\n",
       "   'Definite=Ind|Gender=Fem|Number=Sing|POS=DET|PronType=Art',\n",
       "   'AdvType=Tim|POS=NOUN',\n",
       "   'Gender=Masc|Number=Sing|POS=PRON|PronType=Ind',\n",
       "   'NumType=Card|Number=Plur|POS=NUM',\n",
       "   'Case=Acc|Gender=Masc|Number=Sing|POS=VERB|Person=3|PrepCase=Npr|PronType=Prs|VerbForm=Inf',\n",
       "   'NumForm=Digit|POS=NOUN',\n",
       "   'Number=Sing|POS=PRON|PronType=Dem',\n",
       "   'Number=Plur|POS=DET|Person=3|Poss=Yes|PronType=Prs',\n",
       "   'Gender=Fem|Number=Plur|POS=ADJ',\n",
       "   'Gender=Fem|Number=Plur|POS=PRON|PronType=Ind',\n",
       "   'Gender=Masc|Number=Plur|POS=DET|PronType=Tot',\n",
       "   'Mood=Ind|Number=Sing|POS=VERB|Person=3|Tense=Imp|VerbForm=Fin',\n",
       "   'Mood=Ind|Number=Plur|POS=AUX|Person=3|Tense=Past|VerbForm=Fin',\n",
       "   'Gender=Masc|Number=Plur|POS=VERB|Tense=Past|VerbForm=Part',\n",
       "   'Gender=Masc|NumType=Ord|Number=Sing|POS=ADJ',\n",
       "   'Gender=Masc|NumType=Ord|Number=Plur|POS=ADJ',\n",
       "   'Gender=Masc|Number=Plur|POS=DET|PronType=Dem',\n",
       "   'Gender=Masc|Number=Sing|POS=AUX|Tense=Past|VerbForm=Part',\n",
       "   'Number=Sing|POS=DET|PronType=Tot',\n",
       "   'Gender=Fem|Number=Sing|POS=PRON|PronType=Ind',\n",
       "   'Case=Dat|POS=PRON|Person=3|PrepCase=Npr|PronType=Prs|Reflex=Yes',\n",
       "   'Mood=Ind|Number=Sing|POS=AUX|Person=1|Tense=Pres|VerbForm=Fin',\n",
       "   'Mood=Ind|Number=Sing|POS=VERB|Person=1|Tense=Pres|VerbForm=Fin',\n",
       "   'Degree=Cmp|Number=Plur|POS=ADJ',\n",
       "   'POS=AUX|VerbForm=Ger',\n",
       "   'Gender=Fem|POS=NOUN',\n",
       "   'Gender=Fem|NumType=Ord|Number=Sing|POS=ADJ',\n",
       "   'AdvType=Tim|POS=ADJ',\n",
       "   'Mood=Ind|Number=Sing|POS=AUX|Person=3|Tense=Past|VerbForm=Fin',\n",
       "   'Gender=Fem|Number=Sing|POS=VERB|Tense=Past|VerbForm=Part',\n",
       "   'Case=Acc|Gender=Fem|Number=Sing|POS=PRON|Person=3|PrepCase=Npr|PronType=Prs',\n",
       "   'Mood=Ind|Number=Sing|POS=VERB|Person=1|Tense=Imp|VerbForm=Fin',\n",
       "   'Gender=Fem|Number=Plur|POS=ADJ|VerbForm=Part',\n",
       "   'Gender=Fem|Number=Plur|POS=DET|PronType=Dem',\n",
       "   'Gender=Masc|Number=Sing|POS=PRON|Poss=Yes|PronType=Int,Rel',\n",
       "   'Number=Sing|POS=PRON|PronType=Int,Rel',\n",
       "   'POS=ADJ',\n",
       "   'Mood=Ind|Number=Sing|POS=AUX|Person=1|Tense=Imp|VerbForm=Fin',\n",
       "   'Mood=Ind|Number=Plur|POS=VERB|Person=3|Tense=Imp|VerbForm=Fin',\n",
       "   'Mood=Ind|Number=Plur|POS=AUX|Person=3|Tense=Imp|VerbForm=Fin',\n",
       "   'Mood=Sub|Number=Sing|POS=VERB|Person=3|Tense=Pres|VerbForm=Fin',\n",
       "   'Gender=Fem|Number=Plur|POS=DET|PronType=Tot',\n",
       "   'Case=Acc,Nom|Gender=Masc|Number=Sing|POS=PRON|Person=3|PronType=Prs',\n",
       "   'Mood=Sub|Number=Sing|POS=VERB|Person=1|Tense=Pres|VerbForm=Fin',\n",
       "   'Definite=Ind|Gender=Fem|Number=Plur|POS=DET|PronType=Art',\n",
       "   'Case=Acc,Nom|Gender=Fem|Number=Plur|POS=PRON|Person=3|PronType=Prs',\n",
       "   'Mood=Ind|Number=Plur|POS=VERB|Person=1|Tense=Pres|VerbForm=Fin',\n",
       "   'Case=Acc|Definite=Def|Gender=Masc|Number=Sing|POS=PRON|Person=3|PrepCase=Npr|PronType=Prs',\n",
       "   'Gender=Fem|Number=Sing|POS=PRON|PronType=Dem',\n",
       "   'Mood=Cnd|Number=Sing|POS=VERB|Person=1|VerbForm=Fin',\n",
       "   'Gender=Masc|Number=Sing|POS=DET|PronType=Tot',\n",
       "   'Number=Plur|POS=PRON|PronType=Ind',\n",
       "   'Gender=Masc|Number=Sing|POS=DET|PronType=Ind',\n",
       "   'Case=Dat|Number=Sing|POS=PRON|Person=3|PronType=Prs',\n",
       "   'POS=PART',\n",
       "   'Gender=Fem|Number=Sing|POS=DET|PronType=Ind',\n",
       "   'Number=Sing|POS=DET|PronType=Ind',\n",
       "   'Gender=Masc|NumType=Card|Number=Plur|POS=DET|PronType=Ind',\n",
       "   'Mood=Cnd|Number=Plur|POS=AUX|Person=3|VerbForm=Fin',\n",
       "   'NumForm=Digit|POS=SYM',\n",
       "   'Mood=Imp|Number=Sing|POS=VERB|Person=2|VerbForm=Fin',\n",
       "   'Case=Dat|Number=Sing|POS=VERB|Person=3|PronType=Prs|VerbForm=Inf',\n",
       "   'Gender=Fem|Number=Plur|POS=PRON|PronType=Dem',\n",
       "   'Mood=Cnd|Number=Sing|POS=AUX|Person=1|VerbForm=Fin',\n",
       "   'NumForm=Digit|NumType=Frac|POS=NUM',\n",
       "   'Gender=Fem|Number=Sing|POS=PRON|Poss=Yes|PronType=Int,Rel',\n",
       "   'Mood=Sub|Number=Sing|POS=AUX|Person=1|Tense=Pres|VerbForm=Fin',\n",
       "   'Mood=Sub|Number=Sing|POS=VERB|Person=1|Tense=Imp|VerbForm=Fin',\n",
       "   'Gender=Fem|Number=Sing|Number[psor]=Plur|POS=DET|Person=1|Poss=Yes|PronType=Prs',\n",
       "   'Case=Dat|Number=Plur|POS=PRON|Person=1|PrepCase=Npr|PronType=Prs',\n",
       "   'Definite=Ind|Gender=Masc|Number=Plur|POS=DET|PronType=Art',\n",
       "   'POS=PUNCT|PunctType=Colo',\n",
       "   'Mood=Sub|Number=Plur|POS=AUX|Person=3|Tense=Pres|VerbForm=Fin',\n",
       "   'Mood=Imp|Number=Plur|POS=VERB|Person=3|VerbForm=Fin',\n",
       "   'Gender=Fem|Number=Sing|POS=DET|PronType=Neg',\n",
       "   'Gender=Masc|Number=Sing|POS=PRON|PronType=Dem',\n",
       "   'Case=Acc|Gender=Masc|Number=Plur|POS=PRON|Person=3|PrepCase=Npr|PronType=Prs',\n",
       "   'Case=Acc|Gender=Fem|Number=Plur|POS=PRON|Person=3|PrepCase=Npr|PronType=Prs',\n",
       "   'Gender=Fem|Number=Plur|POS=VERB|Tense=Past|VerbForm=Part',\n",
       "   'Case=Acc|Gender=Fem|Number=Sing|POS=AUX|Person=3|PrepCase=Npr|PronType=Prs|VerbForm=Inf',\n",
       "   'Number=Sing|POS=PRON|PronType=Neg',\n",
       "   'POS=PUNCT|PunctType=Semi',\n",
       "   'Case=Dat|Number=Plur|POS=PRON|Person=3|PronType=Prs',\n",
       "   'Number=Sing|POS=PRON|PronType=Ind',\n",
       "   'Mood=Sub|Number=Plur|POS=VERB|Person=3|Tense=Imp|VerbForm=Fin',\n",
       "   'Case=Acc,Nom|Gender=Masc|Number=Plur|POS=PRON|Person=3|PronType=Prs',\n",
       "   'POS=INTJ',\n",
       "   'Gender=Masc|NumType=Card|Number=Sing|POS=PRON|PronType=Dem',\n",
       "   'Mood=Ind|Number=Plur|POS=AUX|Person=3|Tense=Fut|VerbForm=Fin',\n",
       "   'Degree=Sup|Gender=Masc|Number=Sing|POS=ADJ',\n",
       "   'Mood=Ind|Number=Plur|POS=AUX|Person=1|Tense=Pres|VerbForm=Fin',\n",
       "   'Number=Plur|POS=PRON|Person=3|Poss=Yes|PronType=Prs',\n",
       "   'Case=Dat|POS=VERB|Person=3|PrepCase=Npr|PronType=Prs|Reflex=Yes|VerbForm=Inf',\n",
       "   'POS=PUNCT|PunctType=Dash',\n",
       "   'Case=Acc|Number=Plur|POS=PRON|Person=1|PrepCase=Npr|PronType=Prs',\n",
       "   'Mood=Cnd|Number=Plur|POS=VERB|Person=1|VerbForm=Fin',\n",
       "   'Gender=Masc|Number=Sing|POS=DET|PronType=Neg',\n",
       "   'Gender=Fem|NumType=Card|Number=Plur|POS=NUM',\n",
       "   'Case=Acc|Gender=Fem|Number=Plur|POS=VERB|Person=3|PrepCase=Npr|PronType=Prs|VerbForm=Inf',\n",
       "   'Gender=Masc|Number=Sing|POS=PRON|PronType=Tot',\n",
       "   'Gender=Masc|NumType=Card|Number=Plur|POS=NUM',\n",
       "   'Gender=Masc|POS=NOUN',\n",
       "   'Case=Acc|Number=Sing|POS=PRON|Person=1|PrepCase=Npr|PronType=Prs',\n",
       "   'Gender=Fem|NumType=Card|Number=Sing|POS=DET|PronType=Ind',\n",
       "   'Gender=Fem|NumType=Card|Number=Plur|POS=DET|PronType=Ind',\n",
       "   'Case=Acc|POS=VERB|Person=3|PrepCase=Npr|PronType=Prs|Reflex=Yes|VerbForm=Ger',\n",
       "   'Mood=Ind|Number=Sing|POS=AUX|Person=3|Tense=Imp|VerbForm=Fin',\n",
       "   'POS=NOUN|VerbForm=Inf',\n",
       "   'Case=Dat|Number=Plur|POS=PRON|Person=1|PrepCase=Npr|PronType=Prs|Reflex=Yes',\n",
       "   'Mood=Ind|Number=Plur|POS=AUX|Person=1|Tense=Imp|VerbForm=Fin',\n",
       "   'Mood=Sub|Number=Sing|POS=VERB|Person=3|Tense=Imp|VerbForm=Fin',\n",
       "   'Gender=Masc|Number=Sing|Number[psor]=Plur|POS=DET|Person=1|Poss=Yes|PronType=Prs',\n",
       "   'Gender=Masc|NumType=Card|Number=Sing|POS=NUM',\n",
       "   'Mood=Sub|Number=Sing|POS=AUX|Person=1|Tense=Imp|VerbForm=Fin',\n",
       "   'Gender=Masc|Number=Plur|POS=PRON|Poss=Yes|PronType=Int,Rel',\n",
       "   'Case=Acc|Gender=Masc|Number=Plur|POS=VERB|Person=3|PrepCase=Npr|PronType=Prs|VerbForm=Inf',\n",
       "   'Gender=Fem|NumType=Card|Number=Sing|POS=DET|PronType=Dem',\n",
       "   'Mood=Imp|Number=Sing|POS=VERB|Person=3|VerbForm=Fin',\n",
       "   'Mood=Sub|Number=Plur|POS=VERB|Person=1|Tense=Pres|VerbForm=Fin',\n",
       "   'Mood=Ind|Number=Plur|POS=VERB|Person=1|Tense=Fut|VerbForm=Fin',\n",
       "   'Gender=Masc|Number=Sing|POS=PRON|PronType=Neg',\n",
       "   'Case=Acc|Number=Plur|POS=VERB|Person=1|PrepCase=Npr|PronType=Prs|VerbForm=Inf',\n",
       "   'Case=Nom|Number=Sing|POS=PRON|Person=1|PronType=Prs',\n",
       "   'Mood=Ind|Number=Sing|POS=VERB|Person=1|Tense=Past|VerbForm=Fin',\n",
       "   'Mood=Ind|Number=Plur|POS=VERB|Person=1|Tense=Past|VerbForm=Fin',\n",
       "   'Degree=Abs|Gender=Masc|Number=Sing|POS=ADJ',\n",
       "   'Number=Sing|Number[psor]=Sing|POS=DET|Person=1|Poss=Yes|PronType=Prs',\n",
       "   'Case=Acc,Nom|Gender=Masc|Number=Plur|POS=PRON|Person=1|PronType=Prs',\n",
       "   'Mood=Imp|Number=Sing|POS=AUX|Person=3|VerbForm=Fin',\n",
       "   'Case=Acc|Number=Plur|POS=VERB|Person=1|PrepCase=Npr|PronType=Prs|Reflex=Yes|VerbForm=Inf',\n",
       "   'Mood=Sub|Number=Sing|POS=AUX|Person=3|Tense=Pres|VerbForm=Fin',\n",
       "   'Gender=Masc|Number=Sing|POS=DET|Person=3|Poss=Yes|PronType=Prs',\n",
       "   'Gender=Fem|Number=Sing|POS=DET|PronType=Tot',\n",
       "   'POS=DET|PronType=Ind',\n",
       "   'POS=DET|PronType=Int,Rel',\n",
       "   'AdvType=Tim|POS=ADV',\n",
       "   'POS=VERB|Person=3|PrepCase=Npr|PronType=Prs|Reflex=Yes|VerbForm=Inf',\n",
       "   'Mood=Cnd|Number=Sing|POS=AUX|Person=3|VerbForm=Fin',\n",
       "   'Case=Dat|Number=Plur|POS=VERB|Person=1|PrepCase=Npr|PronType=Prs|VerbForm=Inf',\n",
       "   'POS=PUNCT|PunctSide=Ini|PunctType=Qest',\n",
       "   'POS=PUNCT|PunctSide=Fin|PunctType=Qest',\n",
       "   'Case=Dat|Number=Sing|POS=PRON|Person=1|PrepCase=Npr|PronType=Prs',\n",
       "   'Number=Plur|Number[psor]=Sing|POS=DET|Person=1|Poss=Yes|PronType=Prs',\n",
       "   'Gender=Masc|NumType=Card|Number=Sing|POS=DET|PronType=Ind',\n",
       "   'Mood=Cnd|Number=Plur|POS=VERB|Person=3|VerbForm=Fin',\n",
       "   'Case=Acc|Gender=Fem|Number=Sing|POS=VERB|Person=3|PrepCase=Npr|PronType=Prs|VerbForm=Ger',\n",
       "   'Degree=Abs|Gender=Fem|Number=Sing|POS=ADJ',\n",
       "   'Case=Acc|Number=Plur|POS=PRON|Person=1|PrepCase=Npr|PronType=Prs|Reflex=Yes',\n",
       "   'Mood=Sub|Number=Plur|POS=VERB|Person=1|Tense=Imp|VerbForm=Fin',\n",
       "   'Case=Acc|Number=Sing|POS=PRON|Person=1|PrepCase=Npr|PronType=Prs|Reflex=Yes',\n",
       "   'POS=PUNCT|PunctSide=Ini|PunctType=Excl',\n",
       "   'POS=PUNCT|PunctSide=Fin|PunctType=Excl',\n",
       "   'Mood=Cnd|Number=Sing|POS=VERB|Person=3|VerbForm=Fin',\n",
       "   'Case=Acc|Mood=Imp|Number=Sing|POS=VERB|Person=3|PrepCase=Npr|PronType=Prs|Reflex=Yes|VerbForm=Fin',\n",
       "   'Gender=Fem|Number=Sing|POS=PRON|PronType=Tot',\n",
       "   'Gender=Masc|Number=Plur|Number[psor]=Plur|POS=DET|Person=1|Poss=Yes|PronType=Prs',\n",
       "   'Mood=Imp|Number=Plur|POS=VERB|Person=1|VerbForm=Fin',\n",
       "   'Gender=Masc|NumType=Card|Number=Plur|POS=PRON|PronType=Ind',\n",
       "   'Gender=Masc|NumType=Card|Number=Sing|POS=PRON|PronType=Ind',\n",
       "   'Gender=Masc|Number=Plur|POS=PRON|PronType=Dem',\n",
       "   'Case=Dat|Number=Plur|POS=VERB|Person=3|PronType=Prs|VerbForm=Inf',\n",
       "   'Degree=Abs|Gender=Masc|NumType=Card|Number=Plur|POS=DET|PronType=Ind',\n",
       "   'Case=Acc|Number=Sing|POS=PRON|Person=1|PrepCase=Pre|PronType=Prs',\n",
       "   'Case=Dat|Mood=Imp|Number=Plur|POS=VERB|Person=3|PrepCase=Npr|PronType=Prs|Reflex=Yes|VerbForm=Fin',\n",
       "   'Definite=Ind|Gender=Fem|NumType=Card|Number=Sing|POS=DET|PronType=Art',\n",
       "   'Gender=Fem|NumType=Card|Number=Sing|POS=NUM',\n",
       "   'Case=Acc|Gender=Fem|Number=Plur|POS=VERB|Person=1,3|PrepCase=Npr|PronType=Prs|Reflex=Yes|VerbForm=Inf',\n",
       "   'Case=Dat|Number=Sing|POS=PRON|Person=1|PrepCase=Npr|PronType=Prs|Reflex=Yes',\n",
       "   'Mood=Sub|Number=Plur|POS=AUX|Person=3|Tense=Imp|VerbForm=Fin',\n",
       "   'Gender=Fem|Number=Plur|Number[psor]=Plur|POS=DET|Person=1|Poss=Yes|PronType=Prs',\n",
       "   'POS=SCONJ|PronType=Int,Rel',\n",
       "   'Case=Acc,Dat|Gender=Masc|Number=Sing|POS=VERB|Person=3|PrepCase=Npr|PronType=Prs|VerbForm=Inf',\n",
       "   'Case=Acc|POS=PRON|Person=3|PrepCase=Pre|PronType=Prs|Reflex=Yes',\n",
       "   'Mood=Ind|Number=Sing|POS=VERB|Person=2|Tense=Pres|VerbForm=Fin',\n",
       "   'Case=Dat|Number=Sing|POS=VERB|Person=1|PrepCase=Npr|PronType=Prs|VerbForm=Inf',\n",
       "   'NumType=Card|Number=Sing|POS=DET|PronType=Ind',\n",
       "   'Mood=Ind|Number=Plur|POS=VERB|Person=1|Tense=Imp|VerbForm=Fin',\n",
       "   'Case=Acc|Number=Sing|POS=PRON|Person=2|PrepCase=Npr|PronType=Prs',\n",
       "   'Case=Dat|POS=PRON|Person=3|PrepCase=Npr|PronType=Prs',\n",
       "   'POS=VERB|Person=3|PrepCase=Npr|PronType=Prs|Reflex=Yes|VerbForm=Ger',\n",
       "   'Case=Acc,Nom|Gender=Fem|Number=Sing|POS=PRON|Person=3|PronType=Prs',\n",
       "   'Number=Sing|POS=DET|PronType=Dem',\n",
       "   'Case=Acc,Dat|Gender=Masc|Number=Sing|POS=VERB|Person=3|PrepCase=Npr|PronType=Prs|Reflex=Yes|VerbForm=Inf',\n",
       "   'Mood=Sub|Number=Sing|POS=AUX|Person=3|Tense=Imp|VerbForm=Fin',\n",
       "   'POS=SYM',\n",
       "   'Gender=Fem|Number=Sing|POS=PRON|PronType=Neg',\n",
       "   'Case=Acc|Gender=Masc|Number=Sing|POS=VERB|Person=3|PrepCase=Npr|PronType=Prs|VerbForm=Ger',\n",
       "   'Degree=Sup|Gender=Fem|Number=Sing|POS=ADJ',\n",
       "   'Case=Dat|POS=VERB|Person=3|PrepCase=Npr|PronType=Prs|Reflex=Yes|VerbForm=Ger',\n",
       "   'Case=Nom|Number=Sing|POS=PRON|Person=2|PronType=Prs',\n",
       "   'Number=Sing|Number[psor]=Sing|POS=DET|Person=2|Poss=Yes|PronType=Prs',\n",
       "   'Case=Acc|Mood=Imp|Number=Plur|POS=VERB|Person=3|PrepCase=Npr|PronType=Prs|Reflex=Yes|VerbForm=Fin',\n",
       "   'Case=Acc|Gender=Masc|Mood=Imp|Number=Sing|POS=VERB|Person=2,3|PrepCase=Npr|PronType=Prs|VerbForm=Fin',\n",
       "   'Mood=Ind|Number=Sing|POS=AUX|Person=1|Tense=Fut|VerbForm=Fin',\n",
       "   'Case=Acc|Number=Sing|POS=VERB|Person=1|PrepCase=Npr|PronType=Prs|Reflex=Yes|VerbForm=Inf',\n",
       "   'Gender=Masc|Number=Sing|Number[psor]=Sing|POS=PRON|Person=1|Poss=Yes|PronType=Ind',\n",
       "   'Case=Acc,Nom|Number=Sing|POS=PRON|Person=2|Polite=Form|PronType=Prs',\n",
       "   'Case=Dat|Mood=Imp|Number=Sing|POS=VERB|Person=3|PrepCase=Npr|PronType=Prs|Reflex=Yes|VerbForm=Fin',\n",
       "   'Case=Acc|Gender=Masc|Number=Plur|POS=VERB|Person=3|PrepCase=Npr|PronType=Prs|VerbForm=Ger',\n",
       "   'Gender=Masc|NumType=Card|Number=Sing|POS=PRON|PronType=Int,Rel',\n",
       "   'Gender=Fem|NumType=Card|Number=Plur|POS=PRON|PronType=Ind',\n",
       "   'Case=Dat|Number=Plur|POS=VERB|Person=1|PrepCase=Npr|PronType=Prs|VerbForm=Ger',\n",
       "   'Case=Acc,Dat|POS=PRON|Person=3|PrepCase=Npr|PronType=Prs|Reflex=Yes',\n",
       "   'Mood=Ind|Number=Plur|POS=VERB|Person=2|Tense=Pres|VerbForm=Fin',\n",
       "   'Case=Dat|Number=Sing|POS=PRON|Person=2|PrepCase=Npr|PronType=Prs',\n",
       "   'Mood=Cnd|Number=Sing|POS=VERB|Person=2|VerbForm=Fin',\n",
       "   'Case=Acc|Number=Sing|POS=VERB|Person=1|PrepCase=Npr|PronType=Prs|VerbForm=Inf',\n",
       "   'Mood=Ind|Number=Sing|POS=VERB|Person=1|Tense=Fut|VerbForm=Fin',\n",
       "   'Mood=Cnd|Number=Plur|POS=AUX|Person=1|VerbForm=Fin',\n",
       "   'NumType=Card|Number=Plur|POS=PRON|PronType=Ind',\n",
       "   'Gender=Masc|NumType=Card|Number=Sing|POS=DET|PronType=Dem',\n",
       "   'Degree=Abs|Gender=Masc|Number=Sing|POS=DET|PronType=Ind',\n",
       "   'Gender=Fem|Number=Plur|POS=PRON|Poss=Yes|PronType=Int,Rel',\n",
       "   'Mood=Ind|Number=Sing|POS=AUX|Person=1|Tense=Past|VerbForm=Fin',\n",
       "   'Case=Acc,Nom|Number=Plur|POS=PRON|Person=2|Polite=Form|PronType=Prs',\n",
       "   'Mood=Imp|Number=Sing|POS=AUX|Person=2|VerbForm=Fin',\n",
       "   'Case=Dat|Number=Sing|POS=VERB|Person=2|PrepCase=Npr|PronType=Prs|VerbForm=Inf',\n",
       "   'Gender=Fem|Number=Sing|Number[psor]=Sing|POS=PRON|Person=2|Poss=Yes|PronType=Ind',\n",
       "   'NumType=Card|Number=Sing|POS=NUM',\n",
       "   'Mood=Ind|Number=Sing|POS=VERB|Person=2|Tense=Past|VerbForm=Fin',\n",
       "   'Mood=Ind|Number=Sing|POS=AUX|Person=2|Tense=Imp|VerbForm=Fin',\n",
       "   'Mood=Ind|Number=Sing|POS=AUX|Person=2|Tense=Pres|VerbForm=Fin',\n",
       "   'Case=Com|Number=Sing|POS=PRON|Person=2|PrepCase=Pre|PronType=Prs',\n",
       "   'Mood=Ind|Number=Sing|POS=VERB|Person=2|Tense=Imp|VerbForm=Fin',\n",
       "   'Case=Acc|Number=Sing|POS=PRON|Person=2|PrepCase=Npr|PronType=Prs|Reflex=Yes',\n",
       "   'Number=Sing|POS=PRON|Person=2|PrepCase=Npr|PronType=Prs|Reflex=Yes',\n",
       "   'Case=Acc|Number=Sing|POS=PRON|Person=2|PrepCase=Pre|PronType=Prs',\n",
       "   'Mood=Cnd|Number=Sing|POS=AUX|Person=2|VerbForm=Fin',\n",
       "   'Mood=Sub|Number=Sing|POS=AUX|Person=2|Tense=Pres|VerbForm=Fin',\n",
       "   'Number=Sing|POS=NOUN|VerbForm=Fin',\n",
       "   'Case=Dat|Number=Sing|POS=PRON|Person=2|PrepCase=Npr|PronType=Prs|Reflex=Yes',\n",
       "   'Case=Dat|Mood=Imp|Number=Plur,Sing|POS=VERB|Person=1,2|PrepCase=Npr|PronType=Prs|VerbForm=Fin',\n",
       "   'Case=Acc|Mood=Imp|Number=Sing|POS=VERB|Person=2|PrepCase=Npr|PronType=Prs|Reflex=Yes|VerbForm=Fin',\n",
       "   'Mood=Ind|Number=Sing|POS=VERB|Person=2|Tense=Fut|VerbForm=Fin',\n",
       "   'Gender=Fem|NumType=Card|Number=Sing|POS=DET|PronType=Int,Rel',\n",
       "   'Mood=Sub|Number=Sing|POS=VERB|Person=2|Tense=Pres|VerbForm=Fin',\n",
       "   'Mood=Ind|Number=Sing|POS=AUX|Person=2|Tense=Fut|VerbForm=Fin',\n",
       "   'Gender=Fem|Number=Plur|POS=PRON|PronType=Tot',\n",
       "   'Gender=Masc|NumType=Card|Number=Plur|POS=DET|PronType=Int,Rel',\n",
       "   'Case=Dat|Number=Sing|POS=VERB|Person=3|PronType=Prs|VerbForm=Ger',\n",
       "   'Number=Sing|POS=VERB|VerbForm=Fin',\n",
       "   'POS=VERB|VerbForm=Fin',\n",
       "   'Degree=Abs|Gender=Masc|Number=Plur|POS=ADJ',\n",
       "   'Degree=Abs|Gender=Fem|Number=Plur|POS=ADJ',\n",
       "   'Case=Acc|POS=AUX|Person=3|PrepCase=Npr|PronType=Prs|Reflex=Yes|VerbForm=Ger',\n",
       "   'Gender=Masc|Number=Sing|Number[psor]=Plur|POS=PRON|Person=1|Poss=Yes|PronType=Prs',\n",
       "   'Mood=Sub|Number=Plur|POS=AUX|Person=1|Tense=Imp|VerbForm=Fin',\n",
       "   'Gender=Fem|NumType=Card|Number=Plur|POS=DET|PronType=Dem',\n",
       "   'Definite=Ind|Gender=Masc|NumType=Card|Number=Sing|POS=DET|PronType=Art',\n",
       "   'Degree=Sup|Gender=Fem|Number=Plur|POS=ADJ',\n",
       "   'Number=Plur|POS=PRON|PronType=Dem',\n",
       "   'Case=Acc,Dat|Gender=Masc|Number=Plur|POS=PRON|Person=2|PrepCase=Npr|PronType=Prs',\n",
       "   'Case=Acc|Gender=Fem|Number=Plur|POS=VERB|Person=3|PrepCase=Npr|PronType=Prs|VerbForm=Ger',\n",
       "   'Gender=Masc|Number=Sing|POS=AUX|VerbForm=Fin',\n",
       "   'POS=AUX|Person=3|PrepCase=Npr|PronType=Prs|Reflex=Yes|VerbForm=Inf',\n",
       "   'Mood=Ind|Number=Plur|POS=AUX|Person=1|Tense=Past|VerbForm=Fin',\n",
       "   'Gender=Masc|NumType=Card|Number=Sing|POS=DET|PronType=Int,Rel',\n",
       "   'Gender=Masc|Number=Plur|POS=DET|Person=3|Poss=Yes|PronType=Prs',\n",
       "   'Case=Acc|Mood=Imp|Number=Sing|POS=VERB|Person=1,3|PrepCase=Npr|PronType=Prs|VerbForm=Fin',\n",
       "   'Gender=Masc|NumType=Card|Number=Plur|POS=PRON|PronType=Int,Rel',\n",
       "   'Gender=Masc|Number=Sing|POS=PRON|Person=3|Poss=Yes|PronType=Prs',\n",
       "   'Case=Acc|POS=AUX|Person=3|PrepCase=Npr|PronType=Prs|Reflex=Yes|VerbForm=Inf',\n",
       "   'Case=Acc,Dat|Gender=Masc|Number=Sing|POS=VERB|Person=1,3|PrepCase=Npr|PronType=Prs|Reflex=Yes|VerbForm=Inf',\n",
       "   'Number=Plur|POS=VERB|Person=1|PrepCase=Npr|PronType=Prs|Reflex=Yes|VerbForm=Inf',\n",
       "   'Case=Acc,Dat|Gender=Fem|Number=Plur|POS=VERB|Person=3|PrepCase=Npr|PronType=Prs|Reflex=Yes|VerbForm=Inf',\n",
       "   'Mood=Imp|Number=Sing|POS=VERB|Person=2|PrepCase=Npr|PronType=Prs|Reflex=Yes|VerbForm=Fin',\n",
       "   'Gender=Masc|Number=Sing|Number[psor]=Sing|POS=DET|Person=1|Poss=Yes|PronType=Ind',\n",
       "   'Mood=Ind|POS=VERB|Person=3|Tense=Pres|VerbForm=Fin',\n",
       "   'Case=Dat|Number=Sing|POS=VERB|Person=1|PrepCase=Npr|PronType=Prs|Reflex=Yes|VerbForm=Inf',\n",
       "   'Definite=Def|Foreign=Yes|POS=DET|PronType=Art',\n",
       "   'Case=Dat|Number=Plur|POS=PRON|Person=2|PrepCase=Npr|PronType=Prs',\n",
       "   'Gender=Masc|NumType=Card|Number=Plur|POS=PRON|PronType=Dem',\n",
       "   'Gender=Fem|Number=Sing|POS=DET|Person=3|Poss=Yes|PronType=Prs',\n",
       "   'Mood=Sub|Number=Plur|POS=VERB|Person=2|Tense=Pres|VerbForm=Fin',\n",
       "   'Case=Acc|Number=Sing|POS=VERB|Person=2|PrepCase=Npr|PronType=Prs|Reflex=Yes|VerbForm=Inf',\n",
       "   'Mood=Sub|Number=Plur|POS=AUX|Person=1|Tense=Pres|VerbForm=Fin',\n",
       "   'Mood=Ind|Number=Plur|POS=AUX|Person=1|Tense=Fut|VerbForm=Fin',\n",
       "   'Number=Sing|POS=PRON|Person=3|Poss=Yes|PronType=Prs',\n",
       "   'Definite=Def|Gender=Fem|Number=Sing|POS=ADP|PronType=Art',\n",
       "   'Case=Acc|Number=Sing|POS=VERB|Person=2|PrepCase=Npr|PronType=Prs|PunctType=Quot|VerbForm=Inf',\n",
       "   'Case=Dat|Number=Plur|POS=VERB|Person=1|PrepCase=Npr|PronType=Prs|Reflex=Yes|VerbForm=Inf',\n",
       "   'Case=Com|POS=PRON|Person=3|PrepCase=Pre|PronType=Prs|Reflex=Yes',\n",
       "   'NumForm=Digit|NumType=Frac|POS=SYM',\n",
       "   'Number=Sing|POS=VERB|Person=1|PrepCase=Npr|PronType=Prs|Reflex=Yes|VerbForm=Inf',\n",
       "   'Case=Dat|Number=Sing|POS=AUX|Person=3|PronType=Prs|VerbForm=Inf',\n",
       "   'Case=Acc|Gender=Masc|Number=Sing|POS=AUX|Person=3|PrepCase=Npr|PronType=Prs|VerbForm=Inf',\n",
       "   'Case=Dat|POS=AUX|Person=3|PrepCase=Npr|PronType=Prs|Reflex=Yes|VerbForm=Inf',\n",
       "   'Gender=Fem|NumType=Card|Number=Sing|POS=PRON|PronType=Ind',\n",
       "   'Case=Acc,Dat|Gender=Masc|Number=Plur,Sing|POS=VERB|Person=1,3|PrepCase=Npr|PronType=Prs|Reflex=Yes|VerbForm=Inf',\n",
       "   'Gender=Masc|Mood=Ind|Number=Sing|POS=VERB|Person=3|Tense=Pres|VerbForm=Fin',\n",
       "   'Case=Acc|Gender=Masc|Number=Plur|POS=PRON|Person=1|PrepCase=Npr|PronType=Prs|Reflex=Yes',\n",
       "   'Case=Acc,Dat|Gender=Masc|Number=Sing|POS=VERB|Person=3|PrepCase=Npr|PronType=Prs|VerbForm=Ger',\n",
       "   'Gender=Fem|Number=Sing|Number[psor]=Sing|POS=PRON|Person=1|Poss=Yes|PronType=Ind',\n",
       "   'Case=Dat|Number=Plur|POS=VERB|Person=2|PrepCase=Npr|PronType=Prs|Reflex=Yes|VerbForm=Inf',\n",
       "   'Case=Acc|Number=Plur|POS=VERB|Person=2|PrepCase=Npr|PronType=Prs|VerbForm=Inf',\n",
       "   'Number=Sing|POS=PRON|PronType=Tot',\n",
       "   'Mood=Ind|Number=Plur|POS=AUX|Person=2|Tense=Pres|VerbForm=Fin',\n",
       "   'Case=Dat|Number=Plur|POS=VERB|Person=3|PronType=Prs|VerbForm=Ger',\n",
       "   'NumType=Card|Number=Plur|POS=DET|PronType=Ind',\n",
       "   'POS=PRON|PronType=Dem',\n",
       "   'Number=Sing|POS=PRON|Person=1|PrepCase=Npr|PronType=Prs|Reflex=Yes',\n",
       "   'POS=AUX|VerbForm=Fin',\n",
       "   'Gender=Fem|NumType=Card|Number=Plur|POS=PRON|PronType=Int,Rel',\n",
       "   'Gender=Fem|Number=Sing|Number[psor]=Plur|POS=DET|Person=2|Poss=Yes|PronType=Prs',\n",
       "   'Gender=Fem|Number=Plur|Number[psor]=Plur|POS=PRON|Person=1|Poss=Yes|PronType=Prs',\n",
       "   'Case=Acc|Gender=Fem|Number=Plur|POS=AUX|Person=3|PrepCase=Npr|PronType=Prs|VerbForm=Inf',\n",
       "   'Case=Acc|Gender=Masc|Number=Plur|POS=AUX|Person=3|PrepCase=Npr|PronType=Prs|VerbForm=Inf',\n",
       "   'Case=Acc,Dat|Gender=Fem|Number=Sing|POS=VERB|Person=3|PrepCase=Npr|PronType=Prs|Reflex=Yes|VerbForm=Inf',\n",
       "   'AdvType=Tim|Gender=Masc|Number=Sing|POS=NOUN',\n",
       "   'Gender=Fem|Number=Sing|Number[psor]=Plur|POS=PRON|Person=1|Poss=Yes|PronType=Prs',\n",
       "   'Mood=Ind|Number=Sing|POS=AUX|Person=3|Tense=Pres|Typo=Yes|VerbForm=Fin',\n",
       "   'Gender=Fem|NumType=Card|Number=Sing|POS=PRON|PronType=Dem',\n",
       "   'Case=Acc|POS=PRON|Person=3|PrepCase=Npr|PronType=Prs',\n",
       "   'Gender=Fem|Number=Sing|Number[psor]=Sing|POS=DET|Person=1|Poss=Yes|PronType=Ind',\n",
       "   'Gender=Masc|Number=Sing|Number[psor]=Sing|POS=PRON|Person=2|Poss=Yes|PronType=Ind',\n",
       "   'Gender=Fem|Number=Plur|POS=PRON|Person=3|Poss=Yes|PronType=Prs',\n",
       "   'Definite=Def|Gender=Masc|Number=Plur|POS=ADP|PronType=Art',\n",
       "   'Gender=Masc|Number=Plur|POS=DET|PronType=Art',\n",
       "   'Gender=Masc|Number=Sing|POS=NOUN|VerbForm=Part',\n",
       "   'Case=Acc|Gender=Masc|Number=Sing|POS=AUX|Person=3|PrepCase=Npr|PronType=Prs|VerbForm=Ger',\n",
       "   'Case=Acc,Dat|Number=Plur|POS=VERB|Person=3|PrepCase=Npr|PronType=Prs|Reflex=Yes|VerbForm=Inf',\n",
       "   'Gender=Masc|Number=Sing|POS=DET|Person=3|Poss=Yes|PronType=Ind',\n",
       "   'Case=Acc|Number=Sing|POS=VERB|Person=1|PrepCase=Npr|PronType=Prs|Reflex=Yes|VerbForm=Ger',\n",
       "   'Case=Acc,Dat|Number=Sing|POS=PRON|Person=2|PrepCase=Npr|PronType=Prs',\n",
       "   'Case=Acc|Gender=Masc|Mood=Imp|Number=Plur|POS=VERB|Person=1,3|PrepCase=Npr|PronType=Prs|VerbForm=Fin',\n",
       "   'Number=Plur|POS=PRON|Person=1|PrepCase=Npr|PronType=Prs|Reflex=Yes',\n",
       "   'Gender=Fem|Number=Sing|POS=PRON|Person=1|Poss=Yes|PronType=Prs',\n",
       "   'Case=Com|Number=Sing|POS=PRON|Person=1|PrepCase=Pre|PronType=Prs',\n",
       "   'POS=X',\n",
       "   'Case=Acc,Dat|Number=Plur|POS=PRON|Person=1|PrepCase=Npr|PronType=Prs',\n",
       "   'Case=Com|POS=PRON|Person=3|PronType=Prs|Reflex=Yes',\n",
       "   'Case=Acc,Dat|Number=Sing|POS=VERB|Person=3|PrepCase=Npr|PronType=Prs|Reflex=Yes|VerbForm=Inf',\n",
       "   'Case=Acc,Dat|Number=Sing|POS=PRON|Person=1|PrepCase=Npr|PronType=Prs',\n",
       "   'Case=Acc|Gender=Masc|Mood=Imp|Number=Plur,Sing|POS=VERB|Person=1,3|PrepCase=Npr|PronType=Prs|VerbForm=Fin',\n",
       "   'Case=Acc|Number=Plur|POS=PRON|Person=2|PrepCase=Npr|PronType=Prs',\n",
       "   'Number=Sing|POS=AUX|Person=1|PrepCase=Npr|PronType=Prs|Reflex=Yes|VerbForm=Inf',\n",
       "   'Case=Acc|Gender=Masc|Mood=Imp|Number=Sing|POS=VERB|Person=3|PrepCase=Npr|PronType=Prs|VerbForm=Fin',\n",
       "   'Mood=Imp|Number=Plur|POS=VERB|Person=2|VerbForm=Fin',\n",
       "   'Gender=Masc|Number=Plur|POS=PRON|Person=2|Poss=Yes|PronType=Ind',\n",
       "   'Case=Dat|Mood=Imp|Number=Sing|POS=VERB|Person=3|PronType=Prs|VerbForm=Fin',\n",
       "   'Gender=Fem|Number=Sing|POS=PRON|Person=3|Poss=Yes|PronType=Prs',\n",
       "   'Case=Dat|Mood=Imp|Number=Sing|POS=VERB|Person=1,3|PrepCase=Npr|PronType=Prs|VerbForm=Fin',\n",
       "   'Gender=Fem|Number=Plur|POS=DET|Person=3|Poss=Yes|PronType=Prs',\n",
       "   'Gender=Fem|Number=Plur|Number[psor]=Plur|POS=DET|Person=2|Poss=Yes|PronType=Prs',\n",
       "   'Case=Dat|Number=Sing|POS=VERB|Person=2|PrepCase=Npr|PronType=Prs|Reflex=Yes|VerbForm=Inf',\n",
       "   'Number=Plur|Number[psor]=Sing|POS=DET|Person=2|Poss=Yes|PronType=Prs',\n",
       "   'POS=NOUN|PunctType=Comm',\n",
       "   'Degree=Cmp|POS=ADJ',\n",
       "   'Gender=Masc|POS=ADJ',\n",
       "   'Degree=Abs|Gender=Masc|NumType=Card|Number=Plur|POS=PRON|PronType=Ind',\n",
       "   'POS=PRON|PronType=Neg',\n",
       "   'Case=Acc,Dat|Gender=Fem|Number=Sing|POS=VERB|Person=3|PrepCase=Npr|PronType=Prs|VerbForm=Inf',\n",
       "   'Case=Acc|Number=Plur|POS=VERB|Person=1|PrepCase=Npr|PronType=Prs|Reflex=Yes|VerbForm=Ger',\n",
       "   'Case=Dat|Number=Sing|POS=VERB|Person=3|PrepCase=Npr|PronType=Prs|VerbForm=Ger',\n",
       "   'Gender=Fem|Number=Sing|POS=DET|Person=3|Poss=Yes|PronType=Ind',\n",
       "   'Number=Sing|POS=DET|PronType=Int,Rel',\n",
       "   'Definite=Def|Foreign=Yes|Gender=Fem|Number=Sing|POS=DET|PronType=Art',\n",
       "   'Foreign=Yes|POS=NOUN',\n",
       "   'Foreign=Yes|POS=ADP',\n",
       "   'Foreign=Yes|POS=CCONJ',\n",
       "   'Foreign=Yes|POS=PROPN'],\n",
       "  'parser': ['ROOT',\n",
       "   'acl',\n",
       "   'advcl',\n",
       "   'advmod',\n",
       "   'amod',\n",
       "   'appos',\n",
       "   'aux',\n",
       "   'case',\n",
       "   'cc',\n",
       "   'ccomp',\n",
       "   'compound',\n",
       "   'conj',\n",
       "   'cop',\n",
       "   'csubj',\n",
       "   'dep',\n",
       "   'det',\n",
       "   'expl:impers',\n",
       "   'expl:pass',\n",
       "   'expl:pv',\n",
       "   'fixed',\n",
       "   'flat',\n",
       "   'iobj',\n",
       "   'mark',\n",
       "   'nmod',\n",
       "   'nsubj',\n",
       "   'nummod',\n",
       "   'obj',\n",
       "   'obl',\n",
       "   'parataxis',\n",
       "   'punct',\n",
       "   'xcomp'],\n",
       "  'attribute_ruler': [],\n",
       "  'lemmatizer': [],\n",
       "  'ner': ['LOC', 'MISC', 'ORG', 'PER']},\n",
       " 'pipeline': ['tok2vec',\n",
       "  'morphologizer',\n",
       "  'parser',\n",
       "  'attribute_ruler',\n",
       "  'lemmatizer',\n",
       "  'ner'],\n",
       " 'components': ['tok2vec',\n",
       "  'morphologizer',\n",
       "  'parser',\n",
       "  'senter',\n",
       "  'attribute_ruler',\n",
       "  'lemmatizer',\n",
       "  'ner'],\n",
       " 'disabled': ['senter'],\n",
       " 'sources': [{'name': 'UD Spanish AnCora v2.8',\n",
       "   'url': 'https://github.com/UniversalDependencies/UD_Spanish-AnCora',\n",
       "   'license': 'GNU GPL 3.0',\n",
       "   'author': 'Martínez Alonso, Héctor; Zeman, Daniel'},\n",
       "  {'name': 'WikiNER',\n",
       "   'url': 'https://figshare.com/articles/Learning_multilingual_named_entity_recognition_from_Wikipedia/5462500',\n",
       "   'license': 'CC BY 4.0',\n",
       "   'author': 'Joel Nothman, Nicky Ringland, Will Radford, Tara Murphy, James R Curran'},\n",
       "  {'name': 'spaCy lookups data',\n",
       "   'author': 'Explosion',\n",
       "   'url': 'https://github.com/explosion/spacy-lookups-data',\n",
       "   'license': 'MIT'},\n",
       "  {'name': 'Explosion fastText Vectors (cbow, OSCAR Common Crawl + Wikipedia)',\n",
       "   'url': 'https://spacy.io',\n",
       "   'license': 'CC0',\n",
       "   'author': 'Explosion'}],\n",
       " 'requirements': [],\n",
       " 'source': 'c:\\\\Users\\\\David_Sanchis\\\\anaconda3\\\\lib\\\\site-packages\\\\es_core_news_md'}"
      ]
     },
     "execution_count": 50,
     "metadata": {},
     "output_type": "execute_result"
    }
   ],
   "source": [
    "spacy.info('es_core_news_md')"
   ]
  },
  {
   "cell_type": "markdown",
   "id": "18a73125",
   "metadata": {},
   "source": [
    "Podemos ver todos los modelos instalados con este comando:"
   ]
  },
  {
   "cell_type": "code",
   "execution_count": 51,
   "id": "8a604ae5",
   "metadata": {},
   "outputs": [
    {
     "name": "stdout",
     "output_type": "stream",
     "text": [
      "\n",
      "\u001b[2K✔ Loaded compatibility table\n",
      "\u001b[1m\n",
      "================= Installed pipeline packages (spaCy v3.3.1) =================\u001b[0m\n",
      "ℹ spaCy installation: c:\\Users\\David_Sanchis\\anaconda3\\lib\\site-packages\\spacy\n",
      "\n",
      "NAME              SPACY                 VERSION    \n",
      "en_core_web_lg    >=3.3.0.dev0,<3.4.0   3.3.0     ✔\n",
      "en_core_web_md    >=3.3.0.dev0,<3.4.0   3.3.0     ✔\n",
      "en_core_web_sm    >=3.3.0.dev0,<3.4.0   3.3.0     ✔\n",
      "en_core_web_trf   >=3.3.0.dev0,<3.4.0   3.3.0     ✔\n",
      "es_core_news_md   >=3.3.0.dev0,<3.4.0   3.3.0     ✔\n",
      "es_core_news_sm   >=3.3.0.dev0,<3.4.0   3.3.0     ✔\n",
      "\n"
     ]
    }
   ],
   "source": [
    "!python -m spacy validate"
   ]
  },
  {
   "cell_type": "markdown",
   "id": "83f105db",
   "metadata": {},
   "source": [
    "Cargamos el modelo de lenguaje para el español."
   ]
  },
  {
   "cell_type": "code",
   "execution_count": 52,
   "id": "b65200ff",
   "metadata": {},
   "outputs": [],
   "source": [
    "nlp = spacy.load('es_core_news_md')"
   ]
  },
  {
   "cell_type": "markdown",
   "id": "011375b4",
   "metadata": {},
   "source": [
    "Cargamos el modelo de lenguaje para el inglés."
   ]
  },
  {
   "cell_type": "code",
   "execution_count": 53,
   "id": "2e92cd7c",
   "metadata": {},
   "outputs": [],
   "source": [
    "nlp_en = spacy.load('en_core_web_md')"
   ]
  },
  {
   "cell_type": "code",
   "execution_count": 54,
   "id": "36f36938-26e5-4a9f-b0fc-fd630f884aac",
   "metadata": {},
   "outputs": [
    {
     "data": {
      "text/plain": [
       "<spacy.lang.en.English at 0x23c90443d60>"
      ]
     },
     "execution_count": 54,
     "metadata": {},
     "output_type": "execute_result"
    }
   ],
   "source": [
    "nlp_en"
   ]
  },
  {
   "cell_type": "markdown",
   "id": "9d6f8af1",
   "metadata": {},
   "source": [
    "Cada modelo tiene un conjunto de lexemas del idioma definidos en su Vocabulario"
   ]
  },
  {
   "cell_type": "code",
   "execution_count": 55,
   "id": "f7d11def",
   "metadata": {},
   "outputs": [
    {
     "data": {
      "text/plain": [
       "<spacy.vocab.Vocab at 0x23c8f3dea60>"
      ]
     },
     "execution_count": 55,
     "metadata": {},
     "output_type": "execute_result"
    }
   ],
   "source": [
    "nlp.vocab"
   ]
  },
  {
   "cell_type": "code",
   "execution_count": 56,
   "id": "c8f1159d",
   "metadata": {},
   "outputs": [
    {
     "name": "stdout",
     "output_type": "stream",
     "text": [
      "\n",
      "Tamaño vocabulario:  420\n"
     ]
    }
   ],
   "source": [
    "print(\"\\nTamaño vocabulario: \", len(nlp.vocab))"
   ]
  },
  {
   "attachments": {},
   "cell_type": "markdown",
   "id": "c24eedd7-28da-493d-b712-4566c8eca775",
   "metadata": {},
   "source": [
    "`spaCy` no precargar en memoria todo el vocabulario, sino que carga los lexemas conforme los va necesitando:  \n",
    "> *To reduce the initial loading time, the lexemes in `nlp.vocab` are no longer loaded on initialization for models with vectors. As you process texts, the lexemes will be added to the vocab automatically, just as in small models without vectors.*"
   ]
  },
  {
   "cell_type": "code",
   "execution_count": 57,
   "id": "9748be36-bebb-407a-b598-cff229ec31d8",
   "metadata": {},
   "outputs": [],
   "source": [
    "for w in nlp.vocab.vectors:\n",
    "    _ = nlp.vocab[w]"
   ]
  },
  {
   "cell_type": "code",
   "execution_count": 58,
   "id": "45da5ed5-ea1d-467e-b57e-0dc19799bd3b",
   "metadata": {},
   "outputs": [
    {
     "name": "stdout",
     "output_type": "stream",
     "text": [
      "\n",
      "Tamaño vocabulario:  500142\n"
     ]
    }
   ],
   "source": [
    "print(\"\\nTamaño vocabulario: \", len(nlp.vocab))"
   ]
  },
  {
   "attachments": {},
   "cell_type": "markdown",
   "id": "771ee45e",
   "metadata": {},
   "source": [
    "### Información del modelo\n",
    "Podemos ver todas las características del modelo cargado con su atributo `meta` (diccionario)"
   ]
  },
  {
   "cell_type": "code",
   "execution_count": 59,
   "id": "3a739eac-3291-4f5b-a17c-589e0299c51f",
   "metadata": {},
   "outputs": [
    {
     "data": {
      "text/plain": [
       "dict_keys(['lang', 'name', 'version', 'description', 'author', 'email', 'url', 'license', 'spacy_version', 'spacy_git_version', 'vectors', 'labels', 'pipeline', 'components', 'disabled', 'performance', 'sources', 'requirements'])"
      ]
     },
     "execution_count": 59,
     "metadata": {},
     "output_type": "execute_result"
    }
   ],
   "source": [
    "nlp.meta.keys()"
   ]
  },
  {
   "cell_type": "code",
   "execution_count": 60,
   "id": "39c0c72d",
   "metadata": {},
   "outputs": [
    {
     "data": {
      "text/plain": [
       "'core_news_md'"
      ]
     },
     "execution_count": 60,
     "metadata": {},
     "output_type": "execute_result"
    }
   ],
   "source": [
    "nlp.meta['name']"
   ]
  },
  {
   "cell_type": "code",
   "execution_count": 61,
   "id": "a7bd0a2f",
   "metadata": {},
   "outputs": [
    {
     "data": {
      "text/plain": [
       "['tok2vec',\n",
       " 'morphologizer',\n",
       " 'parser',\n",
       " 'senter',\n",
       " 'attribute_ruler',\n",
       " 'lemmatizer',\n",
       " 'ner']"
      ]
     },
     "execution_count": 61,
     "metadata": {},
     "output_type": "execute_result"
    }
   ],
   "source": [
    "nlp.meta['components']"
   ]
  },
  {
   "cell_type": "markdown",
   "id": "2f70898c-4d88-44dc-a00d-8f8ec96a45f2",
   "metadata": {},
   "source": [
    "Vectores de palabra"
   ]
  },
  {
   "cell_type": "code",
   "execution_count": 62,
   "id": "4c9e402d-090c-4b96-ad45-54c5a142bf75",
   "metadata": {},
   "outputs": [
    {
     "data": {
      "text/plain": [
       "{'width': 300,\n",
       " 'vectors': 20000,\n",
       " 'keys': 500000,\n",
       " 'name': 'es_vectors',\n",
       " 'mode': 'default'}"
      ]
     },
     "execution_count": 62,
     "metadata": {},
     "output_type": "execute_result"
    }
   ],
   "source": [
    "nlp.meta['vectors']"
   ]
  },
  {
   "cell_type": "code",
   "execution_count": 63,
   "id": "83ee8e44-a792-481b-9783-7e925aff2578",
   "metadata": {},
   "outputs": [
    {
     "data": {
      "text/plain": [
       "(20000, 300)"
      ]
     },
     "execution_count": 63,
     "metadata": {},
     "output_type": "execute_result"
    }
   ],
   "source": [
    "nlp.vocab.vectors.shape"
   ]
  },
  {
   "attachments": {},
   "cell_type": "markdown",
   "id": "1b72d16e",
   "metadata": {},
   "source": [
    "### Lexemas\n",
    "El modelo guarda cada palabra dentro del vocabulario como un objeto de tipo `spacy.lexeme.Lexeme`.  \n",
    "Si la palabra no existe, crea la correspondiente entrada en el vocabulario."
   ]
  },
  {
   "cell_type": "code",
   "execution_count": 64,
   "id": "52232d51",
   "metadata": {},
   "outputs": [
    {
     "data": {
      "text/plain": [
       "<spacy.lexeme.Lexeme at 0x23c90437640>"
      ]
     },
     "execution_count": 64,
     "metadata": {},
     "output_type": "execute_result"
    }
   ],
   "source": [
    "nlp.vocab[\"ciudad\"]"
   ]
  },
  {
   "cell_type": "code",
   "execution_count": 65,
   "id": "094aa2f0",
   "metadata": {},
   "outputs": [
    {
     "data": {
      "text/plain": [
       "'ciudad'"
      ]
     },
     "execution_count": 65,
     "metadata": {},
     "output_type": "execute_result"
    }
   ],
   "source": [
    "nlp.vocab[\"ciudad\"].text"
   ]
  },
  {
   "cell_type": "code",
   "execution_count": 66,
   "id": "7b96da5c",
   "metadata": {},
   "outputs": [
    {
     "name": "stdout",
     "output_type": "stream",
     "text": [
      "['check_flag', 'cluster', 'flags', 'has_vector', 'is_alpha', 'is_ascii', 'is_bracket', 'is_currency', 'is_digit', 'is_left_punct', 'is_lower', 'is_oov', 'is_punct', 'is_quote', 'is_right_punct', 'is_space', 'is_stop', 'is_title', 'is_upper', 'lang', 'lang_', 'like_email', 'like_num', 'like_url', 'lower', 'lower_', 'norm', 'norm_', 'orth', 'orth_', 'prefix', 'prefix_', 'prob', 'rank', 'sentiment', 'set_attrs', 'set_flag', 'shape', 'shape_', 'similarity', 'suffix', 'suffix_', 'text', 'vector', 'vector_norm', 'vocab']\n"
     ]
    }
   ],
   "source": [
    "print([att for att in dir(spacy.lexeme.Lexeme) if not att.startswith(\"__\")])"
   ]
  },
  {
   "cell_type": "code",
   "execution_count": 67,
   "id": "a93bb5be",
   "metadata": {},
   "outputs": [
    {
     "data": {
      "text/plain": [
       "<spacy.lexeme.Lexeme at 0x23c86018f80>"
      ]
     },
     "execution_count": 67,
     "metadata": {},
     "output_type": "execute_result"
    }
   ],
   "source": [
    "nlp.vocab[\"ciudad\"]"
   ]
  },
  {
   "cell_type": "code",
   "execution_count": 68,
   "id": "86248605-1482-41ee-b66d-1cf21422c090",
   "metadata": {},
   "outputs": [
    {
     "data": {
      "text/plain": [
       "True"
      ]
     },
     "execution_count": 68,
     "metadata": {},
     "output_type": "execute_result"
    }
   ],
   "source": [
    "nlp.vocab[\"ciudad\"].is_lower"
   ]
  },
  {
   "cell_type": "code",
   "execution_count": 69,
   "id": "33d7ade1-f1c8-4b46-bcdc-4cb767921a34",
   "metadata": {},
   "outputs": [
    {
     "data": {
      "text/plain": [
       "False"
      ]
     },
     "execution_count": 69,
     "metadata": {},
     "output_type": "execute_result"
    }
   ],
   "source": [
    "nlp.vocab[\"Ciudad\"].is_lower"
   ]
  },
  {
   "attachments": {},
   "cell_type": "markdown",
   "id": "3b8fe2f6",
   "metadata": {},
   "source": [
    "Vocabulario al que pertenece el lexema"
   ]
  },
  {
   "cell_type": "code",
   "execution_count": 70,
   "id": "6dfd9a9e",
   "metadata": {},
   "outputs": [
    {
     "data": {
      "text/plain": [
       "<spacy.vocab.Vocab at 0x23c8f3dea60>"
      ]
     },
     "execution_count": 70,
     "metadata": {},
     "output_type": "execute_result"
    }
   ],
   "source": [
    "nlp.vocab[\"ciudad\"].vocab"
   ]
  },
  {
   "cell_type": "code",
   "execution_count": 71,
   "id": "2a446259",
   "metadata": {},
   "outputs": [
    {
     "data": {
      "text/plain": [
       "<spacy.vocab.Vocab at 0x23c8f3dea60>"
      ]
     },
     "execution_count": 71,
     "metadata": {},
     "output_type": "execute_result"
    }
   ],
   "source": [
    "nlp.vocab"
   ]
  },
  {
   "attachments": {},
   "cell_type": "markdown",
   "id": "9879fa48",
   "metadata": {},
   "source": [
    "Cuando una palabra no existe, se crea"
   ]
  },
  {
   "cell_type": "code",
   "execution_count": 72,
   "id": "34d0ba15",
   "metadata": {},
   "outputs": [
    {
     "data": {
      "text/plain": [
       "True"
      ]
     },
     "execution_count": 72,
     "metadata": {},
     "output_type": "execute_result"
    }
   ],
   "source": [
    "\"albaricoque\" in nlp.vocab"
   ]
  },
  {
   "cell_type": "code",
   "execution_count": 73,
   "id": "898c1c84",
   "metadata": {},
   "outputs": [
    {
     "data": {
      "text/plain": [
       "False"
      ]
     },
     "execution_count": 73,
     "metadata": {},
     "output_type": "execute_result"
    }
   ],
   "source": [
    "\"albaricoque\" in nlp_en.vocab"
   ]
  },
  {
   "cell_type": "code",
   "execution_count": 74,
   "id": "de928cf0",
   "metadata": {},
   "outputs": [
    {
     "data": {
      "text/plain": [
       "<spacy.lexeme.Lexeme at 0x23c8c6ce0c0>"
      ]
     },
     "execution_count": 74,
     "metadata": {},
     "output_type": "execute_result"
    }
   ],
   "source": [
    "nlp_en.vocab[\"albaricoque\"]"
   ]
  },
  {
   "cell_type": "code",
   "execution_count": 75,
   "id": "20fa54ff",
   "metadata": {},
   "outputs": [
    {
     "data": {
      "text/plain": [
       "True"
      ]
     },
     "execution_count": 75,
     "metadata": {},
     "output_type": "execute_result"
    }
   ],
   "source": [
    "\"albaricoque\" in nlp_en.vocab"
   ]
  },
  {
   "attachments": {},
   "cell_type": "markdown",
   "id": "45ced4e4",
   "metadata": {},
   "source": [
    "## Procesado de texto\n",
    "> When you call nlp on a text, spaCy first tokenizes the text to produce a Doc object. The Doc is then processed in several different steps – this is also referred to as the processing pipeline. The pipeline used by the default models consists of a tagger, a parser and an entity recognizer. "
   ]
  },
  {
   "cell_type": "code",
   "execution_count": 76,
   "id": "cd02e5d1",
   "metadata": {},
   "outputs": [],
   "source": [
    "# Ejemplo de texto\n",
    "texto = \"La gata de Juan es muy bonita.\""
   ]
  },
  {
   "cell_type": "markdown",
   "id": "170be183",
   "metadata": {},
   "source": [
    "Lo primero que hacemos es analizar el texto y generar un objeto de tipo `Doc`"
   ]
  },
  {
   "cell_type": "code",
   "execution_count": 77,
   "id": "4f5582dd",
   "metadata": {},
   "outputs": [
    {
     "data": {
      "text/plain": [
       "spacy.tokens.doc.Doc"
      ]
     },
     "execution_count": 77,
     "metadata": {},
     "output_type": "execute_result"
    }
   ],
   "source": [
    "parsedData = nlp(texto)\n",
    "type(parsedData)"
   ]
  },
  {
   "cell_type": "code",
   "execution_count": 78,
   "id": "934abfcd",
   "metadata": {},
   "outputs": [
    {
     "data": {
      "text/plain": [
       "La gata de Juan es muy bonita."
      ]
     },
     "execution_count": 78,
     "metadata": {},
     "output_type": "execute_result"
    }
   ],
   "source": [
    "parsedData"
   ]
  },
  {
   "cell_type": "code",
   "execution_count": 79,
   "id": "2ebf6456",
   "metadata": {},
   "outputs": [
    {
     "data": {
      "text/plain": [
       "'La gata de Juan es muy bonita.'"
      ]
     },
     "execution_count": 79,
     "metadata": {},
     "output_type": "execute_result"
    }
   ],
   "source": [
    "texto"
   ]
  },
  {
   "cell_type": "code",
   "execution_count": 80,
   "id": "2e44c47c",
   "metadata": {},
   "outputs": [
    {
     "name": "stdout",
     "output_type": "stream",
     "text": [
      "['cats', 'char_span', 'copy', 'count_by', 'doc', 'ents', 'extend_tensor', 'from_array', 'from_bytes', 'from_dict', 'from_disk', 'from_docs', 'from_json', 'get_extension', 'get_lca_matrix', 'has_annotation', 'has_extension', 'has_unknown_spaces', 'has_vector', 'is_nered', 'is_parsed', 'is_sentenced', 'is_tagged', 'lang', 'lang_', 'mem', 'noun_chunks', 'noun_chunks_iterator', 'remove_extension', 'retokenize', 'sentiment', 'sents', 'set_ents', 'set_extension', 'similarity', 'spans', 'tensor', 'text', 'text_with_ws', 'to_array', 'to_bytes', 'to_dict', 'to_disk', 'to_json', 'to_utf8_array', 'user_data', 'user_hooks', 'user_span_hooks', 'user_token_hooks', 'vector', 'vector_norm', 'vocab']\n"
     ]
    }
   ],
   "source": [
    "print([prop for prop in dir(spacy.tokens.doc.Doc) if not prop.startswith('_')])"
   ]
  },
  {
   "cell_type": "code",
   "execution_count": 81,
   "id": "ea793309-2d4e-46ac-ba99-5ea7b2dec53e",
   "metadata": {},
   "outputs": [
    {
     "data": {
      "text/plain": [
       "'es'"
      ]
     },
     "execution_count": 81,
     "metadata": {},
     "output_type": "execute_result"
    }
   ],
   "source": [
    "parsedData.lang_"
   ]
  },
  {
   "cell_type": "code",
   "execution_count": 82,
   "id": "3344b152",
   "metadata": {},
   "outputs": [
    {
     "data": {
      "text/plain": [
       "'La gata de Juan es muy bonita.'"
      ]
     },
     "execution_count": 82,
     "metadata": {},
     "output_type": "execute_result"
    }
   ],
   "source": [
    "parsedData.text"
   ]
  },
  {
   "attachments": {},
   "cell_type": "markdown",
   "id": "689a63e8",
   "metadata": {},
   "source": [
    "## Tokens\n",
    "Cada Doc es un iterable de los tokens que forman el documento."
   ]
  },
  {
   "cell_type": "code",
   "execution_count": 83,
   "id": "6d69a199",
   "metadata": {},
   "outputs": [
    {
     "data": {
      "text/plain": [
       "8"
      ]
     },
     "execution_count": 83,
     "metadata": {},
     "output_type": "execute_result"
    }
   ],
   "source": [
    "len(parsedData)"
   ]
  },
  {
   "cell_type": "code",
   "execution_count": 84,
   "id": "fb9a52fd",
   "metadata": {},
   "outputs": [
    {
     "data": {
      "text/plain": [
       "[La, gata, de, Juan, es, muy, bonita, .]"
      ]
     },
     "execution_count": 84,
     "metadata": {},
     "output_type": "execute_result"
    }
   ],
   "source": [
    "[t for t in parsedData]"
   ]
  },
  {
   "attachments": {},
   "cell_type": "markdown",
   "id": "5d6af512",
   "metadata": {},
   "source": [
    "Que es distinto de..."
   ]
  },
  {
   "cell_type": "code",
   "execution_count": 85,
   "id": "dc4630f0",
   "metadata": {},
   "outputs": [
    {
     "data": {
      "text/plain": [
       "['La', 'gata', 'de', 'Juan', 'es', 'muy', 'bonita.']"
      ]
     },
     "execution_count": 85,
     "metadata": {},
     "output_type": "execute_result"
    }
   ],
   "source": [
    "texto.split(' ')"
   ]
  },
  {
   "cell_type": "code",
   "execution_count": 86,
   "id": "b1ba0961",
   "metadata": {},
   "outputs": [
    {
     "data": {
      "text/plain": [
       "True"
      ]
     },
     "execution_count": 86,
     "metadata": {},
     "output_type": "execute_result"
    }
   ],
   "source": [
    "nlp.vocab[\".\"].is_punct"
   ]
  },
  {
   "cell_type": "code",
   "execution_count": 87,
   "id": "8c2229c0",
   "metadata": {},
   "outputs": [
    {
     "data": {
      "text/plain": [
       "La"
      ]
     },
     "execution_count": 87,
     "metadata": {},
     "output_type": "execute_result"
    }
   ],
   "source": [
    "parsedData[0]"
   ]
  },
  {
   "cell_type": "code",
   "execution_count": 88,
   "id": "5b1ce6a0",
   "metadata": {},
   "outputs": [
    {
     "data": {
      "text/plain": [
       "."
      ]
     },
     "execution_count": 88,
     "metadata": {},
     "output_type": "execute_result"
    }
   ],
   "source": [
    "parsedData[7]"
   ]
  },
  {
   "cell_type": "code",
   "execution_count": 89,
   "id": "4245a974",
   "metadata": {},
   "outputs": [
    {
     "data": {
      "text/plain": [
       "True"
      ]
     },
     "execution_count": 89,
     "metadata": {},
     "output_type": "execute_result"
    }
   ],
   "source": [
    "parsedData[7].is_punct"
   ]
  },
  {
   "cell_type": "code",
   "execution_count": 90,
   "id": "132a7f99",
   "metadata": {},
   "outputs": [
    {
     "data": {
      "text/plain": [
       "spacy.tokens.token.Token"
      ]
     },
     "execution_count": 90,
     "metadata": {},
     "output_type": "execute_result"
    }
   ],
   "source": [
    "type(parsedData[0])"
   ]
  },
  {
   "cell_type": "code",
   "execution_count": 91,
   "id": "741110f6",
   "metadata": {},
   "outputs": [
    {
     "name": "stdout",
     "output_type": "stream",
     "text": [
      "['ancestors', 'check_flag', 'children', 'cluster', 'conjuncts', 'dep', 'dep_', 'doc', 'ent_id', 'ent_id_', 'ent_iob', 'ent_iob_', 'ent_kb_id', 'ent_kb_id_', 'ent_type', 'ent_type_', 'get_extension', 'has_dep', 'has_extension', 'has_head', 'has_morph', 'has_vector', 'head', 'i', 'idx', 'iob_strings', 'is_alpha', 'is_ancestor', 'is_ascii', 'is_bracket', 'is_currency', 'is_digit', 'is_left_punct', 'is_lower', 'is_oov', 'is_punct', 'is_quote', 'is_right_punct', 'is_sent_end', 'is_sent_start', 'is_space', 'is_stop', 'is_title', 'is_upper', 'lang', 'lang_', 'left_edge', 'lefts', 'lemma', 'lemma_', 'lex', 'lex_id', 'like_email', 'like_num', 'like_url', 'lower', 'lower_', 'morph', 'n_lefts', 'n_rights', 'nbor', 'norm', 'norm_', 'orth', 'orth_', 'pos', 'pos_', 'prefix', 'prefix_', 'prob', 'rank', 'remove_extension', 'right_edge', 'rights', 'sent', 'sent_start', 'sentiment', 'set_extension', 'set_morph', 'shape', 'shape_', 'similarity', 'subtree', 'suffix', 'suffix_', 'tag', 'tag_', 'tensor', 'text', 'text_with_ws', 'vector', 'vector_norm', 'vocab', 'whitespace_']\n"
     ]
    }
   ],
   "source": [
    "print([prop for prop in dir(spacy.tokens.token.Token) if not prop.startswith('_')])"
   ]
  },
  {
   "attachments": {},
   "cell_type": "markdown",
   "id": "3b4fac4e",
   "metadata": {},
   "source": [
    "### StringStore\n",
    "Todos los *strings* en spaCy (tokens, lexemas, características) están mapeados con una función *hash* en el `StringStore`"
   ]
  },
  {
   "cell_type": "code",
   "execution_count": 92,
   "id": "25635a4e-2199-4aec-b058-ab62506ab263",
   "metadata": {},
   "outputs": [
    {
     "data": {
      "text/plain": [
       "<spacy.strings.StringStore at 0x23c9048f4f0>"
      ]
     },
     "execution_count": 92,
     "metadata": {},
     "output_type": "execute_result"
    }
   ],
   "source": [
    "nlp.vocab.strings"
   ]
  },
  {
   "cell_type": "code",
   "execution_count": 93,
   "id": "3edda862-d704-47a8-911d-f2ee5b2711ec",
   "metadata": {},
   "outputs": [
    {
     "data": {
      "text/plain": [
       "703363"
      ]
     },
     "execution_count": 93,
     "metadata": {},
     "output_type": "execute_result"
    }
   ],
   "source": [
    "len(nlp.vocab.strings)"
   ]
  },
  {
   "cell_type": "code",
   "execution_count": 94,
   "id": "9ff95dc1",
   "metadata": {},
   "outputs": [
    {
     "data": {
      "text/plain": [
       "5859305670779334074"
      ]
     },
     "execution_count": 94,
     "metadata": {},
     "output_type": "execute_result"
    }
   ],
   "source": [
    "nlp.vocab.strings[\"gata\"]"
   ]
  },
  {
   "attachments": {},
   "cell_type": "markdown",
   "id": "a3a18ea3",
   "metadata": {},
   "source": [
    "Esta dirección (*hash*) corresponde a la dirección del lexema y de todos los tokens con esa palabra"
   ]
  },
  {
   "cell_type": "code",
   "execution_count": 95,
   "id": "c8787b67-ba4a-45a8-8b8d-c266d5031fc0",
   "metadata": {},
   "outputs": [
    {
     "data": {
      "text/plain": [
       "5859305670779334074"
      ]
     },
     "execution_count": 95,
     "metadata": {},
     "output_type": "execute_result"
    }
   ],
   "source": [
    "nlp.vocab[\"gata\"].orth"
   ]
  },
  {
   "cell_type": "code",
   "execution_count": 96,
   "id": "7581b860",
   "metadata": {},
   "outputs": [
    {
     "data": {
      "text/plain": [
       "5859305670779334074"
      ]
     },
     "execution_count": 96,
     "metadata": {},
     "output_type": "execute_result"
    }
   ],
   "source": [
    "parsedData[1].orth"
   ]
  },
  {
   "cell_type": "code",
   "execution_count": 97,
   "id": "7b2601cf",
   "metadata": {},
   "outputs": [
    {
     "data": {
      "text/plain": [
       "'gata'"
      ]
     },
     "execution_count": 97,
     "metadata": {},
     "output_type": "execute_result"
    }
   ],
   "source": [
    "nlp.vocab.strings[nlp.vocab.strings[\"gata\"]]"
   ]
  },
  {
   "cell_type": "code",
   "execution_count": 98,
   "id": "8714ee5a",
   "metadata": {},
   "outputs": [
    {
     "name": "stdout",
     "output_type": "stream",
     "text": [
      "TOKEN: La\n",
      "original: 6239908149323985340 La\n",
      "lowercased: 6804705863737483857 la\n",
      "lemma: 11488171005156075516 el\n",
      "shape: 12204527652707022206 Xx\n",
      "prefix: 10603054956214495369 L\n",
      "suffix: 6239908149323985340 La\n",
      "POS: 90 DET\n",
      "tag: 90 DET\n",
      "Dependency parsing: 415 det\n"
     ]
    }
   ],
   "source": [
    "token=parsedData[0]\n",
    "print(\"TOKEN:\", token)\n",
    "print(\"original:\", token.orth, token.orth_)\n",
    "print(\"lowercased:\", token.lower, token.lower_)\n",
    "print(\"lemma:\", token.lemma, token.lemma_)\n",
    "print(\"shape:\", token.shape, token.shape_)\n",
    "print(\"prefix:\", token.prefix, token.prefix_)\n",
    "print(\"suffix:\", token.suffix, token.suffix_)\n",
    "print(\"POS:\", token.pos, token.pos_)\n",
    "print(\"tag:\", token.tag, token.tag_)\n",
    "print(\"Dependency parsing:\", token.dep, token.dep_)\n"
   ]
  },
  {
   "attachments": {},
   "cell_type": "markdown",
   "id": "b676fb7c",
   "metadata": {},
   "source": [
    "Cuando no existe un string de texto determinado se crea en el vocabulario"
   ]
  },
  {
   "cell_type": "code",
   "execution_count": 99,
   "id": "bd7bff6f",
   "metadata": {},
   "outputs": [
    {
     "data": {
      "text/plain": [
       "False"
      ]
     },
     "execution_count": 99,
     "metadata": {},
     "output_type": "execute_result"
    }
   ],
   "source": [
    "'siblings' in nlp.vocab"
   ]
  },
  {
   "cell_type": "code",
   "execution_count": 100,
   "id": "2b9c846a",
   "metadata": {},
   "outputs": [
    {
     "data": {
      "text/plain": [
       "703363"
      ]
     },
     "execution_count": 100,
     "metadata": {},
     "output_type": "execute_result"
    }
   ],
   "source": [
    "len(nlp.vocab.strings)"
   ]
  },
  {
   "cell_type": "code",
   "execution_count": 101,
   "id": "c60ba538",
   "metadata": {},
   "outputs": [
    {
     "data": {
      "text/plain": [
       "<spacy.lexeme.Lexeme at 0x23c973e0600>"
      ]
     },
     "execution_count": 101,
     "metadata": {},
     "output_type": "execute_result"
    }
   ],
   "source": [
    "nlp.vocab[\"siblings\"]"
   ]
  },
  {
   "cell_type": "code",
   "execution_count": 102,
   "id": "62bd6f47",
   "metadata": {},
   "outputs": [
    {
     "data": {
      "text/plain": [
       "703364"
      ]
     },
     "execution_count": 102,
     "metadata": {},
     "output_type": "execute_result"
    }
   ],
   "source": [
    "len(nlp.vocab.strings)"
   ]
  },
  {
   "cell_type": "code",
   "execution_count": 103,
   "id": "12393d42",
   "metadata": {},
   "outputs": [
    {
     "data": {
      "text/plain": [
       "4571852539544974449"
      ]
     },
     "execution_count": 103,
     "metadata": {},
     "output_type": "execute_result"
    }
   ],
   "source": [
    "nlp.vocab[\"siblings\"].orth"
   ]
  },
  {
   "cell_type": "code",
   "execution_count": 104,
   "id": "3c6ffab8",
   "metadata": {},
   "outputs": [
    {
     "data": {
      "text/plain": [
       "'siblings'"
      ]
     },
     "execution_count": 104,
     "metadata": {},
     "output_type": "execute_result"
    }
   ],
   "source": [
    "nlp.vocab.strings[nlp.vocab[\"siblings\"].orth]"
   ]
  },
  {
   "cell_type": "markdown",
   "id": "f4e6364f",
   "metadata": {},
   "source": [
    "Aunque la palabra no existía, al indexarla en el vocabulario se ha creado:"
   ]
  },
  {
   "cell_type": "code",
   "execution_count": 105,
   "id": "7dd13a8e",
   "metadata": {},
   "outputs": [
    {
     "data": {
      "text/plain": [
       "True"
      ]
     },
     "execution_count": 105,
     "metadata": {},
     "output_type": "execute_result"
    }
   ],
   "source": [
    "'siblings' in nlp.vocab"
   ]
  },
  {
   "attachments": {},
   "cell_type": "markdown",
   "id": "afd3cc03",
   "metadata": {},
   "source": [
    "### Tokens\n",
    "`spaCy` divide cada texto en una secuencia de *tokens*. Para cada token tenemos una serie de atributos"
   ]
  },
  {
   "cell_type": "code",
   "execution_count": 106,
   "id": "fef1de74",
   "metadata": {},
   "outputs": [
    {
     "data": {
      "text/html": [
       "<div>\n",
       "<style scoped>\n",
       "    .dataframe tbody tr th:only-of-type {\n",
       "        vertical-align: middle;\n",
       "    }\n",
       "\n",
       "    .dataframe tbody tr th {\n",
       "        vertical-align: top;\n",
       "    }\n",
       "\n",
       "    .dataframe thead th {\n",
       "        text-align: right;\n",
       "    }\n",
       "</style>\n",
       "<table border=\"1\" class=\"dataframe\">\n",
       "  <thead>\n",
       "    <tr style=\"text-align: right;\">\n",
       "      <th></th>\n",
       "      <th>token</th>\n",
       "      <th>lema</th>\n",
       "      <th>shape</th>\n",
       "      <th>POS</th>\n",
       "      <th>POS detallado</th>\n",
       "      <th>dependencia</th>\n",
       "      <th>Descripción dep</th>\n",
       "    </tr>\n",
       "  </thead>\n",
       "  <tbody>\n",
       "    <tr>\n",
       "      <th>0</th>\n",
       "      <td>La</td>\n",
       "      <td>el</td>\n",
       "      <td>Xx</td>\n",
       "      <td>DET</td>\n",
       "      <td>(Definite=Def, Gender=Fem, Number=Sing, PronType=Art)</td>\n",
       "      <td>det</td>\n",
       "      <td>determiner</td>\n",
       "    </tr>\n",
       "    <tr>\n",
       "      <th>1</th>\n",
       "      <td>gata</td>\n",
       "      <td>gata</td>\n",
       "      <td>xxxx</td>\n",
       "      <td>NOUN</td>\n",
       "      <td>(Gender=Fem, Number=Sing)</td>\n",
       "      <td>nsubj</td>\n",
       "      <td>nominal subject</td>\n",
       "    </tr>\n",
       "    <tr>\n",
       "      <th>2</th>\n",
       "      <td>de</td>\n",
       "      <td>de</td>\n",
       "      <td>xx</td>\n",
       "      <td>ADP</td>\n",
       "      <td>()</td>\n",
       "      <td>case</td>\n",
       "      <td>case marking</td>\n",
       "    </tr>\n",
       "    <tr>\n",
       "      <th>3</th>\n",
       "      <td>Juan</td>\n",
       "      <td>Juan</td>\n",
       "      <td>Xxxx</td>\n",
       "      <td>PROPN</td>\n",
       "      <td>()</td>\n",
       "      <td>nmod</td>\n",
       "      <td>modifier of nominal</td>\n",
       "    </tr>\n",
       "    <tr>\n",
       "      <th>4</th>\n",
       "      <td>es</td>\n",
       "      <td>ser</td>\n",
       "      <td>xx</td>\n",
       "      <td>AUX</td>\n",
       "      <td>(Mood=Ind, Number=Sing, Person=3, Tense=Pres, VerbForm=Fin)</td>\n",
       "      <td>cop</td>\n",
       "      <td>copula</td>\n",
       "    </tr>\n",
       "    <tr>\n",
       "      <th>5</th>\n",
       "      <td>muy</td>\n",
       "      <td>mucho</td>\n",
       "      <td>xxx</td>\n",
       "      <td>ADV</td>\n",
       "      <td>()</td>\n",
       "      <td>advmod</td>\n",
       "      <td>adverbial modifier</td>\n",
       "    </tr>\n",
       "    <tr>\n",
       "      <th>6</th>\n",
       "      <td>bonita</td>\n",
       "      <td>bonito</td>\n",
       "      <td>xxxx</td>\n",
       "      <td>ADJ</td>\n",
       "      <td>(Gender=Fem, Number=Sing)</td>\n",
       "      <td>ROOT</td>\n",
       "      <td>root</td>\n",
       "    </tr>\n",
       "    <tr>\n",
       "      <th>7</th>\n",
       "      <td>.</td>\n",
       "      <td>.</td>\n",
       "      <td>.</td>\n",
       "      <td>PUNCT</td>\n",
       "      <td>(PunctType=Peri)</td>\n",
       "      <td>punct</td>\n",
       "      <td>punctuation</td>\n",
       "    </tr>\n",
       "  </tbody>\n",
       "</table>\n",
       "</div>"
      ],
      "text/plain": [
       "    token    lema shape    POS  \\\n",
       "0      La      el    Xx    DET   \n",
       "1    gata    gata  xxxx   NOUN   \n",
       "2      de      de    xx    ADP   \n",
       "3    Juan    Juan  Xxxx  PROPN   \n",
       "4      es     ser    xx    AUX   \n",
       "5     muy   mucho   xxx    ADV   \n",
       "6  bonita  bonito  xxxx    ADJ   \n",
       "7       .       .     .  PUNCT   \n",
       "\n",
       "                                                 POS detallado dependencia  \\\n",
       "0        (Definite=Def, Gender=Fem, Number=Sing, PronType=Art)         det   \n",
       "1                                    (Gender=Fem, Number=Sing)       nsubj   \n",
       "2                                                           ()        case   \n",
       "3                                                           ()        nmod   \n",
       "4  (Mood=Ind, Number=Sing, Person=3, Tense=Pres, VerbForm=Fin)         cop   \n",
       "5                                                           ()      advmod   \n",
       "6                                    (Gender=Fem, Number=Sing)        ROOT   \n",
       "7                                             (PunctType=Peri)       punct   \n",
       "\n",
       "       Descripción dep  \n",
       "0           determiner  \n",
       "1      nominal subject  \n",
       "2         case marking  \n",
       "3  modifier of nominal  \n",
       "4               copula  \n",
       "5   adverbial modifier  \n",
       "6                 root  \n",
       "7          punctuation  "
      ]
     },
     "execution_count": 106,
     "metadata": {},
     "output_type": "execute_result"
    }
   ],
   "source": [
    "pd.set_option('display.max_colwidth', None)\n",
    "\n",
    "datos = map(lambda t: {'token': t.orth_,\n",
    "                       'lema': t.lemma_,\n",
    "                       'shape': t.shape_,\n",
    "                       'POS': t.pos_,\n",
    "                       'POS detallado': t.morph,\n",
    "                       'dependencia': t.dep_,\n",
    "                       'Descripción dep': spacy.explain(t.dep_)},\n",
    "                        parsedData)\n",
    "\n",
    "pd.DataFrame(datos)"
   ]
  },
  {
   "cell_type": "markdown",
   "id": "2e2c4139",
   "metadata": {},
   "source": [
    "### Diferencia entre token y lexema"
   ]
  },
  {
   "cell_type": "code",
   "execution_count": 107,
   "id": "2c343847",
   "metadata": {},
   "outputs": [
    {
     "data": {
      "text/html": [
       "<div>\n",
       "<style scoped>\n",
       "    .dataframe tbody tr th:only-of-type {\n",
       "        vertical-align: middle;\n",
       "    }\n",
       "\n",
       "    .dataframe tbody tr th {\n",
       "        vertical-align: top;\n",
       "    }\n",
       "\n",
       "    .dataframe thead th {\n",
       "        text-align: right;\n",
       "    }\n",
       "</style>\n",
       "<table border=\"1\" class=\"dataframe\">\n",
       "  <thead>\n",
       "    <tr style=\"text-align: right;\">\n",
       "      <th></th>\n",
       "      <th>token</th>\n",
       "      <th>lema</th>\n",
       "      <th>shape</th>\n",
       "      <th>POS</th>\n",
       "      <th>POS detallado</th>\n",
       "      <th>dependencia</th>\n",
       "      <th>Descripción dep</th>\n",
       "    </tr>\n",
       "  </thead>\n",
       "  <tbody>\n",
       "    <tr>\n",
       "      <th>0</th>\n",
       "      <td>I</td>\n",
       "      <td>I</td>\n",
       "      <td>X</td>\n",
       "      <td>PRON</td>\n",
       "      <td>(Case=Nom, Number=Sing, Person=1, PronType=Prs)</td>\n",
       "      <td>nsubj</td>\n",
       "      <td>nominal subject</td>\n",
       "    </tr>\n",
       "    <tr>\n",
       "      <th>1</th>\n",
       "      <td>like</td>\n",
       "      <td>like</td>\n",
       "      <td>xxxx</td>\n",
       "      <td>VERB</td>\n",
       "      <td>(Tense=Pres, VerbForm=Fin)</td>\n",
       "      <td>ROOT</td>\n",
       "      <td>root</td>\n",
       "    </tr>\n",
       "    <tr>\n",
       "      <th>2</th>\n",
       "      <td>to</td>\n",
       "      <td>to</td>\n",
       "      <td>xx</td>\n",
       "      <td>PART</td>\n",
       "      <td>()</td>\n",
       "      <td>aux</td>\n",
       "      <td>auxiliary</td>\n",
       "    </tr>\n",
       "    <tr>\n",
       "      <th>3</th>\n",
       "      <td>run</td>\n",
       "      <td>run</td>\n",
       "      <td>xxx</td>\n",
       "      <td>VERB</td>\n",
       "      <td>(VerbForm=Inf)</td>\n",
       "      <td>xcomp</td>\n",
       "      <td>open clausal complement</td>\n",
       "    </tr>\n",
       "    <tr>\n",
       "      <th>4</th>\n",
       "      <td>.</td>\n",
       "      <td>.</td>\n",
       "      <td>.</td>\n",
       "      <td>PUNCT</td>\n",
       "      <td>(PunctType=Peri)</td>\n",
       "      <td>punct</td>\n",
       "      <td>punctuation</td>\n",
       "    </tr>\n",
       "    <tr>\n",
       "      <th>5</th>\n",
       "      <td>I</td>\n",
       "      <td>I</td>\n",
       "      <td>X</td>\n",
       "      <td>PRON</td>\n",
       "      <td>(Case=Nom, Number=Sing, Person=1, PronType=Prs)</td>\n",
       "      <td>nsubj</td>\n",
       "      <td>nominal subject</td>\n",
       "    </tr>\n",
       "    <tr>\n",
       "      <th>6</th>\n",
       "      <td>completed</td>\n",
       "      <td>complete</td>\n",
       "      <td>xxxx</td>\n",
       "      <td>VERB</td>\n",
       "      <td>(Tense=Past, VerbForm=Fin)</td>\n",
       "      <td>ROOT</td>\n",
       "      <td>root</td>\n",
       "    </tr>\n",
       "    <tr>\n",
       "      <th>7</th>\n",
       "      <td>a</td>\n",
       "      <td>a</td>\n",
       "      <td>x</td>\n",
       "      <td>DET</td>\n",
       "      <td>(Definite=Ind, PronType=Art)</td>\n",
       "      <td>det</td>\n",
       "      <td>determiner</td>\n",
       "    </tr>\n",
       "    <tr>\n",
       "      <th>8</th>\n",
       "      <td>long</td>\n",
       "      <td>long</td>\n",
       "      <td>xxxx</td>\n",
       "      <td>ADJ</td>\n",
       "      <td>(Degree=Pos)</td>\n",
       "      <td>amod</td>\n",
       "      <td>adjectival modifier</td>\n",
       "    </tr>\n",
       "    <tr>\n",
       "      <th>9</th>\n",
       "      <td>run</td>\n",
       "      <td>run</td>\n",
       "      <td>xxx</td>\n",
       "      <td>NOUN</td>\n",
       "      <td>(Number=Sing)</td>\n",
       "      <td>dobj</td>\n",
       "      <td>direct object</td>\n",
       "    </tr>\n",
       "    <tr>\n",
       "      <th>10</th>\n",
       "      <td>yesterday</td>\n",
       "      <td>yesterday</td>\n",
       "      <td>xxxx</td>\n",
       "      <td>NOUN</td>\n",
       "      <td>(Number=Sing)</td>\n",
       "      <td>npadvmod</td>\n",
       "      <td>noun phrase as adverbial modifier</td>\n",
       "    </tr>\n",
       "  </tbody>\n",
       "</table>\n",
       "</div>"
      ],
      "text/plain": [
       "        token       lema shape    POS  \\\n",
       "0           I          I     X   PRON   \n",
       "1        like       like  xxxx   VERB   \n",
       "2          to         to    xx   PART   \n",
       "3         run        run   xxx   VERB   \n",
       "4           .          .     .  PUNCT   \n",
       "5           I          I     X   PRON   \n",
       "6   completed   complete  xxxx   VERB   \n",
       "7           a          a     x    DET   \n",
       "8        long       long  xxxx    ADJ   \n",
       "9         run        run   xxx   NOUN   \n",
       "10  yesterday  yesterday  xxxx   NOUN   \n",
       "\n",
       "                                      POS detallado dependencia  \\\n",
       "0   (Case=Nom, Number=Sing, Person=1, PronType=Prs)       nsubj   \n",
       "1                        (Tense=Pres, VerbForm=Fin)        ROOT   \n",
       "2                                                ()         aux   \n",
       "3                                    (VerbForm=Inf)       xcomp   \n",
       "4                                  (PunctType=Peri)       punct   \n",
       "5   (Case=Nom, Number=Sing, Person=1, PronType=Prs)       nsubj   \n",
       "6                        (Tense=Past, VerbForm=Fin)        ROOT   \n",
       "7                      (Definite=Ind, PronType=Art)         det   \n",
       "8                                      (Degree=Pos)        amod   \n",
       "9                                     (Number=Sing)        dobj   \n",
       "10                                    (Number=Sing)    npadvmod   \n",
       "\n",
       "                      Descripción dep  \n",
       "0                     nominal subject  \n",
       "1                                root  \n",
       "2                           auxiliary  \n",
       "3             open clausal complement  \n",
       "4                         punctuation  \n",
       "5                     nominal subject  \n",
       "6                                root  \n",
       "7                          determiner  \n",
       "8                 adjectival modifier  \n",
       "9                       direct object  \n",
       "10  noun phrase as adverbial modifier  "
      ]
     },
     "execution_count": 107,
     "metadata": {},
     "output_type": "execute_result"
    }
   ],
   "source": [
    "parsedData = nlp_en(\"I like to run. I completed a long run yesterday\")\n",
    "datos = map(lambda t: {'token': t.orth_,\n",
    "                       'lema': t.lemma_,\n",
    "                       'shape': t.shape_,\n",
    "                       'POS': t.pos_,\n",
    "                       'POS detallado': t.morph,\n",
    "                       'dependencia': t.dep_,\n",
    "                       'Descripción dep': spacy.explain(t.dep_)},\n",
    "                        parsedData)\n",
    "\n",
    "pd.DataFrame(datos)"
   ]
  },
  {
   "cell_type": "code",
   "execution_count": 108,
   "id": "ee74bf90",
   "metadata": {},
   "outputs": [
    {
     "data": {
      "text/plain": [
       "'VERB'"
      ]
     },
     "execution_count": 108,
     "metadata": {},
     "output_type": "execute_result"
    }
   ],
   "source": [
    "parsedData[3].pos_"
   ]
  },
  {
   "cell_type": "code",
   "execution_count": 109,
   "id": "e566452e",
   "metadata": {},
   "outputs": [
    {
     "data": {
      "text/plain": [
       "'NOUN'"
      ]
     },
     "execution_count": 109,
     "metadata": {},
     "output_type": "execute_result"
    }
   ],
   "source": [
    "parsedData[9].pos_"
   ]
  },
  {
   "cell_type": "code",
   "execution_count": 110,
   "id": "c7592223",
   "metadata": {},
   "outputs": [
    {
     "data": {
      "text/plain": [
       "False"
      ]
     },
     "execution_count": 110,
     "metadata": {},
     "output_type": "execute_result"
    }
   ],
   "source": [
    "parsedData[3]==parsedData[9]"
   ]
  },
  {
   "cell_type": "code",
   "execution_count": 111,
   "id": "23ed0709",
   "metadata": {},
   "outputs": [
    {
     "data": {
      "text/plain": [
       "12767647472892411841"
      ]
     },
     "execution_count": 111,
     "metadata": {},
     "output_type": "execute_result"
    }
   ],
   "source": [
    "parsedData[3].orth"
   ]
  },
  {
   "cell_type": "code",
   "execution_count": 112,
   "id": "963f1aef",
   "metadata": {},
   "outputs": [
    {
     "data": {
      "text/plain": [
       "'run'"
      ]
     },
     "execution_count": 112,
     "metadata": {},
     "output_type": "execute_result"
    }
   ],
   "source": [
    "nlp_en.vocab.strings[parsedData[3].orth]"
   ]
  },
  {
   "cell_type": "code",
   "execution_count": 113,
   "id": "6c3ee3e2",
   "metadata": {},
   "outputs": [
    {
     "data": {
      "text/plain": [
       "12767647472892411841"
      ]
     },
     "execution_count": 113,
     "metadata": {},
     "output_type": "execute_result"
    }
   ],
   "source": [
    "parsedData[9].orth"
   ]
  },
  {
   "cell_type": "code",
   "execution_count": 114,
   "id": "9d177d6c-9b9d-4228-a278-a1653ea49691",
   "metadata": {},
   "outputs": [
    {
     "data": {
      "text/plain": [
       "True"
      ]
     },
     "execution_count": 114,
     "metadata": {},
     "output_type": "execute_result"
    }
   ],
   "source": [
    "parsedData[3].orth==parsedData[9].orth"
   ]
  },
  {
   "cell_type": "code",
   "execution_count": 115,
   "id": "068a5bb5",
   "metadata": {},
   "outputs": [
    {
     "data": {
      "text/plain": [
       "True"
      ]
     },
     "execution_count": 115,
     "metadata": {},
     "output_type": "execute_result"
    }
   ],
   "source": [
    "parsedData[3].text==parsedData[9].text"
   ]
  },
  {
   "cell_type": "markdown",
   "id": "cc725fbc",
   "metadata": {},
   "source": [
    "### Separación en oraciones"
   ]
  },
  {
   "cell_type": "code",
   "execution_count": 116,
   "id": "80a4414b",
   "metadata": {},
   "outputs": [],
   "source": [
    "texto = \"Al Sr. Daniel siempre le gustaron las catedrales. La de su ciudad era tan alta, \\\n",
    "que al mirarla desde su pequeña estatura, tenía que torcer el cuello de tal forma que \\\n",
    "le costaba no marearse. Lo que más temía era que sus pies se despegasen de la tierra \\\n",
    "y la Catedral le arrastrara con ella hasta los cielos. Aun así, un espíritu \\\n",
    "aventurero le llevaba cada tarde hasta la Plaza Mayor.\"\n",
    "parsedData = nlp(texto)"
   ]
  },
  {
   "cell_type": "code",
   "execution_count": 117,
   "id": "f88dbff8",
   "metadata": {},
   "outputs": [
    {
     "data": {
      "text/plain": [
       "Al Sr. Daniel siempre le gustaron las catedrales. La de su ciudad era tan alta, que al mirarla desde su pequeña estatura, tenía que torcer el cuello de tal forma que le costaba no marearse. Lo que más temía era que sus pies se despegasen de la tierra y la Catedral le arrastrara con ella hasta los cielos. Aun así, un espíritu aventurero le llevaba cada tarde hasta la Plaza Mayor."
      ]
     },
     "execution_count": 117,
     "metadata": {},
     "output_type": "execute_result"
    }
   ],
   "source": [
    "parsedData"
   ]
  },
  {
   "cell_type": "code",
   "execution_count": 118,
   "id": "42a76b5e-a709-46e0-aefb-95a366a33b67",
   "metadata": {},
   "outputs": [
    {
     "data": {
      "text/plain": [
       "[Al, Sr., Daniel, siempre, le, gustaron, las, catedrales, ., La]"
      ]
     },
     "execution_count": 118,
     "metadata": {},
     "output_type": "execute_result"
    }
   ],
   "source": [
    "[t for t in parsedData[0:10]]"
   ]
  },
  {
   "cell_type": "code",
   "execution_count": 119,
   "id": "e1212d3d",
   "metadata": {},
   "outputs": [
    {
     "data": {
      "text/plain": [
       "<generator at 0x23c97276a40>"
      ]
     },
     "execution_count": 119,
     "metadata": {},
     "output_type": "execute_result"
    }
   ],
   "source": [
    "parsedData.sents"
   ]
  },
  {
   "cell_type": "code",
   "execution_count": 120,
   "id": "e5a674be",
   "metadata": {},
   "outputs": [
    {
     "data": {
      "text/plain": [
       "Al Sr. Daniel siempre le gustaron las catedrales."
      ]
     },
     "execution_count": 120,
     "metadata": {},
     "output_type": "execute_result"
    }
   ],
   "source": [
    "next(parsedData.sents)"
   ]
  },
  {
   "cell_type": "code",
   "execution_count": 121,
   "id": "ea2de940",
   "metadata": {},
   "outputs": [
    {
     "data": {
      "text/plain": [
       "spacy.tokens.span.Span"
      ]
     },
     "execution_count": 121,
     "metadata": {},
     "output_type": "execute_result"
    }
   ],
   "source": [
    "type(next(parsedData.sents))"
   ]
  },
  {
   "cell_type": "code",
   "execution_count": 122,
   "id": "1f9ffafd",
   "metadata": {},
   "outputs": [
    {
     "name": "stdout",
     "output_type": "stream",
     "text": [
      "Oración 0:\n",
      "Al Sr. Daniel siempre le gustaron las catedrales.\n",
      "\n",
      "Oración 1:\n",
      "La de su ciudad era tan alta, que al mirarla desde su pequeña estatura, tenía que torcer el cuello de tal forma que le costaba no marearse.\n",
      "\n",
      "Oración 2:\n",
      "Lo que más temía era que sus pies se despegasen de la tierra y la Catedral le arrastrara con ella hasta los cielos.\n",
      "\n",
      "Oración 3:\n",
      "Aun así, un espíritu aventurero le llevaba cada tarde hasta la Plaza Mayor.\n",
      "\n"
     ]
    }
   ],
   "source": [
    "for i, sent in enumerate(parsedData.sents):\n",
    "    print(f\"Oración {i}:\\n{sent}\\n\")"
   ]
  },
  {
   "cell_type": "markdown",
   "id": "5c80ba7a",
   "metadata": {},
   "source": [
    "Cada sentencia también tiene sus propios atributos, distintos de los de los tokens. Para spaCy las oraciones son objetos de tipo `spacy.tokens.span.Span`"
   ]
  },
  {
   "cell_type": "code",
   "execution_count": 123,
   "id": "1589e743",
   "metadata": {},
   "outputs": [
    {
     "name": "stdout",
     "output_type": "stream",
     "text": [
      "['as_doc', 'char_span', 'conjuncts', 'doc', 'end', 'end_char', 'ent_id', 'ent_id_', 'ents', 'get_extension', 'get_lca_matrix', 'has_extension', 'has_vector', 'id', 'id_', 'kb_id', 'kb_id_', 'label', 'label_', 'lefts', 'lemma_', 'n_lefts', 'n_rights', 'noun_chunks', 'orth_', 'remove_extension', 'rights', 'root', 'sent', 'sentiment', 'sents', 'set_extension', 'similarity', 'start', 'start_char', 'subtree', 'tensor', 'text', 'text_with_ws', 'to_array', 'vector', 'vector_norm', 'vocab']\n"
     ]
    }
   ],
   "source": [
    "print([prop for prop in dir(spacy.tokens.span.Span) if not prop.startswith('_')])"
   ]
  },
  {
   "cell_type": "markdown",
   "id": "f402a3b6",
   "metadata": {},
   "source": [
    "Algunas propiedades de `Span` son distintas que las de cada `Token`:"
   ]
  },
  {
   "cell_type": "code",
   "execution_count": 124,
   "id": "fc2f4192",
   "metadata": {},
   "outputs": [
    {
     "data": {
      "text/plain": [
       "['as_doc',\n",
       " 'char_span',\n",
       " 'end',\n",
       " 'end_char',\n",
       " 'ents',\n",
       " 'get_lca_matrix',\n",
       " 'id',\n",
       " 'id_',\n",
       " 'kb_id',\n",
       " 'kb_id_',\n",
       " 'label',\n",
       " 'label_',\n",
       " 'noun_chunks',\n",
       " 'root',\n",
       " 'sents',\n",
       " 'start',\n",
       " 'start_char',\n",
       " 'to_array']"
      ]
     },
     "execution_count": 124,
     "metadata": {},
     "output_type": "execute_result"
    }
   ],
   "source": [
    "[prop for prop in dir(spacy.tokens.span.Span) if\n",
    " not prop.startswith('_') and not prop in dir(spacy.tokens.token.Token)]"
   ]
  },
  {
   "cell_type": "code",
   "execution_count": 125,
   "id": "00abf6c7",
   "metadata": {},
   "outputs": [
    {
     "data": {
      "text/plain": [
       "La de su ciudad era tan alta, que al mirarla desde su pequeña estatura, tenía que torcer el cuello de tal forma que le costaba no marearse."
      ]
     },
     "execution_count": 125,
     "metadata": {},
     "output_type": "execute_result"
    }
   ],
   "source": [
    "frases = list(parsedData.sents)\n",
    "frases[1]"
   ]
  },
  {
   "cell_type": "code",
   "execution_count": 126,
   "id": "1aeeb543",
   "metadata": {},
   "outputs": [
    {
     "data": {
      "text/plain": [
       "spacy.tokens.span.Span"
      ]
     },
     "execution_count": 126,
     "metadata": {},
     "output_type": "execute_result"
    }
   ],
   "source": [
    "type(frases[1])"
   ]
  },
  {
   "cell_type": "code",
   "execution_count": 127,
   "id": "f4ec9aac-a362-42aa-95c3-24d2699228fb",
   "metadata": {},
   "outputs": [
    {
     "data": {
      "text/plain": [
       "9"
      ]
     },
     "execution_count": 127,
     "metadata": {},
     "output_type": "execute_result"
    }
   ],
   "source": [
    "frases[1].start"
   ]
  },
  {
   "cell_type": "code",
   "execution_count": 128,
   "id": "1210c7b3-8ef9-44a0-9e9e-fc4ce987426b",
   "metadata": {},
   "outputs": [
    {
     "data": {
      "text/plain": [
       "39"
      ]
     },
     "execution_count": 128,
     "metadata": {},
     "output_type": "execute_result"
    }
   ],
   "source": [
    "frases[1].end"
   ]
  },
  {
   "cell_type": "code",
   "execution_count": 129,
   "id": "1f68fedc",
   "metadata": {},
   "outputs": [
    {
     "data": {
      "text/plain": [
       "La de su ciudad era tan alta, que al mirarla desde su pequeña estatura, tenía que torcer el cuello de tal forma que le costaba no marearse."
      ]
     },
     "execution_count": 129,
     "metadata": {},
     "output_type": "execute_result"
    }
   ],
   "source": [
    "parsedData[frases[1].start:frases[1].end]"
   ]
  },
  {
   "cell_type": "code",
   "execution_count": 130,
   "id": "447afc8a",
   "metadata": {},
   "outputs": [
    {
     "data": {
      "text/plain": [
       "[gustaron, alta, era, llevaba]"
      ]
     },
     "execution_count": 130,
     "metadata": {},
     "output_type": "execute_result"
    }
   ],
   "source": [
    "#propiedades de las oraciones\n",
    "raices = [s.root for s in parsedData.sents]\n",
    "raices"
   ]
  },
  {
   "cell_type": "code",
   "execution_count": 131,
   "id": "222e4504-db61-4809-a915-b4eca7826a0a",
   "metadata": {},
   "outputs": [
    {
     "data": {
      "text/plain": [
       "spacy.tokens.token.Token"
      ]
     },
     "execution_count": 131,
     "metadata": {},
     "output_type": "execute_result"
    }
   ],
   "source": [
    "type(raices[0])"
   ]
  },
  {
   "cell_type": "code",
   "execution_count": 132,
   "id": "7f29aa10",
   "metadata": {},
   "outputs": [
    {
     "data": {
      "text/plain": [
       "gustaron"
      ]
     },
     "execution_count": 132,
     "metadata": {},
     "output_type": "execute_result"
    }
   ],
   "source": [
    "parsedData[5]"
   ]
  },
  {
   "cell_type": "code",
   "execution_count": 133,
   "id": "6240a831",
   "metadata": {},
   "outputs": [
    {
     "data": {
      "text/plain": [
       "True"
      ]
     },
     "execution_count": 133,
     "metadata": {},
     "output_type": "execute_result"
    }
   ],
   "source": [
    "raices[0]==parsedData[5]"
   ]
  },
  {
   "cell_type": "code",
   "execution_count": 134,
   "id": "ad7aefa5-c163-48d7-887a-76dda8f2b80d",
   "metadata": {},
   "outputs": [
    {
     "data": {
      "text/plain": [
       "'VERB'"
      ]
     },
     "execution_count": 134,
     "metadata": {},
     "output_type": "execute_result"
    }
   ],
   "source": [
    "raices[0].pos_"
   ]
  },
  {
   "cell_type": "code",
   "execution_count": 135,
   "id": "751c0647",
   "metadata": {},
   "outputs": [
    {
     "data": {
      "text/plain": [
       "[Al, Sr., Daniel, siempre, le, gustaron, las, catedrales, .]"
      ]
     },
     "execution_count": 135,
     "metadata": {},
     "output_type": "execute_result"
    }
   ],
   "source": [
    "[t for t in frases[0]]"
   ]
  },
  {
   "attachments": {},
   "cell_type": "markdown",
   "id": "a25e9875",
   "metadata": {},
   "source": [
    "### Part of Speech\n",
    "Por cada token tenemos su POS y su POS detallado (objeto `morph`)"
   ]
  },
  {
   "cell_type": "code",
   "execution_count": 136,
   "id": "e4811a09",
   "metadata": {},
   "outputs": [
    {
     "data": {
      "text/plain": [
       "{85: ('ADP', 'adposition'),\n",
       " 96: ('PROPN', 'proper noun'),\n",
       " 86: ('ADV', 'adverb'),\n",
       " 95: ('PRON', 'pronoun'),\n",
       " 100: ('VERB', 'verb'),\n",
       " 90: ('DET', 'determiner'),\n",
       " 92: ('NOUN', 'noun'),\n",
       " 97: ('PUNCT', 'punctuation'),\n",
       " 87: ('AUX', 'auxiliary'),\n",
       " 84: ('ADJ', 'adjective'),\n",
       " 98: ('SCONJ', 'subordinating conjunction'),\n",
       " 89: ('CCONJ', 'coordinating conjunction')}"
      ]
     },
     "execution_count": 136,
     "metadata": {},
     "output_type": "execute_result"
    }
   ],
   "source": [
    "{w.pos: (w.pos_, spacy.explain(w.pos_)) for w in parsedData} "
   ]
  },
  {
   "cell_type": "code",
   "execution_count": 137,
   "id": "e65027a5",
   "metadata": {},
   "outputs": [
    {
     "data": {
      "text/html": [
       "<div>\n",
       "<style scoped>\n",
       "    .dataframe tbody tr th:only-of-type {\n",
       "        vertical-align: middle;\n",
       "    }\n",
       "\n",
       "    .dataframe tbody tr th {\n",
       "        vertical-align: top;\n",
       "    }\n",
       "\n",
       "    .dataframe thead th {\n",
       "        text-align: right;\n",
       "    }\n",
       "</style>\n",
       "<table border=\"1\" class=\"dataframe\">\n",
       "  <thead>\n",
       "    <tr style=\"text-align: right;\">\n",
       "      <th></th>\n",
       "      <th>POS</th>\n",
       "      <th>MORPH</th>\n",
       "    </tr>\n",
       "  </thead>\n",
       "  <tbody>\n",
       "    <tr>\n",
       "      <th>37</th>\n",
       "      <td>ADJ</td>\n",
       "      <td>(Gender=Masc, Number=Sing)</td>\n",
       "    </tr>\n",
       "    <tr>\n",
       "      <th>6</th>\n",
       "      <td>ADJ</td>\n",
       "      <td>(Gender=Fem, Number=Sing)</td>\n",
       "    </tr>\n",
       "    <tr>\n",
       "      <th>19</th>\n",
       "      <td>ADP</td>\n",
       "      <td>()</td>\n",
       "    </tr>\n",
       "    <tr>\n",
       "      <th>13</th>\n",
       "      <td>ADP</td>\n",
       "      <td>(Definite=Def, Gender=Masc, Number=Sing, PronType=Art)</td>\n",
       "    </tr>\n",
       "    <tr>\n",
       "      <th>2</th>\n",
       "      <td>ADV</td>\n",
       "      <td>(Degree=Cmp)</td>\n",
       "    </tr>\n",
       "    <tr>\n",
       "      <th>17</th>\n",
       "      <td>ADV</td>\n",
       "      <td>()</td>\n",
       "    </tr>\n",
       "    <tr>\n",
       "      <th>32</th>\n",
       "      <td>ADV</td>\n",
       "      <td>(Polarity=Neg)</td>\n",
       "    </tr>\n",
       "    <tr>\n",
       "      <th>34</th>\n",
       "      <td>AUX</td>\n",
       "      <td>(Mood=Ind, Number=Sing, Person=3, Tense=Imp, VerbForm=Fin)</td>\n",
       "    </tr>\n",
       "    <tr>\n",
       "      <th>23</th>\n",
       "      <td>CCONJ</td>\n",
       "      <td>()</td>\n",
       "    </tr>\n",
       "    <tr>\n",
       "      <th>24</th>\n",
       "      <td>DET</td>\n",
       "      <td>(Definite=Def, Gender=Fem, Number=Plur, PronType=Art)</td>\n",
       "    </tr>\n",
       "    <tr>\n",
       "      <th>28</th>\n",
       "      <td>DET</td>\n",
       "      <td>(Definite=Def, Gender=Masc, Number=Sing, PronType=Art)</td>\n",
       "    </tr>\n",
       "    <tr>\n",
       "      <th>4</th>\n",
       "      <td>DET</td>\n",
       "      <td>(Definite=Def, Gender=Masc, Number=Plur, PronType=Art)</td>\n",
       "    </tr>\n",
       "    <tr>\n",
       "      <th>15</th>\n",
       "      <td>DET</td>\n",
       "      <td>(Number=Plur, Person=3, Poss=Yes, PronType=Prs)</td>\n",
       "    </tr>\n",
       "    <tr>\n",
       "      <th>16</th>\n",
       "      <td>DET</td>\n",
       "      <td>(Definite=Ind, Gender=Masc, Number=Sing, PronType=Art)</td>\n",
       "    </tr>\n",
       "    <tr>\n",
       "      <th>35</th>\n",
       "      <td>DET</td>\n",
       "      <td>(Number=Sing, PronType=Tot)</td>\n",
       "    </tr>\n",
       "    <tr>\n",
       "      <th>1</th>\n",
       "      <td>DET</td>\n",
       "      <td>(Definite=Def, Gender=Fem, Number=Sing, PronType=Art)</td>\n",
       "    </tr>\n",
       "    <tr>\n",
       "      <th>20</th>\n",
       "      <td>DET</td>\n",
       "      <td>(Number=Sing, Person=3, Poss=Yes, PronType=Prs)</td>\n",
       "    </tr>\n",
       "    <tr>\n",
       "      <th>5</th>\n",
       "      <td>NOUN</td>\n",
       "      <td>()</td>\n",
       "    </tr>\n",
       "    <tr>\n",
       "      <th>31</th>\n",
       "      <td>NOUN</td>\n",
       "      <td>(Gender=Fem, Number=Sing)</td>\n",
       "    </tr>\n",
       "    <tr>\n",
       "      <th>14</th>\n",
       "      <td>NOUN</td>\n",
       "      <td>(Gender=Fem, Number=Plur)</td>\n",
       "    </tr>\n",
       "    <tr>\n",
       "      <th>25</th>\n",
       "      <td>NOUN</td>\n",
       "      <td>(Gender=Masc, Number=Sing)</td>\n",
       "    </tr>\n",
       "    <tr>\n",
       "      <th>33</th>\n",
       "      <td>NOUN</td>\n",
       "      <td>(Gender=Masc, Number=Plur)</td>\n",
       "    </tr>\n",
       "    <tr>\n",
       "      <th>29</th>\n",
       "      <td>PRON</td>\n",
       "      <td>(Case=Acc, Case=Nom, Gender=Fem, Number=Sing, Person=3, PronType=Prs)</td>\n",
       "    </tr>\n",
       "    <tr>\n",
       "      <th>0</th>\n",
       "      <td>PRON</td>\n",
       "      <td>(Case=Acc, Definite=Def, Gender=Masc, Number=Sing, Person=3, PrepCase=Npr, PronType=Prs)</td>\n",
       "    </tr>\n",
       "    <tr>\n",
       "      <th>21</th>\n",
       "      <td>PRON</td>\n",
       "      <td>(Case=Acc, Person=3, PrepCase=Npr, PronType=Prs, Reflex=Yes)</td>\n",
       "    </tr>\n",
       "    <tr>\n",
       "      <th>11</th>\n",
       "      <td>PRON</td>\n",
       "      <td>(Case=Dat, Number=Sing, Person=3, PronType=Prs)</td>\n",
       "    </tr>\n",
       "    <tr>\n",
       "      <th>9</th>\n",
       "      <td>PRON</td>\n",
       "      <td>(PronType=Int, PronType=Rel)</td>\n",
       "    </tr>\n",
       "    <tr>\n",
       "      <th>26</th>\n",
       "      <td>PROPN</td>\n",
       "      <td>()</td>\n",
       "    </tr>\n",
       "    <tr>\n",
       "      <th>36</th>\n",
       "      <td>PUNCT</td>\n",
       "      <td>(PunctType=Comm)</td>\n",
       "    </tr>\n",
       "    <tr>\n",
       "      <th>30</th>\n",
       "      <td>PUNCT</td>\n",
       "      <td>(PunctType=Peri)</td>\n",
       "    </tr>\n",
       "    <tr>\n",
       "      <th>7</th>\n",
       "      <td>SCONJ</td>\n",
       "      <td>()</td>\n",
       "    </tr>\n",
       "    <tr>\n",
       "      <th>27</th>\n",
       "      <td>VERB</td>\n",
       "      <td>(Mood=Ind, Number=Sing, Person=3, Tense=Imp, VerbForm=Fin)</td>\n",
       "    </tr>\n",
       "    <tr>\n",
       "      <th>12</th>\n",
       "      <td>VERB</td>\n",
       "      <td>(Mood=Ind, Number=Plur, Person=3, Tense=Past, VerbForm=Fin)</td>\n",
       "    </tr>\n",
       "    <tr>\n",
       "      <th>10</th>\n",
       "      <td>VERB</td>\n",
       "      <td>(Mood=Sub, Number=Plur, Person=3, Tense=Imp, VerbForm=Fin)</td>\n",
       "    </tr>\n",
       "    <tr>\n",
       "      <th>8</th>\n",
       "      <td>VERB</td>\n",
       "      <td>(Case=Acc, Gender=Fem, Number=Sing, Person=3, PrepCase=Npr, PronType=Prs, VerbForm=Inf)</td>\n",
       "    </tr>\n",
       "    <tr>\n",
       "      <th>3</th>\n",
       "      <td>VERB</td>\n",
       "      <td>(VerbForm=Inf)</td>\n",
       "    </tr>\n",
       "    <tr>\n",
       "      <th>22</th>\n",
       "      <td>VERB</td>\n",
       "      <td>(Mood=Sub, Number=Sing, Person=3, Tense=Imp, VerbForm=Fin)</td>\n",
       "    </tr>\n",
       "    <tr>\n",
       "      <th>18</th>\n",
       "      <td>VERB</td>\n",
       "      <td>(Case=Acc, Person=3, PrepCase=Npr, PronType=Prs, Reflex=Yes, VerbForm=Inf)</td>\n",
       "    </tr>\n",
       "  </tbody>\n",
       "</table>\n",
       "</div>"
      ],
      "text/plain": [
       "      POS  \\\n",
       "37    ADJ   \n",
       "6     ADJ   \n",
       "19    ADP   \n",
       "13    ADP   \n",
       "2     ADV   \n",
       "17    ADV   \n",
       "32    ADV   \n",
       "34    AUX   \n",
       "23  CCONJ   \n",
       "24    DET   \n",
       "28    DET   \n",
       "4     DET   \n",
       "15    DET   \n",
       "16    DET   \n",
       "35    DET   \n",
       "1     DET   \n",
       "20    DET   \n",
       "5    NOUN   \n",
       "31   NOUN   \n",
       "14   NOUN   \n",
       "25   NOUN   \n",
       "33   NOUN   \n",
       "29   PRON   \n",
       "0    PRON   \n",
       "21   PRON   \n",
       "11   PRON   \n",
       "9    PRON   \n",
       "26  PROPN   \n",
       "36  PUNCT   \n",
       "30  PUNCT   \n",
       "7   SCONJ   \n",
       "27   VERB   \n",
       "12   VERB   \n",
       "10   VERB   \n",
       "8    VERB   \n",
       "3    VERB   \n",
       "22   VERB   \n",
       "18   VERB   \n",
       "\n",
       "                                                                                       MORPH  \n",
       "37                                                                (Gender=Masc, Number=Sing)  \n",
       "6                                                                  (Gender=Fem, Number=Sing)  \n",
       "19                                                                                        ()  \n",
       "13                                    (Definite=Def, Gender=Masc, Number=Sing, PronType=Art)  \n",
       "2                                                                               (Degree=Cmp)  \n",
       "17                                                                                        ()  \n",
       "32                                                                            (Polarity=Neg)  \n",
       "34                                (Mood=Ind, Number=Sing, Person=3, Tense=Imp, VerbForm=Fin)  \n",
       "23                                                                                        ()  \n",
       "24                                     (Definite=Def, Gender=Fem, Number=Plur, PronType=Art)  \n",
       "28                                    (Definite=Def, Gender=Masc, Number=Sing, PronType=Art)  \n",
       "4                                     (Definite=Def, Gender=Masc, Number=Plur, PronType=Art)  \n",
       "15                                           (Number=Plur, Person=3, Poss=Yes, PronType=Prs)  \n",
       "16                                    (Definite=Ind, Gender=Masc, Number=Sing, PronType=Art)  \n",
       "35                                                               (Number=Sing, PronType=Tot)  \n",
       "1                                      (Definite=Def, Gender=Fem, Number=Sing, PronType=Art)  \n",
       "20                                           (Number=Sing, Person=3, Poss=Yes, PronType=Prs)  \n",
       "5                                                                                         ()  \n",
       "31                                                                 (Gender=Fem, Number=Sing)  \n",
       "14                                                                 (Gender=Fem, Number=Plur)  \n",
       "25                                                                (Gender=Masc, Number=Sing)  \n",
       "33                                                                (Gender=Masc, Number=Plur)  \n",
       "29                     (Case=Acc, Case=Nom, Gender=Fem, Number=Sing, Person=3, PronType=Prs)  \n",
       "0   (Case=Acc, Definite=Def, Gender=Masc, Number=Sing, Person=3, PrepCase=Npr, PronType=Prs)  \n",
       "21                              (Case=Acc, Person=3, PrepCase=Npr, PronType=Prs, Reflex=Yes)  \n",
       "11                                           (Case=Dat, Number=Sing, Person=3, PronType=Prs)  \n",
       "9                                                               (PronType=Int, PronType=Rel)  \n",
       "26                                                                                        ()  \n",
       "36                                                                          (PunctType=Comm)  \n",
       "30                                                                          (PunctType=Peri)  \n",
       "7                                                                                         ()  \n",
       "27                                (Mood=Ind, Number=Sing, Person=3, Tense=Imp, VerbForm=Fin)  \n",
       "12                               (Mood=Ind, Number=Plur, Person=3, Tense=Past, VerbForm=Fin)  \n",
       "10                                (Mood=Sub, Number=Plur, Person=3, Tense=Imp, VerbForm=Fin)  \n",
       "8    (Case=Acc, Gender=Fem, Number=Sing, Person=3, PrepCase=Npr, PronType=Prs, VerbForm=Inf)  \n",
       "3                                                                             (VerbForm=Inf)  \n",
       "22                                (Mood=Sub, Number=Sing, Person=3, Tense=Imp, VerbForm=Fin)  \n",
       "18                (Case=Acc, Person=3, PrepCase=Npr, PronType=Prs, Reflex=Yes, VerbForm=Inf)  "
      ]
     },
     "execution_count": 137,
     "metadata": {},
     "output_type": "execute_result"
    }
   ],
   "source": [
    "pd.DataFrame(set([(w.pos_, w.morph) for w in parsedData]), columns=['POS', 'MORPH']).sort_values('POS')"
   ]
  },
  {
   "cell_type": "code",
   "execution_count": 138,
   "id": "a6d8407a-e33a-4d8e-9019-ca4e8b5eb7bf",
   "metadata": {},
   "outputs": [
    {
     "data": {
      "text/plain": [
       "'ADP'"
      ]
     },
     "execution_count": 138,
     "metadata": {},
     "output_type": "execute_result"
    }
   ],
   "source": [
    "parsedData[0].pos_"
   ]
  },
  {
   "cell_type": "code",
   "execution_count": 139,
   "id": "9d72688a-9009-4a73-8fbd-30101e32bd7b",
   "metadata": {},
   "outputs": [
    {
     "data": {
      "text/plain": [
       "Definite=Def|Gender=Masc|Number=Sing|PronType=Art"
      ]
     },
     "execution_count": 139,
     "metadata": {},
     "output_type": "execute_result"
    }
   ],
   "source": [
    "parsedData[0].morph"
   ]
  },
  {
   "cell_type": "code",
   "execution_count": 140,
   "id": "dc7fa648-bcd7-4319-bf89-31c87a276168",
   "metadata": {},
   "outputs": [
    {
     "data": {
      "text/plain": [
       "spacy.tokens.morphanalysis.MorphAnalysis"
      ]
     },
     "execution_count": 140,
     "metadata": {},
     "output_type": "execute_result"
    }
   ],
   "source": [
    "type(parsedData[0].morph)"
   ]
  },
  {
   "cell_type": "code",
   "execution_count": 141,
   "id": "5204afb8-dd92-46f1-b62b-8e0f740c4979",
   "metadata": {},
   "outputs": [
    {
     "data": {
      "text/plain": [
       "['from_id', 'get', 'key', 'to_dict', 'to_json', 'vocab']"
      ]
     },
     "execution_count": 141,
     "metadata": {},
     "output_type": "execute_result"
    }
   ],
   "source": [
    "[att for att in dir(parsedData[0].morph) if not att.startswith('_')]"
   ]
  },
  {
   "cell_type": "code",
   "execution_count": 142,
   "id": "e99ad540",
   "metadata": {},
   "outputs": [
    {
     "data": {
      "text/plain": [
       "{'Definite': 'Def', 'Gender': 'Masc', 'Number': 'Sing', 'PronType': 'Art'}"
      ]
     },
     "execution_count": 142,
     "metadata": {},
     "output_type": "execute_result"
    }
   ],
   "source": [
    "parsedData[0].morph.to_dict()"
   ]
  },
  {
   "cell_type": "code",
   "execution_count": 143,
   "id": "6eefd811",
   "metadata": {},
   "outputs": [
    {
     "data": {
      "text/plain": [
       "['Sing']"
      ]
     },
     "execution_count": 143,
     "metadata": {},
     "output_type": "execute_result"
    }
   ],
   "source": [
    "parsedData[0].morph.get('Number')"
   ]
  },
  {
   "cell_type": "code",
   "execution_count": 144,
   "id": "1b9c2734",
   "metadata": {},
   "outputs": [
    {
     "data": {
      "text/plain": [
       "['gustaron', 'las', 'catedrales', 'sus', 'pies', 'despegasen', 'los', 'cielos']"
      ]
     },
     "execution_count": 144,
     "metadata": {},
     "output_type": "execute_result"
    }
   ],
   "source": [
    "#P. ej. palabras en plural\n",
    "[w.text for w in parsedData if 'Number=Plur' in str(w.morph)]"
   ]
  },
  {
   "cell_type": "code",
   "execution_count": 145,
   "id": "ca943ec7",
   "metadata": {},
   "outputs": [
    {
     "data": {
      "text/plain": [
       "['gustaron', 'las', 'catedrales', 'sus', 'pies', 'despegasen', 'los', 'cielos']"
      ]
     },
     "execution_count": 145,
     "metadata": {},
     "output_type": "execute_result"
    }
   ],
   "source": [
    "#Otra manera\n",
    "[w.text for w in parsedData if 'Plur' in w.morph.get('Number')]"
   ]
  },
  {
   "cell_type": "code",
   "execution_count": 146,
   "id": "57fed72a-07f6-43bf-83f9-0f7ca972d7eb",
   "metadata": {},
   "outputs": [
    {
     "data": {
      "text/plain": [
       "['catedrales', 'pies', 'cielos']"
      ]
     },
     "execution_count": 146,
     "metadata": {},
     "output_type": "execute_result"
    }
   ],
   "source": [
    "#P. ej. palabras que son NOMBRE en plural\n",
    "[w.text for w in parsedData if 'Number=Plur' in str(w.morph) and w.pos_==\"NOUN\"]"
   ]
  },
  {
   "cell_type": "code",
   "execution_count": 147,
   "id": "d72db6bb",
   "metadata": {},
   "outputs": [],
   "source": [
    "#palabras que son adjetivo"
   ]
  },
  {
   "attachments": {},
   "cell_type": "markdown",
   "id": "20f3f13b",
   "metadata": {},
   "source": [
    "### Análisis de dependencias (dependency parsing)\n",
    "La librería `spaCy` también analiza las relaciones entre palabras de una frase."
   ]
  },
  {
   "cell_type": "code",
   "execution_count": 148,
   "id": "7289b446",
   "metadata": {},
   "outputs": [
    {
     "data": {
      "text/html": [
       "<div>\n",
       "<style scoped>\n",
       "    .dataframe tbody tr th:only-of-type {\n",
       "        vertical-align: middle;\n",
       "    }\n",
       "\n",
       "    .dataframe tbody tr th {\n",
       "        vertical-align: top;\n",
       "    }\n",
       "\n",
       "    .dataframe thead th {\n",
       "        text-align: right;\n",
       "    }\n",
       "</style>\n",
       "<table border=\"1\" class=\"dataframe\">\n",
       "  <thead>\n",
       "    <tr style=\"text-align: right;\">\n",
       "      <th></th>\n",
       "      <th>texto</th>\n",
       "      <th>dependencia</th>\n",
       "      <th>explicación</th>\n",
       "    </tr>\n",
       "  </thead>\n",
       "  <tbody>\n",
       "    <tr>\n",
       "      <th>0</th>\n",
       "      <td>El</td>\n",
       "      <td>det</td>\n",
       "      <td>determiner</td>\n",
       "    </tr>\n",
       "    <tr>\n",
       "      <th>1</th>\n",
       "      <td>perro</td>\n",
       "      <td>nsubj</td>\n",
       "      <td>nominal subject</td>\n",
       "    </tr>\n",
       "    <tr>\n",
       "      <th>2</th>\n",
       "      <td>de</td>\n",
       "      <td>case</td>\n",
       "      <td>case marking</td>\n",
       "    </tr>\n",
       "    <tr>\n",
       "      <th>3</th>\n",
       "      <td>Juan</td>\n",
       "      <td>nmod</td>\n",
       "      <td>modifier of nominal</td>\n",
       "    </tr>\n",
       "    <tr>\n",
       "      <th>4</th>\n",
       "      <td>se</td>\n",
       "      <td>iobj</td>\n",
       "      <td>indirect object</td>\n",
       "    </tr>\n",
       "    <tr>\n",
       "      <th>5</th>\n",
       "      <td>comió</td>\n",
       "      <td>ROOT</td>\n",
       "      <td>root</td>\n",
       "    </tr>\n",
       "    <tr>\n",
       "      <th>6</th>\n",
       "      <td>mi</td>\n",
       "      <td>det</td>\n",
       "      <td>determiner</td>\n",
       "    </tr>\n",
       "    <tr>\n",
       "      <th>7</th>\n",
       "      <td>bocadillo</td>\n",
       "      <td>obj</td>\n",
       "      <td>object</td>\n",
       "    </tr>\n",
       "    <tr>\n",
       "      <th>8</th>\n",
       "      <td>.</td>\n",
       "      <td>punct</td>\n",
       "      <td>punctuation</td>\n",
       "    </tr>\n",
       "  </tbody>\n",
       "</table>\n",
       "</div>"
      ],
      "text/plain": [
       "       texto dependencia          explicación\n",
       "0         El         det           determiner\n",
       "1      perro       nsubj      nominal subject\n",
       "2         de        case         case marking\n",
       "3       Juan        nmod  modifier of nominal\n",
       "4         se        iobj      indirect object\n",
       "5      comió        ROOT                 root\n",
       "6         mi         det           determiner\n",
       "7  bocadillo         obj               object\n",
       "8          .       punct          punctuation"
      ]
     },
     "execution_count": 148,
     "metadata": {},
     "output_type": "execute_result"
    }
   ],
   "source": [
    "texto2 = \"El perro de Juan se comió mi bocadillo.\"\n",
    "\n",
    "doc = nlp(texto2)\n",
    "dependencias = [(t.text, t.dep_, spacy.explain(t.dep_)) for t in doc]\n",
    "pd.DataFrame(dependencias, columns=['texto', 'dependencia', 'explicación'])"
   ]
  },
  {
   "cell_type": "markdown",
   "id": "781b15bb",
   "metadata": {},
   "source": [
    "Cada palabra tiene un tipo de dependencia determinado dentro de la frase. \n",
    "La lista completa está en https://spacy.io/docs/api/annotation  \n",
    "La dependencia `root` coincide con el atributo `root` de cada sentencia."
   ]
  },
  {
   "cell_type": "code",
   "execution_count": 149,
   "id": "38d4fbd0",
   "metadata": {},
   "outputs": [
    {
     "data": {
      "text/plain": [
       "comió"
      ]
     },
     "execution_count": 149,
     "metadata": {},
     "output_type": "execute_result"
    }
   ],
   "source": [
    "sent=next(doc.sents)\n",
    "sent.root"
   ]
  },
  {
   "attachments": {},
   "cell_type": "markdown",
   "id": "3d2ec065",
   "metadata": {},
   "source": [
    "Cada token tiene una serie de hijos (tokens que dependen gramaticalmente de ese token)."
   ]
  },
  {
   "cell_type": "code",
   "execution_count": 150,
   "id": "c15b2c07",
   "metadata": {},
   "outputs": [
    {
     "data": {
      "text/plain": [
       "[perro, se, bocadillo, .]"
      ]
     },
     "execution_count": 150,
     "metadata": {},
     "output_type": "execute_result"
    }
   ],
   "source": [
    "list(sent.root.children)"
   ]
  },
  {
   "cell_type": "markdown",
   "id": "f5ebea7d",
   "metadata": {},
   "source": [
    "Podemos extender el análisis a cada palabra del texto."
   ]
  },
  {
   "cell_type": "code",
   "execution_count": 151,
   "id": "2d1ffb9d",
   "metadata": {},
   "outputs": [
    {
     "name": "stdout",
     "output_type": "stream",
     "text": [
      "El :  []\n",
      "perro :  [El, Juan]\n",
      "de :  []\n",
      "Juan :  [de]\n",
      "se :  []\n",
      "comió :  [perro, se, bocadillo, .]\n",
      "mi :  []\n",
      "bocadillo :  [mi]\n",
      ". :  []\n"
     ]
    }
   ],
   "source": [
    "for word in sent: \n",
    "    print(word, ': ', str(list(word.children)))"
   ]
  },
  {
   "attachments": {},
   "cell_type": "markdown",
   "id": "bf5f98c7",
   "metadata": {},
   "source": [
    "Además, cada palabra -excepto la raíz- tiene una palabra de la que depende (`.head`). Además las palabras que dependen de ella (`children`) se dividen en palabras a izquierda (`.lefts`) y a derecha (`.rights`)."
   ]
  },
  {
   "cell_type": "code",
   "execution_count": 152,
   "id": "ff5e00e0",
   "metadata": {},
   "outputs": [
    {
     "data": {
      "text/html": [
       "<div>\n",
       "<style scoped>\n",
       "    .dataframe tbody tr th:only-of-type {\n",
       "        vertical-align: middle;\n",
       "    }\n",
       "\n",
       "    .dataframe tbody tr th {\n",
       "        vertical-align: top;\n",
       "    }\n",
       "\n",
       "    .dataframe thead th {\n",
       "        text-align: right;\n",
       "    }\n",
       "</style>\n",
       "<table border=\"1\" class=\"dataframe\">\n",
       "  <thead>\n",
       "    <tr style=\"text-align: right;\">\n",
       "      <th></th>\n",
       "      <th>Palabra</th>\n",
       "      <th>tipo de dependencia</th>\n",
       "      <th>HEAD</th>\n",
       "    </tr>\n",
       "  </thead>\n",
       "  <tbody>\n",
       "    <tr>\n",
       "      <th>0</th>\n",
       "      <td>El</td>\n",
       "      <td>det (determiner)</td>\n",
       "      <td>perro</td>\n",
       "    </tr>\n",
       "    <tr>\n",
       "      <th>1</th>\n",
       "      <td>perro</td>\n",
       "      <td>nsubj (nominal subject)</td>\n",
       "      <td>comió</td>\n",
       "    </tr>\n",
       "    <tr>\n",
       "      <th>2</th>\n",
       "      <td>de</td>\n",
       "      <td>case (case marking)</td>\n",
       "      <td>Juan</td>\n",
       "    </tr>\n",
       "    <tr>\n",
       "      <th>3</th>\n",
       "      <td>Juan</td>\n",
       "      <td>nmod (modifier of nominal)</td>\n",
       "      <td>perro</td>\n",
       "    </tr>\n",
       "    <tr>\n",
       "      <th>4</th>\n",
       "      <td>se</td>\n",
       "      <td>iobj (indirect object)</td>\n",
       "      <td>comió</td>\n",
       "    </tr>\n",
       "    <tr>\n",
       "      <th>5</th>\n",
       "      <td>comió</td>\n",
       "      <td>ROOT (root)</td>\n",
       "      <td>comió</td>\n",
       "    </tr>\n",
       "    <tr>\n",
       "      <th>6</th>\n",
       "      <td>mi</td>\n",
       "      <td>det (determiner)</td>\n",
       "      <td>bocadillo</td>\n",
       "    </tr>\n",
       "    <tr>\n",
       "      <th>7</th>\n",
       "      <td>bocadillo</td>\n",
       "      <td>obj (object)</td>\n",
       "      <td>comió</td>\n",
       "    </tr>\n",
       "    <tr>\n",
       "      <th>8</th>\n",
       "      <td>.</td>\n",
       "      <td>punct (punctuation)</td>\n",
       "      <td>comió</td>\n",
       "    </tr>\n",
       "  </tbody>\n",
       "</table>\n",
       "</div>"
      ],
      "text/plain": [
       "     Palabra         tipo de dependencia       HEAD\n",
       "0         El            det (determiner)      perro\n",
       "1      perro     nsubj (nominal subject)      comió\n",
       "2         de         case (case marking)       Juan\n",
       "3       Juan  nmod (modifier of nominal)      perro\n",
       "4         se      iobj (indirect object)      comió\n",
       "5      comió                 ROOT (root)      comió\n",
       "6         mi            det (determiner)  bocadillo\n",
       "7  bocadillo                obj (object)      comió\n",
       "8          .         punct (punctuation)      comió"
      ]
     },
     "execution_count": 152,
     "metadata": {},
     "output_type": "execute_result"
    }
   ],
   "source": [
    "dependencias = map(lambda t: {\n",
    "    'Palabra': t.orth_,\n",
    "    'tipo de dependencia': f\"{t.dep_} ({spacy.explain(t.dep_)})\",\n",
    "    'HEAD': t.head.orth_},\n",
    "    doc)\n",
    "\n",
    "pd.DataFrame(dependencias)"
   ]
  },
  {
   "cell_type": "code",
   "execution_count": 153,
   "id": "7b3cab24",
   "metadata": {},
   "outputs": [
    {
     "data": {
      "text/html": [
       "<div>\n",
       "<style scoped>\n",
       "    .dataframe tbody tr th:only-of-type {\n",
       "        vertical-align: middle;\n",
       "    }\n",
       "\n",
       "    .dataframe tbody tr th {\n",
       "        vertical-align: top;\n",
       "    }\n",
       "\n",
       "    .dataframe thead th {\n",
       "        text-align: right;\n",
       "    }\n",
       "</style>\n",
       "<table border=\"1\" class=\"dataframe\">\n",
       "  <thead>\n",
       "    <tr style=\"text-align: right;\">\n",
       "      <th></th>\n",
       "      <th>Palabra</th>\n",
       "      <th>tipo de dependencia</th>\n",
       "      <th>HEAD</th>\n",
       "      <th>dep. izquierdas</th>\n",
       "      <th>dep.derechas</th>\n",
       "    </tr>\n",
       "  </thead>\n",
       "  <tbody>\n",
       "    <tr>\n",
       "      <th>0</th>\n",
       "      <td>El</td>\n",
       "      <td>det (determiner)</td>\n",
       "      <td>perro</td>\n",
       "      <td>[]</td>\n",
       "      <td>[]</td>\n",
       "    </tr>\n",
       "    <tr>\n",
       "      <th>1</th>\n",
       "      <td>perro</td>\n",
       "      <td>nsubj (nominal subject)</td>\n",
       "      <td>comió</td>\n",
       "      <td>[El]</td>\n",
       "      <td>[Juan]</td>\n",
       "    </tr>\n",
       "    <tr>\n",
       "      <th>2</th>\n",
       "      <td>de</td>\n",
       "      <td>case (case marking)</td>\n",
       "      <td>Juan</td>\n",
       "      <td>[]</td>\n",
       "      <td>[]</td>\n",
       "    </tr>\n",
       "    <tr>\n",
       "      <th>3</th>\n",
       "      <td>Juan</td>\n",
       "      <td>nmod (modifier of nominal)</td>\n",
       "      <td>perro</td>\n",
       "      <td>[de]</td>\n",
       "      <td>[]</td>\n",
       "    </tr>\n",
       "    <tr>\n",
       "      <th>4</th>\n",
       "      <td>se</td>\n",
       "      <td>iobj (indirect object)</td>\n",
       "      <td>comió</td>\n",
       "      <td>[]</td>\n",
       "      <td>[]</td>\n",
       "    </tr>\n",
       "    <tr>\n",
       "      <th>5</th>\n",
       "      <td>comió</td>\n",
       "      <td>ROOT (root)</td>\n",
       "      <td>comió</td>\n",
       "      <td>[perro, se]</td>\n",
       "      <td>[bocadillo, .]</td>\n",
       "    </tr>\n",
       "    <tr>\n",
       "      <th>6</th>\n",
       "      <td>mi</td>\n",
       "      <td>det (determiner)</td>\n",
       "      <td>bocadillo</td>\n",
       "      <td>[]</td>\n",
       "      <td>[]</td>\n",
       "    </tr>\n",
       "    <tr>\n",
       "      <th>7</th>\n",
       "      <td>bocadillo</td>\n",
       "      <td>obj (object)</td>\n",
       "      <td>comió</td>\n",
       "      <td>[mi]</td>\n",
       "      <td>[]</td>\n",
       "    </tr>\n",
       "    <tr>\n",
       "      <th>8</th>\n",
       "      <td>.</td>\n",
       "      <td>punct (punctuation)</td>\n",
       "      <td>comió</td>\n",
       "      <td>[]</td>\n",
       "      <td>[]</td>\n",
       "    </tr>\n",
       "  </tbody>\n",
       "</table>\n",
       "</div>"
      ],
      "text/plain": [
       "     Palabra         tipo de dependencia       HEAD dep. izquierdas  \\\n",
       "0         El            det (determiner)      perro              []   \n",
       "1      perro     nsubj (nominal subject)      comió            [El]   \n",
       "2         de         case (case marking)       Juan              []   \n",
       "3       Juan  nmod (modifier of nominal)      perro            [de]   \n",
       "4         se      iobj (indirect object)      comió              []   \n",
       "5      comió                 ROOT (root)      comió     [perro, se]   \n",
       "6         mi            det (determiner)  bocadillo              []   \n",
       "7  bocadillo                obj (object)      comió            [mi]   \n",
       "8          .         punct (punctuation)      comió              []   \n",
       "\n",
       "     dep.derechas  \n",
       "0              []  \n",
       "1          [Juan]  \n",
       "2              []  \n",
       "3              []  \n",
       "4              []  \n",
       "5  [bocadillo, .]  \n",
       "6              []  \n",
       "7              []  \n",
       "8              []  "
      ]
     },
     "execution_count": 153,
     "metadata": {},
     "output_type": "execute_result"
    }
   ],
   "source": [
    "dependencias = map(lambda token: {\n",
    "    'Palabra': token.orth_,\n",
    "    'tipo de dependencia': f\"{token.dep_} ({spacy.explain(token.dep_)})\",\n",
    "    'HEAD': token.head.orth_,\n",
    "    'dep. izquierdas': [t.orth_ for t in token.lefts],\n",
    "    'dep.derechas': [t.orth_ for t in token.rights]},\n",
    "    doc)\n",
    "\n",
    "pd.DataFrame(dependencias)"
   ]
  },
  {
   "attachments": {},
   "cell_type": "markdown",
   "id": "b87f5634",
   "metadata": {},
   "source": [
    "Podemos representar gráficamente las dependencias como un árbol con el módulo de visualización `displaCy`:"
   ]
  },
  {
   "cell_type": "code",
   "execution_count": 154,
   "id": "323e57ac",
   "metadata": {},
   "outputs": [
    {
     "data": {
      "text/html": [
       "<span class=\"tex2jax_ignore\"><svg xmlns=\"http://www.w3.org/2000/svg\" xmlns:xlink=\"http://www.w3.org/1999/xlink\" xml:lang=\"es\" id=\"78b9b8de58c8403ea68313d368133f16-0\" class=\"displacy\" width=\"850\" height=\"287.0\" direction=\"ltr\" style=\"max-width: none; height: 287.0px; color: #000000; background: #ffffff; font-family: Arial; direction: ltr\">\n",
       "<text class=\"displacy-token\" fill=\"currentColor\" text-anchor=\"middle\" y=\"197.0\">\n",
       "    <tspan class=\"displacy-word\" fill=\"currentColor\" x=\"50\">El</tspan>\n",
       "    <tspan class=\"displacy-tag\" dy=\"2em\" fill=\"currentColor\" x=\"50\">DET</tspan>\n",
       "</text>\n",
       "\n",
       "<text class=\"displacy-token\" fill=\"currentColor\" text-anchor=\"middle\" y=\"197.0\">\n",
       "    <tspan class=\"displacy-word\" fill=\"currentColor\" x=\"150\">perro</tspan>\n",
       "    <tspan class=\"displacy-tag\" dy=\"2em\" fill=\"currentColor\" x=\"150\">NOUN</tspan>\n",
       "</text>\n",
       "\n",
       "<text class=\"displacy-token\" fill=\"currentColor\" text-anchor=\"middle\" y=\"197.0\">\n",
       "    <tspan class=\"displacy-word\" fill=\"currentColor\" x=\"250\">de</tspan>\n",
       "    <tspan class=\"displacy-tag\" dy=\"2em\" fill=\"currentColor\" x=\"250\">ADP</tspan>\n",
       "</text>\n",
       "\n",
       "<text class=\"displacy-token\" fill=\"currentColor\" text-anchor=\"middle\" y=\"197.0\">\n",
       "    <tspan class=\"displacy-word\" fill=\"currentColor\" x=\"350\">Juan</tspan>\n",
       "    <tspan class=\"displacy-tag\" dy=\"2em\" fill=\"currentColor\" x=\"350\">PROPN</tspan>\n",
       "</text>\n",
       "\n",
       "<text class=\"displacy-token\" fill=\"currentColor\" text-anchor=\"middle\" y=\"197.0\">\n",
       "    <tspan class=\"displacy-word\" fill=\"currentColor\" x=\"450\">se</tspan>\n",
       "    <tspan class=\"displacy-tag\" dy=\"2em\" fill=\"currentColor\" x=\"450\">PRON</tspan>\n",
       "</text>\n",
       "\n",
       "<text class=\"displacy-token\" fill=\"currentColor\" text-anchor=\"middle\" y=\"197.0\">\n",
       "    <tspan class=\"displacy-word\" fill=\"currentColor\" x=\"550\">comió</tspan>\n",
       "    <tspan class=\"displacy-tag\" dy=\"2em\" fill=\"currentColor\" x=\"550\">VERB</tspan>\n",
       "</text>\n",
       "\n",
       "<text class=\"displacy-token\" fill=\"currentColor\" text-anchor=\"middle\" y=\"197.0\">\n",
       "    <tspan class=\"displacy-word\" fill=\"currentColor\" x=\"650\">mi</tspan>\n",
       "    <tspan class=\"displacy-tag\" dy=\"2em\" fill=\"currentColor\" x=\"650\">DET</tspan>\n",
       "</text>\n",
       "\n",
       "<text class=\"displacy-token\" fill=\"currentColor\" text-anchor=\"middle\" y=\"197.0\">\n",
       "    <tspan class=\"displacy-word\" fill=\"currentColor\" x=\"750\">bocadillo.</tspan>\n",
       "    <tspan class=\"displacy-tag\" dy=\"2em\" fill=\"currentColor\" x=\"750\">NOUN</tspan>\n",
       "</text>\n",
       "\n",
       "<g class=\"displacy-arrow\">\n",
       "    <path class=\"displacy-arc\" id=\"arrow-78b9b8de58c8403ea68313d368133f16-0-0\" stroke-width=\"2px\" d=\"M70,152.0 C70,102.0 140.0,102.0 140.0,152.0\" fill=\"none\" stroke=\"currentColor\"/>\n",
       "    <text dy=\"1.25em\" style=\"font-size: 0.8em; letter-spacing: 1px\">\n",
       "        <textPath xlink:href=\"#arrow-78b9b8de58c8403ea68313d368133f16-0-0\" class=\"displacy-label\" startOffset=\"50%\" side=\"left\" fill=\"currentColor\" text-anchor=\"middle\">det</textPath>\n",
       "    </text>\n",
       "    <path class=\"displacy-arrowhead\" d=\"M70,154.0 L62,142.0 78,142.0\" fill=\"currentColor\"/>\n",
       "</g>\n",
       "\n",
       "<g class=\"displacy-arrow\">\n",
       "    <path class=\"displacy-arc\" id=\"arrow-78b9b8de58c8403ea68313d368133f16-0-1\" stroke-width=\"2px\" d=\"M170,152.0 C170,2.0 550.0,2.0 550.0,152.0\" fill=\"none\" stroke=\"currentColor\"/>\n",
       "    <text dy=\"1.25em\" style=\"font-size: 0.8em; letter-spacing: 1px\">\n",
       "        <textPath xlink:href=\"#arrow-78b9b8de58c8403ea68313d368133f16-0-1\" class=\"displacy-label\" startOffset=\"50%\" side=\"left\" fill=\"currentColor\" text-anchor=\"middle\">nsubj</textPath>\n",
       "    </text>\n",
       "    <path class=\"displacy-arrowhead\" d=\"M170,154.0 L162,142.0 178,142.0\" fill=\"currentColor\"/>\n",
       "</g>\n",
       "\n",
       "<g class=\"displacy-arrow\">\n",
       "    <path class=\"displacy-arc\" id=\"arrow-78b9b8de58c8403ea68313d368133f16-0-2\" stroke-width=\"2px\" d=\"M270,152.0 C270,102.0 340.0,102.0 340.0,152.0\" fill=\"none\" stroke=\"currentColor\"/>\n",
       "    <text dy=\"1.25em\" style=\"font-size: 0.8em; letter-spacing: 1px\">\n",
       "        <textPath xlink:href=\"#arrow-78b9b8de58c8403ea68313d368133f16-0-2\" class=\"displacy-label\" startOffset=\"50%\" side=\"left\" fill=\"currentColor\" text-anchor=\"middle\">case</textPath>\n",
       "    </text>\n",
       "    <path class=\"displacy-arrowhead\" d=\"M270,154.0 L262,142.0 278,142.0\" fill=\"currentColor\"/>\n",
       "</g>\n",
       "\n",
       "<g class=\"displacy-arrow\">\n",
       "    <path class=\"displacy-arc\" id=\"arrow-78b9b8de58c8403ea68313d368133f16-0-3\" stroke-width=\"2px\" d=\"M170,152.0 C170,52.0 345.0,52.0 345.0,152.0\" fill=\"none\" stroke=\"currentColor\"/>\n",
       "    <text dy=\"1.25em\" style=\"font-size: 0.8em; letter-spacing: 1px\">\n",
       "        <textPath xlink:href=\"#arrow-78b9b8de58c8403ea68313d368133f16-0-3\" class=\"displacy-label\" startOffset=\"50%\" side=\"left\" fill=\"currentColor\" text-anchor=\"middle\">nmod</textPath>\n",
       "    </text>\n",
       "    <path class=\"displacy-arrowhead\" d=\"M345.0,154.0 L353.0,142.0 337.0,142.0\" fill=\"currentColor\"/>\n",
       "</g>\n",
       "\n",
       "<g class=\"displacy-arrow\">\n",
       "    <path class=\"displacy-arc\" id=\"arrow-78b9b8de58c8403ea68313d368133f16-0-4\" stroke-width=\"2px\" d=\"M470,152.0 C470,102.0 540.0,102.0 540.0,152.0\" fill=\"none\" stroke=\"currentColor\"/>\n",
       "    <text dy=\"1.25em\" style=\"font-size: 0.8em; letter-spacing: 1px\">\n",
       "        <textPath xlink:href=\"#arrow-78b9b8de58c8403ea68313d368133f16-0-4\" class=\"displacy-label\" startOffset=\"50%\" side=\"left\" fill=\"currentColor\" text-anchor=\"middle\">iobj</textPath>\n",
       "    </text>\n",
       "    <path class=\"displacy-arrowhead\" d=\"M470,154.0 L462,142.0 478,142.0\" fill=\"currentColor\"/>\n",
       "</g>\n",
       "\n",
       "<g class=\"displacy-arrow\">\n",
       "    <path class=\"displacy-arc\" id=\"arrow-78b9b8de58c8403ea68313d368133f16-0-5\" stroke-width=\"2px\" d=\"M670,152.0 C670,102.0 740.0,102.0 740.0,152.0\" fill=\"none\" stroke=\"currentColor\"/>\n",
       "    <text dy=\"1.25em\" style=\"font-size: 0.8em; letter-spacing: 1px\">\n",
       "        <textPath xlink:href=\"#arrow-78b9b8de58c8403ea68313d368133f16-0-5\" class=\"displacy-label\" startOffset=\"50%\" side=\"left\" fill=\"currentColor\" text-anchor=\"middle\">det</textPath>\n",
       "    </text>\n",
       "    <path class=\"displacy-arrowhead\" d=\"M670,154.0 L662,142.0 678,142.0\" fill=\"currentColor\"/>\n",
       "</g>\n",
       "\n",
       "<g class=\"displacy-arrow\">\n",
       "    <path class=\"displacy-arc\" id=\"arrow-78b9b8de58c8403ea68313d368133f16-0-6\" stroke-width=\"2px\" d=\"M570,152.0 C570,52.0 745.0,52.0 745.0,152.0\" fill=\"none\" stroke=\"currentColor\"/>\n",
       "    <text dy=\"1.25em\" style=\"font-size: 0.8em; letter-spacing: 1px\">\n",
       "        <textPath xlink:href=\"#arrow-78b9b8de58c8403ea68313d368133f16-0-6\" class=\"displacy-label\" startOffset=\"50%\" side=\"left\" fill=\"currentColor\" text-anchor=\"middle\">obj</textPath>\n",
       "    </text>\n",
       "    <path class=\"displacy-arrowhead\" d=\"M745.0,154.0 L753.0,142.0 737.0,142.0\" fill=\"currentColor\"/>\n",
       "</g>\n",
       "</svg></span>"
      ],
      "text/plain": [
       "<IPython.core.display.HTML object>"
      ]
     },
     "metadata": {},
     "output_type": "display_data"
    }
   ],
   "source": [
    "from spacy import displacy\n",
    "\n",
    "displacy.render(doc, style='dep', jupyter=True, options={'distance':100})"
   ]
  },
  {
   "cell_type": "markdown",
   "id": "3520e440",
   "metadata": {},
   "source": [
    "También se pueden obtener los **sintagmas nominales** (*noun phrases*) de la oración. Cada NP tiene un sustantivo como raíz, acompañado ocasionalmente de las palabras que describen el sustantivo.  "
   ]
  },
  {
   "cell_type": "code",
   "execution_count": 155,
   "id": "8c58ebda",
   "metadata": {},
   "outputs": [
    {
     "data": {
      "text/html": [
       "<div>\n",
       "<style scoped>\n",
       "    .dataframe tbody tr th:only-of-type {\n",
       "        vertical-align: middle;\n",
       "    }\n",
       "\n",
       "    .dataframe tbody tr th {\n",
       "        vertical-align: top;\n",
       "    }\n",
       "\n",
       "    .dataframe thead th {\n",
       "        text-align: right;\n",
       "    }\n",
       "</style>\n",
       "<table border=\"1\" class=\"dataframe\">\n",
       "  <thead>\n",
       "    <tr style=\"text-align: right;\">\n",
       "      <th></th>\n",
       "      <th>NP</th>\n",
       "      <th>root</th>\n",
       "      <th>Dep.</th>\n",
       "      <th>head</th>\n",
       "    </tr>\n",
       "  </thead>\n",
       "  <tbody>\n",
       "    <tr>\n",
       "      <th>0</th>\n",
       "      <td>El perro</td>\n",
       "      <td>perro</td>\n",
       "      <td>nsubj</td>\n",
       "      <td>comió</td>\n",
       "    </tr>\n",
       "    <tr>\n",
       "      <th>1</th>\n",
       "      <td>Juan</td>\n",
       "      <td>Juan</td>\n",
       "      <td>nmod</td>\n",
       "      <td>perro</td>\n",
       "    </tr>\n",
       "    <tr>\n",
       "      <th>2</th>\n",
       "      <td>mi bocadillo</td>\n",
       "      <td>bocadillo</td>\n",
       "      <td>obj</td>\n",
       "      <td>comió</td>\n",
       "    </tr>\n",
       "  </tbody>\n",
       "</table>\n",
       "</div>"
      ],
      "text/plain": [
       "             NP       root   Dep.   head\n",
       "0      El perro      perro  nsubj  comió\n",
       "1          Juan       Juan   nmod  perro\n",
       "2  mi bocadillo  bocadillo    obj  comió"
      ]
     },
     "execution_count": 155,
     "metadata": {},
     "output_type": "execute_result"
    }
   ],
   "source": [
    "chunks = map(lambda chunk: {'NP': chunk.text,\n",
    "                            'root': chunk.root.text,\n",
    "                            'Dep.': chunk.root.dep_,\n",
    "                            'head': chunk.root.head.text},\n",
    "             doc.noun_chunks)\n",
    "\n",
    "pd.DataFrame(chunks)"
   ]
  },
  {
   "cell_type": "markdown",
   "id": "40122872",
   "metadata": {},
   "source": [
    "# Búsqueda de patrones\n",
    "Spacy tiene una clase `Matcher` que permite buscar tokens con un patrón definido dentro de los objetos `Doc`.  \n",
    "Se puede buscar por el texto del token o por atributos del token.  \n",
    "Ref: https://spacy.io/usage/rule-based-matching"
   ]
  },
  {
   "cell_type": "code",
   "execution_count": 156,
   "id": "3fb228f3",
   "metadata": {},
   "outputs": [],
   "source": [
    "from spacy.matcher import Matcher\n",
    "\n",
    "#inicializamos sobre el vocabulario\n",
    "matcher = Matcher(nlp.vocab)"
   ]
  },
  {
   "cell_type": "code",
   "execution_count": 157,
   "id": "661d59cf",
   "metadata": {},
   "outputs": [
    {
     "name": "stdout",
     "output_type": "stream",
     "text": [
      "iPhone X\n"
     ]
    }
   ],
   "source": [
    "#definimos un patrón de texto a buscar\n",
    "patron = [{\"TEXT\": \"iPhone\"}, {\"TEXT\": \"X\"}] #Patrón: texto 'iPhone' seguido de texto 'X'\n",
    "matcher.add(\"iphone_x\", [patron])\n",
    "\n",
    "#procesamos un documento con el patrón\n",
    "doc = nlp(\"El iPhone X salió después del iPhone 8, y nunca sacaron el iPhone 9\")\n",
    "\n",
    "#llamamos al matcher\n",
    "matches = matcher(doc)\n",
    "\n",
    "#iteramos sobre los resultados\n",
    "for match_id, start, end in matches:\n",
    "    matched_span = doc[start:end]\n",
    "    print(matched_span.text)"
   ]
  },
  {
   "cell_type": "code",
   "execution_count": 158,
   "id": "31e81d34-4d63-47c1-9522-8b56f893d33e",
   "metadata": {},
   "outputs": [
    {
     "data": {
      "text/plain": [
       "[(1738708750870670527, 1, 3)]"
      ]
     },
     "execution_count": 158,
     "metadata": {},
     "output_type": "execute_result"
    }
   ],
   "source": [
    "matches"
   ]
  },
  {
   "cell_type": "code",
   "execution_count": 159,
   "id": "270d648b-6a97-4a12-bdad-36484cd5b706",
   "metadata": {},
   "outputs": [
    {
     "data": {
      "text/plain": [
       "'iphone_x'"
      ]
     },
     "execution_count": 159,
     "metadata": {},
     "output_type": "execute_result"
    }
   ],
   "source": [
    "nlp.vocab.strings[matches[0][0]]"
   ]
  },
  {
   "cell_type": "code",
   "execution_count": 160,
   "id": "e8554d8c-f03e-422e-b08f-bbf50c815927",
   "metadata": {},
   "outputs": [
    {
     "data": {
      "text/plain": [
       "spacy.tokens.span.Span"
      ]
     },
     "execution_count": 160,
     "metadata": {},
     "output_type": "execute_result"
    }
   ],
   "source": [
    "type(matched_span)"
   ]
  },
  {
   "cell_type": "markdown",
   "id": "4de12665",
   "metadata": {},
   "source": [
    "Podemos buscar por atributos del token:"
   ]
  },
  {
   "cell_type": "code",
   "execution_count": 161,
   "id": "6502027e",
   "metadata": {},
   "outputs": [
    {
     "name": "stdout",
     "output_type": "stream",
     "text": [
      "Patrón: iphone_x, match: iPhone X\n",
      "Patrón: iphone_DD, match: iPhone 8\n",
      "Patrón: iphone_DD, match: iPhone 9\n"
     ]
    }
   ],
   "source": [
    "#Patrón: texto 'iPhone' seguido token con la atributo 'IS_DIGIT' a True\n",
    "patron = [{\"TEXT\": \"iPhone\"}, {\"IS_DIGIT\": True}]\n",
    "matcher.add(\"iphone_DD\", [patron])\n",
    "\n",
    "#llamamos al matcher\n",
    "matches = matcher(doc)\n",
    "\n",
    "#iteramos sobre los resultados\n",
    "for match_id, start, end in matches:\n",
    "    matched_span = doc[start:end] #span del match en el documento\n",
    "    string_id = nlp.vocab.strings[match_id] #identificador del match\n",
    "    print(f\"Patrón: {string_id}, match: {matched_span.text}\")"
   ]
  },
  {
   "cell_type": "code",
   "execution_count": 162,
   "id": "4e6ba868-6512-4717-824f-12081298467e",
   "metadata": {},
   "outputs": [
    {
     "data": {
      "text/plain": [
       "[(1738708750870670527, 1, 3),\n",
       " (8955871054418582609, 6, 8),\n",
       " (8955871054418582609, 13, 15)]"
      ]
     },
     "execution_count": 162,
     "metadata": {},
     "output_type": "execute_result"
    }
   ],
   "source": [
    "matches"
   ]
  },
  {
   "cell_type": "code",
   "execution_count": 163,
   "id": "0108fb63",
   "metadata": {},
   "outputs": [
    {
     "name": "stdout",
     "output_type": "stream",
     "text": [
      "Patrón: patron_gustar_verbo, match: gusta bailar\n",
      "Patrón: patron_gustar_verbo, match: gustaría tocar\n",
      "Patrón: iphone_x, match: iPhone X\n"
     ]
    }
   ],
   "source": [
    "doc = nlp(\"A mí me gusta bailar y a Pedro le gustaría tocar la trompeta, pero no me gustaba María y sí me gustó el iPhone X\")\n",
    "\n",
    "patron = [{\"LEMMA\": \"gustar\"}, {\"POS\": \"VERB\"}]\n",
    "matcher.add(\"patron_gustar_verbo\", [patron])\n",
    "#llamamos al matcher\n",
    "matches = matcher(doc)\n",
    "\n",
    "#iteramos sobre el resultado\n",
    "for match_id, start, end in matches:\n",
    "    matched_span = doc[start:end] #span del match en el documento\n",
    "    string_id = nlp.vocab.strings[match_id] #identificador del match\n",
    "    print(f\"Patrón: {string_id}, match: {matched_span.text}\")"
   ]
  },
  {
   "attachments": {},
   "cell_type": "markdown",
   "id": "98f4e46e",
   "metadata": {},
   "source": [
    "# Explorando las entidades propias (Named Entities)\n",
    "La librería `spaCy` identifica las entidades propias que aparecen en el texto. Podemos acceder a las entidades de un documento a través de su atributo `doc.ents` (objeto de tipo Tupla).  \n",
    "Por ejemplo en el artículo cargado hay las siguientes entidades:"
   ]
  },
  {
   "cell_type": "code",
   "execution_count": 164,
   "id": "0ceeb370",
   "metadata": {},
   "outputs": [
    {
     "name": "stdout",
     "output_type": "stream",
     "text": [
      "La Policía Nacional, en colaboración con la policía marroquí, ha desarticulado una \"importante y peligrosa\" célula del Estado Islámico (ISIS, en sus siglas en inglés) que pretendía impulsar atentados yihadistas en España y en otros países de Europa: \"Tenía como objetivo materializar la estrategia de la organización terrorista en occidente\", aseguran fuentes de la investigación, que aseguran que estaban en contacto con yihadistas ubicados en Siria. Los agentes de la Comisaría General de Información (CGI) y los de la Dirección General de Vigilancia del Territorio del Reino de Marruecos (DGST) han detenido en total a cinco personas, dos en España, en las localidades de Lorca (Murcia) y Abadiño (Bizkaia); y otras tres en Marruecos, que integraban la red de la organización terrorista.\n"
     ]
    }
   ],
   "source": [
    "# Cargamos un archivo de texto y exploramos sus entidades\n",
    "with open('articulo.txt', 'r', encoding = 'utf-8') as f:\n",
    "    texto_raw = f.read()\n",
    "print(texto_raw)"
   ]
  },
  {
   "cell_type": "code",
   "execution_count": 165,
   "id": "c4d50d80",
   "metadata": {},
   "outputs": [],
   "source": [
    "doc = nlp(texto_raw)"
   ]
  },
  {
   "cell_type": "markdown",
   "id": "017f7e49",
   "metadata": {},
   "source": [
    "El atributo `doc.ents` devuelve una tupla con las entidades del documento (objetos de tipo `Span`)"
   ]
  },
  {
   "cell_type": "code",
   "execution_count": 166,
   "id": "9221ed6d",
   "metadata": {},
   "outputs": [
    {
     "data": {
      "text/plain": [
       "tuple"
      ]
     },
     "execution_count": 166,
     "metadata": {},
     "output_type": "execute_result"
    }
   ],
   "source": [
    "type(doc.ents)"
   ]
  },
  {
   "cell_type": "code",
   "execution_count": 167,
   "id": "13f77c2d",
   "metadata": {},
   "outputs": [
    {
     "data": {
      "text/plain": [
       "15"
      ]
     },
     "execution_count": 167,
     "metadata": {},
     "output_type": "execute_result"
    }
   ],
   "source": [
    "len(doc.ents)"
   ]
  },
  {
   "cell_type": "code",
   "execution_count": 168,
   "id": "8e26c7f6-7347-4d43-8fa8-b589bf7f141d",
   "metadata": {},
   "outputs": [
    {
     "data": {
      "text/plain": [
       "(Policía Nacional,\n",
       " Estado Islámico,\n",
       " España,\n",
       " Europa,\n",
       " Siria,\n",
       " Los agentes de la,\n",
       " Comisaría General de Información,\n",
       " Dirección General de Vigilancia del Territorio,\n",
       " Reino de Marruecos,\n",
       " España,\n",
       " Lorca,\n",
       " Murcia,\n",
       " Abadiño,\n",
       " Bizkaia,\n",
       " Marruecos)"
      ]
     },
     "execution_count": 168,
     "metadata": {},
     "output_type": "execute_result"
    }
   ],
   "source": [
    "doc.ents"
   ]
  },
  {
   "cell_type": "code",
   "execution_count": 169,
   "id": "afc66be5-693c-46e3-ba1b-0a4db6258a33",
   "metadata": {},
   "outputs": [
    {
     "data": {
      "text/plain": [
       "spacy.tokens.span.Span"
      ]
     },
     "execution_count": 169,
     "metadata": {},
     "output_type": "execute_result"
    }
   ],
   "source": [
    "type(doc.ents[0])"
   ]
  },
  {
   "cell_type": "code",
   "execution_count": 170,
   "id": "6a05f64f",
   "metadata": {},
   "outputs": [
    {
     "data": {
      "text/html": [
       "<div>\n",
       "<style scoped>\n",
       "    .dataframe tbody tr th:only-of-type {\n",
       "        vertical-align: middle;\n",
       "    }\n",
       "\n",
       "    .dataframe tbody tr th {\n",
       "        vertical-align: top;\n",
       "    }\n",
       "\n",
       "    .dataframe thead th {\n",
       "        text-align: right;\n",
       "    }\n",
       "</style>\n",
       "<table border=\"1\" class=\"dataframe\">\n",
       "  <thead>\n",
       "    <tr style=\"text-align: right;\">\n",
       "      <th></th>\n",
       "      <th>entidad</th>\n",
       "      <th>tipo</th>\n",
       "    </tr>\n",
       "  </thead>\n",
       "  <tbody>\n",
       "    <tr>\n",
       "      <th>0</th>\n",
       "      <td>Policía Nacional</td>\n",
       "      <td>ORG</td>\n",
       "    </tr>\n",
       "    <tr>\n",
       "      <th>1</th>\n",
       "      <td>Estado Islámico</td>\n",
       "      <td>ORG</td>\n",
       "    </tr>\n",
       "    <tr>\n",
       "      <th>2</th>\n",
       "      <td>España</td>\n",
       "      <td>LOC</td>\n",
       "    </tr>\n",
       "    <tr>\n",
       "      <th>3</th>\n",
       "      <td>Europa</td>\n",
       "      <td>LOC</td>\n",
       "    </tr>\n",
       "    <tr>\n",
       "      <th>4</th>\n",
       "      <td>Siria</td>\n",
       "      <td>LOC</td>\n",
       "    </tr>\n",
       "    <tr>\n",
       "      <th>5</th>\n",
       "      <td>Los agentes de la</td>\n",
       "      <td>MISC</td>\n",
       "    </tr>\n",
       "    <tr>\n",
       "      <th>6</th>\n",
       "      <td>Comisaría General de Información</td>\n",
       "      <td>ORG</td>\n",
       "    </tr>\n",
       "    <tr>\n",
       "      <th>7</th>\n",
       "      <td>Dirección General de Vigilancia del Territorio</td>\n",
       "      <td>ORG</td>\n",
       "    </tr>\n",
       "    <tr>\n",
       "      <th>8</th>\n",
       "      <td>Reino de Marruecos</td>\n",
       "      <td>LOC</td>\n",
       "    </tr>\n",
       "    <tr>\n",
       "      <th>9</th>\n",
       "      <td>España</td>\n",
       "      <td>LOC</td>\n",
       "    </tr>\n",
       "    <tr>\n",
       "      <th>10</th>\n",
       "      <td>Lorca</td>\n",
       "      <td>LOC</td>\n",
       "    </tr>\n",
       "    <tr>\n",
       "      <th>11</th>\n",
       "      <td>Murcia</td>\n",
       "      <td>LOC</td>\n",
       "    </tr>\n",
       "    <tr>\n",
       "      <th>12</th>\n",
       "      <td>Abadiño</td>\n",
       "      <td>LOC</td>\n",
       "    </tr>\n",
       "    <tr>\n",
       "      <th>13</th>\n",
       "      <td>Bizkaia</td>\n",
       "      <td>LOC</td>\n",
       "    </tr>\n",
       "    <tr>\n",
       "      <th>14</th>\n",
       "      <td>Marruecos</td>\n",
       "      <td>LOC</td>\n",
       "    </tr>\n",
       "  </tbody>\n",
       "</table>\n",
       "</div>"
      ],
      "text/plain": [
       "                                           entidad  tipo\n",
       "0                                 Policía Nacional   ORG\n",
       "1                                  Estado Islámico   ORG\n",
       "2                                           España   LOC\n",
       "3                                           Europa   LOC\n",
       "4                                            Siria   LOC\n",
       "5                                Los agentes de la  MISC\n",
       "6                 Comisaría General de Información   ORG\n",
       "7   Dirección General de Vigilancia del Territorio   ORG\n",
       "8                               Reino de Marruecos   LOC\n",
       "9                                           España   LOC\n",
       "10                                           Lorca   LOC\n",
       "11                                          Murcia   LOC\n",
       "12                                         Abadiño   LOC\n",
       "13                                         Bizkaia   LOC\n",
       "14                                       Marruecos   LOC"
      ]
     },
     "execution_count": 170,
     "metadata": {},
     "output_type": "execute_result"
    }
   ],
   "source": [
    "entities = [(e.text, e.label_) for e in doc.ents]\n",
    "pd.DataFrame(list(entities), columns=['entidad', 'tipo'])"
   ]
  },
  {
   "cell_type": "markdown",
   "id": "c129cb81",
   "metadata": {},
   "source": [
    "Los tipos de entidades que aparecen en el documento son:  "
   ]
  },
  {
   "cell_type": "code",
   "execution_count": 171,
   "id": "33c83495",
   "metadata": {},
   "outputs": [
    {
     "data": {
      "text/plain": [
       "{'ORG': 'Companies, agencies, institutions, etc.',\n",
       " 'LOC': 'Non-GPE locations, mountain ranges, bodies of water',\n",
       " 'MISC': 'Miscellaneous entities, e.g. events, nationalities, products or works of art'}"
      ]
     },
     "execution_count": 171,
     "metadata": {},
     "output_type": "execute_result"
    }
   ],
   "source": [
    "{w.label_:spacy.explain(w.label_) for w in doc.ents}"
   ]
  },
  {
   "cell_type": "markdown",
   "id": "389487cf",
   "metadata": {},
   "source": [
    "Podemos visualizar gráficamente las entidades en su contexto con displaCy:"
   ]
  },
  {
   "cell_type": "code",
   "execution_count": 172,
   "id": "61b3f194",
   "metadata": {},
   "outputs": [
    {
     "data": {
      "text/html": [
       "<span class=\"tex2jax_ignore\"><div class=\"entities\" style=\"line-height: 2.5; direction: ltr\">La \n",
       "<mark class=\"entity\" style=\"background: #7aecec; padding: 0.45em 0.6em; margin: 0 0.25em; line-height: 1; border-radius: 0.35em;\">\n",
       "    Policía Nacional\n",
       "    <span style=\"font-size: 0.8em; font-weight: bold; line-height: 1; border-radius: 0.35em; vertical-align: middle; margin-left: 0.5rem\">ORG</span>\n",
       "</mark>\n",
       ", en colaboración con la policía marroquí, ha desarticulado una &quot;importante y peligrosa&quot; célula del \n",
       "<mark class=\"entity\" style=\"background: #7aecec; padding: 0.45em 0.6em; margin: 0 0.25em; line-height: 1; border-radius: 0.35em;\">\n",
       "    Estado Islámico\n",
       "    <span style=\"font-size: 0.8em; font-weight: bold; line-height: 1; border-radius: 0.35em; vertical-align: middle; margin-left: 0.5rem\">ORG</span>\n",
       "</mark>\n",
       " (ISIS, en sus siglas en inglés) que pretendía impulsar atentados yihadistas en \n",
       "<mark class=\"entity\" style=\"background: #ff9561; padding: 0.45em 0.6em; margin: 0 0.25em; line-height: 1; border-radius: 0.35em;\">\n",
       "    España\n",
       "    <span style=\"font-size: 0.8em; font-weight: bold; line-height: 1; border-radius: 0.35em; vertical-align: middle; margin-left: 0.5rem\">LOC</span>\n",
       "</mark>\n",
       " y en otros países de \n",
       "<mark class=\"entity\" style=\"background: #ff9561; padding: 0.45em 0.6em; margin: 0 0.25em; line-height: 1; border-radius: 0.35em;\">\n",
       "    Europa\n",
       "    <span style=\"font-size: 0.8em; font-weight: bold; line-height: 1; border-radius: 0.35em; vertical-align: middle; margin-left: 0.5rem\">LOC</span>\n",
       "</mark>\n",
       ": &quot;Tenía como objetivo materializar la estrategia de la organización terrorista en occidente&quot;, aseguran fuentes de la investigación, que aseguran que estaban en contacto con yihadistas ubicados en \n",
       "<mark class=\"entity\" style=\"background: #ff9561; padding: 0.45em 0.6em; margin: 0 0.25em; line-height: 1; border-radius: 0.35em;\">\n",
       "    Siria\n",
       "    <span style=\"font-size: 0.8em; font-weight: bold; line-height: 1; border-radius: 0.35em; vertical-align: middle; margin-left: 0.5rem\">LOC</span>\n",
       "</mark>\n",
       ". \n",
       "<mark class=\"entity\" style=\"background: #ddd; padding: 0.45em 0.6em; margin: 0 0.25em; line-height: 1; border-radius: 0.35em;\">\n",
       "    Los agentes de la\n",
       "    <span style=\"font-size: 0.8em; font-weight: bold; line-height: 1; border-radius: 0.35em; vertical-align: middle; margin-left: 0.5rem\">MISC</span>\n",
       "</mark>\n",
       " \n",
       "<mark class=\"entity\" style=\"background: #7aecec; padding: 0.45em 0.6em; margin: 0 0.25em; line-height: 1; border-radius: 0.35em;\">\n",
       "    Comisaría General de Información\n",
       "    <span style=\"font-size: 0.8em; font-weight: bold; line-height: 1; border-radius: 0.35em; vertical-align: middle; margin-left: 0.5rem\">ORG</span>\n",
       "</mark>\n",
       " (CGI) y los de la \n",
       "<mark class=\"entity\" style=\"background: #7aecec; padding: 0.45em 0.6em; margin: 0 0.25em; line-height: 1; border-radius: 0.35em;\">\n",
       "    Dirección General de Vigilancia del Territorio\n",
       "    <span style=\"font-size: 0.8em; font-weight: bold; line-height: 1; border-radius: 0.35em; vertical-align: middle; margin-left: 0.5rem\">ORG</span>\n",
       "</mark>\n",
       " del \n",
       "<mark class=\"entity\" style=\"background: #ff9561; padding: 0.45em 0.6em; margin: 0 0.25em; line-height: 1; border-radius: 0.35em;\">\n",
       "    Reino de Marruecos\n",
       "    <span style=\"font-size: 0.8em; font-weight: bold; line-height: 1; border-radius: 0.35em; vertical-align: middle; margin-left: 0.5rem\">LOC</span>\n",
       "</mark>\n",
       " (DGST) han detenido en total a cinco personas, dos en \n",
       "<mark class=\"entity\" style=\"background: #ff9561; padding: 0.45em 0.6em; margin: 0 0.25em; line-height: 1; border-radius: 0.35em;\">\n",
       "    España\n",
       "    <span style=\"font-size: 0.8em; font-weight: bold; line-height: 1; border-radius: 0.35em; vertical-align: middle; margin-left: 0.5rem\">LOC</span>\n",
       "</mark>\n",
       ", en las localidades de \n",
       "<mark class=\"entity\" style=\"background: #ff9561; padding: 0.45em 0.6em; margin: 0 0.25em; line-height: 1; border-radius: 0.35em;\">\n",
       "    Lorca\n",
       "    <span style=\"font-size: 0.8em; font-weight: bold; line-height: 1; border-radius: 0.35em; vertical-align: middle; margin-left: 0.5rem\">LOC</span>\n",
       "</mark>\n",
       " (\n",
       "<mark class=\"entity\" style=\"background: #ff9561; padding: 0.45em 0.6em; margin: 0 0.25em; line-height: 1; border-radius: 0.35em;\">\n",
       "    Murcia\n",
       "    <span style=\"font-size: 0.8em; font-weight: bold; line-height: 1; border-radius: 0.35em; vertical-align: middle; margin-left: 0.5rem\">LOC</span>\n",
       "</mark>\n",
       ") y \n",
       "<mark class=\"entity\" style=\"background: #ff9561; padding: 0.45em 0.6em; margin: 0 0.25em; line-height: 1; border-radius: 0.35em;\">\n",
       "    Abadiño\n",
       "    <span style=\"font-size: 0.8em; font-weight: bold; line-height: 1; border-radius: 0.35em; vertical-align: middle; margin-left: 0.5rem\">LOC</span>\n",
       "</mark>\n",
       " (\n",
       "<mark class=\"entity\" style=\"background: #ff9561; padding: 0.45em 0.6em; margin: 0 0.25em; line-height: 1; border-radius: 0.35em;\">\n",
       "    Bizkaia\n",
       "    <span style=\"font-size: 0.8em; font-weight: bold; line-height: 1; border-radius: 0.35em; vertical-align: middle; margin-left: 0.5rem\">LOC</span>\n",
       "</mark>\n",
       "); y otras tres en \n",
       "<mark class=\"entity\" style=\"background: #ff9561; padding: 0.45em 0.6em; margin: 0 0.25em; line-height: 1; border-radius: 0.35em;\">\n",
       "    Marruecos\n",
       "    <span style=\"font-size: 0.8em; font-weight: bold; line-height: 1; border-radius: 0.35em; vertical-align: middle; margin-left: 0.5rem\">LOC</span>\n",
       "</mark>\n",
       ", que integraban la red de la organización terrorista.</div></span>"
      ],
      "text/plain": [
       "<IPython.core.display.HTML object>"
      ]
     },
     "metadata": {},
     "output_type": "display_data"
    }
   ],
   "source": [
    "displacy.render(doc, style='ent', jupyter=True)"
   ]
  },
  {
   "cell_type": "markdown",
   "id": "a85bd4b2",
   "metadata": {},
   "source": [
    "Cargamos el libro \"Cañas y barro\", de Vicente Blasco Ibáñez y analizamos los 10 personajes más comunes"
   ]
  },
  {
   "cell_type": "code",
   "execution_count": 173,
   "id": "027c13e6",
   "metadata": {},
   "outputs": [],
   "source": [
    "text_raw = open('cañas y barro.txt', encoding=\"utf8\").read()\n",
    "libro = nlp(text_raw)"
   ]
  },
  {
   "cell_type": "code",
   "execution_count": 174,
   "id": "4886d875",
   "metadata": {},
   "outputs": [
    {
     "data": {
      "text/plain": [
       "86996"
      ]
     },
     "execution_count": 174,
     "metadata": {},
     "output_type": "execute_result"
    }
   ],
   "source": [
    "len(libro)"
   ]
  },
  {
   "cell_type": "code",
   "execution_count": 175,
   "id": "9b23fa1a",
   "metadata": {},
   "outputs": [
    {
     "data": {
      "text/plain": [
       "3024"
      ]
     },
     "execution_count": 175,
     "metadata": {},
     "output_type": "execute_result"
    }
   ],
   "source": [
    "len(libro.ents)"
   ]
  },
  {
   "cell_type": "code",
   "execution_count": 176,
   "id": "29587056-089b-4475-9175-960ef3772275",
   "metadata": {},
   "outputs": [
    {
     "data": {
      "text/plain": [
       "3439"
      ]
     },
     "execution_count": 176,
     "metadata": {},
     "output_type": "execute_result"
    }
   ],
   "source": [
    "len([s for s in libro.sents])"
   ]
  },
  {
   "cell_type": "code",
   "execution_count": 177,
   "id": "b7c59ce0",
   "metadata": {},
   "outputs": [
    {
     "data": {
      "text/plain": [
       "[('Palmar', 114),\n",
       " ('la Albufera', 110),\n",
       " ('Sangonera', 82),\n",
       " ('Neleta', 73),\n",
       " ('Valencia', 39),\n",
       " ('Cañamèl', 39),\n",
       " ('Dehesa', 36),\n",
       " ('Saler', 26),\n",
       " ('Catarroja', 19),\n",
       " ('lago.', 16)]"
      ]
     },
     "execution_count": 177,
     "metadata": {},
     "output_type": "execute_result"
    }
   ],
   "source": [
    "from collections import Counter\n",
    "Counter([w.text for w in libro.ents if w.label_ == 'LOC']).most_common(10)"
   ]
  },
  {
   "cell_type": "markdown",
   "id": "ffec0f1f",
   "metadata": {},
   "source": [
    "Estos son los distintos tipos de entidades que aparecen en el libro:  "
   ]
  },
  {
   "cell_type": "code",
   "execution_count": 178,
   "id": "1a6a79b5",
   "metadata": {},
   "outputs": [
    {
     "data": {
      "text/plain": [
       "{'LOC': 'Non-GPE locations, mountain ranges, bodies of water',\n",
       " 'PER': 'Named person or family.',\n",
       " 'MISC': 'Miscellaneous entities, e.g. events, nationalities, products or works of art',\n",
       " 'ORG': 'Companies, agencies, institutions, etc.'}"
      ]
     },
     "execution_count": 178,
     "metadata": {},
     "output_type": "execute_result"
    }
   ],
   "source": [
    "{w.label_:spacy.explain(w.label_) for w in libro.ents}"
   ]
  },
  {
   "cell_type": "code",
   "execution_count": 179,
   "id": "74df0315",
   "metadata": {},
   "outputs": [
    {
     "data": {
      "text/plain": [
       "{'Al',\n",
       " 'Borda',\n",
       " 'Cañamèl.',\n",
       " 'Comunidad',\n",
       " 'Comunidad.',\n",
       " 'Después',\n",
       " 'Encima',\n",
       " 'Guardia',\n",
       " 'Guardia civil',\n",
       " 'Guardia civil de la huerta',\n",
       " 'Hacienda',\n",
       " 'Hacienda.',\n",
       " 'Halagaban',\n",
       " 'Iglesia',\n",
       " 'Naturaleza',\n",
       " 'Neleta',\n",
       " 'Neleta,',\n",
       " 'Perelló',\n",
       " 'Reconocíase',\n",
       " 'Samaruca',\n",
       " 'Samaruca?',\n",
       " 'Sangonera',\n",
       " 'Sangonera.',\n",
       " 'Seiscientas',\n",
       " 'Sequiòta',\n",
       " 'Sequiòta.',\n",
       " 'Tendió',\n",
       " 'Todavía',\n",
       " '_all',\n",
       " 'bolsa.',\n",
       " 'esquilón',\n",
       " 'iglesia',\n",
       " 'periódicos.'}"
      ]
     },
     "execution_count": 179,
     "metadata": {},
     "output_type": "execute_result"
    }
   ],
   "source": [
    "# Entidades de tipo ORG en el libro\n",
    "set([e.text for e in libro.ents if e.label_== 'ORG'])"
   ]
  },
  {
   "cell_type": "markdown",
   "id": "5aac18b6",
   "metadata": {},
   "source": [
    "Ahora utilizamos el análisis de dependencias para buscar los adjetivos más utilizados por Blasco Ibáñez para describir cada personaje. Para eso, hacemos un barrido de todas las frases en las que aparece el personaje y buscamos los tokens de tipo `adj` que dependen gramaticalmente de la entidad propia del personaje."
   ]
  },
  {
   "cell_type": "code",
   "execution_count": 180,
   "id": "5dcd24fc",
   "metadata": {},
   "outputs": [],
   "source": [
    "def adjectivesDescribingCharacters(text, character):\n",
    "    sents = [sent for sent in text.sents if character in str(sent)]\n",
    "    adjectives = []\n",
    "    for sent in sents: \n",
    "        for word in sent: \n",
    "            if character in str(word):\n",
    "                for child in word.children: \n",
    "                    if child.pos_ == 'ADJ': \n",
    "                        adjectives.append(str(child).strip())\n",
    "    return Counter(adjectives).most_common(10)"
   ]
  },
  {
   "cell_type": "code",
   "execution_count": 181,
   "id": "4e76dc02",
   "metadata": {},
   "outputs": [
    {
     "data": {
      "text/plain": [
       "[('pequeña', 1),\n",
       " ('mejor', 1),\n",
       " ('fija', 1),\n",
       " ('repantigado', 1),\n",
       " ('junto', 1),\n",
       " ('sola', 1),\n",
       " ('dueña', 1),\n",
       " ('vestida', 1),\n",
       " ('sentada', 1),\n",
       " ('triste', 1)]"
      ]
     },
     "execution_count": 181,
     "metadata": {},
     "output_type": "execute_result"
    }
   ],
   "source": [
    "adjectivesDescribingCharacters(libro, \"Neleta\")"
   ]
  },
  {
   "cell_type": "code",
   "execution_count": null,
   "id": "bdd19a66",
   "metadata": {},
   "outputs": [],
   "source": []
  }
 ],
 "metadata": {
  "kernelspec": {
   "display_name": "Python 3",
   "language": "python",
   "name": "python3"
  },
  "language_info": {
   "codemirror_mode": {
    "name": "ipython",
    "version": 3
   },
   "file_extension": ".py",
   "mimetype": "text/x-python",
   "name": "python",
   "nbconvert_exporter": "python",
   "pygments_lexer": "ipython3",
   "version": "3.9.16"
  },
  "vscode": {
   "interpreter": {
    "hash": "1889f7d8acdc3cacfafa5b333be0ab79c5c49ae12b0b38e71a3abcd28f98edde"
   }
  }
 },
 "nbformat": 4,
 "nbformat_minor": 5
}
