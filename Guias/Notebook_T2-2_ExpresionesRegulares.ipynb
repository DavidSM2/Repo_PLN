{
 "cells": [
  {
   "cell_type": "markdown",
   "id": "micro-speaker",
   "metadata": {},
   "source": [
    "# Expresiones regulares en Python\n",
    "El módulo `re` tiene las siguientes funciones de Regex:\n",
    "- `findall`: Returns a list containing all matches  \n",
    "- `search`: Returns a Match object if there is a match anywhere in the string  \n",
    "- `match`: Returns a Match object if there is a match at the start of the string  \n",
    "- `split`: Returns a list where the string has been split at each match  \n",
    "- `sub`: Replaces one or many matches with a string  "
   ]
  },
  {
   "cell_type": "code",
   "execution_count": 1,
   "id": "meaningful-bristol",
   "metadata": {},
   "outputs": [],
   "source": [
    "import re"
   ]
  },
  {
   "cell_type": "markdown",
   "id": "political-transport",
   "metadata": {},
   "source": [
    "Las expresiones regulares son patrones formados por:  \n",
    "- texto  \n",
    "- Metacaracteres  \n",
    "- Secuencias especiales  \n",
    "- Sets  "
   ]
  },
  {
   "cell_type": "code",
   "execution_count": 2,
   "id": "comparable-hybrid",
   "metadata": {},
   "outputs": [],
   "source": [
    "texto = 'El Sol aparece por la mañana entre las montañas y los ríos'"
   ]
  },
  {
   "cell_type": "markdown",
   "id": "hispanic-pasta",
   "metadata": {},
   "source": [
    "### Texto"
   ]
  },
  {
   "cell_type": "code",
   "execution_count": 3,
   "id": "rising-enlargement",
   "metadata": {},
   "outputs": [
    {
     "data": {
      "text/plain": [
       "<re.Match object; span=(23, 26), match='aña'>"
      ]
     },
     "execution_count": 3,
     "metadata": {},
     "output_type": "execute_result"
    }
   ],
   "source": [
    "m = re.search(\"aña\", texto)\n",
    "m"
   ]
  },
  {
   "cell_type": "code",
   "execution_count": 4,
   "id": "eeed34ed-7fc1-4e7b-8d83-460b813b2dda",
   "metadata": {},
   "outputs": [],
   "source": [
    "re.match(\"aña\", texto) #sólo busca al inicio del string"
   ]
  },
  {
   "attachments": {},
   "cell_type": "markdown",
   "id": "skilled-disposition",
   "metadata": {},
   "source": [
    "Los objetos de tipo `re.Match` tienen distintos atributos"
   ]
  },
  {
   "cell_type": "code",
   "execution_count": 5,
   "id": "f8fe50b7",
   "metadata": {},
   "outputs": [
    {
     "data": {
      "text/plain": [
       "['end',\n",
       " 'endpos',\n",
       " 'expand',\n",
       " 'group',\n",
       " 'groupdict',\n",
       " 'groups',\n",
       " 'lastgroup',\n",
       " 'lastindex',\n",
       " 'pos',\n",
       " 're',\n",
       " 'regs',\n",
       " 'span',\n",
       " 'start',\n",
       " 'string']"
      ]
     },
     "execution_count": 5,
     "metadata": {},
     "output_type": "execute_result"
    }
   ],
   "source": [
    "[att for att in dir(m) if not att.startswith(\"__\")]"
   ]
  },
  {
   "attachments": {},
   "cell_type": "markdown",
   "id": "skilled-disposition",
   "metadata": {},
   "source": [
    "El texto encontrado (*match*) está en el atributo `group(0)` o elemento [0]"
   ]
  },
  {
   "cell_type": "code",
   "execution_count": 6,
   "id": "white-headset",
   "metadata": {},
   "outputs": [
    {
     "data": {
      "text/plain": [
       "'aña'"
      ]
     },
     "execution_count": 6,
     "metadata": {},
     "output_type": "execute_result"
    }
   ],
   "source": [
    "m[0] #equivale a  re.search(\"aña\", texto).group(0)"
   ]
  },
  {
   "cell_type": "markdown",
   "id": "ebb72bb8",
   "metadata": {},
   "source": [
    "El atributo `span` indica los caracteres inicial y final del *match*"
   ]
  },
  {
   "cell_type": "code",
   "execution_count": 7,
   "id": "f8499a90-2351-4b65-b696-dd9ffb23092e",
   "metadata": {},
   "outputs": [
    {
     "data": {
      "text/plain": [
       "(23, 26)"
      ]
     },
     "execution_count": 7,
     "metadata": {},
     "output_type": "execute_result"
    }
   ],
   "source": [
    "m.span()"
   ]
  },
  {
   "cell_type": "code",
   "execution_count": 8,
   "id": "essential-length",
   "metadata": {},
   "outputs": [
    {
     "data": {
      "text/plain": [
       "'aña'"
      ]
     },
     "execution_count": 8,
     "metadata": {},
     "output_type": "execute_result"
    }
   ],
   "source": [
    "texto[m.span()[0]: m.span()[1]]"
   ]
  },
  {
   "cell_type": "code",
   "execution_count": 9,
   "id": "75ae0007-3ac0-4237-be68-aa970a8462fe",
   "metadata": {},
   "outputs": [
    {
     "data": {
      "text/plain": [
       "23"
      ]
     },
     "execution_count": 9,
     "metadata": {},
     "output_type": "execute_result"
    }
   ],
   "source": [
    "m.start()"
   ]
  },
  {
   "cell_type": "code",
   "execution_count": 10,
   "id": "tribal-essence",
   "metadata": {},
   "outputs": [
    {
     "data": {
      "text/plain": [
       "26"
      ]
     },
     "execution_count": 10,
     "metadata": {},
     "output_type": "execute_result"
    }
   ],
   "source": [
    "m.end()"
   ]
  },
  {
   "cell_type": "markdown",
   "id": "skilled-cement",
   "metadata": {},
   "source": [
    "Los objetos `re.match` también se pueden usar como valor booleano (toman un valor `True` si el patrón regular existe en la cadena de texto)."
   ]
  },
  {
   "cell_type": "code",
   "execution_count": 11,
   "id": "involved-rough",
   "metadata": {},
   "outputs": [
    {
     "name": "stdout",
     "output_type": "stream",
     "text": [
      "Existe\n"
     ]
    }
   ],
   "source": [
    "if re.search(\"aña\", texto):\n",
    "    print(\"Existe\")\n",
    "else:\n",
    "    print(\"No match\")"
   ]
  },
  {
   "cell_type": "code",
   "execution_count": 12,
   "id": "1d5fbe64-89fd-40b4-97a7-f83d631548ce",
   "metadata": {},
   "outputs": [
    {
     "name": "stdout",
     "output_type": "stream",
     "text": [
      "No match\n"
     ]
    }
   ],
   "source": [
    "if re.match(\"aña\", texto):\n",
    "    print(\"Existe\")\n",
    "else:\n",
    "    print(\"No match\")"
   ]
  },
  {
   "attachments": {},
   "cell_type": "markdown",
   "id": "suburban-logistics",
   "metadata": {},
   "source": [
    "Para buscar **todas** las apariciones del patrón en el texto usamos `re.findall()` (pero sólo devuelve el texto como lista de *strings*)"
   ]
  },
  {
   "cell_type": "code",
   "execution_count": 13,
   "id": "hungry-circuit",
   "metadata": {},
   "outputs": [
    {
     "data": {
      "text/plain": [
       "['aña', 'aña']"
      ]
     },
     "execution_count": 13,
     "metadata": {},
     "output_type": "execute_result"
    }
   ],
   "source": [
    "re.findall(\"aña\", texto)"
   ]
  },
  {
   "attachments": {},
   "cell_type": "markdown",
   "id": "active-worthy",
   "metadata": {},
   "source": [
    "Para obtener un objeto `Match` por cada patrón encontrado hay que usar la función `re.finditer()` que devuelve un *iterator*"
   ]
  },
  {
   "cell_type": "code",
   "execution_count": 89,
   "id": "sixth-documentation",
   "metadata": {},
   "outputs": [
    {
     "data": {
      "text/plain": [
       "<callable_iterator at 0x1fe914dd3f0>"
      ]
     },
     "execution_count": 89,
     "metadata": {},
     "output_type": "execute_result"
    }
   ],
   "source": [
    "patrones = re.finditer(\"aña\", texto)\n",
    "patrones"
   ]
  },
  {
   "cell_type": "code",
   "execution_count": 90,
   "id": "designing-viewer",
   "metadata": {},
   "outputs": [
    {
     "name": "stdout",
     "output_type": "stream",
     "text": [
      "<re.Match object; span=(2, 54), match=' Sol aparece por la mañana entre las montañas y l>\n"
     ]
    }
   ],
   "source": [
    "for p in patrones:\n",
    "    print(p)"
   ]
  },
  {
   "attachments": {},
   "cell_type": "markdown",
   "id": "solar-airfare",
   "metadata": {},
   "source": [
    "#### Metacaracteres  \n",
    "Definen un comportamiento especial en la búsqueda"
   ]
  },
  {
   "cell_type": "code",
   "execution_count": 16,
   "id": "elegant-contact",
   "metadata": {},
   "outputs": [
    {
     "data": {
      "text/plain": [
       "['las', 'los']"
      ]
     },
     "execution_count": 16,
     "metadata": {},
     "output_type": "execute_result"
    }
   ],
   "source": [
    "re.findall(\"l.s\", texto)"
   ]
  },
  {
   "cell_type": "code",
   "execution_count": 17,
   "id": "47cbf4c9-f447-476f-bde6-339bfbc45db2",
   "metadata": {},
   "outputs": [
    {
     "name": "stdout",
     "output_type": "stream",
     "text": [
      "<re.Match object; span=(35, 38), match='las'>\n",
      "<re.Match object; span=(50, 53), match='los'>\n"
     ]
    }
   ],
   "source": [
    "patrones = re.finditer(\"l.s\", texto)\n",
    "\n",
    "for p in patrones:\n",
    "    print(p)"
   ]
  },
  {
   "cell_type": "code",
   "execution_count": 18,
   "id": "certified-therapy",
   "metadata": {},
   "outputs": [
    {
     "data": {
      "text/plain": [
       "['la', 'las']"
      ]
     },
     "execution_count": 18,
     "metadata": {},
     "output_type": "execute_result"
    }
   ],
   "source": [
    "re.findall(\"las?\", texto)"
   ]
  },
  {
   "attachments": {},
   "cell_type": "markdown",
   "id": "electric-slovakia",
   "metadata": {},
   "source": [
    "### Secuencias especiales\n",
    "Definen un patrón a buscar (en lugar de una cadena literal)"
   ]
  },
  {
   "cell_type": "code",
   "execution_count": 19,
   "id": "urban-panel",
   "metadata": {},
   "outputs": [],
   "source": [
    "texto2 = \"La caña es débil.\""
   ]
  },
  {
   "cell_type": "code",
   "execution_count": 20,
   "id": "institutional-regulation",
   "metadata": {},
   "outputs": [
    {
     "data": {
      "text/plain": [
       "['L', 'a', 'c', 'a', 'ñ', 'a', 'e', 's', 'd', 'é', 'b', 'i', 'l']"
      ]
     },
     "execution_count": 20,
     "metadata": {},
     "output_type": "execute_result"
    }
   ],
   "source": [
    "re.findall(\"\\w\", texto2) #caracteres alfanuméricos"
   ]
  },
  {
   "cell_type": "code",
   "execution_count": 21,
   "id": "steady-valuable",
   "metadata": {},
   "outputs": [
    {
     "data": {
      "text/plain": [
       "['La', 'caña', 'es', 'débil']"
      ]
     },
     "execution_count": 21,
     "metadata": {},
     "output_type": "execute_result"
    }
   ],
   "source": [
    "re.findall(\"\\w+\", texto2)"
   ]
  },
  {
   "attachments": {},
   "cell_type": "markdown",
   "id": "64d0ca2c",
   "metadata": {},
   "source": [
    "Por defecto la búsqueda de `regex` es *greedy*"
   ]
  },
  {
   "cell_type": "code",
   "execution_count": 22,
   "id": "523faa82",
   "metadata": {},
   "outputs": [
    {
     "data": {
      "text/plain": [
       "['aa', 'aaa', 'aaaa']"
      ]
     },
     "execution_count": 22,
     "metadata": {},
     "output_type": "execute_result"
    }
   ],
   "source": [
    "re.findall(\"a+\", \"aabaaabaaaab\")"
   ]
  },
  {
   "cell_type": "code",
   "execution_count": 23,
   "id": "later-contents",
   "metadata": {},
   "outputs": [],
   "source": [
    "texto = 'los soles y las lisas cantan loas y laudeses'"
   ]
  },
  {
   "cell_type": "code",
   "execution_count": 24,
   "id": "preliminary-mountain",
   "metadata": {},
   "outputs": [
    {
     "data": {
      "text/plain": [
       "['los', 'les', 'las', 'lisas', 'loas', 'laudeses']"
      ]
     },
     "execution_count": 24,
     "metadata": {},
     "output_type": "execute_result"
    }
   ],
   "source": [
    "re.findall(\"l\\w+s\", texto) #búsqueda no greedy"
   ]
  },
  {
   "cell_type": "code",
   "execution_count": 25,
   "id": "preliminary-mountain",
   "metadata": {},
   "outputs": [
    {
     "data": {
      "text/plain": [
       "['los', 'les', 'las', 'lis', 'loas', 'laudes']"
      ]
     },
     "execution_count": 25,
     "metadata": {},
     "output_type": "execute_result"
    }
   ],
   "source": [
    "re.findall(\"l\\w+?s\", texto) #búsqueda no greedy"
   ]
  },
  {
   "cell_type": "code",
   "execution_count": 26,
   "id": "continued-directive",
   "metadata": {},
   "outputs": [],
   "source": [
    "texto2 = \"Hay 35 alumnos en 1º pero sólo 7 en 4º\""
   ]
  },
  {
   "cell_type": "code",
   "execution_count": 27,
   "id": "interesting-divorce",
   "metadata": {},
   "outputs": [
    {
     "data": {
      "text/plain": [
       "['35', '1', '7', '4']"
      ]
     },
     "execution_count": 27,
     "metadata": {},
     "output_type": "execute_result"
    }
   ],
   "source": [
    "re.findall(\"\\d+\", texto2)"
   ]
  },
  {
   "cell_type": "code",
   "execution_count": 28,
   "id": "centered-software",
   "metadata": {},
   "outputs": [
    {
     "data": {
      "text/plain": [
       "['Hay', '35', 'alumnos', 'en', '1º', 'pero', 'sólo', '7', 'en', '4º']"
      ]
     },
     "execution_count": 28,
     "metadata": {},
     "output_type": "execute_result"
    }
   ],
   "source": [
    "re.findall(\"\\w+\", texto2)"
   ]
  },
  {
   "cell_type": "code",
   "execution_count": 29,
   "id": "chinese-classification",
   "metadata": {},
   "outputs": [],
   "source": [
    "texto = \"la sala de lavandería de Salamanca\""
   ]
  },
  {
   "cell_type": "code",
   "execution_count": 30,
   "id": "isolated-maine",
   "metadata": {},
   "outputs": [
    {
     "data": {
      "text/plain": [
       "['la', 'lavandería']"
      ]
     },
     "execution_count": 30,
     "metadata": {},
     "output_type": "execute_result"
    }
   ],
   "source": [
    "re.findall(r\"\\bla\\w*\", texto) #palabras que comienzan por 'la'"
   ]
  },
  {
   "cell_type": "code",
   "execution_count": 31,
   "id": "ac1895cd",
   "metadata": {},
   "outputs": [
    {
     "data": {
      "text/plain": [
       "['la', 'sala', 'lavandería', 'Salamanca']"
      ]
     },
     "execution_count": 31,
     "metadata": {},
     "output_type": "execute_result"
    }
   ],
   "source": [
    "re.findall(r\"\\w*la\\w*\", texto) #palabras que contienen 'la'"
   ]
  },
  {
   "cell_type": "code",
   "execution_count": 32,
   "id": "02c21329",
   "metadata": {},
   "outputs": [
    {
     "data": {
      "text/plain": [
       "['la', 'sala']"
      ]
     },
     "execution_count": 32,
     "metadata": {},
     "output_type": "execute_result"
    }
   ],
   "source": [
    "re.findall(r\"\\w*la\\b\", texto) #palabras que terminan en 'la'"
   ]
  },
  {
   "cell_type": "code",
   "execution_count": 33,
   "id": "23718948",
   "metadata": {},
   "outputs": [
    {
     "data": {
      "text/plain": [
       "['sala']"
      ]
     },
     "execution_count": 33,
     "metadata": {},
     "output_type": "execute_result"
    }
   ],
   "source": [
    "re.findall(r\"\\w+la\\b\", texto) #palabras de +2 letras que terminan en 'la'"
   ]
  },
  {
   "attachments": {},
   "cell_type": "markdown",
   "id": "eligible-stuart",
   "metadata": {},
   "source": [
    "### Sets\n",
    "Definen un conjunto alternativo de patrones que hacen *match*"
   ]
  },
  {
   "cell_type": "code",
   "execution_count": 34,
   "id": "later-contents",
   "metadata": {},
   "outputs": [],
   "source": [
    "texto = 'los soles y las lisas cantan loas y laudeses'"
   ]
  },
  {
   "cell_type": "code",
   "execution_count": 35,
   "id": "340972e4-9cb1-468d-ac9a-5b9653a2995a",
   "metadata": {},
   "outputs": [
    {
     "data": {
      "text/plain": [
       "['los', 'les', 'las', 'lis']"
      ]
     },
     "execution_count": 35,
     "metadata": {},
     "output_type": "execute_result"
    }
   ],
   "source": [
    "re.findall(\"l\\ws\", texto)"
   ]
  },
  {
   "cell_type": "code",
   "execution_count": 36,
   "id": "tracked-methodology",
   "metadata": {},
   "outputs": [
    {
     "data": {
      "text/plain": [
       "['los', 'las']"
      ]
     },
     "execution_count": 36,
     "metadata": {},
     "output_type": "execute_result"
    }
   ],
   "source": [
    "re.findall(\"l[oa]s\", texto)"
   ]
  },
  {
   "cell_type": "code",
   "execution_count": 37,
   "id": "f8eda8cf-0c78-4b2c-bc17-3ab416d1c98f",
   "metadata": {},
   "outputs": [
    {
     "data": {
      "text/plain": [
       "['los', 'las', 'loas']"
      ]
     },
     "execution_count": 37,
     "metadata": {},
     "output_type": "execute_result"
    }
   ],
   "source": [
    "re.findall(\"l[oa]+s\", texto)"
   ]
  },
  {
   "cell_type": "code",
   "execution_count": 38,
   "id": "respiratory-fashion",
   "metadata": {},
   "outputs": [
    {
     "data": {
      "text/plain": [
       "['La', 'ca', 'a', 'es', 'd', 'bil']"
      ]
     },
     "execution_count": 38,
     "metadata": {},
     "output_type": "execute_result"
    }
   ],
   "source": [
    "re.findall(\"[A-Za-z0-9_]+\", \"La caña es débil\")"
   ]
  },
  {
   "cell_type": "markdown",
   "id": "conditional-importance",
   "metadata": {},
   "source": [
    "### cuantificadores"
   ]
  },
  {
   "cell_type": "code",
   "execution_count": 39,
   "id": "veterinary-tsunami",
   "metadata": {},
   "outputs": [],
   "source": [
    "texto = 'El Sol aparece por la mañana entre las montañas y los ríos'"
   ]
  },
  {
   "cell_type": "code",
   "execution_count": 40,
   "id": "breeding-blackjack",
   "metadata": {},
   "outputs": [
    {
     "data": {
      "text/plain": [
       "['aparece', 'mañana', 'entre', 'montañas', 'ríos']"
      ]
     },
     "execution_count": 40,
     "metadata": {},
     "output_type": "execute_result"
    }
   ],
   "source": [
    "re.findall(\"\\w{4,}\", texto) #palabras de 4 o más caracteres"
   ]
  },
  {
   "cell_type": "code",
   "execution_count": 41,
   "id": "3c97e929-2a90-4871-b30a-66daad4a0ca7",
   "metadata": {},
   "outputs": [
    {
     "data": {
      "text/plain": [
       "['El',\n",
       " 'Sol',\n",
       " 'apar',\n",
       " 'ece',\n",
       " 'por',\n",
       " 'la',\n",
       " 'maña',\n",
       " 'na',\n",
       " 'entr',\n",
       " 'las',\n",
       " 'mont',\n",
       " 'añas',\n",
       " 'los',\n",
       " 'ríos']"
      ]
     },
     "execution_count": 41,
     "metadata": {},
     "output_type": "execute_result"
    }
   ],
   "source": [
    "#esto en cambio es erróneo\n",
    "re.findall(\"\\w{2,4}\", texto) #palabras entre 2 y 4 caracteres"
   ]
  },
  {
   "cell_type": "code",
   "execution_count": 42,
   "id": "quality-married",
   "metadata": {},
   "outputs": [
    {
     "data": {
      "text/plain": [
       "['El', 'Sol', 'por', 'la', 'las', 'los', 'ríos']"
      ]
     },
     "execution_count": 42,
     "metadata": {},
     "output_type": "execute_result"
    }
   ],
   "source": [
    "#esto es correcto\n",
    "re.findall(r\"\\b\\w{2,4}\\b\", texto) #palabras dentre 2 y 4 caracteres"
   ]
  },
  {
   "cell_type": "code",
   "execution_count": 43,
   "id": "07242730-9e14-47f3-b51d-98e924678242",
   "metadata": {},
   "outputs": [
    {
     "data": {
      "text/plain": [
       "['El',\n",
       " 'Sol',\n",
       " 'rece',\n",
       " 'por',\n",
       " 'la',\n",
       " 'ñana',\n",
       " 'ntre',\n",
       " 'las',\n",
       " 'añas',\n",
       " 'los',\n",
       " 'ríos']"
      ]
     },
     "execution_count": 43,
     "metadata": {},
     "output_type": "execute_result"
    }
   ],
   "source": [
    "re.findall(r\"\\w{2,4}\\b\", texto) #últimos 2 a 4 caracteres de cada palabra"
   ]
  },
  {
   "cell_type": "code",
   "execution_count": 44,
   "id": "e4bbd832-df44-404c-99ee-5289d03f126c",
   "metadata": {},
   "outputs": [
    {
     "data": {
      "text/plain": [
       "['El',\n",
       " 'Sol',\n",
       " 'apar',\n",
       " 'por',\n",
       " 'la',\n",
       " 'maña',\n",
       " 'entr',\n",
       " 'las',\n",
       " 'mont',\n",
       " 'los',\n",
       " 'ríos']"
      ]
     },
     "execution_count": 44,
     "metadata": {},
     "output_type": "execute_result"
    }
   ],
   "source": [
    "re.findall(r\"\\b\\w{2,4}\", texto) #primeros 2 a 4 caracteres de cada palabra"
   ]
  },
  {
   "cell_type": "markdown",
   "id": "antique-conversation",
   "metadata": {},
   "source": [
    "### Captura de grupos\n",
    "Un grupo es un subconjunto de patrón RegEx que queremos obtener (capturar) cuando haya un match de una patrón de expresión regular más amplia"
   ]
  },
  {
   "cell_type": "code",
   "execution_count": 45,
   "id": "weekly-spine",
   "metadata": {},
   "outputs": [
    {
     "data": {
      "text/plain": [
       "'Hay 35 alumnos en 1º pero sólo 7 en 4º'"
      ]
     },
     "execution_count": 45,
     "metadata": {},
     "output_type": "execute_result"
    }
   ],
   "source": [
    "texto2"
   ]
  },
  {
   "cell_type": "code",
   "execution_count": 46,
   "id": "98492a1e",
   "metadata": {},
   "outputs": [
    {
     "data": {
      "text/plain": [
       "['1º', '4º']"
      ]
     },
     "execution_count": 46,
     "metadata": {},
     "output_type": "execute_result"
    }
   ],
   "source": [
    "re.findall(r\"\\dº\", texto2)"
   ]
  },
  {
   "attachments": {},
   "cell_type": "markdown",
   "id": "483cdf80-1097-4adf-bcb6-d62bffa649ac",
   "metadata": {},
   "source": [
    "En cambio con un grupo podemos buscar un patrón regular y capturar sólo una parte. Compara con:"
   ]
  },
  {
   "cell_type": "code",
   "execution_count": 47,
   "id": "mobile-found",
   "metadata": {},
   "outputs": [
    {
     "data": {
      "text/plain": [
       "['1', '4']"
      ]
     },
     "execution_count": 47,
     "metadata": {},
     "output_type": "execute_result"
    }
   ],
   "source": [
    "re.findall(r\"(\\d)º\", texto2) #capturamos 1 dígito sólo si va seguido de 'º'"
   ]
  },
  {
   "cell_type": "code",
   "execution_count": 48,
   "id": "intense-novelty",
   "metadata": {},
   "outputs": [
    {
     "data": {
      "text/plain": [
       "['2021-3-21', '2020-12-1', '2019-11-25']"
      ]
     },
     "execution_count": 48,
     "metadata": {},
     "output_type": "execute_result"
    }
   ],
   "source": [
    "#obtener una fecha con patrón yyyy-mm-dd\n",
    "fechas = \"2021-3-21, 2020-12-1, 2019-11-25, 2018-11\"\n",
    "re.findall(\"\\d{4}-\\d{1,2}-\\d{1,2}\", fechas)"
   ]
  },
  {
   "cell_type": "code",
   "execution_count": 49,
   "id": "central-facial",
   "metadata": {},
   "outputs": [
    {
     "data": {
      "text/plain": [
       "['3', '12', '11']"
      ]
     },
     "execution_count": 49,
     "metadata": {},
     "output_type": "execute_result"
    }
   ],
   "source": [
    "#obtener sólo el mes en un patrón yyyy-mm-dd\n",
    "fechas = \"2021-3-21, 2020-12-1, 2019-11-25, 2018-11\"\n",
    "re.findall(\"\\d{4}-(\\d{1,2})-\\d{1,2}\", fechas)"
   ]
  },
  {
   "cell_type": "markdown",
   "id": "alone-spectacular",
   "metadata": {},
   "source": [
    "Si queremos usar un grupo para definir un patrón complejo pero queremos capturar toda la expresión regular usamos un *non-capturing group* mediante la sintaxis expecial `(?:...)`"
   ]
  },
  {
   "cell_type": "code",
   "execution_count": 50,
   "id": "innovative-whale",
   "metadata": {},
   "outputs": [
    {
     "data": {
      "text/plain": [
       "['34.5', '34,56', '5', '3.476,76', '50', '6,78']"
      ]
     },
     "execution_count": 50,
     "metadata": {},
     "output_type": "execute_result"
    }
   ],
   "source": [
    "#Encuentra todos los números con sus decimales\n",
    "re.findall(r\"\\d+(?:[\\.,]\\d+)*\", \"34.5 34,56 5$ 3.476,76 50 6,78$\")"
   ]
  },
  {
   "cell_type": "code",
   "execution_count": 51,
   "id": "98d47556-e6cb-4acc-b3f5-71fccf93cd9c",
   "metadata": {},
   "outputs": [
    {
     "data": {
      "text/plain": [
       "['34', '34', '5', '3', '50', '6']"
      ]
     },
     "execution_count": 51,
     "metadata": {},
     "output_type": "execute_result"
    }
   ],
   "source": [
    "#Encuentra sólo la parte entera de los números\n",
    "re.findall(r\"(\\d+)(?:[\\.,]\\d+)*\", \"34.5 34,56 5$ 3.476,76 50 6,78$\")"
   ]
  },
  {
   "cell_type": "code",
   "execution_count": 52,
   "id": "101e1fb2",
   "metadata": {},
   "outputs": [
    {
     "data": {
      "text/plain": [
       "['34,56', '3.476,76', '6,78']"
      ]
     },
     "execution_count": 52,
     "metadata": {},
     "output_type": "execute_result"
    }
   ],
   "source": [
    "#Encuentra sólo los números con decimales\n",
    "re.findall(r\"[\\.\\d]+,\\d+\", \"34.5 34,56 5$ 3.476,76 50 6,78$\")"
   ]
  },
  {
   "cell_type": "markdown",
   "id": "civilian-jamaica",
   "metadata": {},
   "source": [
    "Podemos asignar un nombre a cada grupo y luego referenciarlo en el objeto `re.Match`"
   ]
  },
  {
   "cell_type": "code",
   "execution_count": 53,
   "id": "threaded-claim",
   "metadata": {},
   "outputs": [],
   "source": [
    "objeto = re.search(r\"(?P<letter>[ab])(?P<digit>\\d)\", \"a3, b40, c3\")"
   ]
  },
  {
   "cell_type": "code",
   "execution_count": 54,
   "id": "sporting-messaging",
   "metadata": {},
   "outputs": [
    {
     "data": {
      "text/plain": [
       "{'letter': 'a', 'digit': '3'}"
      ]
     },
     "execution_count": 54,
     "metadata": {},
     "output_type": "execute_result"
    }
   ],
   "source": [
    "objeto.groupdict()"
   ]
  },
  {
   "cell_type": "code",
   "execution_count": 55,
   "id": "alternate-database",
   "metadata": {},
   "outputs": [
    {
     "data": {
      "text/plain": [
       "'a'"
      ]
     },
     "execution_count": 55,
     "metadata": {},
     "output_type": "execute_result"
    }
   ],
   "source": [
    "objeto['letter'] #grupo capturado 'letter'"
   ]
  },
  {
   "cell_type": "code",
   "execution_count": 56,
   "id": "quarterly-donor",
   "metadata": {},
   "outputs": [
    {
     "data": {
      "text/plain": [
       "'a3'"
      ]
     },
     "execution_count": 56,
     "metadata": {},
     "output_type": "execute_result"
    }
   ],
   "source": [
    "objeto[0] #el índice 0 contiene el texto completo capturado por el patrón entero"
   ]
  },
  {
   "cell_type": "code",
   "execution_count": 57,
   "id": "9049c9cd-ef1b-427b-91cf-4e2fbe1eb0bf",
   "metadata": {},
   "outputs": [
    {
     "data": {
      "text/plain": [
       "'a'"
      ]
     },
     "execution_count": 57,
     "metadata": {},
     "output_type": "execute_result"
    }
   ],
   "source": [
    "objeto[1] #a partir del índice 1 aparecen los grupos capturados"
   ]
  },
  {
   "cell_type": "code",
   "execution_count": 58,
   "id": "adc530ec-03ce-4262-8f87-16a573e26776",
   "metadata": {},
   "outputs": [
    {
     "data": {
      "text/plain": [
       "'3'"
      ]
     },
     "execution_count": 58,
     "metadata": {},
     "output_type": "execute_result"
    }
   ],
   "source": [
    "objeto[2]"
   ]
  },
  {
   "cell_type": "code",
   "execution_count": 59,
   "id": "237bc84d-82b8-4ba9-9c21-ff33165b2fcb",
   "metadata": {},
   "outputs": [
    {
     "data": {
      "text/plain": [
       "'a3'"
      ]
     },
     "execution_count": 59,
     "metadata": {},
     "output_type": "execute_result"
    }
   ],
   "source": [
    "objeto.group() #equivale a objeto[0] y objeto.group(0)"
   ]
  },
  {
   "cell_type": "code",
   "execution_count": 60,
   "id": "3227f01a-30fd-4c69-a7e4-a949953b4bac",
   "metadata": {},
   "outputs": [
    {
     "data": {
      "text/plain": [
       "'a'"
      ]
     },
     "execution_count": 60,
     "metadata": {},
     "output_type": "execute_result"
    }
   ],
   "source": [
    "objeto.group(1) #equivale a objeto[1]"
   ]
  },
  {
   "cell_type": "code",
   "execution_count": 61,
   "id": "7eb4b954-abd7-4147-b073-6e8b5248de70",
   "metadata": {},
   "outputs": [
    {
     "data": {
      "text/plain": [
       "('a', '3')"
      ]
     },
     "execution_count": 61,
     "metadata": {},
     "output_type": "execute_result"
    }
   ],
   "source": [
    "objeto.groups() #tupla con los grupos capturados"
   ]
  },
  {
   "cell_type": "markdown",
   "id": "b3967e35",
   "metadata": {},
   "source": [
    "Podemos iterar sobre todos los matchs de un texto y acceder a sus grupos"
   ]
  },
  {
   "cell_type": "code",
   "execution_count": 62,
   "id": "9c72890f",
   "metadata": {},
   "outputs": [
    {
     "name": "stdout",
     "output_type": "stream",
     "text": [
      "letra: a número: 3\n",
      "letra: b número: 40\n"
     ]
    }
   ],
   "source": [
    "objetos = re.finditer(r\"(?P<letter>[ab])(?P<digit>\\d+)\", \"a3, b40, c3\")\n",
    "for objeto in objetos:\n",
    "    print(f\"letra: {objeto['letter']} número: {objeto['digit']}\")"
   ]
  },
  {
   "cell_type": "markdown",
   "id": "understanding-mexico",
   "metadata": {},
   "source": [
    "### División y substitución de texto\n",
    "usando `re.split()` y `re.sub()`"
   ]
  },
  {
   "cell_type": "code",
   "execution_count": 63,
   "id": "criminal-domestic",
   "metadata": {},
   "outputs": [
    {
     "data": {
      "text/plain": [
       "['Los',\n",
       " 'pájaros',\n",
       " 'cantan',\n",
       " 'las',\n",
       " 'nubes',\n",
       " 'se',\n",
       " 'levantan',\n",
       " 'Que',\n",
       " 'caiga',\n",
       " 'un',\n",
       " 'chaparrón',\n",
       " '']"
      ]
     },
     "execution_count": 63,
     "metadata": {},
     "output_type": "execute_result"
    }
   ],
   "source": [
    "#Usando un patrón para dividir\n",
    "texto3 = \"Los pájaros cantan, las nubes se levantan. Que caiga un chaparrón.\"\n",
    "re.split(r\"[,\\.\\s]+\", texto3)"
   ]
  },
  {
   "cell_type": "code",
   "execution_count": 64,
   "id": "lesbian-rouge",
   "metadata": {},
   "outputs": [
    {
     "data": {
      "text/plain": [
       "'El_Sol_aparece_por_la_mañana_entre_las_montañas_y_los_ríos'"
      ]
     },
     "execution_count": 64,
     "metadata": {},
     "output_type": "execute_result"
    }
   ],
   "source": [
    "#substitución de texto\n",
    "re.sub(\" \", \"_\", texto)"
   ]
  },
  {
   "cell_type": "code",
   "execution_count": 65,
   "id": "grand-proposal",
   "metadata": {},
   "outputs": [
    {
     "data": {
      "text/plain": [
       "'El Sol aparece por la mañana entre l@s montañas y l@s ríos'"
      ]
     },
     "execution_count": 65,
     "metadata": {},
     "output_type": "execute_result"
    }
   ],
   "source": [
    "#substitución de un patrón\n",
    "re.sub(\"l[ao]s\", \"l@s\", texto)"
   ]
  },
  {
   "cell_type": "code",
   "execution_count": 66,
   "id": "e0b7e469-a5aa-4d39-804b-f06621ff9a05",
   "metadata": {},
   "outputs": [
    {
     "data": {
      "text/plain": [
       "'2021-3-21, 2020-12-1, 2019-11-25, 2018-11'"
      ]
     },
     "execution_count": 66,
     "metadata": {},
     "output_type": "execute_result"
    }
   ],
   "source": [
    "fechas"
   ]
  },
  {
   "cell_type": "code",
   "execution_count": 67,
   "id": "imposed-clerk",
   "metadata": {},
   "outputs": [
    {
     "data": {
      "text/plain": [
       "'21/3/2021, 1/12/2020, 25/11/2019, 2018-11'"
      ]
     },
     "execution_count": 67,
     "metadata": {},
     "output_type": "execute_result"
    }
   ],
   "source": [
    "#substitución de un grupo capturado\n",
    "re.sub(\"(\\d{4})-(\\d{1,2})-(\\d{1,2})\", r\"\\3/\\2/\\1\", fechas)"
   ]
  },
  {
   "cell_type": "code",
   "execution_count": 68,
   "id": "14799662-a212-4cd4-a398-0a1ca2b74a39",
   "metadata": {},
   "outputs": [
    {
     "data": {
      "text/plain": [
       "'21/3/2021, 1/12/2020, 25/11/2019, 2018-11'"
      ]
     },
     "execution_count": 68,
     "metadata": {},
     "output_type": "execute_result"
    }
   ],
   "source": [
    "#substitución de un grupo capturado con nombre\n",
    "re.sub(\"(?P<año>\\d{4})-(?P<mes>\\d{1,2})-(?P<dia>\\d{1,2})\", r\"\\g<dia>/\\g<mes>/\\g<año>\", fechas)"
   ]
  },
  {
   "cell_type": "code",
   "execution_count": 69,
   "id": "capital-prime",
   "metadata": {},
   "outputs": [
    {
     "data": {
      "text/plain": [
       "'El SOL aparece POR la mañana entre LAS montañas y LOS ríos'"
      ]
     },
     "execution_count": 69,
     "metadata": {},
     "output_type": "execute_result"
    }
   ],
   "source": [
    "#Uso de una función sobre el texto a substituir\n",
    "def mayusculas(m):\n",
    "    return m[0].upper() #el elemento 0 de un objeto Match es el texto encontrado\n",
    "\n",
    "re.sub(r\"\\b\\w{3}\\b\", mayusculas, texto) #pasa a may. palabras de 3 letras"
   ]
  },
  {
   "cell_type": "code",
   "execution_count": 70,
   "id": "b5184976",
   "metadata": {},
   "outputs": [
    {
     "data": {
      "text/plain": [
       "'A03 es 7 veces mayor'"
      ]
     },
     "execution_count": 70,
     "metadata": {},
     "output_type": "execute_result"
    }
   ],
   "source": [
    "#podemos usar grupos etiquetados\n",
    "def expandir(m):\n",
    "    return m['letter'].upper()+\"0\"+m['digit']\n",
    "\n",
    "re.sub(r\"(?P<letter>[ab])(?P<digit>\\d)\", expandir, \"a3 es 7 veces mayor\")"
   ]
  },
  {
   "cell_type": "code",
   "execution_count": 71,
   "id": "b5184976",
   "metadata": {},
   "outputs": [
    {
     "data": {
      "text/plain": [
       "'21/03/2021, 01/12/2020, 25/11/2019, 2018-11'"
      ]
     },
     "execution_count": 71,
     "metadata": {},
     "output_type": "execute_result"
    }
   ],
   "source": [
    "#podemos usar grupos etiquetados\n",
    "def expandir(m):\n",
    "    return f\"{m['dia'].zfill(2)}/{m['mes'].zfill(2)}/{m['año']}\"\n",
    "\n",
    "re.sub(\"(?P<año>\\d{4})-(?P<mes>\\d{1,2})-(?P<dia>\\d{1,2})\", expandir, fechas)"
   ]
  },
  {
   "cell_type": "markdown",
   "id": "demonstrated-trouble",
   "metadata": {},
   "source": [
    "## Uso de RegEx en Pandas"
   ]
  },
  {
   "cell_type": "code",
   "execution_count": 72,
   "id": "fatty-flexibility",
   "metadata": {},
   "outputs": [],
   "source": [
    "import pandas as pd\n",
    "import numpy as np"
   ]
  },
  {
   "cell_type": "code",
   "execution_count": 73,
   "id": "simplified-speaker",
   "metadata": {},
   "outputs": [
    {
     "data": {
      "text/plain": [
       "0       A\n",
       "1       B\n",
       "2       C\n",
       "3    Aaba\n",
       "4    Baca\n",
       "5        \n",
       "6    <NA>\n",
       "7    CABA\n",
       "8     dog\n",
       "9     cat\n",
       "dtype: string"
      ]
     },
     "execution_count": 73,
     "metadata": {},
     "output_type": "execute_result"
    }
   ],
   "source": [
    "s = pd.Series(\n",
    "     [\"A\", \"B\", \"C\", \"Aaba\", \"Baca\", \"\", np.nan, \"CABA\", \"dog\", \"cat\"],\n",
    "     dtype=\"string\",\n",
    " )\n",
    "s"
   ]
  },
  {
   "cell_type": "markdown",
   "id": "conceptual-option",
   "metadata": {},
   "source": [
    "### `str.replace()`"
   ]
  },
  {
   "cell_type": "code",
   "execution_count": 74,
   "id": "mechanical-middle",
   "metadata": {},
   "outputs": [
    {
     "data": {
      "text/plain": [
       "0       A\n",
       "1       B\n",
       "2       C\n",
       "3      XX\n",
       "4      XX\n",
       "5        \n",
       "6    <NA>\n",
       "7     CXX\n",
       "8     dog\n",
       "9     cat\n",
       "dtype: string"
      ]
     },
     "execution_count": 74,
     "metadata": {},
     "output_type": "execute_result"
    }
   ],
   "source": [
    "s.str.replace(\"A\\w+|B\\w+\", \"XX\", regex=True)"
   ]
  },
  {
   "cell_type": "markdown",
   "id": "bored-authentication",
   "metadata": {},
   "source": [
    "### `str.extract()`y `str.extractall()`"
   ]
  },
  {
   "cell_type": "code",
   "execution_count": 75,
   "id": "right-reverse",
   "metadata": {},
   "outputs": [
    {
     "data": {
      "text/html": [
       "<div>\n",
       "<style scoped>\n",
       "    .dataframe tbody tr th:only-of-type {\n",
       "        vertical-align: middle;\n",
       "    }\n",
       "\n",
       "    .dataframe tbody tr th {\n",
       "        vertical-align: top;\n",
       "    }\n",
       "\n",
       "    .dataframe thead th {\n",
       "        text-align: right;\n",
       "    }\n",
       "</style>\n",
       "<table border=\"1\" class=\"dataframe\">\n",
       "  <thead>\n",
       "    <tr style=\"text-align: right;\">\n",
       "      <th></th>\n",
       "      <th>0</th>\n",
       "      <th>1</th>\n",
       "    </tr>\n",
       "  </thead>\n",
       "  <tbody>\n",
       "    <tr>\n",
       "      <th>0</th>\n",
       "      <td>a</td>\n",
       "      <td>1</td>\n",
       "    </tr>\n",
       "    <tr>\n",
       "      <th>1</th>\n",
       "      <td>b</td>\n",
       "      <td>2</td>\n",
       "    </tr>\n",
       "    <tr>\n",
       "      <th>2</th>\n",
       "      <td>&lt;NA&gt;</td>\n",
       "      <td>&lt;NA&gt;</td>\n",
       "    </tr>\n",
       "    <tr>\n",
       "      <th>3</th>\n",
       "      <td>&lt;NA&gt;</td>\n",
       "      <td>&lt;NA&gt;</td>\n",
       "    </tr>\n",
       "  </tbody>\n",
       "</table>\n",
       "</div>"
      ],
      "text/plain": [
       "      0     1\n",
       "0     a     1\n",
       "1     b     2\n",
       "2  <NA>  <NA>\n",
       "3  <NA>  <NA>"
      ]
     },
     "execution_count": 75,
     "metadata": {},
     "output_type": "execute_result"
    }
   ],
   "source": [
    "#The extract method accepts a regular expression with at least one capture group.\n",
    "pd.Series(\n",
    "     [\"a1\", \"b2\", \"c3\", \"ab\"],\n",
    "     dtype=\"string\",\n",
    " ).str.extract(r\"([ab])(\\d)\")"
   ]
  },
  {
   "cell_type": "code",
   "execution_count": 76,
   "id": "finished-night",
   "metadata": {},
   "outputs": [
    {
     "data": {
      "text/html": [
       "<div>\n",
       "<style scoped>\n",
       "    .dataframe tbody tr th:only-of-type {\n",
       "        vertical-align: middle;\n",
       "    }\n",
       "\n",
       "    .dataframe tbody tr th {\n",
       "        vertical-align: top;\n",
       "    }\n",
       "\n",
       "    .dataframe thead th {\n",
       "        text-align: right;\n",
       "    }\n",
       "</style>\n",
       "<table border=\"1\" class=\"dataframe\">\n",
       "  <thead>\n",
       "    <tr style=\"text-align: right;\">\n",
       "      <th></th>\n",
       "      <th>0</th>\n",
       "      <th>1</th>\n",
       "    </tr>\n",
       "  </thead>\n",
       "  <tbody>\n",
       "    <tr>\n",
       "      <th>0</th>\n",
       "      <td>a</td>\n",
       "      <td>1</td>\n",
       "    </tr>\n",
       "    <tr>\n",
       "      <th>1</th>\n",
       "      <td>b</td>\n",
       "      <td>2</td>\n",
       "    </tr>\n",
       "    <tr>\n",
       "      <th>2</th>\n",
       "      <td>&lt;NA&gt;</td>\n",
       "      <td>&lt;NA&gt;</td>\n",
       "    </tr>\n",
       "    <tr>\n",
       "      <th>3</th>\n",
       "      <td>a</td>\n",
       "      <td>&lt;NA&gt;</td>\n",
       "    </tr>\n",
       "  </tbody>\n",
       "</table>\n",
       "</div>"
      ],
      "text/plain": [
       "      0     1\n",
       "0     a     1\n",
       "1     b     2\n",
       "2  <NA>  <NA>\n",
       "3     a  <NA>"
      ]
     },
     "execution_count": 76,
     "metadata": {},
     "output_type": "execute_result"
    }
   ],
   "source": [
    "#Podemos hacer un grupo opcional.\n",
    "pd.Series(\n",
    "     [\"a1\", \"b2\", \"c3\", \"ab\"],\n",
    "     dtype=\"string\",\n",
    " ).str.extract(r\"([ab])(\\d)?\")"
   ]
  },
  {
   "cell_type": "code",
   "execution_count": 77,
   "id": "least-treat",
   "metadata": {},
   "outputs": [
    {
     "data": {
      "text/html": [
       "<div>\n",
       "<style scoped>\n",
       "    .dataframe tbody tr th:only-of-type {\n",
       "        vertical-align: middle;\n",
       "    }\n",
       "\n",
       "    .dataframe tbody tr th {\n",
       "        vertical-align: top;\n",
       "    }\n",
       "\n",
       "    .dataframe thead th {\n",
       "        text-align: right;\n",
       "    }\n",
       "</style>\n",
       "<table border=\"1\" class=\"dataframe\">\n",
       "  <thead>\n",
       "    <tr style=\"text-align: right;\">\n",
       "      <th></th>\n",
       "      <th>letter</th>\n",
       "      <th>digit</th>\n",
       "    </tr>\n",
       "  </thead>\n",
       "  <tbody>\n",
       "    <tr>\n",
       "      <th>0</th>\n",
       "      <td>a</td>\n",
       "      <td>1</td>\n",
       "    </tr>\n",
       "    <tr>\n",
       "      <th>1</th>\n",
       "      <td>b</td>\n",
       "      <td>2</td>\n",
       "    </tr>\n",
       "    <tr>\n",
       "      <th>2</th>\n",
       "      <td>&lt;NA&gt;</td>\n",
       "      <td>&lt;NA&gt;</td>\n",
       "    </tr>\n",
       "    <tr>\n",
       "      <th>3</th>\n",
       "      <td>a</td>\n",
       "      <td>&lt;NA&gt;</td>\n",
       "    </tr>\n",
       "  </tbody>\n",
       "</table>\n",
       "</div>"
      ],
      "text/plain": [
       "  letter digit\n",
       "0      a     1\n",
       "1      b     2\n",
       "2   <NA>  <NA>\n",
       "3      a  <NA>"
      ]
     },
     "execution_count": 77,
     "metadata": {},
     "output_type": "execute_result"
    }
   ],
   "source": [
    "#Podemos poner nombres a los grupos.\n",
    "pd.Series(\n",
    "     [\"a1b7\", \"b2\", \"c3\", \"ab\"],\n",
    "     dtype=\"string\",\n",
    " ).str.extract(r\"(?P<letter>[ab])(?P<digit>\\d)?\")"
   ]
  },
  {
   "cell_type": "markdown",
   "id": "ethical-first",
   "metadata": {},
   "source": [
    "The `extractall` method returns every match. The result of `extractall` is always a DataFrame with a MultiIndex on its rows. The last level of the MultiIndex is named `match` and indicates the order in the subject."
   ]
  },
  {
   "cell_type": "code",
   "execution_count": 78,
   "id": "temporal-update",
   "metadata": {},
   "outputs": [
    {
     "data": {
      "text/plain": [
       "A    a1b7\n",
       "B      b2\n",
       "C      c3\n",
       "D      ab\n",
       "dtype: string"
      ]
     },
     "execution_count": 78,
     "metadata": {},
     "output_type": "execute_result"
    }
   ],
   "source": [
    "s2 = pd.Series([\"a1b7\", \"b2\", \"c3\", \"ab\"], index=[\"A\", \"B\", \"C\", \"D\"], dtype=\"string\")\n",
    "s2"
   ]
  },
  {
   "cell_type": "code",
   "execution_count": 79,
   "id": "designed-grass",
   "metadata": {},
   "outputs": [
    {
     "data": {
      "text/html": [
       "<div>\n",
       "<style scoped>\n",
       "    .dataframe tbody tr th:only-of-type {\n",
       "        vertical-align: middle;\n",
       "    }\n",
       "\n",
       "    .dataframe tbody tr th {\n",
       "        vertical-align: top;\n",
       "    }\n",
       "\n",
       "    .dataframe thead th {\n",
       "        text-align: right;\n",
       "    }\n",
       "</style>\n",
       "<table border=\"1\" class=\"dataframe\">\n",
       "  <thead>\n",
       "    <tr style=\"text-align: right;\">\n",
       "      <th></th>\n",
       "      <th></th>\n",
       "      <th>letter</th>\n",
       "      <th>digit</th>\n",
       "    </tr>\n",
       "    <tr>\n",
       "      <th></th>\n",
       "      <th>match</th>\n",
       "      <th></th>\n",
       "      <th></th>\n",
       "    </tr>\n",
       "  </thead>\n",
       "  <tbody>\n",
       "    <tr>\n",
       "      <th rowspan=\"2\" valign=\"top\">A</th>\n",
       "      <th>0</th>\n",
       "      <td>a</td>\n",
       "      <td>1</td>\n",
       "    </tr>\n",
       "    <tr>\n",
       "      <th>1</th>\n",
       "      <td>b</td>\n",
       "      <td>7</td>\n",
       "    </tr>\n",
       "    <tr>\n",
       "      <th>B</th>\n",
       "      <th>0</th>\n",
       "      <td>b</td>\n",
       "      <td>2</td>\n",
       "    </tr>\n",
       "    <tr>\n",
       "      <th>C</th>\n",
       "      <th>0</th>\n",
       "      <td>c</td>\n",
       "      <td>3</td>\n",
       "    </tr>\n",
       "  </tbody>\n",
       "</table>\n",
       "</div>"
      ],
      "text/plain": [
       "        letter digit\n",
       "  match             \n",
       "A 0          a     1\n",
       "  1          b     7\n",
       "B 0          b     2\n",
       "C 0          c     3"
      ]
     },
     "execution_count": 79,
     "metadata": {},
     "output_type": "execute_result"
    }
   ],
   "source": [
    "s2.str.extractall(\"(?P<letter>[a-z])(?P<digit>[0-9])\")"
   ]
  },
  {
   "cell_type": "markdown",
   "id": "economic-accountability",
   "metadata": {},
   "source": [
    "### `match`, `fullmatch`, `contains`"
   ]
  },
  {
   "cell_type": "code",
   "execution_count": 80,
   "id": "boring-combat",
   "metadata": {},
   "outputs": [
    {
     "data": {
      "text/plain": [
       "0      1\n",
       "1      2\n",
       "2     3a\n",
       "3    3bc\n",
       "4    73c\n",
       "5    4dx\n",
       "6     5b\n",
       "dtype: string"
      ]
     },
     "execution_count": 80,
     "metadata": {},
     "output_type": "execute_result"
    }
   ],
   "source": [
    "s = pd.Series(\n",
    "     [\"1\", \"2\", \"3a\", \"3bc\", \"73c\", \"4dx\", \"5b\"],\n",
    "     dtype=\"string\",\n",
    " )\n",
    "s"
   ]
  },
  {
   "cell_type": "code",
   "execution_count": 81,
   "id": "periodic-myanmar",
   "metadata": {},
   "outputs": [
    {
     "data": {
      "text/html": [
       "<div>\n",
       "<style scoped>\n",
       "    .dataframe tbody tr th:only-of-type {\n",
       "        vertical-align: middle;\n",
       "    }\n",
       "\n",
       "    .dataframe tbody tr th {\n",
       "        vertical-align: top;\n",
       "    }\n",
       "\n",
       "    .dataframe thead th {\n",
       "        text-align: right;\n",
       "    }\n",
       "</style>\n",
       "<table border=\"1\" class=\"dataframe\">\n",
       "  <thead>\n",
       "    <tr style=\"text-align: right;\">\n",
       "      <th></th>\n",
       "      <th>0</th>\n",
       "      <th>1</th>\n",
       "    </tr>\n",
       "  </thead>\n",
       "  <tbody>\n",
       "    <tr>\n",
       "      <th>0</th>\n",
       "      <td>1</td>\n",
       "      <td>False</td>\n",
       "    </tr>\n",
       "    <tr>\n",
       "      <th>1</th>\n",
       "      <td>2</td>\n",
       "      <td>False</td>\n",
       "    </tr>\n",
       "    <tr>\n",
       "      <th>2</th>\n",
       "      <td>3a</td>\n",
       "      <td>True</td>\n",
       "    </tr>\n",
       "    <tr>\n",
       "      <th>3</th>\n",
       "      <td>3bc</td>\n",
       "      <td>True</td>\n",
       "    </tr>\n",
       "    <tr>\n",
       "      <th>4</th>\n",
       "      <td>73c</td>\n",
       "      <td>True</td>\n",
       "    </tr>\n",
       "    <tr>\n",
       "      <th>5</th>\n",
       "      <td>4dx</td>\n",
       "      <td>False</td>\n",
       "    </tr>\n",
       "    <tr>\n",
       "      <th>6</th>\n",
       "      <td>5b</td>\n",
       "      <td>False</td>\n",
       "    </tr>\n",
       "  </tbody>\n",
       "</table>\n",
       "</div>"
      ],
      "text/plain": [
       "     0      1\n",
       "0    1  False\n",
       "1    2  False\n",
       "2   3a   True\n",
       "3  3bc   True\n",
       "4  73c   True\n",
       "5  4dx  False\n",
       "6   5b  False"
      ]
     },
     "execution_count": 81,
     "metadata": {},
     "output_type": "execute_result"
    }
   ],
   "source": [
    "pd.concat([s,s.str.contains(r\"[0-3][a-z]\")], axis=1)"
   ]
  },
  {
   "cell_type": "code",
   "execution_count": 82,
   "id": "ideal-dietary",
   "metadata": {},
   "outputs": [
    {
     "data": {
      "text/html": [
       "<div>\n",
       "<style scoped>\n",
       "    .dataframe tbody tr th:only-of-type {\n",
       "        vertical-align: middle;\n",
       "    }\n",
       "\n",
       "    .dataframe tbody tr th {\n",
       "        vertical-align: top;\n",
       "    }\n",
       "\n",
       "    .dataframe thead th {\n",
       "        text-align: right;\n",
       "    }\n",
       "</style>\n",
       "<table border=\"1\" class=\"dataframe\">\n",
       "  <thead>\n",
       "    <tr style=\"text-align: right;\">\n",
       "      <th></th>\n",
       "      <th>0</th>\n",
       "      <th>1</th>\n",
       "    </tr>\n",
       "  </thead>\n",
       "  <tbody>\n",
       "    <tr>\n",
       "      <th>0</th>\n",
       "      <td>1</td>\n",
       "      <td>False</td>\n",
       "    </tr>\n",
       "    <tr>\n",
       "      <th>1</th>\n",
       "      <td>2</td>\n",
       "      <td>False</td>\n",
       "    </tr>\n",
       "    <tr>\n",
       "      <th>2</th>\n",
       "      <td>3a</td>\n",
       "      <td>True</td>\n",
       "    </tr>\n",
       "    <tr>\n",
       "      <th>3</th>\n",
       "      <td>3bc</td>\n",
       "      <td>True</td>\n",
       "    </tr>\n",
       "    <tr>\n",
       "      <th>4</th>\n",
       "      <td>73c</td>\n",
       "      <td>False</td>\n",
       "    </tr>\n",
       "    <tr>\n",
       "      <th>5</th>\n",
       "      <td>4dx</td>\n",
       "      <td>False</td>\n",
       "    </tr>\n",
       "    <tr>\n",
       "      <th>6</th>\n",
       "      <td>5b</td>\n",
       "      <td>False</td>\n",
       "    </tr>\n",
       "  </tbody>\n",
       "</table>\n",
       "</div>"
      ],
      "text/plain": [
       "     0      1\n",
       "0    1  False\n",
       "1    2  False\n",
       "2   3a   True\n",
       "3  3bc   True\n",
       "4  73c  False\n",
       "5  4dx  False\n",
       "6   5b  False"
      ]
     },
     "execution_count": 82,
     "metadata": {},
     "output_type": "execute_result"
    }
   ],
   "source": [
    "pd.concat([s,s.str.match(r\"[0-3][a-z]\")], axis=1)"
   ]
  },
  {
   "cell_type": "code",
   "execution_count": 83,
   "id": "advisory-celebrity",
   "metadata": {},
   "outputs": [
    {
     "data": {
      "text/html": [
       "<div>\n",
       "<style scoped>\n",
       "    .dataframe tbody tr th:only-of-type {\n",
       "        vertical-align: middle;\n",
       "    }\n",
       "\n",
       "    .dataframe tbody tr th {\n",
       "        vertical-align: top;\n",
       "    }\n",
       "\n",
       "    .dataframe thead th {\n",
       "        text-align: right;\n",
       "    }\n",
       "</style>\n",
       "<table border=\"1\" class=\"dataframe\">\n",
       "  <thead>\n",
       "    <tr style=\"text-align: right;\">\n",
       "      <th></th>\n",
       "      <th>0</th>\n",
       "      <th>1</th>\n",
       "    </tr>\n",
       "  </thead>\n",
       "  <tbody>\n",
       "    <tr>\n",
       "      <th>0</th>\n",
       "      <td>1</td>\n",
       "      <td>False</td>\n",
       "    </tr>\n",
       "    <tr>\n",
       "      <th>1</th>\n",
       "      <td>2</td>\n",
       "      <td>False</td>\n",
       "    </tr>\n",
       "    <tr>\n",
       "      <th>2</th>\n",
       "      <td>3a</td>\n",
       "      <td>True</td>\n",
       "    </tr>\n",
       "    <tr>\n",
       "      <th>3</th>\n",
       "      <td>3bc</td>\n",
       "      <td>False</td>\n",
       "    </tr>\n",
       "    <tr>\n",
       "      <th>4</th>\n",
       "      <td>73c</td>\n",
       "      <td>False</td>\n",
       "    </tr>\n",
       "    <tr>\n",
       "      <th>5</th>\n",
       "      <td>4dx</td>\n",
       "      <td>False</td>\n",
       "    </tr>\n",
       "    <tr>\n",
       "      <th>6</th>\n",
       "      <td>5b</td>\n",
       "      <td>False</td>\n",
       "    </tr>\n",
       "  </tbody>\n",
       "</table>\n",
       "</div>"
      ],
      "text/plain": [
       "     0      1\n",
       "0    1  False\n",
       "1    2  False\n",
       "2   3a   True\n",
       "3  3bc  False\n",
       "4  73c  False\n",
       "5  4dx  False\n",
       "6   5b  False"
      ]
     },
     "execution_count": 83,
     "metadata": {},
     "output_type": "execute_result"
    }
   ],
   "source": [
    "pd.concat([s,s.str.fullmatch(r\"[0-3][a-z]\")], axis=1)"
   ]
  },
  {
   "cell_type": "code",
   "execution_count": null,
   "id": "25751c63",
   "metadata": {},
   "outputs": [],
   "source": []
  }
 ],
 "metadata": {
  "kernelspec": {
   "display_name": "base",
   "language": "python",
   "name": "python3"
  },
  "language_info": {
   "codemirror_mode": {
    "name": "ipython",
    "version": 3
   },
   "file_extension": ".py",
   "mimetype": "text/x-python",
   "name": "python",
   "nbconvert_exporter": "python",
   "pygments_lexer": "ipython3",
   "version": "3.9.13"
  },
  "vscode": {
   "interpreter": {
    "hash": "855036d20c09f14dc55453b243fa8b8fe7287474f2d8c02e801e298d2f9425a8"
   }
  }
 },
 "nbformat": 4,
 "nbformat_minor": 5
}
