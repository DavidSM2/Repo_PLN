{
 "cells": [
  {
   "cell_type": "markdown",
   "metadata": {},
   "source": [
    "# Búsqueda de texto (*information retrieval*)\n",
    "Vamos a usar el algoritmo LSI para realizar una búsqueda indexada de textos similares. Versión modificada para usar matriz TFIDF\n",
    "### Cargamos librerías"
   ]
  },
  {
   "cell_type": "code",
   "execution_count": 1,
   "metadata": {},
   "outputs": [],
   "source": [
    "import os\n",
    "import re\n",
    "import numpy as np\n",
    "import pandas as pd\n",
    "import warnings\n",
    "\n",
    "# Gensim\n",
    "import gensim\n",
    "import gensim.corpora as corpora\n",
    "\n",
    "from gensim.models import LsiModel\n",
    "warnings.filterwarnings('ignore')\n",
    "\n",
    "# spacy para lematizar\n",
    "import spacy"
   ]
  },
  {
   "cell_type": "markdown",
   "metadata": {},
   "source": [
    "Utilizamos un generador para obtener los documentos del Corpus línea a línea desde el archivo del conjunto de ejemplo y convertirlos en un listado de tokens."
   ]
  },
  {
   "cell_type": "code",
   "execution_count": 2,
   "metadata": {},
   "outputs": [],
   "source": [
    "nlp = spacy.load('en_core_web_md', disable=['parser', 'ner'])\n",
    "stop_words = [word.text for word in nlp.vocab if word.is_stop] #listado de stop-words\n",
    "\n",
    "def lemmatize_doc(text, allowed_postags=['NOUN', 'PROPN', 'ADJ', 'VERB', 'ADV']):\n",
    "    \"\"\"Función que devuelve el lema de una string,\n",
    "    excluyendo las palabras cuyo POS_TAG no está en la lista\"\"\"\n",
    "    text_out = [token.lemma_.lower() for token in nlp(text) if token.pos_ in allowed_postags and len(token.lemma_)>3]\n",
    "    return text_out\n",
    "            \n",
    "def build_texts(fname):\n",
    "    \"\"\"\n",
    "    Generador que devuelve el texto tokenizado a partir de un archivo\n",
    "    línea a línea\n",
    "    \"\"\"\n",
    "    with open(fname) as f:\n",
    "        for line in f:\n",
    "            yield lemmatize_doc(line)"
   ]
  },
  {
   "cell_type": "code",
   "execution_count": 3,
   "metadata": {},
   "outputs": [],
   "source": [
    "data_dir = '{}'.format(os.sep).join([gensim.__path__[0], 'test', 'test_data'])\n",
    "lee_data_file = data_dir + os.sep + 'lee_background.cor'"
   ]
  },
  {
   "cell_type": "code",
   "execution_count": 4,
   "metadata": {},
   "outputs": [],
   "source": [
    "texto=build_texts(lee_data_file)"
   ]
  },
  {
   "cell_type": "markdown",
   "metadata": {},
   "source": [
    "### Creamos el diccionario y el corpus para Topic Modeling\n",
    "Las dos entradas para el modelo LDA son un diccionario (id2word) y un corpus de `gensim`.  "
   ]
  },
  {
   "cell_type": "code",
   "execution_count": 18,
   "metadata": {},
   "outputs": [],
   "source": [
    "class TFIDF_Corpus(object):\n",
    "    \"\"\"\n",
    "    Iterable: en cada iteración devuelve el vector TF-IDF\n",
    "    del siguiente documento en el corpus.\n",
    "    El corpus es el listado de críticas alojadas en el directorio\n",
    "    pasado como argumento al instanciar la clase.\n",
    "    \n",
    "    Procesa un documento cada vez, así\n",
    "    nunca carga el corpus entero en RAM.\n",
    "    \"\"\"\n",
    "    def __init__(self, filename):\n",
    "        self.filename = filename\n",
    "        #creamos bigramas y trigramas\n",
    "        self.bigram = gensim.models.Phrases(build_texts(self.filename), min_count=5, threshold=50) # higher threshold fewer phrases.\n",
    "        #optimizamos una vez entreando\n",
    "        self.bigram_mod = gensim.models.phrases.Phraser(self.bigram)\n",
    "\n",
    "        self.trigram = gensim.models.Phrases(self.bigram_mod[build_texts(self.filename)], min_count=5, threshold=50)  \n",
    "        self.trigram_mod = gensim.models.phrases.Phraser(self.trigram)\n",
    "        #crea el diccionario = mapeo de documentos a sparse vectors\n",
    "        self.diccionario = gensim.corpora.Dictionary(\n",
    "            self.trigram_mod[map(lambda x: self.bigram_mod[x], build_texts(self.filename))])\n",
    "        #calculamos el modelo TFIDF\n",
    "        self.corpus_bow = (self.diccionario.doc2bow(text) for text in\n",
    "                           self.trigram_mod[map(lambda x: self.bigram_mod[x], build_texts(self.filename))])\n",
    "        self.tfidf = gensim.models.TfidfModel(self.corpus_bow)\n",
    "        \n",
    "    def __len__(self):\n",
    "        #necesitamos saber la longitud del corpus para visualizar con pyLDAvis\n",
    "        return self.diccionario.num_docs\n",
    "    \n",
    "    def __iter__(self):\n",
    "        \"\"\"\n",
    "        __iter__ es un iterable => TFIDF_Corpus es un streamed iterable.\n",
    "        \"\"\"\n",
    "        for tokens in build_texts(self.filename):\n",
    "            # transforma cada doc (lista de tokens) en un vector sparse uno a uno\n",
    "            yield self.tfidf[self.diccionario.doc2bow(self.trigram_mod[self.bigram_mod[tokens]])]"
   ]
  },
  {
   "cell_type": "code",
   "execution_count": 19,
   "metadata": {},
   "outputs": [],
   "source": [
    "# Crea diccionario\n",
    "corpus_tfidf = TFIDF_Corpus(lee_data_file)\n",
    "\n"
   ]
  },
  {
   "cell_type": "code",
   "execution_count": 20,
   "metadata": {},
   "outputs": [
    {
     "name": "stdout",
     "output_type": "stream",
     "text": [
      "[(0, 0.12872502721369006), (1, 0.05823828190334948), (2, 0.07029327330225427), (3, 0.09065611929419445), (4, 0.07672275182325156), (5, 0.06153697834251972), (6, 0.1415584266049415), (7, 0.07077921330247075), (8, 0.07077921330247075), (9, 0.20397061560841767), (10, 0.08332014470159202), (11, 0.03136359321301515), (12, 0.04992408315877995), (13, 0.08332014470159202), (14, 0.10319705069331572), (15, 0.04290834240456335), (16, 0.07811518789507318), (17, 0.05679009004152465), (18, 0.05303332509683067), (19, 0.10319705069331572), (20, 0.05544927380368462), (21, 0.04811329921108218), (22, 0.06799020520280588), (23, 0.05090230731074704), (24, 0.10319705069331572), (25, 0.07407790974164098), (26, 0.1415584266049415), (27, 0.05544927380368462), (28, 0.05823828190334948), (29, 0.06153697834251972), (30, 0.07407790974164098), (31, 0.059812556084034345), (32, 0.159099975290492), (33, 0.10319705069331572), (34, 0.27576869743931665), (35, 0.06344323870986832), (36, 0.0838543868957644), (37, 0.10319705069331572), (38, 0.08332014470159202), (39, 0.20639410138663145), (40, 0.10319705069331572), (41, 0.09065611929419445), (42, 0.09065611929419445), (43, 0.08332014470159202), (44, 0.10319705069331572), (45, 0.14815581948328196), (46, 0.22223372922492293), (47, 0.12872502721369006), (48, 0.06153697834251972), (49, 0.1813122385883889), (50, 0.05193645960473793), (51, 0.07407790974164098), (52, 0.07407790974164098), (53, 0.09065611929419445), (54, 0.03738315175965867), (55, 0.13114851299190386), (56, 0.06799020520280588), (57, 0.0404923936977094), (58, 0.02508186279824253), (59, 0.09065611929419445), (60, 0.04290834240456335), (61, 0.10319705069331572), (62, 0.20639410138663145), (63, 0.10319705069331572), (64, 0.046934854274108914), (65, 0.04899604694339845), (66, 0.04899604694339845), (67, 0.07077921330247075), (68, 0.04227344429518599), (69, 0.09065611929419445), (70, 0.10319705069331572), (71, 0.037865653408041676), (72, 0.041230975411971384), (73, 0.03557236781196091), (74, 0.05823828190334948), (75, 0.14815581948328196), (76, 0.06799020520280588), (77, 0.06557425649595193), (78, 0.21233763990741225), (79, 0.05420100374991728), (80, 0.07811518789507318), (81, 0.06153697834251972), (82, 0.10319705069331572), (83, 0.07407790974164098), (84, 0.06557425649595193), (85, 0.07114473562392182), (86, 0.16909377718074395), (87, 0.10606665019366134), (88, 0.05544927380368462), (89, 0.03691318404980095), (90, 0.03473069328579181), (91, 0.059812556084034345), (92, 0.06799020520280588), (93, 0.05303332509683067), (94, 0.11818658461684999), (95, 0.05679009004152465), (96, 0.07811518789507318), (97, 0.029423227765751344), (98, 0.05420100374991728), (99, 0.07077921330247075), (100, 0.10319705069331572), (101, 0.07811518789507318), (102, 0.05823828190334948), (103, 0.07077921330247075), (104, 0.10180461462149408), (105, 0.10840200749983456), (106, 0.018484469919902068)]\n"
     ]
    }
   ],
   "source": [
    "# Vemos como ejemplo el primer doc\n",
    "for c in corpus_tfidf:\n",
    "    print(c)\n",
    "    break"
   ]
  },
  {
   "cell_type": "markdown",
   "metadata": {},
   "source": [
    "Recuerda que en el modelo BoW de `gensim` el primer elemento de cada tupla es el ID del término en el diccionario, y el segundo su frecuencia en el doc.  \n",
    "`diccionario[ID]` devuelve el término con índice ID en el vocabulario:"
   ]
  },
  {
   "cell_type": "code",
   "execution_count": 21,
   "metadata": {},
   "outputs": [
    {
     "data": {
      "text/plain": [
       "5215"
      ]
     },
     "execution_count": 21,
     "metadata": {},
     "output_type": "execute_result"
    }
   ],
   "source": [
    "len(corpus_tfidf.diccionario.token2id)"
   ]
  },
  {
   "cell_type": "code",
   "execution_count": 22,
   "metadata": {},
   "outputs": [
    {
     "data": {
      "text/plain": [
       "300"
      ]
     },
     "execution_count": 22,
     "metadata": {},
     "output_type": "execute_result"
    }
   ],
   "source": [
    "corpus_tfidf.tfidf.num_docs"
   ]
  },
  {
   "cell_type": "markdown",
   "metadata": {},
   "source": [
    "## Topic modeling\n",
    "\n",
    "### Modelo LSI\n",
    "Este modelo ordena los temas y saca un listado ordenado. Hay que especificar el número de topics.\n"
   ]
  },
  {
   "cell_type": "code",
   "execution_count": 24,
   "metadata": {},
   "outputs": [],
   "source": [
    "lsimodel = LsiModel(corpus=corpus_tfidf, num_topics=100, id2word=corpus_tfidf.diccionario)"
   ]
  },
  {
   "cell_type": "code",
   "execution_count": 25,
   "metadata": {},
   "outputs": [
    {
     "name": "stdout",
     "output_type": "stream",
     "text": [
      "[(0, -0.18522639924440773), (1, -0.09941138087729842), (2, 8.67266639211608e-05), (3, -0.05342127327638134), (4, -0.3132242847892107), (5, 0.28510302553833017), (6, 0.19251842730111027), (7, 0.01592455349799725), (8, -0.03634128387015095), (9, 0.1015789180979052), (10, 0.001044617445644786), (11, 0.09436068524524494), (12, 0.07472529983482311), (13, -0.14724256657628074), (14, 0.009283053973501532), (15, 0.021091856710228493), (16, 0.08470418390550202), (17, -0.02242799233901667), (18, -0.010419264443288796), (19, -0.007482915013074953), (20, 0.05337415027255055), (21, -0.012551836680758153), (22, 0.10773371782371018), (23, -0.07444874105052922), (24, -0.09815831491747305), (25, 0.0025985507882866337), (26, -0.12068865148977245), (27, -0.030278162767596824), (28, 0.01284002136943284), (29, 0.006849772755406738), (30, -0.054444140250587046), (31, -0.04299803394687558), (32, 0.02136032346887217), (33, 0.03161889334153835), (34, -0.04431778701857877), (35, 0.033950272741759546), (36, 0.037753251474078986), (37, -0.05360074669244381), (38, 0.04296239435195072), (39, 0.0017510730849418527), (40, -0.043173910220742184), (41, 0.015612751014543586), (42, 0.019148380672999406), (43, 0.053713293842660235), (44, -0.02640734655366532), (45, -0.015353693590359445), (46, 0.027622333363689182), (47, -0.018338425263751172), (48, -0.03951283466441243), (49, 0.006512858917646054), (50, -0.009107217141457184), (51, 0.03037607803177432), (52, -0.012634383989949389), (53, 0.012502510782409378), (54, 0.03453875139842526), (55, -0.030830544214737722), (56, 0.004514630235941766), (57, -0.0069480763166317435), (58, 0.03644762205069479), (59, 0.043192237850367604), (60, -0.005209128258248101), (61, 0.07937046844634797), (62, -0.0275134932127502), (63, -0.050329718196360805), (64, -0.024874386715519826), (65, 0.039520648577092615), (66, 0.03957332451408867), (67, -0.0030409621051985486), (68, 0.006228415322290525), (69, -0.02294575265268204), (70, 0.023463766855577838), (71, 0.024002529674634655), (72, -0.0861557259995672), (73, 0.031348602135714616), (74, 0.00015581117977934885), (75, -0.03772561798833306), (76, -0.016932634475590132), (77, 0.009426866815341682), (78, -0.05811127249306168), (79, -6.147703654335698e-05), (80, -0.056227870641606795), (81, 0.04162900823378878), (82, 0.01020807658073761), (83, -0.04371155174823606), (84, 0.030400472734690587), (85, 0.021041740572400956), (86, 0.010513676876176445), (87, -0.012505053086552224), (88, -0.012744029421664341), (89, 0.07760606237876343), (90, -0.03769130564014871), (91, -0.04481189426543863), (92, 0.08047748285853225), (93, 0.007620743251557365), (94, -0.0724479904275216), (95, 0.07439530951013631), (96, -0.049641146726878665), (97, 0.026522872258775494), (98, 0.006551331260283297), (99, -0.011539973912795053)]\n"
     ]
    }
   ],
   "source": [
    "for c in corpus_tfidf:\n",
    "    print(lsimodel[c])\n",
    "    break"
   ]
  },
  {
   "cell_type": "markdown",
   "metadata": {},
   "source": [
    "##  Búsqueda de documentos por temática (*information retrieval*)\n",
    "Para buscar los documentos más similares a un documento dado, hay que trabajar con el modelo *space vector* generado por el algoritmo LSI. Primero, generamos una matriz LSI para todos los documentos del corpus. Para buscar el documento más parecido a un nuevo texto, calculamos su vector LSI y buscamos cuál es el más cercano dentro de la matriz LSI del corpus."
   ]
  },
  {
   "cell_type": "code",
   "execution_count": 26,
   "metadata": {},
   "outputs": [],
   "source": [
    "#creamos un índice de similitud entre los documentos del corpus\n",
    "from gensim.similarities import MatrixSimilarity\n",
    "\n",
    "#creamos corpus transformado\n",
    "lsi_corpus = lsimodel[corpus_tfidf]"
   ]
  },
  {
   "cell_type": "code",
   "execution_count": 27,
   "metadata": {},
   "outputs": [
    {
     "data": {
      "text/plain": [
       "<gensim.interfaces.TransformedCorpus at 0x1d76d7c40>"
      ]
     },
     "execution_count": 27,
     "metadata": {},
     "output_type": "execute_result"
    }
   ],
   "source": [
    "lsi_corpus"
   ]
  },
  {
   "cell_type": "code",
   "execution_count": 28,
   "metadata": {},
   "outputs": [
    {
     "name": "stdout",
     "output_type": "stream",
     "text": [
      "[(0, -0.18522639924440773), (1, -0.09941138087729842), (2, 8.67266639211608e-05), (3, -0.05342127327638134), (4, -0.3132242847892107), (5, 0.28510302553833017), (6, 0.19251842730111027), (7, 0.01592455349799725), (8, -0.03634128387015095), (9, 0.1015789180979052), (10, 0.001044617445644786), (11, 0.09436068524524494), (12, 0.07472529983482311), (13, -0.14724256657628074), (14, 0.009283053973501532), (15, 0.021091856710228493), (16, 0.08470418390550202), (17, -0.02242799233901667), (18, -0.010419264443288796), (19, -0.007482915013074953), (20, 0.05337415027255055), (21, -0.012551836680758153), (22, 0.10773371782371018), (23, -0.07444874105052922), (24, -0.09815831491747305), (25, 0.0025985507882866337), (26, -0.12068865148977245), (27, -0.030278162767596824), (28, 0.01284002136943284), (29, 0.006849772755406738), (30, -0.054444140250587046), (31, -0.04299803394687558), (32, 0.02136032346887217), (33, 0.03161889334153835), (34, -0.04431778701857877), (35, 0.033950272741759546), (36, 0.037753251474078986), (37, -0.05360074669244381), (38, 0.04296239435195072), (39, 0.0017510730849418527), (40, -0.043173910220742184), (41, 0.015612751014543586), (42, 0.019148380672999406), (43, 0.053713293842660235), (44, -0.02640734655366532), (45, -0.015353693590359445), (46, 0.027622333363689182), (47, -0.018338425263751172), (48, -0.03951283466441243), (49, 0.006512858917646054), (50, -0.009107217141457184), (51, 0.03037607803177432), (52, -0.012634383989949389), (53, 0.012502510782409378), (54, 0.03453875139842526), (55, -0.030830544214737722), (56, 0.004514630235941766), (57, -0.0069480763166317435), (58, 0.03644762205069479), (59, 0.043192237850367604), (60, -0.005209128258248101), (61, 0.07937046844634797), (62, -0.0275134932127502), (63, -0.050329718196360805), (64, -0.024874386715519826), (65, 0.039520648577092615), (66, 0.03957332451408867), (67, -0.0030409621051985486), (68, 0.006228415322290525), (69, -0.02294575265268204), (70, 0.023463766855577838), (71, 0.024002529674634655), (72, -0.0861557259995672), (73, 0.031348602135714616), (74, 0.00015581117977934885), (75, -0.03772561798833306), (76, -0.016932634475590132), (77, 0.009426866815341682), (78, -0.05811127249306168), (79, -6.147703654335698e-05), (80, -0.056227870641606795), (81, 0.04162900823378878), (82, 0.01020807658073761), (83, -0.04371155174823606), (84, 0.030400472734690587), (85, 0.021041740572400956), (86, 0.010513676876176445), (87, -0.012505053086552224), (88, -0.012744029421664341), (89, 0.07760606237876343), (90, -0.03769130564014871), (91, -0.04481189426543863), (92, 0.08047748285853225), (93, 0.007620743251557365), (94, -0.0724479904275216), (95, 0.07439530951013631), (96, -0.049641146726878665), (97, 0.026522872258775494), (98, 0.006551331260283297), (99, -0.011539973912795053)]\n"
     ]
    }
   ],
   "source": [
    "#primer documento, como BOW_corpus no es indexable no podemos indexar tampoco lsi_corpus\n",
    "for i in lsi_corpus:\n",
    "    print(i)\n",
    "    break"
   ]
  },
  {
   "cell_type": "code",
   "execution_count": 29,
   "metadata": {},
   "outputs": [],
   "source": [
    "#podemos recuperar los documentos que queramos en una lista con las herramientas de iteración\n",
    "from itertools import islice\n",
    "\n",
    "primer_doc = islice(lsi_corpus, 1) #devuelve un objeto de tipo generador"
   ]
  },
  {
   "cell_type": "code",
   "execution_count": 30,
   "metadata": {},
   "outputs": [
    {
     "data": {
      "text/plain": [
       "[(0, -0.18522639924440773),\n",
       " (1, -0.09941138087729842),\n",
       " (2, 8.67266639211608e-05),\n",
       " (3, -0.05342127327638134),\n",
       " (4, -0.3132242847892107),\n",
       " (5, 0.28510302553833017),\n",
       " (6, 0.19251842730111027),\n",
       " (7, 0.01592455349799725),\n",
       " (8, -0.03634128387015095),\n",
       " (9, 0.1015789180979052),\n",
       " (10, 0.001044617445644786),\n",
       " (11, 0.09436068524524494),\n",
       " (12, 0.07472529983482311),\n",
       " (13, -0.14724256657628074),\n",
       " (14, 0.009283053973501532),\n",
       " (15, 0.021091856710228493),\n",
       " (16, 0.08470418390550202),\n",
       " (17, -0.02242799233901667),\n",
       " (18, -0.010419264443288796),\n",
       " (19, -0.007482915013074953),\n",
       " (20, 0.05337415027255055),\n",
       " (21, -0.012551836680758153),\n",
       " (22, 0.10773371782371018),\n",
       " (23, -0.07444874105052922),\n",
       " (24, -0.09815831491747305),\n",
       " (25, 0.0025985507882866337),\n",
       " (26, -0.12068865148977245),\n",
       " (27, -0.030278162767596824),\n",
       " (28, 0.01284002136943284),\n",
       " (29, 0.006849772755406738),\n",
       " (30, -0.054444140250587046),\n",
       " (31, -0.04299803394687558),\n",
       " (32, 0.02136032346887217),\n",
       " (33, 0.03161889334153835),\n",
       " (34, -0.04431778701857877),\n",
       " (35, 0.033950272741759546),\n",
       " (36, 0.037753251474078986),\n",
       " (37, -0.05360074669244381),\n",
       " (38, 0.04296239435195072),\n",
       " (39, 0.0017510730849418527),\n",
       " (40, -0.043173910220742184),\n",
       " (41, 0.015612751014543586),\n",
       " (42, 0.019148380672999406),\n",
       " (43, 0.053713293842660235),\n",
       " (44, -0.02640734655366532),\n",
       " (45, -0.015353693590359445),\n",
       " (46, 0.027622333363689182),\n",
       " (47, -0.018338425263751172),\n",
       " (48, -0.03951283466441243),\n",
       " (49, 0.006512858917646054),\n",
       " (50, -0.009107217141457184),\n",
       " (51, 0.03037607803177432),\n",
       " (52, -0.012634383989949389),\n",
       " (53, 0.012502510782409378),\n",
       " (54, 0.03453875139842526),\n",
       " (55, -0.030830544214737722),\n",
       " (56, 0.004514630235941766),\n",
       " (57, -0.0069480763166317435),\n",
       " (58, 0.03644762205069479),\n",
       " (59, 0.043192237850367604),\n",
       " (60, -0.005209128258248101),\n",
       " (61, 0.07937046844634797),\n",
       " (62, -0.0275134932127502),\n",
       " (63, -0.050329718196360805),\n",
       " (64, -0.024874386715519826),\n",
       " (65, 0.039520648577092615),\n",
       " (66, 0.03957332451408867),\n",
       " (67, -0.0030409621051985486),\n",
       " (68, 0.006228415322290525),\n",
       " (69, -0.02294575265268204),\n",
       " (70, 0.023463766855577838),\n",
       " (71, 0.024002529674634655),\n",
       " (72, -0.0861557259995672),\n",
       " (73, 0.031348602135714616),\n",
       " (74, 0.00015581117977934885),\n",
       " (75, -0.03772561798833306),\n",
       " (76, -0.016932634475590132),\n",
       " (77, 0.009426866815341682),\n",
       " (78, -0.05811127249306168),\n",
       " (79, -6.147703654335698e-05),\n",
       " (80, -0.056227870641606795),\n",
       " (81, 0.04162900823378878),\n",
       " (82, 0.01020807658073761),\n",
       " (83, -0.04371155174823606),\n",
       " (84, 0.030400472734690587),\n",
       " (85, 0.021041740572400956),\n",
       " (86, 0.010513676876176445),\n",
       " (87, -0.012505053086552224),\n",
       " (88, -0.012744029421664341),\n",
       " (89, 0.07760606237876343),\n",
       " (90, -0.03769130564014871),\n",
       " (91, -0.04481189426543863),\n",
       " (92, 0.08047748285853225),\n",
       " (93, 0.007620743251557365),\n",
       " (94, -0.0724479904275216),\n",
       " (95, 0.07439530951013631),\n",
       " (96, -0.049641146726878665),\n",
       " (97, 0.026522872258775494),\n",
       " (98, 0.006551331260283297),\n",
       " (99, -0.011539973912795053)]"
      ]
     },
     "execution_count": 30,
     "metadata": {},
     "output_type": "execute_result"
    }
   ],
   "source": [
    "next(primer_doc) #alternativamente list(primer_doc)[0]"
   ]
  },
  {
   "cell_type": "code",
   "execution_count": 33,
   "metadata": {},
   "outputs": [],
   "source": [
    "#creamos índice\n",
    "index = MatrixSimilarity(lsi_corpus)"
   ]
  },
  {
   "cell_type": "code",
   "execution_count": 34,
   "metadata": {},
   "outputs": [
    {
     "data": {
      "text/plain": [
       "<gensim.similarities.docsim.MatrixSimilarity at 0x1d76ac280>"
      ]
     },
     "execution_count": 34,
     "metadata": {},
     "output_type": "execute_result"
    }
   ],
   "source": [
    "index"
   ]
  },
  {
   "cell_type": "markdown",
   "metadata": {},
   "source": [
    "Podemos ver la similitud de cualquier documento del corpus al resto de documentos"
   ]
  },
  {
   "cell_type": "code",
   "execution_count": 35,
   "metadata": {},
   "outputs": [
    {
     "name": "stdout",
     "output_type": "stream",
     "text": [
      "[(0, 0.9999999), (1, 0.046523854), (2, 0.083559826), (3, -0.024700314), (4, 0.111388355), (5, 0.04393145), (6, 0.050796308), (7, 0.16055049), (8, 0.85660654), (9, 0.34105706), (10, 0.26832837), (11, 0.22784303), (12, -0.009869134), (13, 0.07089712), (14, 0.19053873), (15, 0.0014436096), (16, 0.057745647), (17, -0.012509026), (18, 0.0783613), (19, 0.39336553), (20, -0.010620497), (21, 0.14694999), (22, 0.012844235), (23, -0.0037965085), (24, 0.040526506), (25, 0.45405835), (26, -0.018272668), (27, 0.011634372), (28, 0.066841386), (29, 0.12583002), (30, -0.03196497), (31, 0.055385564), (32, 0.0943014), (33, 0.7800227), (34, 0.013477191), (35, 0.0394985), (36, 0.005104189), (37, 0.03823734), (38, 0.034502186), (39, 0.06341195), (40, 0.80324656), (41, 0.04257937), (42, 0.024793427), (43, 0.13223088), (44, 0.1884181), (45, 0.030847182), (46, 0.16265452), (47, 0.08870953), (48, 0.8516284), (49, 0.0714974), (50, 0.04258704), (51, 0.11310816), (52, 0.09289202), (53, -0.0035911575), (54, 0.07434354), (55, 0.034710996), (56, -0.03447389), (57, 0.003433369), (58, 0.050265167), (59, 0.0249001), (60, 0.10447753), (61, 0.035713576), (62, 0.11742759), (63, 0.063335225), (64, 0.053046472), (65, 0.032390755), (66, 0.05225221), (67, -0.023674164), (68, -0.008221626), (69, 0.086208075), (70, -0.0030818759), (71, -0.03774855), (72, 0.027824678), (73, -0.0006561652), (74, 0.043722086), (75, 0.02686348), (76, 0.031162545), (77, 0.021576554), (78, 0.03464901), (79, -0.042198673), (80, 0.0037800819), (81, 0.17247242), (82, 0.14706144), (83, 0.039409734), (84, 0.05076602), (85, 0.042667046), (86, 0.047142304), (87, 0.06479026), (88, 0.05135572), (89, 0.0045007914), (90, -0.016506515), (91, 0.11569371), (92, -0.051242825), (93, 0.009174164), (94, 0.016677774), (95, 0.03283343), (96, 0.09769301), (97, -0.0050322562), (98, 0.056691308), (99, 0.08757533), (100, 0.025929851), (101, 0.027148053), (102, 0.038049478), (103, 0.021252695), (104, 0.028866662), (105, 0.124313965), (106, 0.05912023), (107, 0.0676039), (108, 0.004521072), (109, 0.37516898), (110, 0.0023905914), (111, 0.032988183), (112, 0.028866662), (113, 0.21451034), (114, 0.12518626), (115, 0.04127293), (116, 0.066819236), (117, 0.029745255), (118, 0.009181498), (119, 0.04127293), (120, 0.029745255), (121, 0.022460952), (122, 0.11823519), (123, 0.03163407), (124, -0.005110532), (125, 0.03918636), (126, 0.08053757), (127, 0.055164166), (128, 0.0071011037), (129, 0.08812426), (130, 0.044430725), (131, 0.054959804), (132, 0.024359105), (133, 0.15599708), (134, 0.02712069), (135, 0.018105019), (136, -0.054441974), (137, 0.023283293), (138, 0.100573465), (139, 0.06033928), (140, 0.07984803), (141, -0.0021398365), (142, 0.08258127), (143, 0.037774824), (144, 0.14060868), (145, 0.07874827), (146, 0.015727468), (147, 0.014905863), (148, -0.012480982), (149, 0.105748706), (150, 0.021699816), (151, 0.011585832), (152, 0.05825658), (153, 0.026976835), (154, 0.007531956), (155, 0.015683081), (156, 0.021699816), (157, 0.013072364), (158, 0.010132866), (159, 0.03481029), (160, -0.008823229), (161, -0.009875929), (162, -0.07195762), (163, 0.04915056), (164, -0.012577118), (165, 0.039900213), (166, 0.0014652219), (167, -0.011193972), (168, 0.0025339797), (169, 0.05016453), (170, 0.014813662), (171, 0.17069894), (172, 0.113744885), (173, 0.0187434), (174, 0.055389777), (175, 0.018042408), (176, 0.046756737), (177, 0.06061197), (178, -0.038504355), (179, 0.079687394), (180, 0.053291537), (181, 0.08128689), (182, 0.009107676), (183, 0.055651285), (184, 0.06941446), (185, 0.013024431), (186, 0.016154032), (187, -0.009136409), (188, 0.14507097), (189, 0.18423982), (190, -0.05645547), (191, 0.015219774), (192, 0.044736966), (193, 0.11033501), (194, 0.011581205), (195, -0.018677395), (196, 0.051050264), (197, 0.0092199), (198, 0.104977384), (199, 0.0041498393), (200, 0.022993997), (201, 0.03898823), (202, 0.109985456), (203, 0.026477812), (204, -0.048128672), (205, 0.0629448), (206, 0.017625825), (207, 0.052700296), (208, -0.010107905), (209, 0.0128736645), (210, 0.010912269), (211, 0.08782494), (212, -0.033316053), (213, 0.07213494), (214, -0.009727426), (215, -0.0011521354), (216, 0.01329891), (217, 0.005016975), (218, 0.025556635), (219, 0.09703684), (220, 0.0113002695), (221, 0.00940837), (222, -0.058868583), (223, 0.15238762), (224, -0.0670513), (225, 0.007462647), (226, 0.07405548), (227, 0.0342193), (228, 0.041141924), (229, 0.02751797), (230, 0.061517246), (231, 0.030366065), (232, 0.0027830973), (233, 0.08978434), (234, 0.07867882), (235, 0.0018960154), (236, 0.061517246), (237, -0.0102507025), (238, 0.020942595), (239, 0.04707902), (240, 0.007975662), (241, 0.003019819), (242, -0.030610766), (243, 0.08739157), (244, 0.04921867), (245, -2.9042363e-05), (246, 0.024547543), (247, -0.006629627), (248, 0.09236643), (249, 0.021382079), (250, 0.059204318), (251, 0.06820129), (252, 0.02855551), (253, 0.056249566), (254, 0.06692651), (255, 0.32914102), (256, 0.0699757), (257, 0.005655246), (258, 0.11296618), (259, 0.04247838), (260, 0.0046947375), (261, 0.017134016), (262, 0.006110914), (263, 0.006480241), (264, 0.31465092), (265, 0.05337394), (266, 0.05329033), (267, 0.08719784), (268, 0.11880383), (269, 0.008185912), (270, 0.0064268336), (271, 0.006480241), (272, 0.24184443), (273, 0.06680574), (274, 0.010633918), (275, 0.06801054), (276, 0.073886946), (277, 0.089187905), (278, 0.048388798), (279, 0.09914347), (280, -0.020219052), (281, 0.051335953), (282, 0.048243366), (283, 0.03077491), (284, 0.12268078), (285, 0.0138682425), (286, 0.10695746), (287, 0.09888966), (288, 0.051335953), (289, 0.10068994), (290, 0.002546532), (291, 0.0028513735), (292, 0.027061528), (293, 0.06567234), (294, 0.0076593645), (295, 0.16630432), (296, -0.035603378), (297, 0.055142786), (298, 0.08373433), (299, 0.028937723)]\n"
     ]
    }
   ],
   "source": [
    "sims = index[next(islice(lsi_corpus, 1))]\n",
    "print(list(enumerate(sims)))"
   ]
  },
  {
   "cell_type": "code",
   "execution_count": 36,
   "metadata": {},
   "outputs": [
    {
     "data": {
      "text/plain": [
       "300"
      ]
     },
     "execution_count": 36,
     "metadata": {},
     "output_type": "execute_result"
    }
   ],
   "source": [
    "len(sims)"
   ]
  },
  {
   "cell_type": "code",
   "execution_count": 37,
   "metadata": {},
   "outputs": [
    {
     "name": "stdout",
     "output_type": "stream",
     "text": [
      "[(0, 0.9999999), (8, 0.85660654), (48, 0.8516284), (40, 0.80324656), (33, 0.7800227), (25, 0.45405835), (19, 0.39336553), (109, 0.37516898), (9, 0.34105706), (255, 0.32914102)]\n"
     ]
    }
   ],
   "source": [
    "#nos quedamos con los 10 primeros\n",
    "sims_sorted = sorted(enumerate(sims), key=lambda item: -item[1])\n",
    "print(sims_sorted[:10])"
   ]
  },
  {
   "cell_type": "markdown",
   "metadata": {},
   "source": [
    "Vemos el documento original para evaluar su parecido\n"
   ]
  },
  {
   "cell_type": "code",
   "execution_count": 38,
   "metadata": {},
   "outputs": [
    {
     "data": {
      "text/plain": [
       "'Hundreds of people have been forced to vacate their homes in the Southern Highlands of New South Wales as strong winds today pushed a huge bushfire towards the town of Hill Top. A new blaze near Goulburn, south-west of Sydney, has forced the closure of the Hume Highway. At about 4:00pm AEDT, a marked deterioration in the weather as a storm cell moved east across the Blue Mountains forced authorities to make a decision to evacuate people from homes in outlying streets at Hill Top in the New South Wales southern highlands. An estimated 500 residents have left their homes for nearby Mittagong. The New South Wales Rural Fire Service says the weather conditions which caused the fire to burn in a finger formation have now eased and about 60 fire units in and around Hill Top are optimistic of defending all properties. As more than 100 blazes burn on New Year\\'s Eve in New South Wales, fire crews have been called to new fire at Gunning, south of Goulburn. While few details are available at this stage, fire authorities says it has closed the Hume Highway in both directions. Meanwhile, a new fire in Sydney\\'s west is no longer threatening properties in the Cranebrook area. Rain has fallen in some parts of the Illawarra, Sydney, the Hunter Valley and the north coast. But the Bureau of Meteorology\\'s Claire Richards says the rain has done little to ease any of the hundred fires still burning across the state. \"The falls have been quite isolated in those areas and generally the falls have been less than about five millimetres,\" she said. \"In some places really not significant at all, less than a millimetre, so there hasn\\'t been much relief as far as rain is concerned. \"In fact, they\\'ve probably hampered the efforts of the firefighters more because of the wind gusts that are associated with those thunderstorms.\" \\n'"
      ]
     },
     "execution_count": 38,
     "metadata": {},
     "output_type": "execute_result"
    }
   ],
   "source": [
    "import linecache\n",
    "\n",
    "linecache.getline(lee_data_file, 1) #noticia  nº0"
   ]
  },
  {
   "cell_type": "code",
   "execution_count": 39,
   "metadata": {},
   "outputs": [
    {
     "data": {
      "text/plain": [
       "'There has been welcome relief for firefighters in New South Wales overnight with milder weather allowing them to strengthen containment lines around the most severe fires. But fire authorities are not getting overly optimistic as dry and hot weather is forecast to continue. The weather bureau is forecasting temperatures in the high 30s and westerly winds until at least Friday, which means fire authorities are reluctant to get too excited about last night\\'s favourable conditions. Marks Sullivan from the Rural Fire Service says fire fighters are remaining on guard. \"A lot of fires that have been burning in the areas around Sydney and the north coast and further south have been burning within areas that are known and are contained,\" he said. \"However, that\\'s not to say that these fires won\\'t pose a threat given the weather conditions that are coming up over the next few days.\" Despite the caution, the Rural Fire Service says most of the state\\'s fires that threaten property are burning within containment lines. Greater Sydney is ringed by fires to the north, west and south. Two of those flared overnight. One at Appin in the southern highlands was quickly brought under control. Another flare-up at Spencer, north of the city, is not contained on its north-western flank, but is not threatening property. In the lower Blue Mountains west of Sydney, firefighters have spent the night setting up a 20 kilometre containment line to protect communities along the Great Western Highway from Glenbrook to Bulaburra. Two fires burning near Cessnock, west of Newcastle, are still within containment lines. In the state\\'s north, aircraft will this morning check if lightning from a large electrical storm overnight has sparked any new fires above Grafton. Aircraft have also been used in the Shoalhaven area in the state\\'s south to drop incendiary devices that start fire control lines in inaccessible areas. The Rural Fire Service Commissioner Phil Koperberg says if fire activity increases hundreds of New Year\\'s Eve fireworks celebrations in New South Wales will be cancelled. \\n'"
      ]
     },
     "execution_count": 39,
     "metadata": {},
     "output_type": "execute_result"
    }
   ],
   "source": [
    "linecache.getline(lee_data_file, sims_sorted[1][0]+1) #noticia más parecida"
   ]
  },
  {
   "cell_type": "markdown",
   "metadata": {},
   "source": [
    "También podemos calcular el documento más similar dentro del corpus a un nuevo documento calculando primero su matriz TF-IDF/BoW y luego transformando a matriz LSI"
   ]
  },
  {
   "cell_type": "code",
   "execution_count": 42,
   "metadata": {},
   "outputs": [],
   "source": [
    "new_doc = \"the new Pakistan government falled in the terrorist attack by the islamic group Hamas\"\n",
    "texto_lemmatizado = lemmatize_doc(new_doc)"
   ]
  },
  {
   "cell_type": "code",
   "execution_count": 43,
   "metadata": {},
   "outputs": [],
   "source": [
    "texto_new = corpus_tfidf.trigram_mod[corpus_tfidf.bigram_mod[texto_lemmatizado]]\n",
    "corpus_bow_new = corpus_tfidf.diccionario.doc2bow(texto_new)\n",
    "corpus_tfidf_new = corpus_tfidf.tfidf[corpus_bow_new]\n",
    "lsi_corpus_new = lsimodel[corpus_tfidf_new]"
   ]
  },
  {
   "cell_type": "code",
   "execution_count": 45,
   "metadata": {},
   "outputs": [
    {
     "data": {
      "text/plain": [
       "['pakistan',\n",
       " 'government',\n",
       " 'fall',\n",
       " 'terrorist_attack',\n",
       " 'islamic',\n",
       " 'group',\n",
       " 'hamas']"
      ]
     },
     "execution_count": 45,
     "metadata": {},
     "output_type": "execute_result"
    }
   ],
   "source": [
    "texto_new"
   ]
  },
  {
   "cell_type": "code",
   "execution_count": 47,
   "metadata": {},
   "outputs": [
    {
     "data": {
      "text/plain": [
       "[(32, 1), (126, 1), (148, 1), (213, 1), (785, 1), (788, 1), (1034, 1)]"
      ]
     },
     "execution_count": 47,
     "metadata": {},
     "output_type": "execute_result"
    }
   ],
   "source": [
    "corpus_bow_new"
   ]
  },
  {
   "cell_type": "code",
   "execution_count": 48,
   "metadata": {},
   "outputs": [
    {
     "data": {
      "text/plain": [
       "[(32, 0.4127301483889559),\n",
       " (126, 0.2551354434978296),\n",
       " (148, 0.404193827943508),\n",
       " (213, 0.21108109209837742),\n",
       " (785, 0.4127301483889559),\n",
       " (788, 0.39614557094705677),\n",
       " (1034, 0.47890955651645445)]"
      ]
     },
     "execution_count": 48,
     "metadata": {},
     "output_type": "execute_result"
    }
   ],
   "source": [
    "corpus_tfidf_new"
   ]
  },
  {
   "cell_type": "code",
   "execution_count": 49,
   "metadata": {},
   "outputs": [
    {
     "data": {
      "text/plain": [
       "[(0, -0.14100186907199255),\n",
       " (1, 0.07167561185530018),\n",
       " (2, -0.03361617438529427),\n",
       " (3, -0.02706467834937794),\n",
       " (4, 0.03465714532970966),\n",
       " (5, -0.01768978765645103),\n",
       " (6, -0.025121111608230506),\n",
       " (7, -0.013984775576135065),\n",
       " (8, -0.023764879598198393),\n",
       " (9, 0.09983343778626569),\n",
       " (10, 0.08103627413713693),\n",
       " (11, -0.00924080598767679),\n",
       " (12, -0.04267466381972078),\n",
       " (13, -0.013374876703527673),\n",
       " (14, 0.003178607643777977),\n",
       " (15, 0.043716632374400814),\n",
       " (16, 0.022924029222854733),\n",
       " (17, 0.0007342650059334096),\n",
       " (18, -0.0008635069801688228),\n",
       " (19, -0.09165248971323114),\n",
       " (20, -0.05091996514249644),\n",
       " (21, 0.05261153259868094),\n",
       " (22, 0.027999791170345817),\n",
       " (23, 0.12536494795073186),\n",
       " (24, -0.06079740229022334),\n",
       " (25, -0.018268192590219754),\n",
       " (26, 0.01843735847010293),\n",
       " (27, 0.02688459033813403),\n",
       " (28, -0.0356268712957837),\n",
       " (29, 0.008415190520503562),\n",
       " (30, 0.008180456397462267),\n",
       " (31, -0.02568925034725398),\n",
       " (32, 0.034625531361695466),\n",
       " (33, -0.00829438064285137),\n",
       " (34, -0.008956020844043922),\n",
       " (35, 0.01491304942102073),\n",
       " (36, -0.017302549714336958),\n",
       " (37, -0.022106524625434068),\n",
       " (38, 0.028898581384553552),\n",
       " (39, 0.04478969970623192),\n",
       " (40, 0.01942829110457162),\n",
       " (41, 0.047844618295769456),\n",
       " (42, -0.01824393347519264),\n",
       " (43, 0.02130871876438448),\n",
       " (44, -0.009816115363621257),\n",
       " (45, 0.04485748562180696),\n",
       " (46, -0.02537464027608387),\n",
       " (47, 0.003857163658323927),\n",
       " (48, 0.0036896892291893198),\n",
       " (49, 0.005609034650523589),\n",
       " (50, 0.002696498283765487),\n",
       " (51, 0.02206417456039943),\n",
       " (52, 0.04411056671918795),\n",
       " (53, -0.021510186479180488),\n",
       " (54, -0.0054229004342593885),\n",
       " (55, 0.013739455379955245),\n",
       " (56, -0.03617802027981499),\n",
       " (57, -0.01011507241982895),\n",
       " (58, 0.06398451877026014),\n",
       " (59, -0.06622178408612367),\n",
       " (60, -0.020286316003714458),\n",
       " (61, 0.005353305446214873),\n",
       " (62, -0.034199157501658334),\n",
       " (63, -0.023608550510198226),\n",
       " (64, 0.02447819063385297),\n",
       " (65, -0.012685172168449327),\n",
       " (66, -0.005004178923163429),\n",
       " (67, -0.022648869066308603),\n",
       " (68, 0.03213199752090175),\n",
       " (69, 0.04939179548549296),\n",
       " (70, 0.020174428423618926),\n",
       " (71, -0.0026500747571115476),\n",
       " (72, -0.02166604591720974),\n",
       " (73, -0.00482733436005813),\n",
       " (74, 0.0015179786968719626),\n",
       " (75, -0.03546101488131512),\n",
       " (76, -0.004287315617069414),\n",
       " (77, -0.044956791359912596),\n",
       " (78, -0.005037531852575192),\n",
       " (79, -0.04237372643752847),\n",
       " (80, -0.030852361664822463),\n",
       " (81, -0.03125799544468579),\n",
       " (82, -0.01238550743883222),\n",
       " (83, -0.000616143740908192),\n",
       " (84, -0.024692095466464156),\n",
       " (85, 0.01332531401968221),\n",
       " (86, -3.172063619635368e-05),\n",
       " (87, -0.02904645223689313),\n",
       " (88, -0.026957230015037425),\n",
       " (89, 0.021738840442780894),\n",
       " (90, -0.02194249591283869),\n",
       " (91, -0.021384058977702448),\n",
       " (92, 0.022985822642099443),\n",
       " (93, 0.009164396046234702),\n",
       " (94, -0.007874376917191537),\n",
       " (95, 0.011964618420292181),\n",
       " (96, 0.02342432745768165),\n",
       " (97, -0.0057445933841603096),\n",
       " (98, 0.039482216389684646),\n",
       " (99, -0.009091275789370357)]"
      ]
     },
     "execution_count": 49,
     "metadata": {},
     "output_type": "execute_result"
    }
   ],
   "source": [
    "lsi_corpus_new"
   ]
  },
  {
   "cell_type": "markdown",
   "metadata": {},
   "source": [
    "Ahora buscamos en el índice cuáles son los documentos más parecidos dentro del corpus al nuevo documento:"
   ]
  },
  {
   "cell_type": "code",
   "execution_count": 50,
   "metadata": {},
   "outputs": [],
   "source": [
    "sims = index[lsi_corpus_new]"
   ]
  },
  {
   "cell_type": "code",
   "execution_count": 52,
   "metadata": {},
   "outputs": [
    {
     "name": "stdout",
     "output_type": "stream",
     "text": [
      "[(85, 0.61457443), (93, 0.59449697), (110, 0.5659039), (227, 0.5492055), (220, 0.54377335), (12, 0.53516614), (26, 0.49097526), (60, 0.47723424), (1, 0.45232993), (267, 0.39375085)]\n"
     ]
    }
   ],
   "source": [
    "sims_sorted = sorted(enumerate(sims), key=lambda item: -item[1])\n",
    "print(sims_sorted[:10])"
   ]
  },
  {
   "cell_type": "markdown",
   "metadata": {},
   "source": [
    "El texto del documento más cercano es:"
   ]
  },
  {
   "cell_type": "code",
   "execution_count": 53,
   "metadata": {},
   "outputs": [
    {
     "data": {
      "text/plain": [
       "\"Hamas militants have fought gun battles with Palestinian security forces in the Gaza Strip, trying to arrest one of the Islamic group's senior political leaders. Reports say the fight erupted in the Gaza Strip after dozens of Hamas members surrounded the home of Abdel-Aziz al-Rantissi when Palestinian police arrived to detain him. The Palestinian leader Yasser Arafat, under international pressure to crack down on militants after a wave of suicide bombings in Israel in the past month, has outlawed the military wings of Hamas and other groups and arrested dozens of militants. \\n\""
      ]
     },
     "execution_count": 53,
     "metadata": {},
     "output_type": "execute_result"
    }
   ],
   "source": [
    "linecache.getline(lee_data_file, sims_sorted[0][0]+1)"
   ]
  },
  {
   "cell_type": "code",
   "execution_count": null,
   "metadata": {},
   "outputs": [],
   "source": []
  }
 ],
 "metadata": {
  "kernelspec": {
   "display_name": "Python 3 (ipykernel)",
   "language": "python",
   "name": "python3"
  },
  "language_info": {
   "codemirror_mode": {
    "name": "ipython",
    "version": 3
   },
   "file_extension": ".py",
   "mimetype": "text/x-python",
   "name": "python",
   "nbconvert_exporter": "python",
   "pygments_lexer": "ipython3",
   "version": "3.10.2"
  }
 },
 "nbformat": 4,
 "nbformat_minor": 4
}
