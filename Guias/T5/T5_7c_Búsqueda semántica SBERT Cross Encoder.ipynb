{
 "cells": [
  {
   "attachments": {},
   "cell_type": "markdown",
   "metadata": {},
   "source": [
    "# Búsqueda semántica Cross Encoder\n",
    "Aquí usamos la técnica Cross Encoder para encontrar el documento más similar a un documento dado.  \n",
    ">The cross-encoder model takes a pair of text documents as input and directly outputs the probability that the two documents are similar."
   ]
  },
  {
   "cell_type": "code",
   "execution_count": 1,
   "metadata": {},
   "outputs": [],
   "source": [
    "import os\n",
    "import re\n",
    "import numpy as np\n",
    "import pandas as pd\n",
    "import gensim"
   ]
  },
  {
   "cell_type": "code",
   "execution_count": 2,
   "metadata": {},
   "outputs": [],
   "source": [
    "#cargamos documentos\n",
    "data_dir = '{}'.format(os.sep).join([gensim.__path__[0], 'test', 'test_data'])\n",
    "lee_data_file = data_dir + os.sep + 'lee_background.cor'\n",
    "\n",
    "with open(lee_data_file) as f:\n",
    "    corpus = f.readlines()"
   ]
  },
  {
   "attachments": {},
   "cell_type": "markdown",
   "metadata": {},
   "source": [
    "Con el modelo Cross Encoder se calcula la distancia par a par. Por no calcular toda la matriz de distancias, directamente calculamos las distancias a un documento nuevo."
   ]
  },
  {
   "cell_type": "code",
   "execution_count": 3,
   "metadata": {},
   "outputs": [
    {
     "data": {
      "application/vnd.jupyter.widget-view+json": {
       "model_id": "36e7e672a2de48e99606c5026609a6de",
       "version_major": 2,
       "version_minor": 0
      },
      "text/plain": [
       "Batches:   0%|          | 0/10 [00:00<?, ?it/s]"
      ]
     },
     "metadata": {},
     "output_type": "display_data"
    }
   ],
   "source": [
    "from sentence_transformers import CrossEncoder\n",
    "\n",
    "# Load the pre-trained model\n",
    "model = CrossEncoder('cross-encoder/stsb-roberta-base')\n",
    "\n",
    "query = \"\"\"the new Pakistan government falled in the terrorist attack by the islamic group Hamas\"\"\"\n",
    "\n",
    "sentence_pairs = []\n",
    "for sentence in corpus:\n",
    "    sentence_pairs.append([sentence, query])\n",
    "    \n",
    "sims = model.predict(sentence_pairs, show_progress_bar=True)"
   ]
  },
  {
   "cell_type": "code",
   "execution_count": 4,
   "metadata": {},
   "outputs": [
    {
     "name": "stdout",
     "output_type": "stream",
     "text": [
      "[(290, 0.65037185), (172, 0.5993747), (147, 0.58687884), (269, 0.58308876), (224, 0.58228296), (268, 0.57815784), (184, 0.57727605), (164, 0.57386094), (267, 0.57150906), (48, 0.5683079)]\n"
     ]
    }
   ],
   "source": [
    "sims_sorted = sorted(enumerate(sims), key=lambda item: -item[1])\n",
    "print(sims_sorted[:10])"
   ]
  },
  {
   "cell_type": "code",
   "execution_count": 5,
   "metadata": {},
   "outputs": [
    {
     "name": "stdout",
     "output_type": "stream",
     "text": [
      "A third case of mad cow disease has been confirmed in Japan. A panel of experts at Japan's Health Ministry has confirmed that another cow has the disease. Officials say all meat and organs from the dairy cow will be incinerated. It is Japan's third case of mad cow disease and a ministerial spokesman says he cannot tell how many more cases will be found as a nationwide test continues. The government has not determined the source of the outbreak. \n",
      " (Score: 0.6503718495368958)\n",
      "The number of adults and children being diagnosed as obese is on the increase. The findings of a new study have worrying implications for the future of Australia's health system. The study by the Australian Institute of Health and Welfare shows the number of people diagnosed as either obese or overweight has increased by 2 per cent over the past two years. The institute's Statistics Unit director, professor Helena Britt, says the findings have grave implications. \"There seems to be a shift of 1 per cent going up and if we do that every year for the next 10 years we are in big trouble.\" Professor Britt says there has been a drop in deaths from heart disease over the past two decades, but if the rise in obesity continues it could reverse that trend, at a great cost to the community. Up to 12 per cent of Australia's children are also now obese. Professor Helena Britt says this is the first time there have been reliable statistics available to show the prevalence of obesity among children, using a new international standard. She says the results are frightening for the future health of Australia's adults. \"This is a worry for future heart disease because there has been research demonstrating a relationship between adult heart disease and childhood obesity so its something we have to watch as a society,\" she said. Nutrition Australia dietitian Rachael Bradford says the results, while disturbing, are not surprising. She says Australians need to look at lifestyle and resist the temptation of convenience food to avert the trend. \"I think it's got to do with our nation having less physical activity,\" Ms Bradford said. \"There's a lot of automation with Australia because we are such a privileged country so people are using automobiles, cars more, and not doing as much walking.\" \n",
      " (Score: 0.5993747115135193)\n",
      "The Federal Government is negotiating with the United States and other countries about the fate of an Adelaide man suspected of fighting alongside the Taliban in Afghanistan. David Hicks, 26, was captured by Northern Alliance forces three days ago, and is now in the custody of American troops. The head of the Victorian Law Institute, John Corcoran, says Mr Hicks could face a charge of treason under Australian law, the only crime punishable by death. \"If the circumstances are permitted, he could be charged with treason under the Commonwealth Crimes Act, which does have the death penalty,\" he said. If charged under the Foreign Incursion Act, the penalty is less severe carrying a maximum 14-year jail sentence. But the Defence Minister, Robert Hill, says it is too early to say whether the Government will take legal action. \"These issues are being looked at, but he was only captured a few days ago and it's difficult to ascertain all the facts,\" Senator Hill said. The Government is currently holding talks with the United States about Mr Hicks' fate. The Shadow Foreign Affairs Minister, Kevin Rudd, has urged the Government to set up immediate diplomatic access to the suspected Taliban fighter. Mr Rudd says consular officials must start to try and establish the facts about the 26-year-old who has been arrested by the Northern Alliance. The Australian Government is trying to ascertain whether he has broken any Australian laws but says he could also be a prisoner of war in Afghanistan. Mr Rudd, who is in the Pakistan capital Islamabad, says if a diplomatic presence is not available, there are other means. \"For example, International Council of Red Cross I understand from sources here in Islamabad, is assisting in providing access to individuals currently held by the Northern Alliance of varying nationalities,\" Mr Rudd said. \n",
      " (Score: 0.5868788361549377)\n",
      "The Prime Minister, John Howard, has revealed he will go to Indonesia for a summit meeting with Indonesian President Megawati Sukarnoputri. There have been talks underway since Mr Howard was re-elected on the timing and venue for the summit. Mr Howard has now revealed he expects to travel to Indonesia for the top level meeting in February or March. It will be his second visit to Jakarta within a year. The two leaders met in Jakarta in August shortly after President Megawati took on the role. Australia and Indonesia are co-hosting an international summit on people smuggling issues in February and those issues are expected to again be a key part of the bilateral talks. Australia and Indonesia are also discussing the resumption of military ties. President Megawati signalled the relationship between the two nations had strengthened by sending a congratulatory letter to Mr Howard after the election. \n",
      " (Score: 0.583088755607605)\n",
      "America's Cup winner Sir Peter Blake, one of the most successful sailors in yachting history, was killed in a shooting in Amazonia, Brazil, today, his sponsors said. Mr Blake, 53, was aboard a boat with his crew when they were attacked by pirates and he was shot dead, they said. AFP reported the sponsors, PR company Jour J, as saying he was killed while leading a sailing expedition up the Amazon river, in the western Amazon Basin. The New Zealander won the America's Cup twice in 1995 and 2000 with Team New Zealand. Mr Blake was a two-time winner of the Sydney-Hobart race and also won the Tour of Australia and the Whitbread round-the-world race in 1990. He captured the Jules Verne Trophy in 1994 with a record-breaking non-stop voyage. He received an OBE for services to yachting in 1991. A meticulous planner and a gifted leader, Mr Blake's fierce determination to win always inspired immense loyalty from his crews and unlimited confidence from his backers. The New Zealander was the only man to compete in the first five Whitbreads and his 1989 victory in Steinlager 2 came with an unprecedented clean sweep as his team walked off with line, handicap and overall honours on each of the race's six legs. Steinlager 2 beat a field of 23 boats from 13 countries. Mr Blake's numerous sporting accolades included two New Zealand Sportsman of the Year awards and four New Zealand Yachtsman of the Year awards. He was also chosen to succeed the late Jacques Cousteau as captain of the marine research vessel Calypso 2. \n",
      " (Score: 0.5822829604148865)\n"
     ]
    }
   ],
   "source": [
    "#5 noticias más similares\n",
    "for idx, score in sims_sorted[0:5]:\n",
    "        print(corpus[idx], f\"(Score: {score})\" )"
   ]
  },
  {
   "cell_type": "code",
   "execution_count": null,
   "metadata": {},
   "outputs": [],
   "source": []
  }
 ],
 "metadata": {
  "kernelspec": {
   "display_name": "Python 3",
   "language": "python",
   "name": "python3"
  },
  "language_info": {
   "codemirror_mode": {
    "name": "ipython",
    "version": 3
   },
   "file_extension": ".py",
   "mimetype": "text/x-python",
   "name": "python",
   "nbconvert_exporter": "python",
   "pygments_lexer": "ipython3",
   "version": "3.9.7"
  },
  "orig_nbformat": 4,
  "vscode": {
   "interpreter": {
    "hash": "1889f7d8acdc3cacfafa5b333be0ab79c5c49ae12b0b38e71a3abcd28f98edde"
   }
  }
 },
 "nbformat": 4,
 "nbformat_minor": 2
}
