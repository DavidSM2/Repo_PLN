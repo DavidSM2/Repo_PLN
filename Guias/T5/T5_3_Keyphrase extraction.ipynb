{
 "cells": [
  {
   "cell_type": "markdown",
   "id": "handled-guyana",
   "metadata": {},
   "source": [
    "# Extracción de palabras clave\n",
    "Usamos la librería `textacy` sobre `spaCy` (https://textacy.readthedocs.io/en/latest/). \\\n",
    "Instalamos con:\n",
    "```\n",
    "conda install -c conda-forge textacy\n",
    "```"
   ]
  },
  {
   "cell_type": "code",
   "execution_count": 22,
   "id": "tight-columbia",
   "metadata": {},
   "outputs": [],
   "source": [
    "#cargamos un texto\n",
    "import spacy\n",
    "\n",
    "nlp = spacy.load(\"es_core_news_sm\")"
   ]
  },
  {
   "cell_type": "code",
   "execution_count": 23,
   "id": "anticipated-wells",
   "metadata": {},
   "outputs": [],
   "source": [
    "with open('articulo.txt', 'r') as f:\n",
    "    texto = f.read()"
   ]
  },
  {
   "cell_type": "code",
   "execution_count": 24,
   "id": "dynamic-prototype",
   "metadata": {},
   "outputs": [
    {
     "data": {
      "text/plain": [
       "'La Policía Nacional, en colaboración con la policía marroquí, ha desarticulado una \"importante y peligrosa\" célula del Estado Islámico (ISIS, en sus siglas en inglés) que pretendía impulsar atentados yihadistas en España y en otros países de Europa: \"Tenía como objetivo materializar la estrategia de la organización terrorista en occidente\", aseguran fuentes de la investigación, que aseguran que estaban en contacto con yihadistas ubicados en Siria. Los agentes de la Comisaría General de Información (CGI) y los de la Dirección General de Vigilancia del Territorio del Reino de Marruecos (DGST) han detenido en total a cinco personas, dos en España, en las localidades de Lorca (Murcia) y Abadiño (Bizkaia); y otras tres en Marruecos, que integraban la red de la organización terrorista.'"
      ]
     },
     "execution_count": 24,
     "metadata": {},
     "output_type": "execute_result"
    }
   ],
   "source": [
    "texto"
   ]
  },
  {
   "cell_type": "code",
   "execution_count": 25,
   "id": "included-monte",
   "metadata": {},
   "outputs": [],
   "source": [
    "doc = nlp(texto)"
   ]
  },
  {
   "cell_type": "code",
   "execution_count": 26,
   "id": "pregnant-survivor",
   "metadata": {},
   "outputs": [
    {
     "data": {
      "text/plain": [
       "148"
      ]
     },
     "execution_count": 26,
     "metadata": {},
     "output_type": "execute_result"
    }
   ],
   "source": [
    "len(doc)"
   ]
  },
  {
   "cell_type": "code",
   "execution_count": 27,
   "id": "developing-production",
   "metadata": {},
   "outputs": [],
   "source": [
    "from textacy.extract import keyterms as kt\n",
    "#https://textacy.readthedocs.io/en/latest/api_reference/extract.html#keyterms"
   ]
  },
  {
   "cell_type": "code",
   "execution_count": 28,
   "id": "ahead-snapshot",
   "metadata": {},
   "outputs": [
    {
     "data": {
      "text/plain": [
       "[('atentado yihadista', 0.024277581688875352),\n",
       " ('yihadista ubicado', 0.022993375155304988),\n",
       " ('organización terrorista', 0.019293287969168793),\n",
       " ('policía marroquí', 0.01655092427910999),\n",
       " ('Policía Nacional', 0.01655092427910999),\n",
       " ('Marruecos', 0.013426001804612698),\n",
       " ('España', 0.010335310756957202),\n",
       " ('objetivo', 0.010071860790802918),\n",
       " ('persona', 0.008953298332459406),\n",
       " ('Islámico', 0.008799611873242349)]"
      ]
     },
     "execution_count": 28,
     "metadata": {},
     "output_type": "execute_result"
    }
   ],
   "source": [
    "kt.textrank(doc, normalize=\"lemma\", topn=10)"
   ]
  },
  {
   "cell_type": "code",
   "execution_count": 29,
   "id": "confused-strip",
   "metadata": {},
   "outputs": [
    {
     "data": {
      "text/plain": [
       "[('atentados yihadistas', 0.023920483241090973),\n",
       " ('yihadistas ubicados', 0.022783778625400142),\n",
       " ('policía nacional', 0.019458089819428884),\n",
       " ('policía marroquí', 0.019458089819428884),\n",
       " ('organización terrorista', 0.01927156573993427),\n",
       " ('marruecos', 0.013310520633285614),\n",
       " ('españa', 0.010349544701617894),\n",
       " ('objetivo', 0.009858232010108544),\n",
       " ('personas', 0.008780788680023245),\n",
       " ('islámico', 0.008563872991708348)]"
      ]
     },
     "execution_count": 29,
     "metadata": {},
     "output_type": "execute_result"
    }
   ],
   "source": [
    "kt.textrank(doc, normalize=\"lower\", topn=10)"
   ]
  },
  {
   "cell_type": "code",
   "execution_count": 30,
   "id": "aquatic-orlando",
   "metadata": {},
   "outputs": [
    {
     "data": {
      "text/plain": [
       "[('organización terrorista', 0.460942936743379),\n",
       " ('yihadistas ubicados', 0.19821659390486374),\n",
       " ('policía marroquí', 0.04730287324545998),\n",
       " ('atentados yihadistas', 0.046543802059051204),\n",
       " ('policía nacional', 0.037396076179293546)]"
      ]
     },
     "execution_count": 30,
     "metadata": {},
     "output_type": "execute_result"
    }
   ],
   "source": [
    "kt.sgrank(doc, normalize=\"lower\", topn=0.1)"
   ]
  },
  {
   "cell_type": "code",
   "execution_count": 15,
   "id": "headed-heater",
   "metadata": {},
   "outputs": [],
   "source": [
    "#con un texto más largo\n",
    "with open('cañas y barro.txt', 'r') as f:\n",
    "    texto = f.read()"
   ]
  },
  {
   "cell_type": "code",
   "execution_count": 16,
   "id": "scientific-vinyl",
   "metadata": {},
   "outputs": [],
   "source": [
    "doc = nlp(texto)"
   ]
  },
  {
   "cell_type": "code",
   "execution_count": 20,
   "id": "ranging-venezuela",
   "metadata": {},
   "outputs": [
    {
     "data": {
      "text/plain": [
       "[('tío paloma', 0.12888695510802767),\n",
       " ('palmar', 0.037722743766683074),\n",
       " ('lago', 0.035860557573389094),\n",
       " ('tonet', 0.03064885744852843),\n",
       " ('albufera', 0.03019881522009196),\n",
       " ('cañamèl', 0.03009835635640053),\n",
       " ('tío tòni', 0.02984947917122944),\n",
       " ('taberna', 0.02810802243998569),\n",
       " ('neleta', 0.02538291001658806),\n",
       " ('pueblo', 0.02074286511313137)]"
      ]
     },
     "execution_count": 20,
     "metadata": {},
     "output_type": "execute_result"
    }
   ],
   "source": [
    "kt.sgrank(doc, normalize=\"lower\", topn=10)"
   ]
  },
  {
   "cell_type": "code",
   "execution_count": null,
   "id": "hybrid-rendering",
   "metadata": {},
   "outputs": [],
   "source": []
  }
 ],
 "metadata": {
  "kernelspec": {
   "display_name": "Python 3",
   "language": "python",
   "name": "python3"
  },
  "language_info": {
   "codemirror_mode": {
    "name": "ipython",
    "version": 3
   },
   "file_extension": ".py",
   "mimetype": "text/x-python",
   "name": "python",
   "nbconvert_exporter": "python",
   "pygments_lexer": "ipython3",
   "version": "3.8.8"
  }
 },
 "nbformat": 4,
 "nbformat_minor": 5
}
