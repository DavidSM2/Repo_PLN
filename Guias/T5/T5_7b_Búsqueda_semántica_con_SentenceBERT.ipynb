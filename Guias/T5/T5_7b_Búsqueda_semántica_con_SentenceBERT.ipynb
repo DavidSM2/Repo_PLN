{
 "cells": [
  {
   "attachments": {},
   "cell_type": "markdown",
   "metadata": {
    "id": "iLfnVvXG6IV4"
   },
   "source": [
    "# Búsqueda semántica de texto\n",
    "En este notebook vamos a implementar un buscador semántico de textos similares mediante un modelo *Sentence Transformer* (https://github.com/UKPLab/sentence-transformers). \\\n",
    "Vamos a usar el conjunto de noticias del dataset Lee utilizado en el NLP_07.\\\n",
    "Hay que instalar la librería `sentence-transformers` con:\\\n",
    "```pip install -U sentence-transformers```"
   ]
  },
  {
   "cell_type": "code",
   "execution_count": 1,
   "metadata": {
    "id": "eN6c7ojg6IWC"
   },
   "outputs": [],
   "source": [
    "import os\n",
    "import re\n",
    "import numpy as np\n",
    "import pandas as pd\n",
    "import gensim\n",
    "from sentence_transformers import SentenceTransformer\n"
   ]
  },
  {
   "cell_type": "code",
   "execution_count": 2,
   "metadata": {
    "id": "OLsVyWo86IWC"
   },
   "outputs": [],
   "source": [
    "data_dir = '{}'.format(os.sep).join([gensim.__path__[0], 'test', 'test_data'])\n",
    "lee_data_file = data_dir + os.sep + 'lee_background.cor'"
   ]
  },
  {
   "cell_type": "code",
   "execution_count": 3,
   "metadata": {
    "id": "XzMyw6VD6IWD"
   },
   "outputs": [],
   "source": [
    "#Leemos todas las noticias\n",
    "#Al usar transformers podemos obviar el pre-procesado del texto\n",
    "with open(lee_data_file) as f:\n",
    "    corpus = f.readlines()"
   ]
  },
  {
   "cell_type": "code",
   "execution_count": 4,
   "metadata": {
    "colab": {
     "base_uri": "https://localhost:8080/"
    },
    "id": "LhyRUBrN6IWD",
    "outputId": "e658257d-f99f-466a-d23d-5e6c2ac03a85"
   },
   "outputs": [
    {
     "data": {
      "text/plain": [
       "300"
      ]
     },
     "execution_count": 4,
     "metadata": {},
     "output_type": "execute_result"
    }
   ],
   "source": [
    "len(corpus)"
   ]
  },
  {
   "cell_type": "code",
   "execution_count": 5,
   "metadata": {
    "colab": {
     "base_uri": "https://localhost:8080/",
     "height": 123
    },
    "id": "Txq4RD2W6IWD",
    "outputId": "ac9837b0-1a5d-4d4e-b585-066c8de0508e"
   },
   "outputs": [
    {
     "data": {
      "text/plain": [
       "'Hundreds of people have been forced to vacate their homes in the Southern Highlands of New South Wales as strong winds today pushed a huge bushfire towards the town of Hill Top. A new blaze near Goulburn, south-west of Sydney, has forced the closure of the Hume Highway. At about 4:00pm AEDT, a marked deterioration in the weather as a storm cell moved east across the Blue Mountains forced authorities to make a decision to evacuate people from homes in outlying streets at Hill Top in the New South Wales southern highlands. An estimated 500 residents have left their homes for nearby Mittagong. The New South Wales Rural Fire Service says the weather conditions which caused the fire to burn in a finger formation have now eased and about 60 fire units in and around Hill Top are optimistic of defending all properties. As more than 100 blazes burn on New Year\\'s Eve in New South Wales, fire crews have been called to new fire at Gunning, south of Goulburn. While few details are available at this stage, fire authorities says it has closed the Hume Highway in both directions. Meanwhile, a new fire in Sydney\\'s west is no longer threatening properties in the Cranebrook area. Rain has fallen in some parts of the Illawarra, Sydney, the Hunter Valley and the north coast. But the Bureau of Meteorology\\'s Claire Richards says the rain has done little to ease any of the hundred fires still burning across the state. \"The falls have been quite isolated in those areas and generally the falls have been less than about five millimetres,\" she said. \"In some places really not significant at all, less than a millimetre, so there hasn\\'t been much relief as far as rain is concerned. \"In fact, they\\'ve probably hampered the efforts of the firefighters more because of the wind gusts that are associated with those thunderstorms.\" \\n'"
      ]
     },
     "metadata": {},
     "output_type": "display_data"
    }
   ],
   "source": [
    "display(corpus[0])"
   ]
  },
  {
   "cell_type": "code",
   "execution_count": 6,
   "metadata": {
    "colab": {
     "base_uri": "https://localhost:8080/"
    },
    "id": "BSG3ymx66IWD",
    "outputId": "e92db60c-3e96-420d-d039-d77e340809b0"
   },
   "outputs": [],
   "source": [
    "#Con esta librería el tokenizado y la codificación se hace a la vez\n",
    "\n",
    "model = SentenceTransformer('all-MiniLM-L6-v2')\n",
    "#Llamamos a model.encode() para crear los embeddings de cada documento\n",
    "doc_embeddings = model.encode(corpus)"
   ]
  },
  {
   "cell_type": "code",
   "execution_count": 7,
   "metadata": {
    "colab": {
     "base_uri": "https://localhost:8080/"
    },
    "id": "WkbcNG1a6IWD",
    "outputId": "0359a23f-bf66-44c1-ebf6-4948ee7dfe89"
   },
   "outputs": [
    {
     "data": {
      "text/plain": [
       "(300, 384)"
      ]
     },
     "execution_count": 7,
     "metadata": {},
     "output_type": "execute_result"
    }
   ],
   "source": [
    "doc_embeddings.shape"
   ]
  },
  {
   "attachments": {},
   "cell_type": "markdown",
   "metadata": {
    "id": "fGsbCBBz75ub"
   },
   "source": [
    "Los embeddings generados para cada documento son los que usaremos para calcular la similitud entre documentos (con la distancia coseno). Es lo que se conoce como técnica *Bi-encoder*:\\\n",
    ">A Bi-Encoder Sentence Transformer model takes in one text at a time as input and outputs a fixed dimension embedding vector as the output. We can then compare any two documents by computing the cosine similarity between the embeddings of those two documents."
   ]
  },
  {
   "cell_type": "code",
   "execution_count": 9,
   "metadata": {
    "colab": {
     "base_uri": "https://localhost:8080/"
    },
    "id": "3EawwkrF6IWF",
    "outputId": "225ede09-bf6d-436d-c13c-9316939904ed"
   },
   "outputs": [
    {
     "data": {
      "text/plain": [
       "(300, 300)"
      ]
     },
     "execution_count": 9,
     "metadata": {},
     "output_type": "execute_result"
    }
   ],
   "source": [
    "from sklearn.metrics.pairwise import cosine_similarity\n",
    "\n",
    "#Vemos la similitud de todos los documentos con todos\n",
    "sims = cosine_similarity(doc_embeddings, doc_embeddings)\n",
    "sims.shape"
   ]
  },
  {
   "attachments": {},
   "cell_type": "markdown",
   "metadata": {},
   "source": [
    "Vemos la similitud del primer documento al resto"
   ]
  },
  {
   "cell_type": "code",
   "execution_count": 15,
   "metadata": {},
   "outputs": [
    {
     "data": {
      "text/plain": [
       "array([ 1.0000002 ,  0.1862439 ,  0.36024007,  0.06647055,  0.16054457,\n",
       "        0.25456682,  0.07130697,  0.1448866 ,  0.71996063,  0.45955154,\n",
       "        0.43107116,  0.36462575,  0.09600542,  0.05139546,  0.35125983,\n",
       "        0.22654007,  0.10755338,  0.1285992 ,  0.06746032,  0.6088064 ,\n",
       "        0.00728194,  0.3583024 ,  0.10069869,  0.22394757,  0.22305846,\n",
       "        0.46384364,  0.1385611 ,  0.1459111 ,  0.12593803,  0.19521032,\n",
       "        0.03333723,  0.18033558,  0.33452058,  0.786766  ,  0.11982653,\n",
       "        0.15185414,  0.13297436,  0.17609438,  0.28221866,  0.19795886,\n",
       "        0.7253157 ,  0.11417238,  0.14895943,  0.31006202,  0.34341425,\n",
       "        0.06606716,  0.27094966,  0.15648553,  0.74195844,  0.08219413,\n",
       "        0.2194731 ,  0.03587104,  0.29266202,  0.1617104 ,  0.03347444,\n",
       "        0.28007174,  0.05729619,  0.11395875,  0.20978498,  0.15481192,\n",
       "        0.17262931,  0.00703743,  0.11809213,  0.13129808,  0.21023971,\n",
       "        0.14367817,  0.07729248,  0.10905086,  0.02731548,  0.1083809 ,\n",
       "        0.10918903,  0.01003803,  0.15841243,  0.17928101,  0.11332936,\n",
       "        0.07752286,  0.09856165,  0.21057454, -0.02276012,  0.2732911 ,\n",
       "        0.20375513,  0.21802124,  0.29322332,  0.25687563,  0.24988493,\n",
       "        0.14217077,  0.06906486,  0.3215571 ,  0.2446594 ,  0.20104256,\n",
       "        0.14120631,  0.22973374,  0.11538641,  0.24274299,  0.15803744,\n",
       "        0.2162031 ,  0.2095235 ,  0.14829753,  0.25253546,  0.28301328,\n",
       "        0.17064941,  0.16830209,  0.02859333,  0.0178133 ,  0.16098064,\n",
       "        0.36911118,  0.12513688,  0.25253546,  0.06637209,  0.34976646,\n",
       "        0.13822217,  0.12038146,  0.16098064,  0.3482728 ,  0.28512684,\n",
       "        0.2103194 ,  0.12515512,  0.11606293,  0.15567255,  0.2103194 ,\n",
       "        0.11606293,  0.03587781,  0.03645733,  0.13217363,  0.0215061 ,\n",
       "        0.02813678,  0.22391556,  0.20309389,  0.10138806,  0.41214758,\n",
       "        0.03218301,  0.22754839,  0.13073601,  0.28552723,  0.11975221,\n",
       "        0.14853787,  0.16573773,  0.25140217,  0.11534765,  0.21844524,\n",
       "        0.26879528,  0.2336719 ,  0.16669899,  0.14009804,  0.16580978,\n",
       "        0.3297453 ,  0.15035538,  0.17902878,  0.1010765 ,  0.13445006,\n",
       "        0.12357771,  0.22680634,  0.26019633,  0.29155704,  0.04843534,\n",
       "        0.03907522,  0.12357771,  0.11919383,  0.20645031,  0.22441456,\n",
       "        0.03328755,  0.25482166,  0.14094874,  0.06868252, -0.07212383,\n",
       "        0.06127737,  0.14370686,  0.24883133,  0.13452275,  0.02824828,\n",
       "        0.01968618,  0.22956853,  0.06999318,  0.14716922, -0.00570258,\n",
       "        0.16981563,  0.17279427,  0.29023504,  0.13678089,  0.23738107,\n",
       "        0.08187476,  0.3266427 ,  0.18745223,  0.2232022 ,  0.21610261,\n",
       "        0.10459785, -0.08631472,  0.13154554,  0.3116017 ,  0.30042958,\n",
       "        0.1917308 ,  0.15602249,  0.14897947,  0.16985628,  0.0786982 ,\n",
       "        0.15322752,  0.15657082,  0.22700718,  0.09621011,  0.1243821 ,\n",
       "        0.13751887,  0.25483143,  0.11287221,  0.25259572,  0.03413583,\n",
       "        0.0685554 ,  0.0456018 ,  0.0685507 ,  0.21128654,  0.20263883,\n",
       "        0.1344987 ,  0.35502017,  0.25421315,  0.29730386, -0.07471988,\n",
       "        0.14718604,  0.14094104,  0.20064467,  0.01179029,  0.30381334,\n",
       "        0.17701006,  0.1278393 , -0.06613515,  0.17762524,  0.06747834,\n",
       "        0.17675103,  0.0760475 ,  0.11321387,  0.10945528,  0.15596932,\n",
       "        0.26071015,  0.07124376,  0.12746389,  0.15078522,  0.1598047 ,\n",
       "        0.09182635,  0.26071015,  0.01392147,  0.23802859, -0.0035379 ,\n",
       "        0.0919032 ,  0.13615441,  0.23789096,  0.17052071,  0.02709264,\n",
       "        0.10754436,  0.18093923,  0.05373956,  0.22014394,  0.20378804,\n",
       "        0.24226563,  0.14956065,  0.12507987,  0.1251482 ,  0.3283704 ,\n",
       "        0.52170897, -0.02645494,  0.15076068,  0.17792483,  0.18673454,\n",
       "        0.11826268,  0.10570383,  0.03326052,  0.22726448,  0.63760084,\n",
       "        0.12553622,  0.1040722 ,  0.15161219,  0.18686835,  0.13701597,\n",
       "        0.09840624,  0.22726448,  0.46970248,  0.09127387,  0.05696333,\n",
       "        0.19005251,  0.27106142,  0.19706343,  0.06329003,  0.15582794,\n",
       "        0.14924806,  0.27873373,  0.03798603,  0.08573621,  0.16433021,\n",
       "        0.17570709,  0.04863746,  0.14373133,  0.27873373,  0.25418386,\n",
       "        0.02788078,  0.09952244,  0.11725646, -0.02120535,  0.15461436,\n",
       "        0.04998793, -0.09522472,  0.1310888 ,  0.08900622,  0.12866756],\n",
       "      dtype=float32)"
      ]
     },
     "execution_count": 15,
     "metadata": {},
     "output_type": "execute_result"
    }
   ],
   "source": [
    "sims[0, :]"
   ]
  },
  {
   "cell_type": "code",
   "execution_count": 16,
   "metadata": {},
   "outputs": [
    {
     "name": "stdout",
     "output_type": "stream",
     "text": [
      "[(0, 1.0000002), (33, 0.786766), (48, 0.74195844), (40, 0.7253157), (8, 0.71996063), (264, 0.63760084), (19, 0.6088064), (255, 0.52170897), (272, 0.46970248), (25, 0.46384364)]\n"
     ]
    }
   ],
   "source": [
    "#Ordenamos de mayor a menor\n",
    "sims_sorted = sorted(enumerate(sims[0,:]), key=lambda item: -item[1])\n",
    "print(sims_sorted[:10])"
   ]
  },
  {
   "cell_type": "code",
   "execution_count": 17,
   "metadata": {
    "colab": {
     "base_uri": "https://localhost:8080/",
     "height": 123
    },
    "id": "KPF-pJMd6IWF",
    "outputId": "523cb64a-27cf-4007-c921-ba2899881d27"
   },
   "outputs": [
    {
     "data": {
      "text/plain": [
       "'New South Wales firefighters are hoping lighter winds will help ease their workload today but are predicting \"nasty\" conditions over the weekend. While the winds are expected to ease somewhat today, the weather bureau says temperatures will be higher. More than 100 fires are still burning across New South Wales. The Rural Fire Service says the change may allow it to concentrate more on preventative action, but there is no room for complacency. Mark Sullivan, from the Rural Fire Service, says while conditions may be a little kinder to them today, the outlook for the weekend has them worried. \"It certainly appears from the weather forecast, with very high temperatures and high winds that it certainly could be a nasty couple of days ahead,\" Mr Sullivan said. One of the areas causing greatest concern today is the 30-kilometre long blaze in the lower Blue Mountains. Firefighters are also keeping a close eye on a blaze at Spencer north of Sydney, which yesterday broke through containment lines. There are concerns that fire may jump the Hawkesbury River. Backburning continues in the state\\'s central west and south of Sydney in the Shoalhaven. In the Illawarra, firefighters have been able to carry out back-burning operations in three areas. Operations were carried out in parts of Mt Kembla, as well as an area bounded by Appin Road and the Old Princes Highway at Helensburgh. An area west of Windy Gully near Cataract Dam was also targeted. Meanwhile, Illawarra police have arrested three teenagers in relation to bushfires at Shellharbour, on the south coast of New South Wales. A spokesman says three small fires were extinguished around 7:30pm AEDT yesterday. A short time later police arrested three 15-year-old boys from Shellharbour, Barrack Heights and Shell Cove. All three have been interviewed but no charges have been laid. \\n'"
      ]
     },
     "metadata": {},
     "output_type": "display_data"
    }
   ],
   "source": [
    "#Noticia más cercana\n",
    "display(corpus[sims_sorted[1][0]])"
   ]
  },
  {
   "cell_type": "code",
   "execution_count": 18,
   "metadata": {
    "colab": {
     "base_uri": "https://localhost:8080/"
    },
    "id": "m1RvZ2-b6IWG",
    "outputId": "cb1620a2-b914-40d3-a941-3285820c3d2a"
   },
   "outputs": [
    {
     "name": "stdout",
     "output_type": "stream",
     "text": [
      "New South Wales firefighters are hoping lighter winds will help ease their workload today but are predicting \"nasty\" conditions over the weekend. While the winds are expected to ease somewhat today, the weather bureau says temperatures will be higher. More than 100 fires are still burning across New South Wales. The Rural Fire Service says the change may allow it to concentrate more on preventative action, but there is no room for complacency. Mark Sullivan, from the Rural Fire Service, says while conditions may be a little kinder to them today, the outlook for the weekend has them worried. \"It certainly appears from the weather forecast, with very high temperatures and high winds that it certainly could be a nasty couple of days ahead,\" Mr Sullivan said. One of the areas causing greatest concern today is the 30-kilometre long blaze in the lower Blue Mountains. Firefighters are also keeping a close eye on a blaze at Spencer north of Sydney, which yesterday broke through containment lines. There are concerns that fire may jump the Hawkesbury River. Backburning continues in the state's central west and south of Sydney in the Shoalhaven. In the Illawarra, firefighters have been able to carry out back-burning operations in three areas. Operations were carried out in parts of Mt Kembla, as well as an area bounded by Appin Road and the Old Princes Highway at Helensburgh. An area west of Windy Gully near Cataract Dam was also targeted. Meanwhile, Illawarra police have arrested three teenagers in relation to bushfires at Shellharbour, on the south coast of New South Wales. A spokesman says three small fires were extinguished around 7:30pm AEDT yesterday. A short time later police arrested three 15-year-old boys from Shellharbour, Barrack Heights and Shell Cove. All three have been interviewed but no charges have been laid. \n",
      " (Score: 0.786765992641449)\n",
      "Thousands of firefighters remain on the ground across New South Wales this morning, as they assess the extent of fires burning around Sydney and on the state's south coast. Firefighters are battling a fire band stretching from around Campbelltown, south-west of Sydney, to the Royal National Park. Hundreds of people have been evacuated from small villages to the south and south-west of Sydney. Authorities estimate more than 60 properties have been destroyed in the greater Sydney area. Fourteen homes have been destroyed in the Hawkesbury area north of Sydney, and 20 properties have been ruined at Jervis Bay. John Winter, from the New South Wales Rural Fire Service, says firefighters' main concern is the fire band from Campbelltown through to the coast. \"That is going to be a very difficult area today, we do expect that the Royal National Park is likely to be impacted by fire later in the morning,\" he said. \"Certainly in terms of population risk and threat to property that band is going to be our area of greatest concern.\" In the ACT, it appears the worst of the fire danger may have passed though strong winds are expected to keep firefighters busy today. The fires have burned more than 800 hectares over the past two days. Yesterday, winds of up to 80 kilometres an hour fanned blazes in a dozen areas, including Queanbeyan, O'Connor, Mount Wanniassa, Red Hill and Black Mountain. Strong winds are again predicted for today but fire authorities are confident they have the resources to contain any further blazes. A total fire ban is in force in the ACT today and tomorrow. Emergency Services Minister Ted Quinlan has paid tribute to the efforts of firefighters. \"There has just been a whole body of people that have been magnificent in sacrificing their Christmas for the benefit of the community,\" he said. \n",
      " (Score: 0.7419584393501282)\n",
      "Firefighters across New South Wales are gearing up for a wind change that may bring further property losses today. More than 100 fires now ring two-thirds of the greater Sydney area. The blazes stretch south of the Royal National Park and north of Wollongong all the way to the Blue Mountains and up towards the edge of the Baulkham Hills shire. Fires are also burning around Huskisson on the far south coast, and as far inland as Mudgee, Narromine and Kempsey, and the Richmond Valley in the north. However, the major areas of concern today are the southern Sydney suburbs of Heathcote and Engadine. Thousands of residents in those suburbs were evacuated overnight. Senior forecaster with the Sydney Weather Bureau Ian Robertson, says the greatest risk will come when winds change direction this afternoon. \"We're looking at another dry day ahead throughout the state, particularly along the coast... more average sort of temperatures but the trick will be the winds,\" Mr Robertson said. \"We're looking at south-west winds this morning, an east to south-east sea breeze along the coast, which is going to make things quite challenging for firefighting.\" Between 4,000 and 5,000 firefighters are currently battling the blazes. Crews have already been brought in from Victoria, but the Rural Fire Service says it expects to call on other states for help. Service spokesman John Winter says property losses have been high. \"We are estimating that around 150 homes have been lost, obviously there are areas we're yet to confirm property losses,\" Mr Winter said. \n",
      " (Score: 0.7253156900405884)\n",
      "There has been welcome relief for firefighters in New South Wales overnight with milder weather allowing them to strengthen containment lines around the most severe fires. But fire authorities are not getting overly optimistic as dry and hot weather is forecast to continue. The weather bureau is forecasting temperatures in the high 30s and westerly winds until at least Friday, which means fire authorities are reluctant to get too excited about last night's favourable conditions. Marks Sullivan from the Rural Fire Service says fire fighters are remaining on guard. \"A lot of fires that have been burning in the areas around Sydney and the north coast and further south have been burning within areas that are known and are contained,\" he said. \"However, that's not to say that these fires won't pose a threat given the weather conditions that are coming up over the next few days.\" Despite the caution, the Rural Fire Service says most of the state's fires that threaten property are burning within containment lines. Greater Sydney is ringed by fires to the north, west and south. Two of those flared overnight. One at Appin in the southern highlands was quickly brought under control. Another flare-up at Spencer, north of the city, is not contained on its north-western flank, but is not threatening property. In the lower Blue Mountains west of Sydney, firefighters have spent the night setting up a 20 kilometre containment line to protect communities along the Great Western Highway from Glenbrook to Bulaburra. Two fires burning near Cessnock, west of Newcastle, are still within containment lines. In the state's north, aircraft will this morning check if lightning from a large electrical storm overnight has sparked any new fires above Grafton. Aircraft have also been used in the Shoalhaven area in the state's south to drop incendiary devices that start fire control lines in inaccessible areas. The Rural Fire Service Commissioner Phil Koperberg says if fire activity increases hundreds of New Year's Eve fireworks celebrations in New South Wales will be cancelled. \n",
      " (Score: 0.719960629940033)\n",
      "Widespread damage from yesterday's violent storms in New South Wales has forced the Government to declare more areas of the State natural disaster zones. Up to 700 volunteers and fire fighters are continuing the big mop-up. State Emergency Services (SES) volunteers are still clearing some of thehuge trees that came crashing down on homes in Sydney's north. Martin Walker was sitting on his back deck when the storm struck \"It sounded like a freight train was about to hit our house. \"You could hear it coming with such ferocity and as it hit, all the trees just seemed to bend and there was stuff hitting the back of our house,\" Mr Walker said. Pitwater, Bankstown, Sutherland, Hurstville and Liverpool in Sydney, and Gunnedah and Tamworth, in the state's north-west, have been added to the list of natural disaster areas. New South Wales Premier Bob Carr has inspected one of the worst hit parts, Wahroonga in Sydney's north. \"I'm struck by the unpredictability of this storm damage, we've had storms before but never winds of this force and it was uneven and unpredictable in its impact,\" Mr Carr said. The final damage bill is expected to be more than $10 million. \n",
      " (Score: 0.637600839138031)\n"
     ]
    }
   ],
   "source": [
    "#5 noticias más similares\n",
    "for idx, score in sims_sorted[1:6]:\n",
    "        print(corpus[idx], f\"(Score: {score})\" )"
   ]
  },
  {
   "cell_type": "code",
   "execution_count": 19,
   "metadata": {
    "id": "KbFvMPak6IWG"
   },
   "outputs": [],
   "source": [
    "#Creamos un texto nuevo y buscamos la noticia más similar\n",
    "texto = \"\"\"the new Pakistan government falled in the terrorist attack by the islamic group Hamas\"\"\"\n",
    "texto_embedding = model.encode(texto)"
   ]
  },
  {
   "cell_type": "code",
   "execution_count": 20,
   "metadata": {
    "colab": {
     "base_uri": "https://localhost:8080/"
    },
    "id": "hI91sX_d6IWI",
    "outputId": "76143b25-7c96-4e31-8dcf-48f2425b5e72"
   },
   "outputs": [
    {
     "data": {
      "text/plain": [
       "(384,)"
      ]
     },
     "execution_count": 20,
     "metadata": {},
     "output_type": "execute_result"
    }
   ],
   "source": [
    "texto_embedding.shape"
   ]
  },
  {
   "cell_type": "code",
   "execution_count": 21,
   "metadata": {
    "colab": {
     "base_uri": "https://localhost:8080/"
    },
    "id": "o_FobCM_6IWI",
    "outputId": "b21d2592-92bc-401d-afe7-684c6e1dae34"
   },
   "outputs": [
    {
     "name": "stdout",
     "output_type": "stream",
     "text": [
      "[(34, 0.51401895), (143, 0.5119651), (58, 0.47483134), (110, 0.4738132), (1, 0.46610594), (93, 0.46422002), (220, 0.45312607), (12, 0.43502474), (227, 0.43194503), (26, 0.4288589)]\n"
     ]
    }
   ],
   "source": [
    "#Comparamos con el resto\n",
    "sims = cosine_similarity(texto_embedding.reshape(1, -1), doc_embeddings)[0]\n",
    "sims_sorted = sorted(enumerate(sims), key=lambda item: -item[1])\n",
    "print(sims_sorted[:10])"
   ]
  },
  {
   "cell_type": "code",
   "execution_count": 22,
   "metadata": {
    "colab": {
     "base_uri": "https://localhost:8080/"
    },
    "id": "IgYfqF7e6IWI",
    "outputId": "e1e044eb-4553-4f80-99ff-b183c1afea47"
   },
   "outputs": [
    {
     "name": "stdout",
     "output_type": "stream",
     "text": [
      "Pakistan's Foreign Ministry has announced retaliatory sanctions against India, saying it would also downgrade embassy representation and ban Indian planes from its airspace. \"Pakistan regrets the Indian decision to downgrade embassy representation by 50 per cent and confine staff to the municipal limits of New Delhi and ban access to airspace,\" ministry spokesman Aziz Ahmed Khan said. \"Such efforts will only increase tension and we are forced to take retaliatory actions. \"We will downgrade their embassy staff here, confine them to Islamabad limits, and will also ban their access to Pakistan's airspace.\" As tension mounted between the two rivals after the December 13 attack on the Parliament complex in new Delhi, Indian Foreign Minister Jaswant Singh earlier announced a set of new sanctions. Pakistani aircraft would not be allowed to fly over Indian airspace from January 1, and the Indian embassy in Islamabad and the Pakistan mission in New Delhi will have to reduce their staff by 50 per cent, he said. Pakistani embassy staff would be confined to movement within New Delhi, he added. Mr Singh said the measures were being taken as a result of Pakistan's attempts to \"dupe\" the international community with \"cosmetic measures and non measures\" against militant groups operating in its territory. India has accused Pakistani military intelligence of sponsoring the Parliament attack and has threatened retaliation, including possible military action. \n",
      " (Score: 0.5140189528465271)\n",
      "Kashmiri militant groups denied involvement in Thursday's attack on the Indian Parliament, accusing Indian intelligence instead. \"We want to make it clear that Kashmiris have no connection with this attack,\" said the Muttahida Jihad Council (MJC), an alliance of 18 groups fighting Indian rule in Kashmir. \"We believe it was carried out by Indian intelligence agencies to achieve their motives about the Kashmir issue,\" the groups added in a statement. The attack on the Parliament building in New Delhi left at least 12 dead. The Indian authorities have not said who they believe was behind the killings. But the Kashmiri groups accused the Indian Government of masterminding the attack in a bid to divert attention from what they called increasing international pressure over Kashmir. \n",
      " (Score: 0.5119650959968567)\n",
      "Pakistan President Pervez Musharraf believes there is a strong possibility Osama bin Laden could have been killed in the United States bombardment of the Tora Bora caves in eastern Afghanistan. \"Maybe he is dead because of all the operations that have been conducted, the bombardment of all the caves that have been conducted, there's a great possibility that he may have lost his life there,\" General Musharraf said on Chinese state television. During the visit to Pakistan's close ally China, General Musharraf said Pakistan had stepped up security along its porous border with Afghanistan in a bid to capture the suspected terrorist mastermind. \"We have huge borders between Afghanistan and Pakistan,\" he said. \"The Tora Bora region in which he was supposed to be operating has ... about eight passes leading into Pakistan over mountains at a height of about 13  to 14,000 feet ... We are guarding each one of these passes. \"If he does enter, if we identify him, he will be handed over\". US and Afghan forces have been searching for signs of bin Laden, the number one suspect in the September 11 attacks on New York and Washington, around Tora  Bora since forces from his Al Qaeda network fled last weekend. US warplanes and Afghan forces had launched extensive attacks on the network of caves where Al Qaeda members had been hiding out. An Afghan commander in charge in the Tora Bora caves region said Saturday that bin Laden had probably gone to Pakistan. The Pentagon said on Monday that it had no idea where bin Laden was now although it believed he had been in the Tora Bora region until a few days before. \n",
      " (Score: 0.47483134269714355)\n",
      "The radical Palestinian group Hamas has reportedly shifted the focus in its guerrilla war against Israel. A senior Israeli Defence official has told Israel Army Radio the Palestinian organisation is now planning to attack strategic targets. Hamas has carried out numerous suicide bombings in Israel, but its targets have tended to be what are known as soft ones, such as public buses, or crowded shopping areas. But now, the Israel official says Hamas' focus will be on attacking strategic buildings and senior Israeli officials and he admits that stopping the group will be next to impossible. Hamas has rejected a call by Palestinian leader Yasser Arafat for an end to all military operations against Israel, and a return to peace negotiations. \n",
      " (Score: 0.4738132059574127)\n",
      "Indian security forces have shot dead eight suspected militants in a night-long encounter in southern Kashmir. The shootout took place at Dora village some 50 kilometers south of the Kashmiri summer capital Srinagar. The deaths came as Pakistani police arrested more than two dozen militants from extremist groups accused of staging an attack on India's parliament. India has accused Pakistan-based Lashkar-e-Taiba and Jaish-e-Mohammad of carrying out the attack on December 13 at the behest of Pakistani military intelligence. Military tensions have soared since the raid, with both sides massing troops along their border and trading tit-for-tat diplomatic sanctions. Yesterday, Pakistan announced it had arrested Lashkar-e-Taiba chief Hafiz Mohammed Saeed. Police in Karachi say it is likely more raids will be launched against the two groups as well as other militant organisations accused of targetting India. Military tensions between India and Pakistan have escalated to a level not seen since their 1971 war. \n",
      " (Score: 0.46610593795776367)\n"
     ]
    }
   ],
   "source": [
    "#5 noticias más similares\n",
    "for idx, score in sims_sorted[0:5]:\n",
    "        print(corpus[idx], f\"(Score: {score})\" )"
   ]
  },
  {
   "cell_type": "code",
   "execution_count": null,
   "metadata": {
    "id": "ryJ_FzVB6IWI"
   },
   "outputs": [],
   "source": []
  }
 ],
 "metadata": {
  "colab": {
   "name": "NLP_DL_07-Búsqueda semántica con SentenceBERT.ipynb",
   "provenance": []
  },
  "kernelspec": {
   "display_name": "Python 3",
   "language": "python",
   "name": "python3"
  },
  "language_info": {
   "codemirror_mode": {
    "name": "ipython",
    "version": 3
   },
   "file_extension": ".py",
   "mimetype": "text/x-python",
   "name": "python",
   "nbconvert_exporter": "python",
   "pygments_lexer": "ipython3",
   "version": "3.9.7"
  }
 },
 "nbformat": 4,
 "nbformat_minor": 4
}
