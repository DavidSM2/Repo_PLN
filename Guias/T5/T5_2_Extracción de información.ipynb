{
 "cells": [
  {
   "cell_type": "markdown",
   "id": "positive-driver",
   "metadata": {},
   "source": [
    "# Extracción de información"
   ]
  },
  {
   "cell_type": "code",
   "execution_count": null,
   "id": "cathedral-tennessee",
   "metadata": {},
   "outputs": [],
   "source": [
    "import spacy\n",
    "import pandas as pd\n",
    "from spacy import displacy\n",
    "\n",
    "nlp = spacy.load(\"es_core_news_sm\")"
   ]
  },
  {
   "cell_type": "code",
   "execution_count": null,
   "id": "0c0a85ea-89e6-456d-a6dd-bedd6ff48709",
   "metadata": {},
   "outputs": [],
   "source": [
    "nlp.component_names"
   ]
  },
  {
   "cell_type": "markdown",
   "id": "amateur-entity",
   "metadata": {},
   "source": [
    "## Named Entity Recognition"
   ]
  },
  {
   "cell_type": "code",
   "execution_count": null,
   "id": "roman-hunger",
   "metadata": {},
   "outputs": [],
   "source": [
    "doc = nlp(\"El gran escritor Miguel de Cervantes nació en Alcalá de Henares\")"
   ]
  },
  {
   "cell_type": "code",
   "execution_count": null,
   "id": "3dd52f49",
   "metadata": {},
   "outputs": [],
   "source": [
    "print([(ent.text, ent.label_) for ent in doc.ents])"
   ]
  },
  {
   "cell_type": "code",
   "execution_count": null,
   "id": "proof-exchange",
   "metadata": {},
   "outputs": [],
   "source": [
    "displacy.render(doc, style='ent', jupyter=True)"
   ]
  },
  {
   "cell_type": "code",
   "execution_count": null,
   "id": "representative-kingdom",
   "metadata": {},
   "outputs": [],
   "source": [
    "entidades = [e for e in doc.ents]\n",
    "entidades"
   ]
  },
  {
   "cell_type": "code",
   "execution_count": null,
   "id": "right-delicious",
   "metadata": {},
   "outputs": [],
   "source": [
    "type(entidades[0])"
   ]
  },
  {
   "cell_type": "code",
   "execution_count": null,
   "id": "needed-answer",
   "metadata": {},
   "outputs": [],
   "source": [
    "entidades[0].start"
   ]
  },
  {
   "cell_type": "code",
   "execution_count": null,
   "id": "satellite-congress",
   "metadata": {},
   "outputs": [],
   "source": [
    "entidades[0].end"
   ]
  },
  {
   "cell_type": "code",
   "execution_count": null,
   "id": "copyrighted-buffer",
   "metadata": {},
   "outputs": [],
   "source": [
    "doc[3:6]"
   ]
  },
  {
   "cell_type": "code",
   "execution_count": null,
   "id": "expensive-provision",
   "metadata": {},
   "outputs": [],
   "source": [
    "entidades[0].label_"
   ]
  },
  {
   "cell_type": "code",
   "execution_count": null,
   "id": "early-remainder",
   "metadata": {},
   "outputs": [],
   "source": [
    "datos = map(lambda t: {'token': t.orth_,\n",
    "                       'POS': t.pos_,\n",
    "                       'ent_iob': t.ent_iob_,\n",
    "                       'ent_type': t.ent_type_\n",
    "                      }, doc)\n",
    "\n",
    "pd.DataFrame(datos)"
   ]
  },
  {
   "cell_type": "markdown",
   "id": "outdoor-dating",
   "metadata": {},
   "source": [
    "Podemos usar la detección de entidades de tipo `PER` para enmascarar nombres propios en un texto"
   ]
  },
  {
   "cell_type": "code",
   "execution_count": null,
   "id": "independent-bryan",
   "metadata": {},
   "outputs": [],
   "source": [
    "texto = \"Al detenido Alejandro García se le acusa de matar a Juan Pérez\""
   ]
  },
  {
   "cell_type": "code",
   "execution_count": null,
   "id": "attractive-consent",
   "metadata": {},
   "outputs": [],
   "source": [
    "doc = nlp(texto)\n",
    "datos = map(lambda t: {'token': t.orth_,\n",
    "                       'POS': t.pos_,\n",
    "                       'ent_iob': t.ent_iob_,\n",
    "                       'ent_type': t.ent_type_\n",
    "                      }, doc)\n",
    "\n",
    "pd.DataFrame(datos)"
   ]
  },
  {
   "cell_type": "code",
   "execution_count": null,
   "id": "fbf970cd-1a45-4210-8c66-97804a7fa67d",
   "metadata": {},
   "outputs": [],
   "source": [
    "nlp.add_pipe(\"merge_entities\")"
   ]
  },
  {
   "cell_type": "code",
   "execution_count": null,
   "id": "6a64eff6-90a6-4675-9510-0d4f2277c35c",
   "metadata": {},
   "outputs": [],
   "source": [
    "nlp.component_names"
   ]
  },
  {
   "cell_type": "code",
   "execution_count": null,
   "id": "2b35f1ea-1c70-4f0f-ab96-6695f8a1fd3c",
   "metadata": {},
   "outputs": [],
   "source": [
    "doc = nlp(texto)\n",
    "datos = map(lambda t: {'token': t.orth_,\n",
    "                       'POS': t.pos_,\n",
    "                       'ent_iob': t.ent_iob_,\n",
    "                       'ent_type': t.ent_type_\n",
    "                      }, doc)\n",
    "\n",
    "pd.DataFrame(datos)"
   ]
  },
  {
   "cell_type": "code",
   "execution_count": null,
   "id": "gentle-fitness",
   "metadata": {},
   "outputs": [],
   "source": [
    "[t.text if not t.ent_type_=='PER' else '_PERSONA_' for t in doc]"
   ]
  },
  {
   "cell_type": "markdown",
   "id": "civilian-subject",
   "metadata": {},
   "source": [
    "### Creación de nuevas entidades en spaCy\n",
    "Podemos crear entidades nuevas con el componente `EntityRuler` del pipeline (https://spacy.io/api/entityruler)"
   ]
  },
  {
   "cell_type": "code",
   "execution_count": null,
   "id": "maritime-listening",
   "metadata": {},
   "outputs": [],
   "source": [
    "#Definimos \"escritor\" como profesión\n",
    "ruler = nlp.add_pipe(\"entity_ruler\")\n",
    "patterns = [{\"label\": \"PROFESION\", \"pattern\": [{\"LOWER\": \"escritor\"}]}]\n",
    "ruler.add_patterns(patterns)\n",
    "\n",
    "doc = nlp(\"El gran escritor Miguel de Cervantes nació en Alcalá de Henares\")\n",
    "displacy.render(doc, style='ent', jupyter=True)"
   ]
  },
  {
   "cell_type": "code",
   "execution_count": null,
   "id": "e1e1c095-53e2-4d44-a674-5acd6f48bbf8",
   "metadata": {},
   "outputs": [],
   "source": [
    "doc = nlp(\"Miguel de Cervantes era Escritor\")\n",
    "displacy.render(doc, style='ent', jupyter=True)"
   ]
  },
  {
   "cell_type": "code",
   "execution_count": null,
   "id": "collected-bouquet",
   "metadata": {},
   "outputs": [],
   "source": [
    "datos = map(lambda t: {'token': t.orth_,\n",
    "                       'POS': t.pos_,\n",
    "                       'ent_iob': t.ent_iob_,\n",
    "                       'ent_type': t.ent_type_\n",
    "                      }, doc)\n",
    "\n",
    "pd.DataFrame(datos)"
   ]
  },
  {
   "cell_type": "markdown",
   "id": "august-edition",
   "metadata": {},
   "source": [
    "Podemos añadir nuevas profesiones"
   ]
  },
  {
   "cell_type": "code",
   "execution_count": null,
   "id": "empty-chase",
   "metadata": {},
   "outputs": [],
   "source": [
    "patterns = [{\"label\": \"PROFESION\", \"pattern\": [{\"LOWER\": \"matador\"},{\"LOWER\": \"de\"},{\"LOWER\": \"toros\"}]}]\n",
    "ruler.add_patterns(patterns)\n",
    "\n",
    "doc = nlp(\"El padre de Miguel Bosé era el matador de toros Luis Miguel Dominguín\")\n",
    "print([(ent.text, ent.label_) for ent in doc.ents])"
   ]
  },
  {
   "cell_type": "code",
   "execution_count": null,
   "id": "proved-gateway",
   "metadata": {},
   "outputs": [],
   "source": [
    "datos = map(lambda t: {'token': t.orth_,\n",
    "                       'POS': t.pos_,\n",
    "                       'ent_iob': t.ent_iob_,\n",
    "                       'ent_type': t.ent_type_\n",
    "                      }, doc)\n",
    "\n",
    "pd.DataFrame(datos)"
   ]
  },
  {
   "cell_type": "code",
   "execution_count": null,
   "id": "turkish-crime",
   "metadata": {},
   "outputs": [],
   "source": [
    "doc = nlp(\"Luis Miguel era matador de toros y Cervantes era escritor\")\n",
    "datos = map(lambda t: {'token': t.orth_,\n",
    "                       'POS': t.pos_,\n",
    "                       'ent_iob': t.ent_iob_,\n",
    "                       'ent_type': t.ent_type_\n",
    "                      }, doc)\n",
    "\n",
    "pd.DataFrame(datos)"
   ]
  },
  {
   "cell_type": "markdown",
   "id": "794e7cfa",
   "metadata": {},
   "source": [
    "Como el proceso `entity_ruler` está detrás del `merge_entities` en el *pipeline* de `spaCy` no une las profesiones"
   ]
  },
  {
   "cell_type": "code",
   "execution_count": null,
   "id": "14b08615",
   "metadata": {},
   "outputs": [],
   "source": [
    "nlp.component_names"
   ]
  },
  {
   "cell_type": "code",
   "execution_count": null,
   "id": "2854441b",
   "metadata": {},
   "outputs": [],
   "source": [
    "nlp.remove_pipe('merge_entities')"
   ]
  },
  {
   "cell_type": "code",
   "execution_count": null,
   "id": "ed1da0aa",
   "metadata": {},
   "outputs": [],
   "source": [
    "doc = nlp(\"Luis Miguel era matador de toros y Cervantes era escritor\")\n",
    "\n",
    "datos = map(lambda t: {'token': t.orth_,\n",
    "                       'POS': t.pos_,\n",
    "                       'ent_iob': t.ent_iob_,\n",
    "                       'ent_type': t.ent_type_\n",
    "                      }, doc)\n",
    "\n",
    "pd.DataFrame(datos)"
   ]
  },
  {
   "cell_type": "code",
   "execution_count": null,
   "id": "39a5af88-2f8d-4a88-bb3b-a1fca3ba865b",
   "metadata": {},
   "outputs": [],
   "source": [
    "nlp.add_pipe(\"merge_entities\")\n",
    "nlp.component_names"
   ]
  },
  {
   "cell_type": "code",
   "execution_count": null,
   "id": "2010b8e7-c1d6-485e-b3ed-19637e7e5350",
   "metadata": {},
   "outputs": [],
   "source": [
    "doc = nlp(\"Luis Miguel era matador de toros y Cervantes era escritor\")\n",
    "\n",
    "datos = map(lambda t: {'token': t.orth_,\n",
    "                       'POS': t.pos_,\n",
    "                       'ent_iob': t.ent_iob_,\n",
    "                       'ent_type': t.ent_type_\n",
    "                      }, doc)\n",
    "\n",
    "pd.DataFrame(datos)"
   ]
  },
  {
   "cell_type": "code",
   "execution_count": null,
   "id": "pacific-article",
   "metadata": {},
   "outputs": [],
   "source": [
    "patterns = [{\"label\": \"ANIMAL\", \"pattern\": [{\"LEMMA\": \"gato\"},{\"LEMMA\": \"montés\", 'OP': '?'}]},\n",
    "           {\"label\": \"ANIMAL\", \"pattern\": [{\"LEMMA\": \"perro\"}]}]\n",
    "ruler.add_patterns(patterns)\n",
    "\n",
    "doc = nlp(\"Los gatos y perros son animales de compañía.\")\n",
    "print([(ent.text, ent.label_) for ent in doc.ents])"
   ]
  },
  {
   "cell_type": "code",
   "execution_count": null,
   "id": "varying-acoustic",
   "metadata": {},
   "outputs": [],
   "source": [
    "datos = map(lambda t: {'token': t.orth_,\n",
    "                       'POS': t.pos_,\n",
    "                       'lemma': t.lemma_,\n",
    "                       'ent_iob': t.ent_iob_,\n",
    "                       'ent_type': t.ent_type_\n",
    "                      }, doc)\n",
    "\n",
    "pd.DataFrame(datos)"
   ]
  },
  {
   "cell_type": "code",
   "execution_count": null,
   "id": "opposite-april",
   "metadata": {},
   "outputs": [],
   "source": [
    "doc = nlp(\"El gato montés es más grande que los gatos callejeros\")\n",
    "\n",
    "datos = map(lambda t: {'token': t.orth_,\n",
    "                       'POS': t.pos_,\n",
    "                       'lemma': t.lemma_,\n",
    "                       'ent_iob': t.ent_iob_,\n",
    "                       'ent_type': t.ent_type_\n",
    "                      }, doc)\n",
    "\n",
    "pd.DataFrame(datos)"
   ]
  },
  {
   "cell_type": "code",
   "execution_count": null,
   "id": "copyrighted-needle",
   "metadata": {},
   "outputs": [],
   "source": [
    "print([(ent.text, ent.label_) for ent in doc.ents])"
   ]
  },
  {
   "cell_type": "code",
   "execution_count": null,
   "id": "advanced-jonathan",
   "metadata": {},
   "outputs": [],
   "source": [
    "doc = nlp(\"El escritor Miguel de Cervantes tenía un gato llamado Juan\")\n",
    "print([(ent.text, ent.label_) for ent in doc.ents])"
   ]
  },
  {
   "cell_type": "markdown",
   "id": "virgin-offering",
   "metadata": {},
   "source": [
    "## Entity linking\n",
    "Usamos la API de DBPedia Spotlight (https://www.dbpedia-spotlight.org/api)"
   ]
  },
  {
   "cell_type": "code",
   "execution_count": null,
   "id": "formal-diana",
   "metadata": {},
   "outputs": [],
   "source": [
    "import requests\n",
    "from IPython.core.display import display, HTML\n",
    "# An API Error Exception\n",
    "class APIError(Exception):\n",
    "    def __init__(self, status):\n",
    "            self.status = status\n",
    "    def __str__(self):\n",
    "            return \"APIError: status={}\".format(self.status)\n",
    "      \n",
    "# Base URL for Spotlight API\n",
    "base_url = \"http://api.dbpedia-spotlight.org/en/annotate\"\n",
    "# Parameters \n",
    "# 'text' - text to be annotated \n",
    "# 'confidence' -   confidence score for linking\n",
    "text = \"The Space Shuttle was a partially reusable low Earth orbital spacecraft system operated from April 12, 1981, to July 21, 2011, by the National Aeronautics and Space Administration in the United States. Launched from the Kennedy Space Center in Florida, five Space Shuttle orbiter vehicles flew on a total of 135 missions during 30 years.\"\n",
    "\n",
    "params = {\"text\": text, \"confidence\": 0.5}\n",
    "# Response content type\n",
    "headers = {'accept': 'text/html'}\n",
    "# GET Request\n",
    "res = requests.get(base_url, params=params, headers=headers)\n",
    "if res.status_code != 200:\n",
    "    # Something went wrong\n",
    "    raise APIError(res.status_code)\n",
    "# Display the result as HTML in Jupyter Notebook\n",
    "display(HTML(res.text))"
   ]
  },
  {
   "cell_type": "code",
   "execution_count": null,
   "id": "turkish-camera",
   "metadata": {},
   "outputs": [],
   "source": [
    "res.headers"
   ]
  },
  {
   "cell_type": "code",
   "execution_count": null,
   "id": "operational-taiwan",
   "metadata": {},
   "outputs": [],
   "source": [
    "print(res.text)"
   ]
  },
  {
   "cell_type": "markdown",
   "id": "refined-monitor",
   "metadata": {},
   "source": [
    "Podemos hacer la petición en formato JSON"
   ]
  },
  {
   "cell_type": "code",
   "execution_count": null,
   "id": "correct-adapter",
   "metadata": {},
   "outputs": [],
   "source": [
    "headers = {'accept': 'application/json'}\n",
    "# GET Request\n",
    "res = requests.get(base_url, params=params, headers=headers)\n",
    "if res.status_code != 200:\n",
    "    # Something went wrong\n",
    "    raise APIError(res.status_code)\n",
    "# Display the result as HTML in Jupyter Notebook\n",
    "respuesta = res.json()\n",
    "respuesta"
   ]
  },
  {
   "cell_type": "markdown",
   "id": "automated-sensitivity",
   "metadata": {},
   "source": [
    "La respuesta JSON se puede iterar como un diccionario de claves-valores:"
   ]
  },
  {
   "cell_type": "code",
   "execution_count": null,
   "id": "composite-fraud",
   "metadata": {},
   "outputs": [],
   "source": [
    "for key, value in respuesta.items():\n",
    "    print(f\"{key} : {value}\\n\")"
   ]
  },
  {
   "cell_type": "markdown",
   "id": "patient-gathering",
   "metadata": {},
   "source": [
    "Además podemos acceder directamente a una clave o a una clave anidada:"
   ]
  },
  {
   "cell_type": "code",
   "execution_count": null,
   "id": "dirty-maple",
   "metadata": {},
   "outputs": [],
   "source": [
    "respuesta['@text']"
   ]
  },
  {
   "cell_type": "code",
   "execution_count": null,
   "id": "short-bench",
   "metadata": {},
   "outputs": [],
   "source": [
    "type(respuesta['Resources'])"
   ]
  },
  {
   "cell_type": "code",
   "execution_count": null,
   "id": "equipped-triple",
   "metadata": {},
   "outputs": [],
   "source": [
    "respuesta['Resources'][0]['@URI']"
   ]
  },
  {
   "cell_type": "code",
   "execution_count": null,
   "id": "dependent-community",
   "metadata": {},
   "outputs": [],
   "source": [
    "    \n",
    "# Base URL for Spotlight API\n",
    "base_url = \"http://api.dbpedia-spotlight.org/es/annotate\"\n",
    "# Parameters \n",
    "# 'text' - text to be annotated \n",
    "# 'confidence' -   confidence score for linking\n",
    "with open('articulo.txt', 'r') as f:\n",
    "    texto = f.read()\n",
    "    \n",
    "params = {\"text\": texto, \"confidence\": 0.5}\n",
    "# Response content type\n",
    "headers = {'accept': 'application/json'}\n",
    "# GET Request\n",
    "res = requests.get(base_url, params=params, headers=headers)\n",
    "if res.status_code != 200:\n",
    "    # Something went wrong\n",
    "    raise APIError(res.status_code)\n",
    "# Display the result as HTML in Jupyter Notebook\n",
    "respuesta = res.json()\n",
    "respuesta"
   ]
  },
  {
   "cell_type": "code",
   "execution_count": null,
   "id": "complex-pleasure",
   "metadata": {},
   "outputs": [],
   "source": [
    "for r in respuesta['Resources']:\n",
    "    print(r['@URI'])"
   ]
  },
  {
   "cell_type": "code",
   "execution_count": null,
   "id": "953232c8",
   "metadata": {},
   "outputs": [],
   "source": []
  }
 ],
 "metadata": {
  "kernelspec": {
   "display_name": "Python 3 (ipykernel)",
   "language": "python",
   "name": "python3"
  },
  "language_info": {
   "codemirror_mode": {
    "name": "ipython",
    "version": 3
   },
   "file_extension": ".py",
   "mimetype": "text/x-python",
   "name": "python",
   "nbconvert_exporter": "python",
   "pygments_lexer": "ipython3",
   "version": "3.9.16"
  }
 },
 "nbformat": 4,
 "nbformat_minor": 5
}
