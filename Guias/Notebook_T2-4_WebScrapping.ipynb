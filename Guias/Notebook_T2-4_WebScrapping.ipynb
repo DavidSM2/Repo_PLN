{
 "cells": [
  {
   "cell_type": "markdown",
   "metadata": {},
   "source": [
    "# Web Scraping con Python\n",
    "Vamos a usar las librerías [Requests](https://requests.kennethreitz.org/en/master/) y [BeautifulSoup](https://www.crummy.com/software/BeautifulSoup/bs4/doc/) para hacer web scraping. Instalación (en Anaconda):\n",
    "```\n",
    "conda install requests\n",
    "conda install beautifulsoup4\n",
    "```"
   ]
  },
  {
   "cell_type": "code",
   "execution_count": 109,
   "metadata": {},
   "outputs": [],
   "source": [
    "import requests\n",
    "from bs4 import BeautifulSoup"
   ]
  },
  {
   "cell_type": "code",
   "execution_count": 110,
   "metadata": {},
   "outputs": [],
   "source": [
    "r = requests.get(\"https://idal.uv.es/ejemplo.html\")"
   ]
  },
  {
   "cell_type": "code",
   "execution_count": 111,
   "metadata": {},
   "outputs": [
    {
     "data": {
      "text/plain": [
       "requests.models.Response"
      ]
     },
     "execution_count": 111,
     "metadata": {},
     "output_type": "execute_result"
    }
   ],
   "source": [
    "type(r)"
   ]
  },
  {
   "attachments": {},
   "cell_type": "markdown",
   "metadata": {},
   "source": [
    "El objeto devuelto es un objeto `requests.models.Response` con unos atributos determinados:"
   ]
  },
  {
   "cell_type": "code",
   "execution_count": 112,
   "metadata": {},
   "outputs": [
    {
     "data": {
      "text/plain": [
       "['apparent_encoding',\n",
       " 'close',\n",
       " 'connection',\n",
       " 'content',\n",
       " 'cookies',\n",
       " 'elapsed',\n",
       " 'encoding',\n",
       " 'headers',\n",
       " 'history',\n",
       " 'is_permanent_redirect',\n",
       " 'is_redirect',\n",
       " 'iter_content',\n",
       " 'iter_lines',\n",
       " 'json',\n",
       " 'links',\n",
       " 'next',\n",
       " 'ok',\n",
       " 'raise_for_status',\n",
       " 'raw',\n",
       " 'reason',\n",
       " 'request',\n",
       " 'status_code',\n",
       " 'text',\n",
       " 'url']"
      ]
     },
     "execution_count": 112,
     "metadata": {},
     "output_type": "execute_result"
    }
   ],
   "source": [
    "[s for s in dir(r) if not s.startswith('_')]"
   ]
  },
  {
   "cell_type": "markdown",
   "metadata": {},
   "source": [
    "Podemos ver el código de respuesta del servidor (útil para detectar errores 4XX o 5XX):"
   ]
  },
  {
   "cell_type": "code",
   "execution_count": 113,
   "metadata": {},
   "outputs": [
    {
     "data": {
      "text/plain": [
       "200"
      ]
     },
     "execution_count": 113,
     "metadata": {},
     "output_type": "execute_result"
    }
   ],
   "source": [
    "r.status_code"
   ]
  },
  {
   "attachments": {},
   "cell_type": "markdown",
   "metadata": {},
   "source": [
    "La URL de donde ha sacado los datos es:"
   ]
  },
  {
   "cell_type": "code",
   "execution_count": 114,
   "metadata": {},
   "outputs": [
    {
     "data": {
      "text/plain": [
       "'https://idal.uv.es/ejemplo.html'"
      ]
     },
     "execution_count": 114,
     "metadata": {},
     "output_type": "execute_result"
    }
   ],
   "source": [
    "r.url"
   ]
  },
  {
   "cell_type": "markdown",
   "metadata": {},
   "source": [
    "Para obtener la respuesta completa (código HTML de la página) como una cadena de texto accedemos al atributo `text`:"
   ]
  },
  {
   "cell_type": "code",
   "execution_count": 115,
   "metadata": {},
   "outputs": [
    {
     "name": "stdout",
     "output_type": "stream",
     "text": [
      "<!DOCTYPE html>\n",
      "<html lang=\"es\">\n",
      "<head>\n",
      "  <title>Página de ejemplo</title>\n",
      "  <meta charset=\"UTF-8\"/>\n",
      "  <meta name=\"viewport\" content=\"width=device-width, initial-scale=1\">\n",
      "  <link rel=\"stylesheet\" href=\"https://maxcdn.bootstrapcdn.com/bootstrap/3.4.0/css/bootstrap.min.css\">\n",
      "</head>\n",
      "<body>\n",
      "\n",
      "  <div class=\"jumbotron text-center\">\n",
      "    <h1>Página de ejemplo</h1>\n",
      "    <p>Página <em>HTML</em> con texto de ejemplo para hacer web scraping</p> \n",
      "  </div>\n",
      "  \n",
      "  <div class=\"container\">\n",
      "    <div class=\"row\">\n",
      "      <div class=\"col-sm-4\">\n",
      "        <h3>Columna 1</h3>\n",
      "        <p>Lorem ipsum dolor sit amet, consectetur adipisicing elit...</p>\n",
      "        <p>Ut enim ad minim veniam, quis nostrud exercitation ullamco laboris...</p>\n",
      "        <a class=\"btn\" href=\"#\" title=\"IDAL\">Enlace 1</a>\n",
      "      </div>\n",
      "      <div class=\"col-sm-4\">\n",
      "        <h3>Columna 2</h3>\n",
      "        <p>Lorem ipsum dolor sit amet, consectetur adipisicing elit...</p>\n",
      "        <p>Ut enim ad minim veniam, quis nostrud exercitation ullamco laboris...</p>\n",
      "        <a class=\"btn\" href=\"#\" title=\"IDAL\">Enlace 2</a>\n",
      "      </div>\n",
      "      <div class=\"col-sm-4\" id=\"col4\">\n",
      "        <h3>Columna 3</h3>        \n",
      "        <p>Lorem ipsum dolor sit amet, consectetur adipisicing elit...</p>\n",
      "        <p>Ut enim ad minim veniam, quis nostrud exercitation ullamco laboris...</p>\n",
      "        <a class=\"btn\" href=\"#\" title=\"IDAL\">Enlace 3</a>\n",
      "      </div>\n",
      "    </div>\n",
      "    <div class=\"row\" id=\"enlaces\">   \n",
      "      <h2>Algunos enlaces de prueba</h2>\n",
      "      <ul>\n",
      "        <li><a class=\"enlace\" href=\"https://idal.uv.es\" title=\"IDAL\">Intelligent Data Analysis Laboratory</a></li>\n",
      "        <li><a class=\"enlace\" href=\"http://etse.uv.es\" title=\"ETSE\">Escola Tècnica Superior d'Enginyeria</a></li>\n",
      "        <li><a class=\"enlace\" href=\"http://uv.es\" title=\"UV\">Universitat de València</a></li>\n",
      "      </ul>\n",
      "    </div>\n",
      "  </div>\n",
      "</body>\n",
      "</html>\n"
     ]
    }
   ],
   "source": [
    "print(r.text)"
   ]
  },
  {
   "cell_type": "markdown",
   "metadata": {},
   "source": [
    "Para comprobar el tipo de respuesta (Content Type) y ver si es HTML, JSON, XML, etc.:"
   ]
  },
  {
   "cell_type": "code",
   "execution_count": 116,
   "metadata": {},
   "outputs": [
    {
     "data": {
      "text/plain": [
       "'text/html; charset=UTF-8'"
      ]
     },
     "execution_count": 116,
     "metadata": {},
     "output_type": "execute_result"
    }
   ],
   "source": [
    "r.headers[\"content-type\"]"
   ]
  },
  {
   "cell_type": "markdown",
   "metadata": {},
   "source": [
    "Si el servidor diera la información de la codificación incorrecta (p. ej. ISO-8859-1 para una página UTF-8) podemos forzar una nueva codificación"
   ]
  },
  {
   "cell_type": "code",
   "execution_count": 117,
   "metadata": {},
   "outputs": [
    {
     "data": {
      "text/plain": [
       "'UTF-8'"
      ]
     },
     "execution_count": 117,
     "metadata": {},
     "output_type": "execute_result"
    }
   ],
   "source": [
    "r.encoding"
   ]
  },
  {
   "cell_type": "code",
   "execution_count": 118,
   "metadata": {},
   "outputs": [
    {
     "name": "stdout",
     "output_type": "stream",
     "text": [
      "<!DOCTYPE html>\n",
      "<html lang=\"es\">\n",
      "<head>\n",
      "  <title>PÃ¡gina de ejemplo</title>\n",
      "  <meta charset=\"UTF-8\"/>\n",
      "  <meta name=\"viewport\" content=\"width=device-width, initial-scale=1\">\n",
      "  <link rel=\"stylesheet\" href=\"https://maxcdn.bootstrapcdn.com/bootstrap/3.4.0/css/bootstrap.min.css\">\n",
      "</head>\n",
      "<body>\n",
      "\n",
      "  <div class=\"jumbotron text-center\">\n",
      "    <h1>PÃ¡gina de ejemplo</h1>\n",
      "    <p>PÃ¡gina <em>HTML</em> con texto de ejemplo para hacer web scraping</p> \n",
      "  </div>\n",
      "  \n",
      "  <div class=\"container\">\n",
      "    <div class=\"row\">\n",
      "      <div class=\"col-sm-4\">\n",
      "        <h3>Columna 1</h3>\n",
      "        <p>Lorem ipsum dolor sit amet, consectetur adipisicing elit...</p>\n",
      "        <p>Ut enim ad minim veniam, quis nostrud exercitation ullamco laboris...</p>\n",
      "        <a class=\"btn\" href=\"#\" title=\"IDAL\">Enlace 1</a>\n",
      "      </div>\n",
      "      <div class=\"col-sm-4\">\n",
      "        <h3>Columna 2</h3>\n",
      "        <p>Lorem ipsum dolor sit amet, consectetur adipisicing elit...</p>\n",
      "        <p>Ut enim ad minim veniam, quis nostrud exercitation ullamco laboris...</p>\n",
      "        <a class=\"btn\" href=\"#\" title=\"IDAL\">Enlace 2</a>\n",
      "      </div>\n",
      "      <div class=\"col-sm-4\" id=\"col4\">\n",
      "        <h3>Columna 3</h3>        \n",
      "        <p>Lorem ipsum dolor sit amet, consectetur adipisicing elit...</p>\n",
      "        <p>Ut enim ad minim veniam, quis nostrud exercitation ullamco laboris...</p>\n",
      "        <a class=\"btn\" href=\"#\" title=\"IDAL\">Enlace 3</a>\n",
      "      </div>\n",
      "    </div>\n",
      "    <div class=\"row\" id=\"enlaces\">   \n",
      "      <h2>Algunos enlaces de prueba</h2>\n",
      "      <ul>\n",
      "        <li><a class=\"enlace\" href=\"https://idal.uv.es\" title=\"IDAL\">Intelligent Data Analysis Laboratory</a></li>\n",
      "        <li><a class=\"enlace\" href=\"http://etse.uv.es\" title=\"ETSE\">Escola TÃ¨cnica Superior d'Enginyeria</a></li>\n",
      "        <li><a class=\"enlace\" href=\"http://uv.es\" title=\"UV\">Universitat de ValÃ¨ncia</a></li>\n",
      "      </ul>\n",
      "    </div>\n",
      "  </div>\n",
      "</body>\n",
      "</html>\n"
     ]
    }
   ],
   "source": [
    "r.encoding='ISO-8859-1' #cambiamos a ISO-8859-1 para comprobar que muestra mal los acentos\n",
    "print(r.text)"
   ]
  },
  {
   "attachments": {},
   "cell_type": "markdown",
   "metadata": {},
   "source": [
    "Volvemos a la codificación correcta"
   ]
  },
  {
   "cell_type": "code",
   "execution_count": 119,
   "metadata": {},
   "outputs": [],
   "source": [
    "r.encoding='UTF-8'"
   ]
  },
  {
   "cell_type": "markdown",
   "metadata": {},
   "source": [
    "Podemos ver todas las cabeceras devueltas:"
   ]
  },
  {
   "cell_type": "code",
   "execution_count": 120,
   "metadata": {},
   "outputs": [
    {
     "data": {
      "text/plain": [
       "{'Date': 'Thu, 09 Feb 2023 11:04:34 GMT', 'Server': 'Apache/2.4.41 (Ubuntu)', 'Last-Modified': 'Wed, 10 Feb 2021 10:11:14 GMT', 'ETag': '\"73d-5baf89f8467b1-gzip\"', 'Accept-Ranges': 'bytes', 'Vary': 'Accept-Encoding', 'Content-Encoding': 'gzip', 'Content-Length': '673', 'Keep-Alive': 'timeout=5, max=100', 'Connection': 'Keep-Alive', 'Content-Type': 'text/html; charset=UTF-8'}"
      ]
     },
     "execution_count": 120,
     "metadata": {},
     "output_type": "execute_result"
    }
   ],
   "source": [
    "r.headers"
   ]
  },
  {
   "cell_type": "markdown",
   "metadata": {},
   "source": [
    "O una cabecera en concreto"
   ]
  },
  {
   "cell_type": "code",
   "execution_count": 121,
   "metadata": {},
   "outputs": [
    {
     "data": {
      "text/plain": [
       "'text/html; charset=UTF-8'"
      ]
     },
     "execution_count": 121,
     "metadata": {},
     "output_type": "execute_result"
    }
   ],
   "source": [
    "r.headers['Content-Type']"
   ]
  },
  {
   "cell_type": "markdown",
   "metadata": {},
   "source": [
    "### Extraer contenido del HTML\n",
    "Usar expresiones regulares para buscar patrones HTML no está recomendado. Es mejor usar una librería para \"parsear\" el HTML y extraer el contenido de las etiquetas específicas.  \n",
    "Aún así, las RegEx se pueden usar para buscar patrones específicos como listas de precios, direcciones de correo, números de teléfono.  \n",
    "Podemos ejecutar una RegEx en el texto de respuesta para buscar un patrón específico, como p. ej. una URL:"
   ]
  },
  {
   "cell_type": "code",
   "execution_count": 122,
   "metadata": {},
   "outputs": [
    {
     "data": {
      "text/plain": [
       "['https://maxcdn.bootstrapcdn.com/bootstrap/3.4.0/css/bootstrap.min.css',\n",
       " 'https://idal.uv.es',\n",
       " 'http://etse.uv.es',\n",
       " 'http://uv.es']"
      ]
     },
     "execution_count": 122,
     "metadata": {},
     "output_type": "execute_result"
    }
   ],
   "source": [
    "import re\n",
    "\n",
    "re.findall(r'https?://[\\w_./]+', r.text)"
   ]
  },
  {
   "cell_type": "code",
   "execution_count": 123,
   "metadata": {},
   "outputs": [
    {
     "data": {
      "text/plain": [
       "<re.Match object; span=(203, 272), match='https://maxcdn.bootstrapcdn.com/bootstrap/3.4.0/c>"
      ]
     },
     "execution_count": 123,
     "metadata": {},
     "output_type": "execute_result"
    }
   ],
   "source": [
    "patron = re.compile(r'https?://[\\w_./]+')\n",
    "\n",
    "re.search(patron, r.text)"
   ]
  },
  {
   "cell_type": "markdown",
   "metadata": {},
   "source": [
    "## Librería BeautifulSoup\n",
    "La librería BeautifulSoup se utiliza para extraer contenidos desde una página HTML. Tiene una API muy simple a la vez que potente.  \n",
    "Para empezar, hay que convertir el HTML del texto de respuesta en una estructura DOM jerárquica que se pueda recorrer y buscar.\n"
   ]
  },
  {
   "cell_type": "code",
   "execution_count": 124,
   "metadata": {},
   "outputs": [],
   "source": [
    "soup = BeautifulSoup(r.text, \"html.parser\")"
   ]
  },
  {
   "attachments": {},
   "cell_type": "markdown",
   "metadata": {},
   "source": [
    "El objeto `soup` contiene el DOM de todo el documento HTML"
   ]
  },
  {
   "cell_type": "code",
   "execution_count": 125,
   "metadata": {},
   "outputs": [
    {
     "data": {
      "text/plain": [
       "bs4.BeautifulSoup"
      ]
     },
     "execution_count": 125,
     "metadata": {},
     "output_type": "execute_result"
    }
   ],
   "source": [
    "type(soup)"
   ]
  },
  {
   "attachments": {},
   "cell_type": "markdown",
   "metadata": {},
   "source": [
    "Podemos referirnos a cada elemento del DOM por su nombre (etiqueta HTML) dentro del objeto `soup` (si hay varias apariciones sólo devuelve la primera)"
   ]
  },
  {
   "cell_type": "code",
   "execution_count": 126,
   "metadata": {},
   "outputs": [
    {
     "data": {
      "text/plain": [
       "<title>Página de ejemplo</title>"
      ]
     },
     "execution_count": 126,
     "metadata": {},
     "output_type": "execute_result"
    }
   ],
   "source": [
    "soup.title"
   ]
  },
  {
   "cell_type": "code",
   "execution_count": 127,
   "metadata": {},
   "outputs": [
    {
     "data": {
      "text/plain": [
       "bs4.element.Tag"
      ]
     },
     "execution_count": 127,
     "metadata": {},
     "output_type": "execute_result"
    }
   ],
   "source": [
    "type(soup.title)"
   ]
  },
  {
   "cell_type": "code",
   "execution_count": 128,
   "metadata": {},
   "outputs": [
    {
     "name": "stdout",
     "output_type": "stream",
     "text": [
      "Página de ejemplo\n"
     ]
    }
   ],
   "source": [
    "titulo = soup.title.text\n",
    "print(titulo)"
   ]
  },
  {
   "cell_type": "code",
   "execution_count": 129,
   "metadata": {},
   "outputs": [
    {
     "data": {
      "text/plain": [
       "<a class=\"btn\" href=\"#\" title=\"IDAL\">Enlace 1</a>"
      ]
     },
     "execution_count": 129,
     "metadata": {},
     "output_type": "execute_result"
    }
   ],
   "source": [
    "soup.a"
   ]
  },
  {
   "attachments": {},
   "cell_type": "markdown",
   "metadata": {},
   "source": [
    "Atributos del elemento HTML"
   ]
  },
  {
   "cell_type": "code",
   "execution_count": 130,
   "metadata": {},
   "outputs": [
    {
     "data": {
      "text/plain": [
       "'#'"
      ]
     },
     "execution_count": 130,
     "metadata": {},
     "output_type": "execute_result"
    }
   ],
   "source": [
    "soup.a['href']"
   ]
  },
  {
   "cell_type": "markdown",
   "metadata": {},
   "source": [
    "Si un elemento tiene otros elementos anidados los muestra todos."
   ]
  },
  {
   "cell_type": "code",
   "execution_count": 131,
   "metadata": {},
   "outputs": [
    {
     "data": {
      "text/plain": [
       "<div class=\"jumbotron text-center\">\n",
       "<h1>Página de ejemplo</h1>\n",
       "<p>Página <em>HTML</em> con texto de ejemplo para hacer web scraping</p>\n",
       "</div>"
      ]
     },
     "execution_count": 131,
     "metadata": {},
     "output_type": "execute_result"
    }
   ],
   "source": [
    "soup.div"
   ]
  },
  {
   "cell_type": "markdown",
   "metadata": {},
   "source": [
    "El atributo `text` contiene el texto de todos los elementos internos."
   ]
  },
  {
   "cell_type": "code",
   "execution_count": 132,
   "metadata": {},
   "outputs": [
    {
     "data": {
      "text/plain": [
       "'\\nPágina de ejemplo\\nPágina HTML con texto de ejemplo para hacer web scraping\\n'"
      ]
     },
     "execution_count": 132,
     "metadata": {},
     "output_type": "execute_result"
    }
   ],
   "source": [
    "soup.div.text"
   ]
  },
  {
   "cell_type": "code",
   "execution_count": 133,
   "metadata": {},
   "outputs": [
    {
     "data": {
      "text/plain": [
       "'Página de ejemplo'"
      ]
     },
     "execution_count": 133,
     "metadata": {},
     "output_type": "execute_result"
    }
   ],
   "source": [
    "soup.div.h1.text"
   ]
  },
  {
   "cell_type": "markdown",
   "metadata": {},
   "source": [
    "El método `find` busca la primera aparición de una etiqueta en el objeto `Soup`. Cada etiqueta contiene todo su contenido dentro de la estructura DOM."
   ]
  },
  {
   "cell_type": "code",
   "execution_count": 134,
   "metadata": {},
   "outputs": [
    {
     "data": {
      "text/plain": [
       "<a class=\"btn\" href=\"#\" title=\"IDAL\">Enlace 1</a>"
      ]
     },
     "execution_count": 134,
     "metadata": {},
     "output_type": "execute_result"
    }
   ],
   "source": [
    "link = soup.find(\"a\")\n",
    "link"
   ]
  },
  {
   "attachments": {},
   "cell_type": "markdown",
   "metadata": {},
   "source": [
    "Es equivalente a:"
   ]
  },
  {
   "cell_type": "code",
   "execution_count": 135,
   "metadata": {},
   "outputs": [
    {
     "data": {
      "text/plain": [
       "<a class=\"btn\" href=\"#\" title=\"IDAL\">Enlace 1</a>"
      ]
     },
     "execution_count": 135,
     "metadata": {},
     "output_type": "execute_result"
    }
   ],
   "source": [
    "soup.a"
   ]
  },
  {
   "cell_type": "code",
   "execution_count": 136,
   "metadata": {},
   "outputs": [
    {
     "data": {
      "text/plain": [
       "'Enlace 1'"
      ]
     },
     "execution_count": 136,
     "metadata": {},
     "output_type": "execute_result"
    }
   ],
   "source": [
    "link.text"
   ]
  },
  {
   "attachments": {},
   "cell_type": "markdown",
   "metadata": {},
   "source": [
    "De cada elemento podemos obtener sus atributos"
   ]
  },
  {
   "cell_type": "code",
   "execution_count": 137,
   "metadata": {},
   "outputs": [
    {
     "data": {
      "text/plain": [
       "['btn']"
      ]
     },
     "execution_count": 137,
     "metadata": {},
     "output_type": "execute_result"
    }
   ],
   "source": [
    "link.get('class') #equivalente a link['class']"
   ]
  },
  {
   "cell_type": "code",
   "execution_count": 138,
   "metadata": {},
   "outputs": [
    {
     "data": {
      "text/plain": [
       "{'class': ['btn'], 'href': '#', 'title': 'IDAL'}"
      ]
     },
     "execution_count": 138,
     "metadata": {},
     "output_type": "execute_result"
    }
   ],
   "source": [
    "link.attrs"
   ]
  },
  {
   "cell_type": "code",
   "execution_count": 139,
   "metadata": {},
   "outputs": [
    {
     "data": {
      "text/plain": [
       "'IDAL'"
      ]
     },
     "execution_count": 139,
     "metadata": {},
     "output_type": "execute_result"
    }
   ],
   "source": [
    "link.attrs['title']"
   ]
  },
  {
   "cell_type": "code",
   "execution_count": 140,
   "metadata": {},
   "outputs": [
    {
     "data": {
      "text/plain": [
       "'#'"
      ]
     },
     "execution_count": 140,
     "metadata": {},
     "output_type": "execute_result"
    }
   ],
   "source": [
    "link['href']"
   ]
  },
  {
   "cell_type": "markdown",
   "metadata": {},
   "source": [
    "Podemos encadenar varias etiquetas a buscar"
   ]
  },
  {
   "cell_type": "code",
   "execution_count": 141,
   "metadata": {},
   "outputs": [
    {
     "data": {
      "text/plain": [
       "<em>HTML</em>"
      ]
     },
     "execution_count": 141,
     "metadata": {},
     "output_type": "execute_result"
    }
   ],
   "source": [
    "soup.find('p').find('em')"
   ]
  },
  {
   "cell_type": "code",
   "execution_count": 142,
   "metadata": {},
   "outputs": [
    {
     "data": {
      "text/plain": [
       "<em>HTML</em>"
      ]
     },
     "execution_count": 142,
     "metadata": {},
     "output_type": "execute_result"
    }
   ],
   "source": [
    "soup.p.em"
   ]
  },
  {
   "cell_type": "markdown",
   "metadata": {},
   "source": [
    "Podemos acotar la búsqueda a una clase específica de la etiqueta (p.ej. `<a class=\"enlace\">...</a>`)"
   ]
  },
  {
   "cell_type": "code",
   "execution_count": 143,
   "metadata": {},
   "outputs": [
    {
     "name": "stdout",
     "output_type": "stream",
     "text": [
      "<a class=\"enlace\" href=\"https://idal.uv.es\" title=\"IDAL\">Intelligent Data Analysis Laboratory</a>\n"
     ]
    }
   ],
   "source": [
    "tag = soup.find(\"a\", class_=\"enlace\")\n",
    "print(tag)"
   ]
  },
  {
   "cell_type": "code",
   "execution_count": 144,
   "metadata": {},
   "outputs": [
    {
     "name": "stdout",
     "output_type": "stream",
     "text": [
      "<a class=\"enlace\" href=\"https://idal.uv.es\" title=\"IDAL\">Intelligent Data Analysis Laboratory</a>\n"
     ]
    }
   ],
   "source": [
    "#o simplemente\n",
    "tag = soup.find(\"a\", \"enlace\")\n",
    "print(tag)"
   ]
  },
  {
   "cell_type": "markdown",
   "metadata": {},
   "source": [
    "Podemos buscar una etiqueta con un atributo ID específico (p.ej.: `<div id=\"col4\">...</div>`)"
   ]
  },
  {
   "cell_type": "code",
   "execution_count": 145,
   "metadata": {},
   "outputs": [
    {
     "name": "stdout",
     "output_type": "stream",
     "text": [
      "<div class=\"col-sm-4\" id=\"col4\">\n",
      "<h3>Columna 3</h3>\n",
      "<p>Lorem ipsum dolor sit amet, consectetur adipisicing elit...</p>\n",
      "<p>Ut enim ad minim veniam, quis nostrud exercitation ullamco laboris...</p>\n",
      "<a class=\"btn\" href=\"#\" title=\"IDAL\">Enlace 3</a>\n",
      "</div>\n"
     ]
    }
   ],
   "source": [
    "tag = soup.find(\"div\", id=\"col4\")\n",
    "print(tag)"
   ]
  },
  {
   "attachments": {},
   "cell_type": "markdown",
   "metadata": {},
   "source": [
    "Podemos buscar un atributo sin especificar el tipo de elemento que lo contiene:"
   ]
  },
  {
   "cell_type": "code",
   "execution_count": 146,
   "metadata": {},
   "outputs": [
    {
     "data": {
      "text/plain": [
       "<div class=\"row\" id=\"enlaces\">\n",
       "<h2>Algunos enlaces de prueba</h2>\n",
       "<ul>\n",
       "<li><a class=\"enlace\" href=\"https://idal.uv.es\" title=\"IDAL\">Intelligent Data Analysis Laboratory</a></li>\n",
       "<li><a class=\"enlace\" href=\"http://etse.uv.es\" title=\"ETSE\">Escola Tècnica Superior d'Enginyeria</a></li>\n",
       "<li><a class=\"enlace\" href=\"http://uv.es\" title=\"UV\">Universitat de València</a></li>\n",
       "</ul>\n",
       "</div>"
      ]
     },
     "execution_count": 146,
     "metadata": {},
     "output_type": "execute_result"
    }
   ],
   "source": [
    "soup.find(id=\"enlaces\")"
   ]
  },
  {
   "cell_type": "code",
   "execution_count": 147,
   "metadata": {},
   "outputs": [
    {
     "data": {
      "text/plain": [
       "<a class=\"btn\" href=\"#\" title=\"IDAL\">Enlace 1</a>"
      ]
     },
     "execution_count": 147,
     "metadata": {},
     "output_type": "execute_result"
    }
   ],
   "source": [
    "soup.find(href=\"#\")"
   ]
  },
  {
   "cell_type": "code",
   "execution_count": 148,
   "metadata": {},
   "outputs": [
    {
     "data": {
      "text/plain": [
       "'Columna 1'"
      ]
     },
     "execution_count": 148,
     "metadata": {},
     "output_type": "execute_result"
    }
   ],
   "source": [
    "soup.find(class_=\"col-sm-4\").h3.text"
   ]
  },
  {
   "cell_type": "code",
   "execution_count": 149,
   "metadata": {},
   "outputs": [
    {
     "data": {
      "text/plain": [
       "<div class=\"col-sm-4\">\n",
       "<h3>Columna 1</h3>\n",
       "<p>Lorem ipsum dolor sit amet, consectetur adipisicing elit...</p>\n",
       "<p>Ut enim ad minim veniam, quis nostrud exercitation ullamco laboris...</p>\n",
       "<a class=\"btn\" href=\"#\" title=\"IDAL\">Enlace 1</a>\n",
       "</div>"
      ]
     },
     "execution_count": 149,
     "metadata": {},
     "output_type": "execute_result"
    }
   ],
   "source": [
    "soup.find(class_=\"col-sm-4\")"
   ]
  },
  {
   "cell_type": "code",
   "execution_count": 150,
   "metadata": {},
   "outputs": [
    {
     "name": "stdout",
     "output_type": "stream",
     "text": [
      "\n",
      "Columna 1\n",
      "Lorem ipsum dolor sit amet, consectetur adipisicing elit...\n",
      "Ut enim ad minim veniam, quis nostrud exercitation ullamco laboris...\n",
      "Enlace 1\n",
      "\n"
     ]
    }
   ],
   "source": [
    "print(soup.find(class_=\"col-sm-4\").text)"
   ]
  },
  {
   "cell_type": "markdown",
   "metadata": {},
   "source": [
    "EL objeto que devuelve `find()` es del tipo `Tag`\n"
   ]
  },
  {
   "cell_type": "code",
   "execution_count": 151,
   "metadata": {},
   "outputs": [
    {
     "data": {
      "text/plain": [
       "bs4.element.Tag"
      ]
     },
     "execution_count": 151,
     "metadata": {},
     "output_type": "execute_result"
    }
   ],
   "source": [
    "type(tag)"
   ]
  },
  {
   "cell_type": "code",
   "execution_count": 152,
   "metadata": {},
   "outputs": [
    {
     "data": {
      "text/plain": [
       "['DEFAULT_INTERESTING_STRING_TYPES',\n",
       " 'append',\n",
       " 'attrs',\n",
       " 'can_be_empty_element',\n",
       " 'cdata_list_attributes',\n",
       " 'childGenerator',\n",
       " 'children',\n",
       " 'clear',\n",
       " 'contents',\n",
       " 'decode',\n",
       " 'decode_contents',\n",
       " 'decompose',\n",
       " 'decomposed',\n",
       " 'default',\n",
       " 'descendants',\n",
       " 'encode',\n",
       " 'encode_contents',\n",
       " 'extend',\n",
       " 'extract',\n",
       " 'fetchNextSiblings',\n",
       " 'fetchParents',\n",
       " 'fetchPrevious',\n",
       " 'fetchPreviousSiblings',\n",
       " 'find',\n",
       " 'findAll',\n",
       " 'findAllNext',\n",
       " 'findAllPrevious',\n",
       " 'findChild',\n",
       " 'findChildren',\n",
       " 'findNext',\n",
       " 'findNextSibling',\n",
       " 'findNextSiblings',\n",
       " 'findParent',\n",
       " 'findParents',\n",
       " 'findPrevious',\n",
       " 'findPreviousSibling',\n",
       " 'findPreviousSiblings',\n",
       " 'find_all',\n",
       " 'find_all_next',\n",
       " 'find_all_previous',\n",
       " 'find_next',\n",
       " 'find_next_sibling',\n",
       " 'find_next_siblings',\n",
       " 'find_parent',\n",
       " 'find_parents',\n",
       " 'find_previous',\n",
       " 'find_previous_sibling',\n",
       " 'find_previous_siblings',\n",
       " 'format_string',\n",
       " 'formatter_for_name',\n",
       " 'get',\n",
       " 'getText',\n",
       " 'get_attribute_list',\n",
       " 'get_text',\n",
       " 'has_attr',\n",
       " 'has_key',\n",
       " 'hidden',\n",
       " 'index',\n",
       " 'insert',\n",
       " 'insert_after',\n",
       " 'insert_before',\n",
       " 'interesting_string_types',\n",
       " 'isSelfClosing',\n",
       " 'is_empty_element',\n",
       " 'known_xml',\n",
       " 'name',\n",
       " 'namespace',\n",
       " 'next',\n",
       " 'nextGenerator',\n",
       " 'nextSibling',\n",
       " 'nextSiblingGenerator',\n",
       " 'next_element',\n",
       " 'next_elements',\n",
       " 'next_sibling',\n",
       " 'next_siblings',\n",
       " 'parent',\n",
       " 'parentGenerator',\n",
       " 'parents',\n",
       " 'parserClass',\n",
       " 'parser_class',\n",
       " 'prefix',\n",
       " 'preserve_whitespace_tags',\n",
       " 'prettify',\n",
       " 'previous',\n",
       " 'previousGenerator',\n",
       " 'previousSibling',\n",
       " 'previousSiblingGenerator',\n",
       " 'previous_element',\n",
       " 'previous_elements',\n",
       " 'previous_sibling',\n",
       " 'previous_siblings',\n",
       " 'recursiveChildGenerator',\n",
       " 'renderContents',\n",
       " 'replaceWith',\n",
       " 'replaceWithChildren',\n",
       " 'replace_with',\n",
       " 'replace_with_children',\n",
       " 'select',\n",
       " 'select_one',\n",
       " 'setup',\n",
       " 'smooth',\n",
       " 'sourceline',\n",
       " 'sourcepos',\n",
       " 'string',\n",
       " 'strings',\n",
       " 'stripped_strings',\n",
       " 'text',\n",
       " 'unwrap',\n",
       " 'wrap']"
      ]
     },
     "execution_count": 152,
     "metadata": {},
     "output_type": "execute_result"
    }
   ],
   "source": [
    "#atributos y métodos de Tag\n",
    "[s for s in dir(tag) if not s.startswith('_')]"
   ]
  },
  {
   "cell_type": "markdown",
   "metadata": {},
   "source": [
    "El método `find_all` devuelve una lista de objetos `Tag` con todas las etiquetas que encuentra con ese parámetro de búsqueda.  \n",
    "P. ej. para buscar todas las etiquetas de un tipo en el árbol DOM (por ejemplo los enlaces `<a>` de una página):"
   ]
  },
  {
   "cell_type": "code",
   "execution_count": 153,
   "metadata": {},
   "outputs": [
    {
     "data": {
      "text/plain": [
       "[<a class=\"btn\" href=\"#\" title=\"IDAL\">Enlace 1</a>,\n",
       " <a class=\"btn\" href=\"#\" title=\"IDAL\">Enlace 2</a>,\n",
       " <a class=\"btn\" href=\"#\" title=\"IDAL\">Enlace 3</a>,\n",
       " <a class=\"enlace\" href=\"https://idal.uv.es\" title=\"IDAL\">Intelligent Data Analysis Laboratory</a>,\n",
       " <a class=\"enlace\" href=\"http://etse.uv.es\" title=\"ETSE\">Escola Tècnica Superior d'Enginyeria</a>,\n",
       " <a class=\"enlace\" href=\"http://uv.es\" title=\"UV\">Universitat de València</a>]"
      ]
     },
     "execution_count": 153,
     "metadata": {},
     "output_type": "execute_result"
    }
   ],
   "source": [
    "soup.find_all(\"a\")"
   ]
  },
  {
   "attachments": {},
   "cell_type": "markdown",
   "metadata": {},
   "source": [
    "Devuelve un elemento especial que funciona como un *iterable*"
   ]
  },
  {
   "cell_type": "code",
   "execution_count": 154,
   "metadata": {},
   "outputs": [
    {
     "data": {
      "text/plain": [
       "bs4.element.ResultSet"
      ]
     },
     "execution_count": 154,
     "metadata": {},
     "output_type": "execute_result"
    }
   ],
   "source": [
    "type(soup.find_all(\"a\"))"
   ]
  },
  {
   "cell_type": "code",
   "execution_count": 155,
   "metadata": {},
   "outputs": [
    {
     "data": {
      "text/plain": [
       "bs4.element.Tag"
      ]
     },
     "execution_count": 155,
     "metadata": {},
     "output_type": "execute_result"
    }
   ],
   "source": [
    "type(soup.find_all(\"a\")[0])"
   ]
  },
  {
   "cell_type": "code",
   "execution_count": 156,
   "metadata": {},
   "outputs": [
    {
     "data": {
      "text/plain": [
       "[<a class=\"btn\" href=\"#\" title=\"IDAL\">Enlace 1</a>,\n",
       " <a class=\"btn\" href=\"#\" title=\"IDAL\">Enlace 2</a>,\n",
       " <a class=\"btn\" href=\"#\" title=\"IDAL\">Enlace 3</a>,\n",
       " <a class=\"enlace\" href=\"https://idal.uv.es\" title=\"IDAL\">Intelligent Data Analysis Laboratory</a>,\n",
       " <a class=\"enlace\" href=\"http://etse.uv.es\" title=\"ETSE\">Escola Tècnica Superior d'Enginyeria</a>,\n",
       " <a class=\"enlace\" href=\"http://uv.es\" title=\"UV\">Universitat de València</a>]"
      ]
     },
     "execution_count": 156,
     "metadata": {},
     "output_type": "execute_result"
    }
   ],
   "source": [
    "#hay un shortcut para find_all\n",
    "soup(\"a\")"
   ]
  },
  {
   "cell_type": "code",
   "execution_count": 157,
   "metadata": {},
   "outputs": [
    {
     "data": {
      "text/plain": [
       "<a class=\"btn\" href=\"#\" title=\"IDAL\">Enlace 1</a>"
      ]
     },
     "execution_count": 157,
     "metadata": {},
     "output_type": "execute_result"
    }
   ],
   "source": [
    "#No confundir con\n",
    "soup.a"
   ]
  },
  {
   "attachments": {},
   "cell_type": "markdown",
   "metadata": {},
   "source": [
    "Que equivale a"
   ]
  },
  {
   "cell_type": "code",
   "execution_count": 158,
   "metadata": {},
   "outputs": [
    {
     "data": {
      "text/plain": [
       "<a class=\"btn\" href=\"#\" title=\"IDAL\">Enlace 1</a>"
      ]
     },
     "execution_count": 158,
     "metadata": {},
     "output_type": "execute_result"
    }
   ],
   "source": [
    "soup(\"a\")[0]"
   ]
  },
  {
   "cell_type": "markdown",
   "metadata": {},
   "source": [
    "Podemos especificar una lista de etiquetas a buscar y las devuelve todas en el orden en que aparecen en la página."
   ]
  },
  {
   "cell_type": "code",
   "execution_count": 159,
   "metadata": {},
   "outputs": [
    {
     "data": {
      "text/plain": [
       "[<p>Página <em>HTML</em> con texto de ejemplo para hacer web scraping</p>,\n",
       " <p>Lorem ipsum dolor sit amet, consectetur adipisicing elit...</p>,\n",
       " <p>Ut enim ad minim veniam, quis nostrud exercitation ullamco laboris...</p>,\n",
       " <a class=\"btn\" href=\"#\" title=\"IDAL\">Enlace 1</a>,\n",
       " <p>Lorem ipsum dolor sit amet, consectetur adipisicing elit...</p>,\n",
       " <p>Ut enim ad minim veniam, quis nostrud exercitation ullamco laboris...</p>,\n",
       " <a class=\"btn\" href=\"#\" title=\"IDAL\">Enlace 2</a>,\n",
       " <p>Lorem ipsum dolor sit amet, consectetur adipisicing elit...</p>,\n",
       " <p>Ut enim ad minim veniam, quis nostrud exercitation ullamco laboris...</p>,\n",
       " <a class=\"btn\" href=\"#\" title=\"IDAL\">Enlace 3</a>,\n",
       " <a class=\"enlace\" href=\"https://idal.uv.es\" title=\"IDAL\">Intelligent Data Analysis Laboratory</a>,\n",
       " <a class=\"enlace\" href=\"http://etse.uv.es\" title=\"ETSE\">Escola Tècnica Superior d'Enginyeria</a>,\n",
       " <a class=\"enlace\" href=\"http://uv.es\" title=\"UV\">Universitat de València</a>]"
      ]
     },
     "execution_count": 159,
     "metadata": {},
     "output_type": "execute_result"
    }
   ],
   "source": [
    "soup.find_all([\"a\", \"p\"])"
   ]
  },
  {
   "cell_type": "markdown",
   "metadata": {},
   "source": [
    "También podemos especificar el criterio de búsqueda de las etiquetas mediante expresiones regulares."
   ]
  },
  {
   "cell_type": "code",
   "execution_count": 160,
   "metadata": {},
   "outputs": [
    {
     "data": {
      "text/plain": [
       "[<h1>Página de ejemplo</h1>,\n",
       " <h3>Columna 1</h3>,\n",
       " <h3>Columna 2</h3>,\n",
       " <h3>Columna 3</h3>,\n",
       " <h2>Algunos enlaces de prueba</h2>]"
      ]
     },
     "execution_count": 160,
     "metadata": {},
     "output_type": "execute_result"
    }
   ],
   "source": [
    "soup.find_all(re.compile(\"h\\d\"))"
   ]
  },
  {
   "cell_type": "markdown",
   "metadata": {},
   "source": [
    "Podemos filtrar por un atributo del `Tag` (por defecto es la clase si no indicamos otra cosa)"
   ]
  },
  {
   "cell_type": "code",
   "execution_count": 161,
   "metadata": {},
   "outputs": [
    {
     "name": "stdout",
     "output_type": "stream",
     "text": [
      "<a class=\"enlace\" href=\"https://idal.uv.es\" title=\"IDAL\">Intelligent Data Analysis Laboratory</a>\n",
      "<a class=\"enlace\" href=\"http://etse.uv.es\" title=\"ETSE\">Escola Tècnica Superior d'Enginyeria</a>\n",
      "<a class=\"enlace\" href=\"http://uv.es\" title=\"UV\">Universitat de València</a>\n"
     ]
    }
   ],
   "source": [
    "for link in soup.find_all('a', class_=\"enlace\"):\n",
    "    print(link)"
   ]
  },
  {
   "cell_type": "markdown",
   "metadata": {},
   "source": [
    "Cada elemento de la lista devuelta es del tipo `Tag` con sus atributos particulares."
   ]
  },
  {
   "cell_type": "code",
   "execution_count": 162,
   "metadata": {},
   "outputs": [
    {
     "name": "stdout",
     "output_type": "stream",
     "text": [
      "https://idal.uv.es\n",
      "http://etse.uv.es\n",
      "http://uv.es\n"
     ]
    }
   ],
   "source": [
    "for link in soup.find_all('a', class_=\"enlace\"):\n",
    "    print(link[\"href\"])"
   ]
  },
  {
   "cell_type": "code",
   "execution_count": 163,
   "metadata": {},
   "outputs": [
    {
     "name": "stdout",
     "output_type": "stream",
     "text": [
      "<a class=\"btn\" href=\"#\" title=\"IDAL\">Enlace 1</a>\n",
      "<a class=\"btn\" href=\"#\" title=\"IDAL\">Enlace 2</a>\n",
      "<a class=\"btn\" href=\"#\" title=\"IDAL\">Enlace 3</a>\n"
     ]
    }
   ],
   "source": [
    "enlaces = soup.find_all(\"a\", \"btn\") #equivale a soup.find_all(\"a\", class_=\"btn\")\n",
    "for e in enlaces:\n",
    "    print(e)"
   ]
  },
  {
   "cell_type": "markdown",
   "metadata": {},
   "source": [
    "Podemos hacer una búsqueda de otra etiqueta anidada dentro de la primera búsqueda (útil por ejemplo para buscar elementos genéricos dentro de una sección específica de la página)"
   ]
  },
  {
   "cell_type": "code",
   "execution_count": 164,
   "metadata": {},
   "outputs": [
    {
     "name": "stdout",
     "output_type": "stream",
     "text": [
      "[<a class=\"btn\" href=\"#\" title=\"IDAL\">Enlace 3</a>]\n"
     ]
    }
   ],
   "source": [
    "tags = soup.find(\"div\", id=\"col4\").find_all(\"a\")\n",
    "print(tags)"
   ]
  },
  {
   "attachments": {},
   "cell_type": "markdown",
   "metadata": {},
   "source": [
    "Repetimos esta búsqueda especificando un selector CSS utilizando el método `select` (más simple que lo anterior si se conoce la sintaxis CSS). Este método devuelve una lista con todos los elementos encontrados.    "
   ]
  },
  {
   "cell_type": "code",
   "execution_count": 165,
   "metadata": {},
   "outputs": [
    {
     "data": {
      "text/plain": [
       "[<div class=\"col-sm-4\" id=\"col4\">\n",
       " <h3>Columna 3</h3>\n",
       " <p>Lorem ipsum dolor sit amet, consectetur adipisicing elit...</p>\n",
       " <p>Ut enim ad minim veniam, quis nostrud exercitation ullamco laboris...</p>\n",
       " <a class=\"btn\" href=\"#\" title=\"IDAL\">Enlace 3</a>\n",
       " </div>]"
      ]
     },
     "execution_count": 165,
     "metadata": {},
     "output_type": "execute_result"
    }
   ],
   "source": [
    "#dado que\n",
    "soup.select(\"#col4\") #equivale a soup.find_all(id=\"col4\")"
   ]
  },
  {
   "cell_type": "code",
   "execution_count": 166,
   "metadata": {},
   "outputs": [
    {
     "data": {
      "text/plain": [
       "[<a class=\"btn\" href=\"#\" title=\"IDAL\">Enlace 1</a>,\n",
       " <a class=\"btn\" href=\"#\" title=\"IDAL\">Enlace 2</a>,\n",
       " <a class=\"btn\" href=\"#\" title=\"IDAL\">Enlace 3</a>,\n",
       " <a class=\"enlace\" href=\"https://idal.uv.es\" title=\"IDAL\">Intelligent Data Analysis Laboratory</a>,\n",
       " <a class=\"enlace\" href=\"http://etse.uv.es\" title=\"ETSE\">Escola Tècnica Superior d'Enginyeria</a>,\n",
       " <a class=\"enlace\" href=\"http://uv.es\" title=\"UV\">Universitat de València</a>]"
      ]
     },
     "execution_count": 166,
     "metadata": {},
     "output_type": "execute_result"
    }
   ],
   "source": [
    "soup.select(\"a\") #equivale a soup.find_all(\"a\")"
   ]
  },
  {
   "attachments": {},
   "cell_type": "markdown",
   "metadata": {},
   "source": [
    "P. ej. elementos `p` contenidos dentro de un elemento con ID=\"col4\""
   ]
  },
  {
   "cell_type": "code",
   "execution_count": 167,
   "metadata": {},
   "outputs": [
    {
     "data": {
      "text/plain": [
       "[<p>Lorem ipsum dolor sit amet, consectetur adipisicing elit...</p>,\n",
       " <p>Ut enim ad minim veniam, quis nostrud exercitation ullamco laboris...</p>]"
      ]
     },
     "execution_count": 167,
     "metadata": {},
     "output_type": "execute_result"
    }
   ],
   "source": [
    "soup.select(\"#col4 p\")"
   ]
  },
  {
   "cell_type": "markdown",
   "metadata": {},
   "source": [
    "El atributo `contents` del resultado de una etiqueta individual (objeto `bs4.element.Tag`) contiene una lista de objetos con su contenido interno (que incluye tanto los nodos de texto como la representación e texto de todo el HTML anidado).  \n",
    "Si el objeto sólo contiene texto es del tipo `NavigableString`, y si contiene etiqueta es del tipo `Tag`. Los saltos de línea (`\\n`) entre las etiquetas se consideran elementos de texto y aparecen en la lista devuelta."
   ]
  },
  {
   "cell_type": "code",
   "execution_count": 168,
   "metadata": {},
   "outputs": [
    {
     "name": "stdout",
     "output_type": "stream",
     "text": [
      "<title>Página de ejemplo</title>\n"
     ]
    }
   ],
   "source": [
    "print(soup.find(\"title\"))"
   ]
  },
  {
   "cell_type": "code",
   "execution_count": 169,
   "metadata": {},
   "outputs": [
    {
     "name": "stdout",
     "output_type": "stream",
     "text": [
      "['Página de ejemplo']\n"
     ]
    }
   ],
   "source": [
    "inner_contents = soup.find(\"title\").contents\n",
    "print(inner_contents)"
   ]
  },
  {
   "cell_type": "code",
   "execution_count": 170,
   "metadata": {},
   "outputs": [
    {
     "data": {
      "text/plain": [
       "list"
      ]
     },
     "execution_count": 170,
     "metadata": {},
     "output_type": "execute_result"
    }
   ],
   "source": [
    "type(inner_contents)"
   ]
  },
  {
   "cell_type": "code",
   "execution_count": 171,
   "metadata": {},
   "outputs": [
    {
     "data": {
      "text/plain": [
       "<div class=\"col-sm-4\" id=\"col4\">\n",
       "<h3>Columna 3</h3>\n",
       "<p>Lorem ipsum dolor sit amet, consectetur adipisicing elit...</p>\n",
       "<p>Ut enim ad minim veniam, quis nostrud exercitation ullamco laboris...</p>\n",
       "<a class=\"btn\" href=\"#\" title=\"IDAL\">Enlace 3</a>\n",
       "</div>"
      ]
     },
     "execution_count": 171,
     "metadata": {},
     "output_type": "execute_result"
    }
   ],
   "source": [
    "soup.find(\"div\", id=\"col4\")"
   ]
  },
  {
   "cell_type": "code",
   "execution_count": 172,
   "metadata": {},
   "outputs": [
    {
     "name": "stdout",
     "output_type": "stream",
     "text": [
      "['\\n', <h3>Columna 3</h3>, '\\n', <p>Lorem ipsum dolor sit amet, consectetur adipisicing elit...</p>, '\\n', <p>Ut enim ad minim veniam, quis nostrud exercitation ullamco laboris...</p>, '\\n', <a class=\"btn\" href=\"#\" title=\"IDAL\">Enlace 3</a>, '\\n']\n"
     ]
    }
   ],
   "source": [
    "inner_contents = soup.find(\"div\", id=\"col4\").contents\n",
    "print(inner_contents)"
   ]
  },
  {
   "cell_type": "code",
   "execution_count": 173,
   "metadata": {},
   "outputs": [
    {
     "data": {
      "text/plain": [
       "'\\n'"
      ]
     },
     "execution_count": 173,
     "metadata": {},
     "output_type": "execute_result"
    }
   ],
   "source": [
    "inner_contents[0]"
   ]
  },
  {
   "cell_type": "code",
   "execution_count": 174,
   "metadata": {},
   "outputs": [
    {
     "data": {
      "text/plain": [
       "bs4.element.NavigableString"
      ]
     },
     "execution_count": 174,
     "metadata": {},
     "output_type": "execute_result"
    }
   ],
   "source": [
    "type(inner_contents[0])"
   ]
  },
  {
   "cell_type": "code",
   "execution_count": 175,
   "metadata": {},
   "outputs": [
    {
     "data": {
      "text/plain": [
       "<h3>Columna 3</h3>"
      ]
     },
     "execution_count": 175,
     "metadata": {},
     "output_type": "execute_result"
    }
   ],
   "source": [
    "inner_contents[1]"
   ]
  },
  {
   "cell_type": "code",
   "execution_count": 176,
   "metadata": {},
   "outputs": [
    {
     "data": {
      "text/plain": [
       "bs4.element.Tag"
      ]
     },
     "execution_count": 176,
     "metadata": {},
     "output_type": "execute_result"
    }
   ],
   "source": [
    "type(inner_contents[1])"
   ]
  },
  {
   "attachments": {},
   "cell_type": "markdown",
   "metadata": {},
   "source": [
    "El atributo `text` del objeto `bs4.element.Tag` contiene un string con los textos contenidos en la etiqueta, ignorando todas las etiquetas HTML (como por ejemplo `<span>`, `<strong>` o `<i>`):"
   ]
  },
  {
   "cell_type": "code",
   "execution_count": 177,
   "metadata": {},
   "outputs": [
    {
     "data": {
      "text/plain": [
       "'\\nColumna 3\\nLorem ipsum dolor sit amet, consectetur adipisicing elit...\\nUt enim ad minim veniam, quis nostrud exercitation ullamco laboris...\\nEnlace 3\\n'"
      ]
     },
     "execution_count": 177,
     "metadata": {},
     "output_type": "execute_result"
    }
   ],
   "source": [
    "inner_text = soup.find(\"div\", id=\"col4\").text\n",
    "inner_text"
   ]
  },
  {
   "cell_type": "code",
   "execution_count": 178,
   "metadata": {},
   "outputs": [
    {
     "data": {
      "text/plain": [
       "str"
      ]
     },
     "execution_count": 178,
     "metadata": {},
     "output_type": "execute_result"
    }
   ],
   "source": [
    "type(inner_text)"
   ]
  },
  {
   "cell_type": "code",
   "execution_count": 179,
   "metadata": {},
   "outputs": [
    {
     "name": "stdout",
     "output_type": "stream",
     "text": [
      "Columna 3\n",
      "Lorem ipsum dolor sit amet, consectetur adipisicing elit...\n",
      "Ut enim ad minim veniam, quis nostrud exercitation ullamco laboris...\n",
      "Enlace 3\n"
     ]
    }
   ],
   "source": [
    "print(inner_text.strip())"
   ]
  },
  {
   "cell_type": "markdown",
   "metadata": {},
   "source": [
    "Aquí el método `strip()` simplemente elimina las líneas en blanco (`\\n`) del resultado.  "
   ]
  },
  {
   "cell_type": "markdown",
   "metadata": {},
   "source": [
    "### Búsqueda por función\n",
    "Podemos definir una función booleana para hacer la búsqueda de elementos en el árbol DOM"
   ]
  },
  {
   "cell_type": "code",
   "execution_count": 180,
   "metadata": {},
   "outputs": [
    {
     "data": {
      "text/plain": [
       "[<div class=\"col-sm-4\" id=\"col4\">\n",
       " <h3>Columna 3</h3>\n",
       " <p>Lorem ipsum dolor sit amet, consectetur adipisicing elit...</p>\n",
       " <p>Ut enim ad minim veniam, quis nostrud exercitation ullamco laboris...</p>\n",
       " <a class=\"btn\" href=\"#\" title=\"IDAL\">Enlace 3</a>\n",
       " </div>,\n",
       " <div class=\"row\" id=\"enlaces\">\n",
       " <h2>Algunos enlaces de prueba</h2>\n",
       " <ul>\n",
       " <li><a class=\"enlace\" href=\"https://idal.uv.es\" title=\"IDAL\">Intelligent Data Analysis Laboratory</a></li>\n",
       " <li><a class=\"enlace\" href=\"http://etse.uv.es\" title=\"ETSE\">Escola Tècnica Superior d'Enginyeria</a></li>\n",
       " <li><a class=\"enlace\" href=\"http://uv.es\" title=\"UV\">Universitat de València</a></li>\n",
       " </ul>\n",
       " </div>]"
      ]
     },
     "execution_count": 180,
     "metadata": {},
     "output_type": "execute_result"
    }
   ],
   "source": [
    "def etiquetas(tag):\n",
    "    return tag.has_attr('id')\n",
    "\n",
    "soup.find_all(etiquetas)"
   ]
  },
  {
   "cell_type": "code",
   "execution_count": 181,
   "metadata": {},
   "outputs": [
    {
     "data": {
      "text/plain": [
       "[('div', {'class': ['col-sm-4'], 'id': 'col4'}),\n",
       " ('div', {'class': ['row'], 'id': 'enlaces'})]"
      ]
     },
     "execution_count": 181,
     "metadata": {},
     "output_type": "execute_result"
    }
   ],
   "source": [
    "[(t.name, t.attrs) for t in soup.find_all(etiquetas)]"
   ]
  },
  {
   "cell_type": "markdown",
   "metadata": {},
   "source": [
    "## Navegación por la estructura DOM\n",
    "Cada elemento `Tag` guarda información de su posición dentro del árbol de etiquetas HTML del documento (estructura DOM) de manera que se puede navegar desde cada etiqueta a sus etiquetas relacionadas:\n",
    "### Navegar hacia abajo\n",
    "Podemos usar los nombres de las etiquetas como atributos encadenados del objeto `soup` para recorrer el árbol hacia abajo:"
   ]
  },
  {
   "cell_type": "code",
   "execution_count": 182,
   "metadata": {},
   "outputs": [
    {
     "data": {
      "text/plain": [
       "<h1>Página de ejemplo</h1>"
      ]
     },
     "execution_count": 182,
     "metadata": {},
     "output_type": "execute_result"
    }
   ],
   "source": [
    "soup.div.h1 #busca la primera etiqueta <h1> dentro de la primera etiqueta <div> "
   ]
  },
  {
   "cell_type": "code",
   "execution_count": 183,
   "metadata": {},
   "outputs": [
    {
     "data": {
      "text/plain": [
       "<h3>Columna 1</h3>"
      ]
     },
     "execution_count": 183,
     "metadata": {},
     "output_type": "execute_result"
    }
   ],
   "source": [
    "soup(\"div\")[1].h3 #busca la primera etiqueta h3 dentro del elemento 1 de la lista de etiquetas div"
   ]
  },
  {
   "cell_type": "markdown",
   "metadata": {},
   "source": [
    "Todos los hijos de una etiqueta están en su atributo `contents`:"
   ]
  },
  {
   "cell_type": "code",
   "execution_count": 184,
   "metadata": {},
   "outputs": [
    {
     "data": {
      "text/plain": [
       "['\\n',\n",
       " <h1>Página de ejemplo</h1>,\n",
       " '\\n',\n",
       " <p>Página <em>HTML</em> con texto de ejemplo para hacer web scraping</p>,\n",
       " '\\n']"
      ]
     },
     "execution_count": 184,
     "metadata": {},
     "output_type": "execute_result"
    }
   ],
   "source": [
    "soup.div.contents"
   ]
  },
  {
   "cell_type": "code",
   "execution_count": 185,
   "metadata": {},
   "outputs": [
    {
     "data": {
      "text/plain": [
       "list"
      ]
     },
     "execution_count": 185,
     "metadata": {},
     "output_type": "execute_result"
    }
   ],
   "source": [
    "type(soup.div.contents)"
   ]
  },
  {
   "cell_type": "markdown",
   "metadata": {},
   "source": [
    "Los hijos de una etiqueta que sólo contienen texto aparecen en la lista de `contents` como un objeto `NavigableString`. Los que contienen una etiqueta son objetos `Tag`"
   ]
  },
  {
   "cell_type": "code",
   "execution_count": 186,
   "metadata": {},
   "outputs": [
    {
     "name": "stdout",
     "output_type": "stream",
     "text": [
      "<class 'bs4.element.NavigableString'>\n",
      "<class 'bs4.element.Tag'>\n",
      "<class 'bs4.element.NavigableString'>\n",
      "<class 'bs4.element.Tag'>\n",
      "<class 'bs4.element.NavigableString'>\n"
     ]
    }
   ],
   "source": [
    "for t in soup.div.contents:\n",
    "    print(type(t))"
   ]
  },
  {
   "cell_type": "code",
   "execution_count": 187,
   "metadata": {},
   "outputs": [
    {
     "data": {
      "text/plain": [
       "['Página de ejemplo']"
      ]
     },
     "execution_count": 187,
     "metadata": {},
     "output_type": "execute_result"
    }
   ],
   "source": [
    "soup.div.h1.contents"
   ]
  },
  {
   "cell_type": "code",
   "execution_count": 188,
   "metadata": {},
   "outputs": [
    {
     "data": {
      "text/plain": [
       "bs4.element.NavigableString"
      ]
     },
     "execution_count": 188,
     "metadata": {},
     "output_type": "execute_result"
    }
   ],
   "source": [
    "type(soup.div.h1.contents[0])"
   ]
  },
  {
   "cell_type": "markdown",
   "metadata": {},
   "source": [
    "Podemos iterar sobre los descendientes de una etiqueta con el iterador `children`:"
   ]
  },
  {
   "cell_type": "code",
   "execution_count": 189,
   "metadata": {},
   "outputs": [
    {
     "data": {
      "text/plain": [
       "<list_iterator at 0x1f2731e69a0>"
      ]
     },
     "execution_count": 189,
     "metadata": {},
     "output_type": "execute_result"
    }
   ],
   "source": [
    "soup.div.children"
   ]
  },
  {
   "cell_type": "code",
   "execution_count": 190,
   "metadata": {},
   "outputs": [
    {
     "data": {
      "text/plain": [
       "['\\n',\n",
       " <h1>Página de ejemplo</h1>,\n",
       " '\\n',\n",
       " <p>Página <em>HTML</em> con texto de ejemplo para hacer web scraping</p>,\n",
       " '\\n']"
      ]
     },
     "execution_count": 190,
     "metadata": {},
     "output_type": "execute_result"
    }
   ],
   "source": [
    "[child for child in soup.div.children]"
   ]
  },
  {
   "cell_type": "code",
   "execution_count": 191,
   "metadata": {},
   "outputs": [
    {
     "data": {
      "text/plain": [
       "True"
      ]
     },
     "execution_count": 191,
     "metadata": {},
     "output_type": "execute_result"
    }
   ],
   "source": [
    "#si convertimos el iterador de children a lista es equivalente al método contents\n",
    "list(soup.div.children)==soup.div.contents"
   ]
  },
  {
   "cell_type": "markdown",
   "metadata": {},
   "source": [
    "Tanto `contents` como `children` consideran sólo los descencientes directos de una etiqueta. Con `descendants` accedemos iterativamente a todos sus descendientes:"
   ]
  },
  {
   "cell_type": "code",
   "execution_count": 192,
   "metadata": {},
   "outputs": [
    {
     "data": {
      "text/plain": [
       "<p>Página <em>HTML</em> con texto de ejemplo para hacer web scraping</p>"
      ]
     },
     "execution_count": 192,
     "metadata": {},
     "output_type": "execute_result"
    }
   ],
   "source": [
    "soup.div.p"
   ]
  },
  {
   "cell_type": "code",
   "execution_count": 193,
   "metadata": {},
   "outputs": [
    {
     "data": {
      "text/plain": [
       "['Página ', <em>HTML</em>, ' con texto de ejemplo para hacer web scraping']"
      ]
     },
     "execution_count": 193,
     "metadata": {},
     "output_type": "execute_result"
    }
   ],
   "source": [
    "soup.div.p.contents"
   ]
  },
  {
   "cell_type": "code",
   "execution_count": 194,
   "metadata": {},
   "outputs": [
    {
     "data": {
      "text/plain": [
       "<generator object Tag.descendants at 0x000001F27321FC80>"
      ]
     },
     "execution_count": 194,
     "metadata": {},
     "output_type": "execute_result"
    }
   ],
   "source": [
    "soup.div.p.descendants"
   ]
  },
  {
   "cell_type": "code",
   "execution_count": 195,
   "metadata": {},
   "outputs": [
    {
     "data": {
      "text/plain": [
       "['Página ',\n",
       " <em>HTML</em>,\n",
       " 'HTML',\n",
       " ' con texto de ejemplo para hacer web scraping']"
      ]
     },
     "execution_count": 195,
     "metadata": {},
     "output_type": "execute_result"
    }
   ],
   "source": [
    "[child for child in soup.div.p.descendants]"
   ]
  },
  {
   "cell_type": "code",
   "execution_count": 196,
   "metadata": {},
   "outputs": [
    {
     "data": {
      "text/plain": [
       "['\\n',\n",
       " <h3>Columna 3</h3>,\n",
       " 'Columna 3',\n",
       " '\\n',\n",
       " <p>Lorem ipsum dolor sit amet, consectetur adipisicing elit...</p>,\n",
       " 'Lorem ipsum dolor sit amet, consectetur adipisicing elit...',\n",
       " '\\n',\n",
       " <p>Ut enim ad minim veniam, quis nostrud exercitation ullamco laboris...</p>,\n",
       " 'Ut enim ad minim veniam, quis nostrud exercitation ullamco laboris...',\n",
       " '\\n',\n",
       " <a class=\"btn\" href=\"#\" title=\"IDAL\">Enlace 3</a>,\n",
       " 'Enlace 3',\n",
       " '\\n']"
      ]
     },
     "execution_count": 196,
     "metadata": {},
     "output_type": "execute_result"
    }
   ],
   "source": [
    "[child for child in soup.find(id=\"col4\").descendants]"
   ]
  },
  {
   "cell_type": "markdown",
   "metadata": {},
   "source": [
    "Para obtener sólo el texto de una etiqueta usamos `string` o para obtener iterativamente todos los textos contenidos usamos el iterador `strings`:"
   ]
  },
  {
   "cell_type": "code",
   "execution_count": 197,
   "metadata": {},
   "outputs": [
    {
     "data": {
      "text/plain": [
       "'Página de ejemplo'"
      ]
     },
     "execution_count": 197,
     "metadata": {},
     "output_type": "execute_result"
    }
   ],
   "source": [
    "soup.div.h1.string"
   ]
  },
  {
   "cell_type": "code",
   "execution_count": 198,
   "metadata": {},
   "outputs": [
    {
     "data": {
      "text/plain": [
       "<p>Página <em>HTML</em> con texto de ejemplo para hacer web scraping</p>"
      ]
     },
     "execution_count": 198,
     "metadata": {},
     "output_type": "execute_result"
    }
   ],
   "source": [
    "#si una etiqueta contiene otras etiquetas el atributo string está vacío\n",
    "soup.div.p"
   ]
  },
  {
   "cell_type": "code",
   "execution_count": 199,
   "metadata": {},
   "outputs": [],
   "source": [
    "soup.div.p.string"
   ]
  },
  {
   "cell_type": "code",
   "execution_count": 200,
   "metadata": {},
   "outputs": [
    {
     "data": {
      "text/plain": [
       "['Página ', 'HTML', ' con texto de ejemplo para hacer web scraping']"
      ]
     },
     "execution_count": 200,
     "metadata": {},
     "output_type": "execute_result"
    }
   ],
   "source": [
    "#iteramos por todos los elementos contenidos para obtener su string\n",
    "[s for s in soup.div.p.strings]"
   ]
  },
  {
   "cell_type": "markdown",
   "metadata": {},
   "source": [
    "### Navegar hacia arriba\n",
    "Con `parent` obtenemos la etiqueta superior a una dada, y con `parents` obtenemos iterativamente todos sus ascendientes:"
   ]
  },
  {
   "cell_type": "code",
   "execution_count": 201,
   "metadata": {},
   "outputs": [
    {
     "data": {
      "text/plain": [
       "<div class=\"jumbotron text-center\">\n",
       "<h1>Página de ejemplo</h1>\n",
       "<p>Página <em>HTML</em> con texto de ejemplo para hacer web scraping</p>\n",
       "</div>"
      ]
     },
     "execution_count": 201,
     "metadata": {},
     "output_type": "execute_result"
    }
   ],
   "source": [
    "soup.div.h1.parent"
   ]
  },
  {
   "cell_type": "code",
   "execution_count": 202,
   "metadata": {},
   "outputs": [
    {
     "name": "stdout",
     "output_type": "stream",
     "text": [
      "<div class=\"row\">\n",
      "<div class=\"col-sm-4\">\n",
      "<h3>Columna 1</h3>\n",
      "<p>Lorem ipsum dolor sit amet, consectetur adipisicing elit...</p>\n",
      "<p>Ut enim ad minim veniam, quis nostrud exercitation ullamco laboris...</p>\n",
      "<a class=\"btn\" href=\"#\" title=\"IDAL\">Enlace 1</a>\n",
      "</div>\n",
      "<div class=\"col-sm-4\">\n",
      "<h3>Columna 2</h3>\n",
      "<p>Lorem ipsum dolor sit amet, consectetur adipisicing elit...</p>\n",
      "<p>Ut enim ad minim veniam, quis nostrud exercitation ullamco laboris...</p>\n",
      "<a class=\"btn\" href=\"#\" title=\"IDAL\">Enlace 2</a>\n",
      "</div>\n",
      "<div class=\"col-sm-4\" id=\"col4\">\n",
      "<h3>Columna 3</h3>\n",
      "<p>Lorem ipsum dolor sit amet, consectetur adipisicing elit...</p>\n",
      "<p>Ut enim ad minim veniam, quis nostrud exercitation ullamco laboris...</p>\n",
      "<a class=\"btn\" href=\"#\" title=\"IDAL\">Enlace 3</a>\n",
      "</div>\n",
      "</div>\n"
     ]
    }
   ],
   "source": [
    "print(soup.find(\"div\", id=\"col4\").parent)"
   ]
  },
  {
   "cell_type": "code",
   "execution_count": 203,
   "metadata": {},
   "outputs": [
    {
     "name": "stdout",
     "output_type": "stream",
     "text": [
      "div {'class': ['row']}\n",
      "div {'class': ['container']}\n",
      "body {}\n",
      "html {'lang': 'es'}\n",
      "[document] {}\n"
     ]
    }
   ],
   "source": [
    "for p in soup.find(\"div\", id=\"col4\").parents:\n",
    "    print(p.name, p.attrs)"
   ]
  },
  {
   "cell_type": "code",
   "execution_count": 204,
   "metadata": {},
   "outputs": [
    {
     "name": "stdout",
     "output_type": "stream",
     "text": [
      "div {'class': ['jumbotron', 'text-center']}\n",
      "body {}\n",
      "html {'lang': 'es'}\n",
      "[document] {}\n"
     ]
    }
   ],
   "source": [
    "for p in soup.find(\"h1\").parents:\n",
    "    print(p.name, p.attrs)"
   ]
  },
  {
   "cell_type": "markdown",
   "metadata": {},
   "source": [
    "### Navegar hacia los lados\n",
    "Los métodos `next_sibling` y `previous_sibling` acceden a la etiqueta posterior o anterior del mismo nivel. Los métodos `next_siblings` y `previous_siblings` lo hacen iterativamente con todos los elementos al mismo nivel."
   ]
  },
  {
   "cell_type": "code",
   "execution_count": 205,
   "metadata": {},
   "outputs": [
    {
     "data": {
      "text/plain": [
       "<div class=\"row\" id=\"enlaces\">\n",
       "<h2>Algunos enlaces de prueba</h2>\n",
       "<ul>\n",
       "<li><a class=\"enlace\" href=\"https://idal.uv.es\" title=\"IDAL\">Intelligent Data Analysis Laboratory</a></li>\n",
       "<li><a class=\"enlace\" href=\"http://etse.uv.es\" title=\"ETSE\">Escola Tècnica Superior d'Enginyeria</a></li>\n",
       "<li><a class=\"enlace\" href=\"http://uv.es\" title=\"UV\">Universitat de València</a></li>\n",
       "</ul>\n",
       "</div>"
      ]
     },
     "execution_count": 205,
     "metadata": {},
     "output_type": "execute_result"
    }
   ],
   "source": [
    "soup.find(\"div\", id=\"enlaces\")"
   ]
  },
  {
   "cell_type": "code",
   "execution_count": 206,
   "metadata": {},
   "outputs": [
    {
     "data": {
      "text/plain": [
       "['\\n',\n",
       " <li><a class=\"enlace\" href=\"https://idal.uv.es\" title=\"IDAL\">Intelligent Data Analysis Laboratory</a></li>,\n",
       " '\\n',\n",
       " <li><a class=\"enlace\" href=\"http://etse.uv.es\" title=\"ETSE\">Escola Tècnica Superior d'Enginyeria</a></li>,\n",
       " '\\n',\n",
       " <li><a class=\"enlace\" href=\"http://uv.es\" title=\"UV\">Universitat de València</a></li>,\n",
       " '\\n']"
      ]
     },
     "execution_count": 206,
     "metadata": {},
     "output_type": "execute_result"
    }
   ],
   "source": [
    "soup.find(\"div\", id=\"enlaces\").ul.contents"
   ]
  },
  {
   "cell_type": "code",
   "execution_count": 207,
   "metadata": {},
   "outputs": [
    {
     "data": {
      "text/plain": [
       "<li><a class=\"enlace\" href=\"https://idal.uv.es\" title=\"IDAL\">Intelligent Data Analysis Laboratory</a></li>"
      ]
     },
     "execution_count": 207,
     "metadata": {},
     "output_type": "execute_result"
    }
   ],
   "source": [
    "soup.find(\"div\", id=\"enlaces\").li"
   ]
  },
  {
   "cell_type": "code",
   "execution_count": 208,
   "metadata": {},
   "outputs": [
    {
     "data": {
      "text/plain": [
       "'\\n'"
      ]
     },
     "execution_count": 208,
     "metadata": {},
     "output_type": "execute_result"
    }
   ],
   "source": [
    "soup.find(\"div\", id=\"enlaces\").li.previous_sibling"
   ]
  },
  {
   "cell_type": "code",
   "execution_count": 209,
   "metadata": {},
   "outputs": [
    {
     "data": {
      "text/plain": [
       "<li><a class=\"enlace\" href=\"http://etse.uv.es\" title=\"ETSE\">Escola Tècnica Superior d'Enginyeria</a></li>"
      ]
     },
     "execution_count": 209,
     "metadata": {},
     "output_type": "execute_result"
    }
   ],
   "source": [
    "soup.find(\"div\", id=\"enlaces\").li.next_sibling.next_sibling"
   ]
  },
  {
   "cell_type": "code",
   "execution_count": 210,
   "metadata": {},
   "outputs": [
    {
     "data": {
      "text/plain": [
       "<a class=\"enlace\" href=\"http://etse.uv.es\" title=\"ETSE\">Escola Tècnica Superior d'Enginyeria</a>"
      ]
     },
     "execution_count": 210,
     "metadata": {},
     "output_type": "execute_result"
    }
   ],
   "source": [
    "#buscamos elementos hermanos a continuación del <li> intermedio\n",
    "enlace_etse = soup.find(\"div\", id=\"enlaces\").find(\"a\",{\"title\": \"ETSE\"})\n",
    "enlace_etse"
   ]
  },
  {
   "cell_type": "code",
   "execution_count": 211,
   "metadata": {},
   "outputs": [
    {
     "data": {
      "text/plain": [
       "['\\n',\n",
       " <li><a class=\"enlace\" href=\"http://uv.es\" title=\"UV\">Universitat de València</a></li>,\n",
       " '\\n']"
      ]
     },
     "execution_count": 211,
     "metadata": {},
     "output_type": "execute_result"
    }
   ],
   "source": [
    "[tag for tag in enlace_etse.parent.next_siblings]"
   ]
  },
  {
   "cell_type": "code",
   "execution_count": 212,
   "metadata": {},
   "outputs": [
    {
     "data": {
      "text/plain": [
       "['\\n',\n",
       " <li><a class=\"enlace\" href=\"http://etse.uv.es\" title=\"ETSE\">Escola Tècnica Superior d'Enginyeria</a></li>,\n",
       " '\\n',\n",
       " <li><a class=\"enlace\" href=\"https://idal.uv.es\" title=\"IDAL\">Intelligent Data Analysis Laboratory</a></li>,\n",
       " '\\n']"
      ]
     },
     "execution_count": 212,
     "metadata": {},
     "output_type": "execute_result"
    }
   ],
   "source": [
    "#buscamos elementos hermanos anteriores al último <li>\n",
    "\n",
    "[tag for tag in soup.find(\"div\", id=\"enlaces\").find(\"a\",{\"title\": \"UV\"}).parent.previous_siblings]"
   ]
  },
  {
   "cell_type": "markdown",
   "metadata": {},
   "source": [
    "### Ejemplo completo\n",
    "Del siguiente código HTML vamos a extraer los ítems listados y su precio"
   ]
  },
  {
   "cell_type": "code",
   "execution_count": 213,
   "metadata": {},
   "outputs": [],
   "source": [
    "texto = \"\"\"\n",
    "<body>\n",
    "<div id=\"listings_prices\">\n",
    " <div class=\"item\">\n",
    "  <li class=\"item_name\">Watch</li>\n",
    "  <div class=\"main_price\">Price: $66.68</div>\n",
    "  <div class=\"discounted_price\">Discounted price: $46.68</div>\n",
    "   </div>\n",
    "   <div class=\"item\">\n",
    "  <li class=\"item_name\">Watch2</li>\n",
    "  <div class=\"main_price\">Price: $56.68</div>\n",
    "   </div>\n",
    "</div>\n",
    "</body>\n",
    "\"\"\""
   ]
  },
  {
   "cell_type": "code",
   "execution_count": 214,
   "metadata": {},
   "outputs": [
    {
     "name": "stdout",
     "output_type": "stream",
     "text": [
      "Watch\n",
      "Watch2\n"
     ]
    }
   ],
   "source": [
    "soup = BeautifulSoup(texto, \"html.parser\")\n",
    "for product in soup.find_all(\"div\", \"item\"):\n",
    "    print(product.find(\"li\").text)"
   ]
  },
  {
   "cell_type": "code",
   "execution_count": 215,
   "metadata": {},
   "outputs": [
    {
     "name": "stdout",
     "output_type": "stream",
     "text": [
      "Watch is selling for $66.68\n",
      "Watch2 is selling for $56.68\n"
     ]
    }
   ],
   "source": [
    "soup = BeautifulSoup(texto, \"html.parser\")\n",
    "for product in soup.find_all(\"div\", \"item\"):\n",
    "    product_title = product.find(\"li\").text \n",
    "    product_price = re.search(r'\\$\\d+\\.\\d+', product.find(\"div\", \"main_price\").text)[0]\n",
    "    print(f\"{product_title} is selling for {product_price}\")"
   ]
  },
  {
   "cell_type": "code",
   "execution_count": null,
   "metadata": {},
   "outputs": [],
   "source": []
  }
 ],
 "metadata": {
  "kernelspec": {
   "display_name": "base",
   "language": "python",
   "name": "python3"
  },
  "language_info": {
   "codemirror_mode": {
    "name": "ipython",
    "version": 3
   },
   "file_extension": ".py",
   "mimetype": "text/x-python",
   "name": "python",
   "nbconvert_exporter": "python",
   "pygments_lexer": "ipython3",
   "version": "3.9.13"
  },
  "vscode": {
   "interpreter": {
    "hash": "fab62827547c9c39b71757925337c52413ca059edee13646bf7e7f99dfe23d36"
   }
  }
 },
 "nbformat": 4,
 "nbformat_minor": 4
}
