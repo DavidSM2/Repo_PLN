{
 "cells": [
  {
   "attachments": {},
   "cell_type": "markdown",
   "id": "revised-richards",
   "metadata": {
    "tags": []
   },
   "source": [
    "# Tema 2: Uso de texto en Python\n",
    "## Procesado de Lenguaje Natural\n",
    "### Grado en Ciencia de Datos "
   ]
  },
  {
   "cell_type": "code",
   "execution_count": null,
   "id": "expressed-outdoors",
   "metadata": {},
   "outputs": [],
   "source": [
    "texto = \"Este es un texto 'normal' en Python\""
   ]
  },
  {
   "cell_type": "code",
   "execution_count": null,
   "id": "severe-squad",
   "metadata": {},
   "outputs": [],
   "source": [
    "type(texto)"
   ]
  },
  {
   "cell_type": "code",
   "execution_count": null,
   "id": "occupied-function",
   "metadata": {},
   "outputs": [],
   "source": [
    "len(texto)"
   ]
  },
  {
   "cell_type": "code",
   "execution_count": null,
   "id": "supported-switch",
   "metadata": {},
   "outputs": [],
   "source": [
    "#el texto es un elemento iterable\n",
    "for t in texto:\n",
    "    print(t)"
   ]
  },
  {
   "cell_type": "code",
   "execution_count": null,
   "id": "eeb16c2b-50b2-43cc-af4b-3ad3b201d145",
   "metadata": {},
   "outputs": [],
   "source": [
    "texto[0]"
   ]
  },
  {
   "cell_type": "code",
   "execution_count": null,
   "id": "527cfd4e-af76-42a3-84d9-a4a3c60f8842",
   "metadata": {},
   "outputs": [],
   "source": [
    "type(texto[0])"
   ]
  },
  {
   "cell_type": "code",
   "execution_count": null,
   "id": "practical-mambo",
   "metadata": {},
   "outputs": [],
   "source": [
    "#podemos indexar cada elemento (caracter) del texto\n",
    "texto[0:4]"
   ]
  },
  {
   "cell_type": "code",
   "execution_count": null,
   "id": "another-monte",
   "metadata": {},
   "outputs": [],
   "source": [
    "#los iterables también se recorren como list comprehension:\n",
    "lista = [t for t in texto]\n",
    "print(lista)"
   ]
  },
  {
   "cell_type": "code",
   "execution_count": null,
   "id": "9bc984ef-456e-4d5d-82a8-5bf8a48f1186",
   "metadata": {},
   "outputs": [],
   "source": [
    "len(lista)"
   ]
  },
  {
   "cell_type": "markdown",
   "id": "constitutional-energy",
   "metadata": {},
   "source": [
    "*Nota:* Las list comprenhension se ven en detalle al final del notebook."
   ]
  },
  {
   "cell_type": "code",
   "execution_count": null,
   "id": "hungarian-berry",
   "metadata": {},
   "outputs": [],
   "source": [
    "type(lista)"
   ]
  },
  {
   "cell_type": "code",
   "execution_count": null,
   "id": "associate-frederick",
   "metadata": {},
   "outputs": [],
   "source": [
    "type(lista[0])"
   ]
  },
  {
   "cell_type": "markdown",
   "id": "d7b1f18e-bb83-475e-9b12-49f8a837aade",
   "metadata": {},
   "source": [
    "### caracteres unicode"
   ]
  },
  {
   "cell_type": "code",
   "execution_count": null,
   "id": "3834cee0-d8e5-4c60-9786-9724b5c934e1",
   "metadata": {},
   "outputs": [],
   "source": [
    "texto2 = \"áèï😀🛵\"\n",
    "len(texto2)"
   ]
  },
  {
   "cell_type": "code",
   "execution_count": null,
   "id": "demographic-tradition",
   "metadata": {},
   "outputs": [],
   "source": [
    "[t for t in texto2]"
   ]
  },
  {
   "attachments": {},
   "cell_type": "markdown",
   "id": "d3fad192",
   "metadata": {},
   "source": [
    "En la codificación unicode cada caracter se puede codificar con varios bytes"
   ]
  },
  {
   "cell_type": "code",
   "execution_count": null,
   "id": "1e123046",
   "metadata": {},
   "outputs": [],
   "source": [
    "texto2.encode('UTF-8')\n"
   ]
  },
  {
   "cell_type": "code",
   "execution_count": null,
   "id": "7e55cf73",
   "metadata": {},
   "outputs": [],
   "source": [
    "len(texto2.encode('UTF-8'))"
   ]
  },
  {
   "cell_type": "code",
   "execution_count": null,
   "id": "occupational-affiliate",
   "metadata": {},
   "outputs": [],
   "source": [
    "#texto en otros alfabetos:\n",
    "#http://xahlee.info/comp/unicode_index.html\n",
    "#chino\n",
    "texto3 = \"林花謝了春紅 太匆匆\"\n",
    "[t for t in texto3]"
   ]
  },
  {
   "cell_type": "code",
   "execution_count": null,
   "id": "lesser-panel",
   "metadata": {},
   "outputs": [],
   "source": [
    "#cirílico:\n",
    "texto4 = \"БбвГгДдѭ\"\n",
    "[t for t in texto4]"
   ]
  },
  {
   "cell_type": "code",
   "execution_count": null,
   "id": "terminal-blair",
   "metadata": {},
   "outputs": [],
   "source": [
    "#griego:\n",
    "texto5 = \"αβγδε\"\n",
    "[t for t in texto5]"
   ]
  },
  {
   "cell_type": "markdown",
   "id": "adb61e32-f2c5-4b1c-8e8c-aab53c456d85",
   "metadata": {},
   "source": [
    "### caracteres invisibles"
   ]
  },
  {
   "cell_type": "code",
   "execution_count": null,
   "id": "7e4c7a64-b220-46e9-bded-0fab2020655a",
   "metadata": {},
   "outputs": [],
   "source": [
    "texto6 = \"hola\\nmundo\"\n",
    "[t for t in texto6]"
   ]
  },
  {
   "cell_type": "code",
   "execution_count": null,
   "id": "14bb926d-55a4-40ce-8798-930e1fe3ea06",
   "metadata": {},
   "outputs": [],
   "source": [
    "print(texto6)"
   ]
  },
  {
   "cell_type": "markdown",
   "id": "3bcb55e7-f7bb-4762-b30e-da5d7af72224",
   "metadata": {},
   "source": [
    "Si declaramos el texto como 'raw' no considera los caracteres invisibles como tales"
   ]
  },
  {
   "cell_type": "code",
   "execution_count": null,
   "id": "0b62d1a4-2251-498b-a445-e897040f68ad",
   "metadata": {},
   "outputs": [],
   "source": [
    "texto6 = r\"hola\\nmundo\"\n",
    "[t for t in texto6]"
   ]
  },
  {
   "cell_type": "code",
   "execution_count": null,
   "id": "13fcc6dc-703e-4a8b-b788-d6d49376b751",
   "metadata": {},
   "outputs": [],
   "source": [
    "print(texto6)"
   ]
  },
  {
   "cell_type": "code",
   "execution_count": null,
   "id": "48cac8bb-d979-445f-9c4f-594553937994",
   "metadata": {},
   "outputs": [],
   "source": [
    "print(\"el día 2\\\\3\")"
   ]
  },
  {
   "cell_type": "code",
   "execution_count": null,
   "id": "48cac8bb-d979-445f-9c4f-594553937994",
   "metadata": {},
   "outputs": [],
   "source": [
    "print(r\"el día 2\\3\")"
   ]
  },
  {
   "attachments": {},
   "cell_type": "markdown",
   "id": "clean-doubt",
   "metadata": {},
   "source": [
    "### Métodos del objeto str\n",
    "`lower\n",
    "upper\n",
    "title\n",
    "len`"
   ]
  },
  {
   "cell_type": "code",
   "execution_count": null,
   "id": "responsible-compromise",
   "metadata": {},
   "outputs": [],
   "source": [
    "\"texto\".upper()"
   ]
  },
  {
   "cell_type": "code",
   "execution_count": null,
   "id": "proprietary-cosmetic",
   "metadata": {},
   "outputs": [],
   "source": [
    "texto.title()"
   ]
  },
  {
   "cell_type": "markdown",
   "id": "automatic-stream",
   "metadata": {},
   "source": [
    "Listas de *strings*"
   ]
  },
  {
   "cell_type": "code",
   "execution_count": null,
   "id": "qualified-hamilton",
   "metadata": {},
   "outputs": [],
   "source": [
    "#creamos una lista a partir de las palabras de nuestro texto\n",
    "lista2 = texto.split(\" \")\n",
    "lista2"
   ]
  },
  {
   "cell_type": "code",
   "execution_count": null,
   "id": "czech-comfort",
   "metadata": {},
   "outputs": [],
   "source": [
    "#también podemos juntas las palabras de una lista en un string\n",
    "'-'.join(lista2)"
   ]
  },
  {
   "cell_type": "markdown",
   "id": "2e4fdf1c-6876-4ad7-a0f7-444b2596134c",
   "metadata": {},
   "source": [
    "Podemos aplicar estos métodos en una *list comprenhension*"
   ]
  },
  {
   "cell_type": "code",
   "execution_count": null,
   "id": "million-pharmacy",
   "metadata": {},
   "outputs": [],
   "source": [
    "#aplicamos método a cada elemento de la lista\n",
    "[c.upper() for c in lista2]"
   ]
  },
  {
   "cell_type": "markdown",
   "id": "romance-recipe",
   "metadata": {},
   "source": [
    "### Métodos de comparación:  \n",
    "```python\n",
    "s.startswith(t)\n",
    "s.endswith(t)\n",
    "t in s\n",
    "s.isupper(); s.islower(); s.istitle()\n",
    "s.isalpha(); s.isdigit(); s.isalnum()\n",
    "```  "
   ]
  },
  {
   "cell_type": "code",
   "execution_count": null,
   "id": "black-century",
   "metadata": {},
   "outputs": [],
   "source": [
    "'Texto'.startswith('t')"
   ]
  },
  {
   "cell_type": "code",
   "execution_count": null,
   "id": "derived-lightweight",
   "metadata": {},
   "outputs": [],
   "source": [
    "'Texto'.startswith('T')"
   ]
  },
  {
   "cell_type": "code",
   "execution_count": null,
   "id": "1004fea8-9398-4bc3-ad4b-87fb5740f71c",
   "metadata": {},
   "outputs": [],
   "source": [
    "texto.startswith('ex')"
   ]
  },
  {
   "cell_type": "code",
   "execution_count": null,
   "id": "integral-retailer",
   "metadata": {},
   "outputs": [],
   "source": [
    "'ex' in texto"
   ]
  },
  {
   "cell_type": "code",
   "execution_count": null,
   "id": "floating-tyler",
   "metadata": {},
   "outputs": [],
   "source": [
    "'Texto'.istitle()"
   ]
  },
  {
   "cell_type": "code",
   "execution_count": null,
   "id": "internal-cinema",
   "metadata": {},
   "outputs": [],
   "source": [
    "'TexTo'.istitle()"
   ]
  },
  {
   "cell_type": "code",
   "execution_count": null,
   "id": "7045146f-eb65-49e8-92d8-5a50fab21932",
   "metadata": {},
   "outputs": [],
   "source": [
    "\"Otro Texto\".istitle()"
   ]
  },
  {
   "cell_type": "code",
   "execution_count": null,
   "id": "c5933501-092a-4158-b99d-3f774f59152c",
   "metadata": {},
   "outputs": [],
   "source": [
    "\"Otro texto\".istitle()"
   ]
  },
  {
   "cell_type": "markdown",
   "id": "seven-bridge",
   "metadata": {},
   "source": [
    "Podemos combinar las funciones de comparación con las list comprehension"
   ]
  },
  {
   "cell_type": "code",
   "execution_count": null,
   "id": "41134b7c-4b0f-4dc3-ad75-1e01edd29280",
   "metadata": {},
   "outputs": [],
   "source": [
    "lista2"
   ]
  },
  {
   "cell_type": "code",
   "execution_count": null,
   "id": "emotional-blast",
   "metadata": {},
   "outputs": [],
   "source": [
    "#palabras que empiezan en mayúscula\n",
    "[w for w in lista2 if w.istitle()]"
   ]
  },
  {
   "cell_type": "markdown",
   "id": "electric-bundle",
   "metadata": {},
   "source": [
    "## Uso de texto en Pandas"
   ]
  },
  {
   "cell_type": "code",
   "execution_count": null,
   "id": "square-conservation",
   "metadata": {},
   "outputs": [],
   "source": [
    "import pandas as pd\n",
    "import numpy as np\n",
    "pd.__version__"
   ]
  },
  {
   "cell_type": "code",
   "execution_count": null,
   "id": "ready-conversation",
   "metadata": {},
   "outputs": [],
   "source": [
    "pd.Series(lista2)"
   ]
  },
  {
   "cell_type": "code",
   "execution_count": null,
   "id": "surface-workstation",
   "metadata": {},
   "outputs": [],
   "source": [
    "pd.Series(lista2, dtype=\"string\")"
   ]
  },
  {
   "cell_type": "code",
   "execution_count": null,
   "id": "minus-attitude",
   "metadata": {},
   "outputs": [],
   "source": [
    "#podemos usar los métodos de str sobre los elementos del array\n",
    "s = pd.Series(\n",
    "     [\"A\", \"B\", \"C\", \"Aaba\", \"Baca\", np.nan, \"CABA\", \"dog\", \"cat\"], dtype=\"string\"\n",
    " )\n",
    "s"
   ]
  },
  {
   "cell_type": "code",
   "execution_count": null,
   "id": "786f6268-4b00-4264-952e-06fa3d8a1c0a",
   "metadata": {},
   "outputs": [],
   "source": [
    "#declaramos como object\n",
    "s2 = pd.Series(\n",
    "     [\"A\", \"B\", \"C\", \"Aaba\", \"Baca\", np.nan, \"CABA\", \"dog\", \"cat\"]\n",
    " )\n",
    "s2"
   ]
  },
  {
   "cell_type": "code",
   "execution_count": null,
   "id": "czech-outside",
   "metadata": {},
   "outputs": [],
   "source": [
    "s.str.len()"
   ]
  },
  {
   "cell_type": "code",
   "execution_count": null,
   "id": "137f4b86-d446-4557-b379-68689422d349",
   "metadata": {},
   "outputs": [],
   "source": [
    "s2.str.len()"
   ]
  },
  {
   "cell_type": "code",
   "execution_count": null,
   "id": "9af27dfc-af4f-427c-b0f2-a92f4db0d2b1",
   "metadata": {},
   "outputs": [],
   "source": [
    "pd.Series(\n",
    "     [\"A\", \"B\", \"C\", \"Aaba\", \"Baca\", \"CABA\", \"dog\", \"cat\"]\n",
    " ).str.len()"
   ]
  },
  {
   "cell_type": "markdown",
   "id": "mysterious-breath",
   "metadata": {},
   "source": [
    "Dividir, expandir, reemplazar, o concatenar texto (extraer lo veremos con RegEx)"
   ]
  },
  {
   "cell_type": "code",
   "execution_count": null,
   "id": "willing-affiliation",
   "metadata": {},
   "outputs": [],
   "source": [
    "#split devuelve una Serie de listas\n",
    "s2 = pd.Series([\"a_b_c\", \"d_e\", np.nan, \"f_g_h_i\", \"j_k_l\"], dtype=\"string\")\n",
    "s2.str.split(\"_\")"
   ]
  },
  {
   "attachments": {},
   "cell_type": "markdown",
   "id": "67be1fee",
   "metadata": {},
   "source": [
    "Podemos acceder a los elementos de la lista con `str.get` o `str[]`"
   ]
  },
  {
   "cell_type": "code",
   "execution_count": null,
   "id": "legislative-syria",
   "metadata": {},
   "outputs": [],
   "source": [
    "s2.str.split(\"_\").str.get(1) #segundo caracter de cada elemento de la serie"
   ]
  },
  {
   "cell_type": "code",
   "execution_count": null,
   "id": "92bdca28-ec0b-40e5-8a9b-0268dcc10bcf",
   "metadata": {},
   "outputs": [],
   "source": [
    "s2.str.split(\"_\").get(1) #segundo elemento de la serie"
   ]
  },
  {
   "cell_type": "code",
   "execution_count": null,
   "id": "synthetic-blood",
   "metadata": {},
   "outputs": [],
   "source": [
    "s2.str.split(\"_\").str[1] #segundo caracter de cada elemento de la serie"
   ]
  },
  {
   "cell_type": "code",
   "execution_count": null,
   "id": "minus-design",
   "metadata": {},
   "outputs": [],
   "source": [
    "#podemos expandir la lista a un dataframe\n",
    "df = s2.str.split(\"_\", expand=True)\n",
    "df"
   ]
  },
  {
   "cell_type": "code",
   "execution_count": null,
   "id": "d61b578c-a6c9-4dfc-a911-54b39c04622a",
   "metadata": {},
   "outputs": [],
   "source": [
    "df.info()"
   ]
  },
  {
   "cell_type": "code",
   "execution_count": null,
   "id": "invalid-athens",
   "metadata": {},
   "outputs": [],
   "source": [
    "s3 = pd.Series(\n",
    "     [\"A\", \"B\", \"C\", \"Aaba\", \"Baca\", \"\", np.nan, \"CABA\", \"dog\", \"cat\"],\n",
    "     dtype=\"string\",\n",
    " )\n",
    "s3"
   ]
  },
  {
   "cell_type": "code",
   "execution_count": null,
   "id": "forty-sucking",
   "metadata": {},
   "outputs": [],
   "source": [
    "#reemplazar texto\n",
    "s3.str.replace(\"a\", \"X\", case=True)"
   ]
  },
  {
   "cell_type": "code",
   "execution_count": null,
   "id": "c2a3251e-31f4-40a8-8437-056e6b59ea55",
   "metadata": {},
   "outputs": [],
   "source": [
    "#reemplazar texto\n",
    "s3.str.replace(\"a\", \"X\", case=False)"
   ]
  },
  {
   "cell_type": "code",
   "execution_count": null,
   "id": "descending-peter",
   "metadata": {},
   "outputs": [],
   "source": [
    "#concatenar texto\n",
    "s = pd.Series([\"a\", \"b\", \"c\", \"d\"], dtype=\"string\")\n",
    "s"
   ]
  },
  {
   "cell_type": "code",
   "execution_count": null,
   "id": "certain-community",
   "metadata": {},
   "outputs": [],
   "source": [
    "s.str.cat(sep=\",\")"
   ]
  },
  {
   "cell_type": "code",
   "execution_count": null,
   "id": "valued-aquatic",
   "metadata": {},
   "outputs": [],
   "source": [
    "type(s.str.cat(sep=\",\"))"
   ]
  },
  {
   "cell_type": "code",
   "execution_count": null,
   "id": "robust-weight",
   "metadata": {},
   "outputs": [],
   "source": [
    "#podemos concatenar los elementos de una Serie con otra de igual longitud\n",
    "s.str.cat([\"A\", \"B\", \"C\", \"D\"])"
   ]
  },
  {
   "cell_type": "code",
   "execution_count": null,
   "id": "2027892c-71f6-4cc4-ba6f-91bd03866246",
   "metadata": {},
   "outputs": [],
   "source": [
    "#podemos concatenar los elementos de una Serie con otra de igual longitud\n",
    "s.str.cat([\"A\", \"B\", \"C\", \"D\"], sep=\",\")"
   ]
  },
  {
   "cell_type": "markdown",
   "id": "interested-brake",
   "metadata": {},
   "source": [
    "Comprobar si un elemento contiene o empieza por un patrón"
   ]
  },
  {
   "cell_type": "code",
   "execution_count": null,
   "id": "modern-crest",
   "metadata": {},
   "outputs": [],
   "source": [
    "s3"
   ]
  },
  {
   "cell_type": "code",
   "execution_count": null,
   "id": "offensive-journalist",
   "metadata": {},
   "outputs": [],
   "source": [
    "s3.str.match(\"A\") #comienza por el patrón"
   ]
  },
  {
   "cell_type": "code",
   "execution_count": null,
   "id": "artistic-scene",
   "metadata": {},
   "outputs": [],
   "source": [
    "s3.str.startswith(\"A\") #comienza por el texto"
   ]
  },
  {
   "cell_type": "code",
   "execution_count": null,
   "id": "imported-antenna",
   "metadata": {},
   "outputs": [],
   "source": [
    "pd.concat([s3, s3.str.match(\"Aa\")], axis=1) #comienza por patrón regular"
   ]
  },
  {
   "cell_type": "code",
   "execution_count": null,
   "id": "insured-affair",
   "metadata": {},
   "outputs": [],
   "source": [
    "pd.concat([s3, s3.str.contains(\"A\")], axis=1) #contiene el patrón"
   ]
  },
  {
   "cell_type": "code",
   "execution_count": null,
   "id": "086d8a42-9051-43d3-a77c-b824f32f9156",
   "metadata": {},
   "outputs": [],
   "source": [
    "pd.concat([s3, s3.str.contains(\"A\", case=False)], axis=1) #contiene el patrón"
   ]
  },
  {
   "cell_type": "code",
   "execution_count": null,
   "id": "brutal-cowboy",
   "metadata": {},
   "outputs": [],
   "source": [
    "pd.concat([s3, s3.str.fullmatch(\"A\")], axis=1) #es igual al patrón"
   ]
  },
  {
   "cell_type": "markdown",
   "id": "viral-background",
   "metadata": {},
   "source": [
    "El listado completo de métodos para *strings* está en https://pandas.pydata.org/pandas-docs/stable/user_guide/text.html#method-summary"
   ]
  },
  {
   "attachments": {},
   "cell_type": "markdown",
   "id": "antique-hudson",
   "metadata": {},
   "source": [
    "## Iteradores y generadores  \n",
    "Los `iterable` son objetos que contienen una serie de miembros que se recorren secuencialmente (p.ej. con un bucle `for`)"
   ]
  },
  {
   "cell_type": "code",
   "execution_count": null,
   "id": "senior-journey",
   "metadata": {},
   "outputs": [],
   "source": [
    "#la función range es un caso especial de iterable\n",
    "x=range(10)"
   ]
  },
  {
   "cell_type": "code",
   "execution_count": null,
   "id": "executed-folks",
   "metadata": {},
   "outputs": [],
   "source": [
    "x"
   ]
  },
  {
   "cell_type": "code",
   "execution_count": null,
   "id": "fa85d4d8-4c23-4a74-b4c2-f0ba328ce3b2",
   "metadata": {},
   "outputs": [],
   "source": [
    "type(x)"
   ]
  },
  {
   "cell_type": "code",
   "execution_count": null,
   "id": "postal-firmware",
   "metadata": {},
   "outputs": [],
   "source": [
    "#iteramos x con un for\n",
    "for i in x:\n",
    "    print(i)"
   ]
  },
  {
   "cell_type": "code",
   "execution_count": null,
   "id": "af096df3-ee29-4e05-80e9-1b4a905b5512",
   "metadata": {},
   "outputs": [],
   "source": [
    "#iteramos x con una list comprenhension\n",
    "[i for i in x]"
   ]
  },
  {
   "cell_type": "code",
   "execution_count": null,
   "id": "64e7aaf7",
   "metadata": {},
   "outputs": [],
   "source": [
    "len(x)"
   ]
  },
  {
   "attachments": {},
   "cell_type": "markdown",
   "id": "10705279",
   "metadata": {},
   "source": [
    "Una lista y un *string* también son objetos iterables"
   ]
  },
  {
   "cell_type": "code",
   "execution_count": null,
   "id": "0ef329e3",
   "metadata": {},
   "outputs": [],
   "source": [
    "l = ['a','b','c']\n",
    "len(l)"
   ]
  },
  {
   "cell_type": "code",
   "execution_count": null,
   "id": "7834afe7",
   "metadata": {},
   "outputs": [],
   "source": [
    "s = 'abc'\n",
    "len(s)"
   ]
  },
  {
   "attachments": {},
   "cell_type": "markdown",
   "id": "eccf469f",
   "metadata": {},
   "source": [
    "Se puede acceder a cualquier elemento del iterable mediante su indexado"
   ]
  },
  {
   "cell_type": "code",
   "execution_count": null,
   "id": "499a01b9",
   "metadata": {},
   "outputs": [],
   "source": [
    "l[1]"
   ]
  },
  {
   "cell_type": "code",
   "execution_count": null,
   "id": "08348f22",
   "metadata": {},
   "outputs": [],
   "source": [
    "s[0]"
   ]
  },
  {
   "attachments": {},
   "cell_type": "markdown",
   "id": "fd262f3f-0cef-4d31-82a0-24b05bcfa0a7",
   "metadata": {},
   "source": [
    "Los objetos de tipo `iterator` son objetos que sólo se pueden recorrer secuencialmente como un iterable y adicionalmente con la función `next()`"
   ]
  },
  {
   "cell_type": "code",
   "execution_count": null,
   "id": "0858c3bb-719a-4cfe-8e58-2051994aa296",
   "metadata": {},
   "outputs": [],
   "source": [
    "x_iter = iter(x)\n",
    "x_iter"
   ]
  },
  {
   "cell_type": "code",
   "execution_count": null,
   "id": "b59c702d-9747-4115-94e8-bccc0215e556",
   "metadata": {},
   "outputs": [],
   "source": [
    "next(x_iter)"
   ]
  },
  {
   "attachments": {},
   "cell_type": "markdown",
   "id": "03ba00da",
   "metadata": {},
   "source": [
    "Los `iterator` se \"consumen\" conforme se recorren (sólo se pueden recorrer una vez)"
   ]
  },
  {
   "cell_type": "code",
   "execution_count": null,
   "id": "e9264170-2bed-4377-be94-c40e0bfebc40",
   "metadata": {},
   "outputs": [],
   "source": [
    "for i in x_iter:\n",
    "    print(i)"
   ]
  },
  {
   "attachments": {},
   "cell_type": "markdown",
   "id": "653295c2",
   "metadata": {},
   "source": [
    "Los `iterator` no tienen longitud:"
   ]
  },
  {
   "cell_type": "code",
   "execution_count": null,
   "id": "147ba884",
   "metadata": {},
   "outputs": [],
   "source": [
    "try:\n",
    "    len(x_iter)\n",
    "except BaseException as ex:\n",
    "    print('Error: ', ex)"
   ]
  },
  {
   "attachments": {},
   "cell_type": "markdown",
   "id": "sensitive-soundtrack",
   "metadata": {},
   "source": [
    "### Generator\n",
    "Un `generator` es una función que devuelve un `iterator`. Por tanto se puede recorrer con un bucle `for` pero también con la función `next()`.  "
   ]
  },
  {
   "cell_type": "markdown",
   "id": "bb71b485-9a14-4e77-b68c-00bde2d292a2",
   "metadata": {},
   "source": [
    "Podemos crear un `generator` con una `generator comprenhension`"
   ]
  },
  {
   "cell_type": "code",
   "execution_count": null,
   "id": "compatible-remains",
   "metadata": {},
   "outputs": [],
   "source": [
    "x_gen = (i**2 for i in range(10))\n",
    "x_gen"
   ]
  },
  {
   "cell_type": "code",
   "execution_count": null,
   "id": "living-corruption",
   "metadata": {},
   "outputs": [],
   "source": [
    "next(x_gen)"
   ]
  },
  {
   "cell_type": "markdown",
   "id": "forbidden-contrast",
   "metadata": {},
   "source": [
    "Los `iterator` y los `generator` se consumen al iterar sobre ellos, por lo que no es posible volver a generar el mismo miembro. En el siguiente bucle se comienza por el 2º elemento"
   ]
  },
  {
   "cell_type": "code",
   "execution_count": null,
   "id": "moved-officer",
   "metadata": {},
   "outputs": [],
   "source": [
    "for i in x_gen:\n",
    "    print(i)"
   ]
  },
  {
   "cell_type": "code",
   "execution_count": null,
   "id": "d2ce6fe6-f302-4efc-b0cf-c0c38059a493",
   "metadata": {},
   "outputs": [],
   "source": [
    "for i in x_iter:\n",
    "    print(i)"
   ]
  },
  {
   "cell_type": "code",
   "execution_count": null,
   "id": "ethical-matthew",
   "metadata": {},
   "outputs": [],
   "source": [
    "import sys\n",
    "sys.getsizeof(x_gen)"
   ]
  },
  {
   "cell_type": "markdown",
   "id": "oriented-aging",
   "metadata": {},
   "source": [
    "Podemos volcar los contenidos de un iterador (o generador) a una lista, que sí ocupa memoria por cada uno de sus elementos."
   ]
  },
  {
   "cell_type": "code",
   "execution_count": null,
   "id": "effective-chess",
   "metadata": {},
   "outputs": [],
   "source": [
    "gen = (i**2 for i in range(10))\n",
    "lista_gen = list(gen)"
   ]
  },
  {
   "cell_type": "code",
   "execution_count": null,
   "id": "boring-fancy",
   "metadata": {},
   "outputs": [],
   "source": [
    "lista_gen"
   ]
  },
  {
   "cell_type": "code",
   "execution_count": null,
   "id": "245b5de0-fb2b-440d-8852-bae0cdcbf565",
   "metadata": {},
   "outputs": [],
   "source": [
    "#que equivale a\n",
    "[i**2 for i in range(10)]"
   ]
  },
  {
   "cell_type": "code",
   "execution_count": null,
   "id": "italian-armor",
   "metadata": {},
   "outputs": [],
   "source": [
    "sys.getsizeof(lista_gen)"
   ]
  },
  {
   "cell_type": "code",
   "execution_count": null,
   "id": "9ad15ded-6c6e-480e-8659-145f7cd757ce",
   "metadata": {},
   "outputs": [],
   "source": [
    "sys.getsizeof(gen)"
   ]
  },
  {
   "cell_type": "code",
   "execution_count": null,
   "id": "0341c269-0b22-47f1-9504-17e1f9c5f4c2",
   "metadata": {},
   "outputs": [],
   "source": [
    "for i in lista_gen:\n",
    "    print(i)"
   ]
  },
  {
   "cell_type": "code",
   "execution_count": null,
   "id": "bdd6b3ef-fc83-418c-9eaa-f1d68b6d181b",
   "metadata": {},
   "outputs": [],
   "source": [
    "for i in gen:\n",
    "    print(i)"
   ]
  },
  {
   "cell_type": "code",
   "execution_count": null,
   "id": "adequate-blake",
   "metadata": {},
   "outputs": [],
   "source": [
    "#lo anterior equivale a un list comprenhension de los mismos valores\n",
    "lista = [i**2 for i in range(10)]\n",
    "lista"
   ]
  },
  {
   "cell_type": "code",
   "execution_count": null,
   "id": "binding-typing",
   "metadata": {},
   "outputs": [],
   "source": [
    "sys.getsizeof(lista)"
   ]
  },
  {
   "cell_type": "code",
   "execution_count": null,
   "id": "41b74dc9-5f02-4f3c-8c94-532f4335521d",
   "metadata": {},
   "outputs": [],
   "source": [
    "sys.getsizeof(x)"
   ]
  },
  {
   "cell_type": "code",
   "execution_count": null,
   "id": "consistent-announcement",
   "metadata": {},
   "outputs": [],
   "source": [
    "sys.getsizeof(x_iter)"
   ]
  },
  {
   "cell_type": "code",
   "execution_count": null,
   "id": "worst-albuquerque",
   "metadata": {},
   "outputs": [],
   "source": [
    "#también podemos generar tuplas con los generadores\n",
    "gen = ((i, i**2) for i in range(10))"
   ]
  },
  {
   "cell_type": "code",
   "execution_count": null,
   "id": "french-words",
   "metadata": {},
   "outputs": [],
   "source": [
    "for i in gen:\n",
    "    print(i)\n"
   ]
  },
  {
   "cell_type": "code",
   "execution_count": null,
   "id": "genuine-pricing",
   "metadata": {},
   "outputs": [],
   "source": [
    "for i,j in ((i, i**2) for i in range(10)):\n",
    "    print(f\"El cuadrado de {i} es {j}\")"
   ]
  },
  {
   "cell_type": "code",
   "execution_count": null,
   "id": "1e588767-f322-4e3a-a01a-9dd6e51755d2",
   "metadata": {},
   "outputs": [],
   "source": [
    "for _,j in ((i, i**2) for i in range(10)):\n",
    "    print(f\"El cuadrado es {j}\")"
   ]
  },
  {
   "cell_type": "markdown",
   "id": "gentle-assault",
   "metadata": {},
   "source": [
    "### Enumerando iterables\n",
    "La función nativa `enumerate` permite iterar sobre un iterable y mantener la cuenta de la iteración. La función `enumerate` es en sí mismo *iterable*."
   ]
  },
  {
   "cell_type": "code",
   "execution_count": null,
   "id": "smaller-mozambique",
   "metadata": {},
   "outputs": [],
   "source": [
    "enumerate(lista)"
   ]
  },
  {
   "cell_type": "code",
   "execution_count": null,
   "id": "green-dispatch",
   "metadata": {},
   "outputs": [],
   "source": [
    "for i,j in enumerate(lista2):\n",
    "    print(i,j)"
   ]
  },
  {
   "cell_type": "code",
   "execution_count": null,
   "id": "tribal-trance",
   "metadata": {},
   "outputs": [],
   "source": [
    "for (i, p) in enumerate(\"Esta es una frase\".split(' ')):\n",
    "    print(f\"Palabra {i}: {p}\")"
   ]
  },
  {
   "cell_type": "markdown",
   "id": "persistent-award",
   "metadata": {},
   "source": [
    "### Uso de *list comprenhensions*\n",
    "Podemos usar una expresión `if-else` dentro de la *comprenhension*"
   ]
  },
  {
   "cell_type": "code",
   "execution_count": null,
   "id": "verified-house",
   "metadata": {},
   "outputs": [],
   "source": [
    "['impar' if i%2 else 'par' for i in range(10)]"
   ]
  },
  {
   "cell_type": "code",
   "execution_count": null,
   "id": "martial-prince",
   "metadata": {},
   "outputs": [],
   "source": [
    "#devolviendo una tupla con (valor, par/impar)\n",
    "[(i,'impar' if i%2 else 'par') for i in range(10)]"
   ]
  },
  {
   "cell_type": "markdown",
   "id": "cca904c0-1a2b-4a4e-9dea-172d6088eece",
   "metadata": {},
   "source": [
    "Podemos filtrar poniendo condiciones a los elementos que devuelve nuestra lista."
   ]
  },
  {
   "cell_type": "code",
   "execution_count": null,
   "id": "afd4d136-fd85-47b8-9b2d-83adef949dea",
   "metadata": {},
   "outputs": [],
   "source": [
    "[c for c in lista2 if c.endswith('n')]"
   ]
  },
  {
   "cell_type": "code",
   "execution_count": null,
   "id": "artistic-dollar",
   "metadata": {},
   "outputs": [],
   "source": [
    "#podemos combinar con funciones sobre str\n",
    "[c.upper() if len(c)>3 else c for c in lista2 if c.endswith('n')]"
   ]
  },
  {
   "cell_type": "code",
   "execution_count": null,
   "id": "related-agenda",
   "metadata": {},
   "outputs": [],
   "source": [
    "#también podemos aplicar funciones y filtrados sobre un generador\n",
    "gen = (c.upper() if len(c)>3 else c for c in lista2 if c.endswith('n'))"
   ]
  },
  {
   "cell_type": "code",
   "execution_count": null,
   "id": "amateur-things",
   "metadata": {},
   "outputs": [],
   "source": [
    "gen"
   ]
  },
  {
   "cell_type": "code",
   "execution_count": null,
   "id": "sustained-fundamental",
   "metadata": {},
   "outputs": [],
   "source": [
    "for i in gen:\n",
    "    print(i)"
   ]
  },
  {
   "cell_type": "code",
   "execution_count": null,
   "id": "5cdbd298-d6b2-4bc1-9135-397b8de22144",
   "metadata": {},
   "outputs": [],
   "source": []
  }
 ],
 "metadata": {
  "kernelspec": {
   "display_name": "sp3",
   "language": "python",
   "name": "python3"
  },
  "language_info": {
   "codemirror_mode": {
    "name": "ipython",
    "version": 3
   },
   "file_extension": ".py",
   "mimetype": "text/x-python",
   "name": "python",
   "nbconvert_exporter": "python",
   "pygments_lexer": "ipython3",
   "version": "3.8.8"
  },
  "vscode": {
   "interpreter": {
    "hash": "974d86b888590d91c91725277f46e2331e9f38bd583c386dd56dd3384a234a0e"
   }
  }
 },
 "nbformat": 4,
 "nbformat_minor": 5
}
