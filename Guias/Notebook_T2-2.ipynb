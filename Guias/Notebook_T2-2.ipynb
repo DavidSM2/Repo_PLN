{
 "cells": [
  {
   "cell_type": "code",
   "execution_count": null,
   "id": "detected-advance",
   "metadata": {
    "tags": []
   },
   "outputs": [],
   "source": [
    "with open('cuento.txt', 'r', encoding='UTF-8') as f:\n",
    "    for i,l in enumerate(f):\n",
    "        print(i, l)"
   ]
  },
  {
   "cell_type": "code",
   "execution_count": null,
   "id": "british-yugoslavia",
   "metadata": {},
   "outputs": [],
   "source": [
    "with open('cuento.txt', 'r') as f:\n",
    "    texto = f.read()"
   ]
  },
  {
   "cell_type": "code",
   "execution_count": null,
   "id": "valuable-mauritius",
   "metadata": {},
   "outputs": [],
   "source": [
    "type(texto)"
   ]
  },
  {
   "cell_type": "code",
   "execution_count": null,
   "id": "blind-auditor",
   "metadata": {},
   "outputs": [],
   "source": [
    "len(texto)"
   ]
  },
  {
   "cell_type": "code",
   "execution_count": null,
   "id": "local-middle",
   "metadata": {},
   "outputs": [],
   "source": [
    "texto"
   ]
  },
  {
   "cell_type": "code",
   "execution_count": null,
   "id": "better-messaging",
   "metadata": {},
   "outputs": [],
   "source": [
    "print(texto)"
   ]
  },
  {
   "cell_type": "code",
   "execution_count": null,
   "id": "configured-mumbai",
   "metadata": {},
   "outputs": [],
   "source": [
    "with open('cuento.txt', 'r') as f:\n",
    "    texto_list = f.readlines()"
   ]
  },
  {
   "cell_type": "code",
   "execution_count": null,
   "id": "patient-acrylic",
   "metadata": {},
   "outputs": [],
   "source": [
    "type(texto_list)"
   ]
  },
  {
   "cell_type": "code",
   "execution_count": null,
   "id": "selective-toronto",
   "metadata": {},
   "outputs": [],
   "source": [
    "len(texto_list)"
   ]
  },
  {
   "cell_type": "code",
   "execution_count": null,
   "id": "adjacent-probability",
   "metadata": {},
   "outputs": [],
   "source": [
    "texto_list[0]"
   ]
  }
 ],
 "metadata": {
  "kernelspec": {
   "display_name": "Python 3",
   "language": "python",
   "name": "python3"
  },
  "language_info": {
   "codemirror_mode": {
    "name": "ipython",
    "version": 3
   },
   "file_extension": ".py",
   "mimetype": "text/x-python",
   "name": "python",
   "nbconvert_exporter": "python",
   "pygments_lexer": "ipython3",
   "version": "3.7.3 (default, Dec 13 2019, 19:58:14) \n[Clang 11.0.0 (clang-1100.0.33.17)]"
  },
  "vscode": {
   "interpreter": {
    "hash": "31f2aee4e71d21fbe5cf8b01ff0e069b9275f58929596ceb00d14d90e3e16cd6"
   }
  }
 },
 "nbformat": 4,
 "nbformat_minor": 5
}