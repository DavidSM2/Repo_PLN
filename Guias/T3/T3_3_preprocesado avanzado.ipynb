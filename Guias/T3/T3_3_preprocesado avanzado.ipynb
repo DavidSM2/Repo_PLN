{
 "cells": [
  {
   "cell_type": "code",
   "execution_count": null,
   "id": "native-adapter",
   "metadata": {},
   "outputs": [],
   "source": [
    "import spacy\n",
    "nlp = spacy.load(\"es_core_news_md\")"
   ]
  },
  {
   "cell_type": "code",
   "execution_count": null,
   "id": "rotary-exception",
   "metadata": {},
   "outputs": [],
   "source": [
    "doc = nlp(\"el perro de Juan se comió mi bocadillo\")"
   ]
  },
  {
   "cell_type": "code",
   "execution_count": null,
   "id": "purple-inspector",
   "metadata": {},
   "outputs": [],
   "source": [
    "[(t.text, t.pos_, t.tag_) for t in doc]"
   ]
  },
  {
   "cell_type": "code",
   "execution_count": null,
   "id": "unlike-smooth",
   "metadata": {},
   "outputs": [],
   "source": [
    "from spacy import displacy\n",
    "\n",
    "displacy.render(doc, style='dep', jupyter=True, options={'distance':120})"
   ]
  },
  {
   "cell_type": "code",
   "execution_count": null,
   "id": "necessary-demographic",
   "metadata": {},
   "outputs": [],
   "source": [
    "next(doc.sents).root"
   ]
  },
  {
   "cell_type": "code",
   "execution_count": null,
   "id": "thrown-healing",
   "metadata": {},
   "outputs": [],
   "source": [
    "list(next(doc.sents).root.children)"
   ]
  },
  {
   "cell_type": "code",
   "execution_count": null,
   "id": "horizontal-syntax",
   "metadata": {},
   "outputs": [],
   "source": [
    "doc[1]"
   ]
  },
  {
   "cell_type": "code",
   "execution_count": null,
   "id": "aquatic-cooler",
   "metadata": {},
   "outputs": [],
   "source": [
    "list(doc[1].children)"
   ]
  },
  {
   "cell_type": "code",
   "execution_count": null,
   "id": "irish-sarah",
   "metadata": {},
   "outputs": [],
   "source": [
    "[(t.text, t.dep_, spacy.explain(t.dep_)) for t in doc[1].children]"
   ]
  },
  {
   "cell_type": "code",
   "execution_count": null,
   "id": "secondary-arctic",
   "metadata": {},
   "outputs": [],
   "source": [
    "list(doc[1].lefts)"
   ]
  },
  {
   "cell_type": "code",
   "execution_count": null,
   "id": "skilled-parish",
   "metadata": {},
   "outputs": [],
   "source": [
    "list(doc[1].rights)"
   ]
  },
  {
   "cell_type": "code",
   "execution_count": null,
   "id": "hindu-correspondence",
   "metadata": {},
   "outputs": [],
   "source": [
    "doc[1].head"
   ]
  },
  {
   "cell_type": "code",
   "execution_count": null,
   "id": "joined-flashing",
   "metadata": {},
   "outputs": [],
   "source": [
    "doc.ents"
   ]
  },
  {
   "cell_type": "code",
   "execution_count": null,
   "id": "bec74636-96c3-4b85-97a5-2875ef2fba04",
   "metadata": {},
   "outputs": [],
   "source": [
    "doc = nlp(\"Me llamo Joan Vila y soy profesor en la Universitat de València\")"
   ]
  },
  {
   "cell_type": "code",
   "execution_count": null,
   "id": "1d14142b-f668-498a-b92f-f7b5811cf08d",
   "metadata": {},
   "outputs": [],
   "source": [
    "displacy.render(doc, style=\"ent\")"
   ]
  },
  {
   "cell_type": "code",
   "execution_count": null,
   "id": "received-velvet",
   "metadata": {},
   "outputs": [],
   "source": [
    "doc.ents"
   ]
  },
  {
   "cell_type": "code",
   "execution_count": null,
   "id": "introductory-moisture",
   "metadata": {},
   "outputs": [],
   "source": [
    "type(doc.ents[0])"
   ]
  },
  {
   "cell_type": "code",
   "execution_count": null,
   "id": "dutch-shade",
   "metadata": {},
   "outputs": [],
   "source": [
    "type(next(doc.sents))"
   ]
  },
  {
   "cell_type": "code",
   "execution_count": null,
   "id": "adult-driving",
   "metadata": {},
   "outputs": [],
   "source": [
    "doc.ents[0].label_"
   ]
  },
  {
   "cell_type": "code",
   "execution_count": null,
   "id": "wrong-people",
   "metadata": {},
   "outputs": [],
   "source": [
    "next(doc.sents).label_"
   ]
  },
  {
   "cell_type": "code",
   "execution_count": null,
   "id": "charming-bacon",
   "metadata": {},
   "outputs": [],
   "source": [
    "spacy.explain('PER') #entidad"
   ]
  },
  {
   "cell_type": "code",
   "execution_count": null,
   "id": "innovative-deployment",
   "metadata": {},
   "outputs": [],
   "source": [
    "spacy.explain('ADJ') #part of speech"
   ]
  },
  {
   "cell_type": "code",
   "execution_count": null,
   "id": "monthly-cuisine",
   "metadata": {},
   "outputs": [],
   "source": [
    "spacy.explain('nsubj') #dependencia"
   ]
  },
  {
   "cell_type": "code",
   "execution_count": null,
   "id": "comfortable-drive",
   "metadata": {},
   "outputs": [],
   "source": [
    "doc.ents[0].root"
   ]
  },
  {
   "cell_type": "code",
   "execution_count": null,
   "id": "eight-deposit",
   "metadata": {},
   "outputs": [],
   "source": [
    "import pandas as pd\n",
    "\n",
    "pd.DataFrame([(t.text, t.ent_iob_, t.ent_type_) for t in doc], columns=[\"text\", \"IOB\", \"type\"])"
   ]
  },
  {
   "cell_type": "code",
   "execution_count": null,
   "id": "f130f3bc-b8c2-4fdd-98ad-1f8fd4f0e2eb",
   "metadata": {},
   "outputs": [],
   "source": []
  }
 ],
 "metadata": {
  "kernelspec": {
   "display_name": "Python 3",
   "language": "python",
   "name": "python3"
  },
  "language_info": {
   "codemirror_mode": {
    "name": "ipython",
    "version": 3
   },
   "file_extension": ".py",
   "mimetype": "text/x-python",
   "name": "python",
   "nbconvert_exporter": "python",
   "pygments_lexer": "ipython3",
   "version": "3.10.10"
  },
  "vscode": {
   "interpreter": {
    "hash": "1889f7d8acdc3cacfafa5b333be0ab79c5c49ae12b0b38e71a3abcd28f98edde"
   }
  }
 },
 "nbformat": 4,
 "nbformat_minor": 5
}
